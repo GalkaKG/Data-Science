%matplotlib inline


import numpy as np
import pandas as pd
import matplotlib.pyplot as plt





pd.read_csv("data/Most Streamed Spotify Songs 2024.csv", encoding="unicode_escape")


coffee_data = pd.read_csv("data/merged_data_cleaned.csv", index_col = 0)


coffee_data


coffee_data.shape


coffee_data.columns


coffee_data.dtypes


coffee_data["Harvest.Year"].unique()





coffee_data["Harvest.Year"].astype(int, errors = "ignore")





coffee_data["Harvest.Year"].astype(float, errors = "ignore")





coffee_data["Harvest.Year"].str.isnumeric()


coffee_data["Harvest.Year"].str.isnumeric().unique()


coffee_data["Harvest.Year"].str.isnumeric().value_counts(dropna = False)





coffee_data["Harvest.Year"].str.isnumeric().dropna()


coffee_data[coffee_data["Harvest.Year"].str.isnumeric() == True]


coffee_data_valid_years = coffee_data[coffee_data["Harvest.Year"].str.isnumeric() == True]





coffee_data_valid_years["Harvest.Year"].astype(int)


coffee_data_valid_years["Harvest.Year"] = coffee_data_valid_years["Harvest.Year"].astype(int)





coffee_data_valid_years["Harvest.Year"].value_counts()


coffee_data_valid_years.groupby("Harvest.Year").size()
