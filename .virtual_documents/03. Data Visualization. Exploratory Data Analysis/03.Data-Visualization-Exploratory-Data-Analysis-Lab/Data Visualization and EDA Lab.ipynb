import numpy as np
import pandas as pd
import matplotlib.pyplot as plt











spotify_df = pd.read_csv("data/spotify_most_streamed_2024.zip", compression="zip", encoding="unicode_escape")





spotify_df





 pd.read_csv("data/spotify_most_streamed_2024.zip", compression="zip", encoding="latin1")





 pd.read_csv("data/spotify_most_streamed_2024.zip", compression="zip", encoding="cp1252")





 pd.read_csv("data/spotify_most_streamed_2024.zip", compression="zip", encoding="charmap")








spotify_df.shape


spotify_df.columns


spotify_df.dtypes










































