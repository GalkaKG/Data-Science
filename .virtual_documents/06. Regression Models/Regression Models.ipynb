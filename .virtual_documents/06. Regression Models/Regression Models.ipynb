import numpy as np
import pandas as pd
import matplotlib.pyplot as plt

import os








os.listdir("../04. Working with Images/cat_taxonomy")


os.walk("../04. Working with Images/cat_taxonomy")


list(os.walk("../04. Working with Images/cat_taxonomy"))


dir_name, dir_names, file_names = list(os.walk("../04. Working with Images/cat_taxonomy"))[1]


file_names[:5]



