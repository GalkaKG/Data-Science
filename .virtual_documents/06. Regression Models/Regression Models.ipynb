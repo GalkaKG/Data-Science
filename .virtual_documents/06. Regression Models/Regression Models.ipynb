import numpy as np
import pandas as pd
import matplotlib.pyplot as plt

from sklearn.linear_model import LinearRegression, LogisticRegression

import os








os.listdir("../04. Working with Images/cat_taxonomy")


os.walk("../04. Working with Images/cat_taxonomy")


list(os.walk("../04. Working with Images/cat_taxonomy"))


dir_name, dir_names, file_names = list(os.walk("../04. Working with Images/cat_taxonomy"))[1]


file_names[:5]

















x = np.linspace(-3, 5, 10)  # от -3 до 5, 10 на брой точки
y = 2 * x + 3


x


y





# plt.plot(x, y) # Това е моделът за данните
plt.scatter(x, y, color="red")  # Това са данните

plt.xlabel("x")
plt.ylabel("y")

plt.show()





x = np.linspace(-3, 5, 500)
y = 2 * x + 3

plt.scatter(x, y, color="red", s = 0.1) 

plt.xlabel("x")
plt.ylabel("y")

plt.show()








y_noise = np.random.normal(loc = 0, scale = 1, size = len(x)) # средното на този шум ще бъде 0, стандартното отклонение ще бъде 1 и size колкото е дължината на x, за да може да направи за всяко едно


y_noise


y_result = y + y_noise


y_result


plt.scatter(x, y_result, color="red", s = 0.1) 

plt.xlabel("x")
plt.ylabel("y")

plt.show()





y_noise = np.random.normal(loc = 0, scale = 0.1, size = len(x))
y_result = y + y_noise
plt.scatter(x, y_result, color="red", s = 0.1) 

plt.xlabel("x")
plt.ylabel("y")

plt.show()


y_noise = np.random.normal(loc = 0, scale = 50, size = len(x))
y_result = y + y_noise

plt.scatter(x, y_result, color="red", s = 0.1) 

plt.xlabel("x")
plt.ylabel("y")

plt.show()





y_noise = np.random.normal(loc = 0, scale = 0.7, size = len(x))
y += y_noise


plt.scatter(x, y, color="red", s = 0.5) 

plt.xlabel("x")
plt.ylabel("y")

plt.show()


a = 8
b = 2

model_x = np.linspace(np.min(x), np.max(x), 5)
model_y = a * model_x + b  # Това е y тилда


plt.scatter(x, y, color="red", s = 0.5) 
plt.plot(model_x, model_y)

plt.xlabel("x")
plt.ylabel("y")

plt.show()





def plot_predictions(x, y, a, b):
    predictions = a * x + b
    
    plt.scatter(x, y, color="red", s = 0.5, label = "data") 
    plt.plot(x, predictions, label = "model")
    
    plt.xlabel("x")
    plt.ylabel("y")

    plt.legend()
    
    plt.show()


plot_predictions(x, y, a, b)


plot_predictions(x, y, 5, 0)


plot_predictions(x, y, -2, 1)


plot_predictions(x, y, 2, 1)





def compute_distances(x, y, a, b):
    predictions = a * x + b
    distances = np.abs(y - predictions)
    total_distance = np.mean(distances)
    
    # np.mean(np.abs(y - predictions)) # MAE - Mean Absolute Error
    
    return total_distance





compute_distances(x, y, -2, 1)


compute_distances(x, y, 5, 0)


compute_distances(x, y, 2, 1)


compute_distances(x, y, 2, 3)





def compute_cost(x, y, a, b):
    predictions = a * x + b
    distances = (y - predictions) ** 2
    total_distance = np.mean(distances) # MSE - Mean Square Error
    
    return total_distance





compute_cost(x, y, -2, 1)


compute_cost(x, y, 5, 0)


compute_cost(x, y, 2, 1)


compute_cost(x, y, 2, 3)








a_gradient = -2 / len(x) * np.sum(x * (y - (a * x + b)))
b_gradient = -2 / len(y) * np.sum(y - (a * x + b))


def compute_gradient(x, y, a, b):
    predictions = a * x + b
    a_gradient = -2 / len(x) * np.sum(x * (y - predictions))
    b_gradient = -2 / len(y) * np.sum(y - predictions)
    return a_gradient, b_gradient


compute_gradient(x, y, 2, 8)


compute_gradient(x, y, 5, 1)


def compute_gradient(x, y, a, b):
    predictions = a * x + b
    a_gradient = -2 / len(x) * np.sum(x * (y - predictions))
    b_gradient = -2 / len(x) * np.sum(y - predictions)
    return np.array([a_gradient, b_gradient])


0.01 * compute_gradient(x, y, 5, 1)


learning_rate = 0.01


a = 5
b = 1


compute_distances(x, y, a, b)


a = a - learning_rate * compute_gradient(x, y, a, b)[0]
b = b - learning_rate * compute_gradient(x, y, a, b)[1]


a, b


compute_distances(x, y, 4.371376079088153, b)


for step in range(1000):
    a = a - learning_rate * compute_gradient(x, y, a, b)[0]
    b = b - learning_rate * compute_gradient(x, y, a, b)[1]


a, b





plot_predictions(x, y, a, b)


model = LinearRegression()
model.fit(x.reshape(-1, 1), y)


model.coef_


model.intercept_





model.predict(x.reshape(-1, 1))








def sigmoid(x):
    return 1 / (1 + np.exp(-x))


y = sigmoid(a * x + b)


x = np.linspace(-5, 5, 20)
y = (x >= 3).astype(int)


y


y_noise = np.random.normal(0, 0.1, len(x))


classification_model = LogisticRegression()


classification_model.fit(x.reshape(-1, 1), y)


classification_model.predict(x.reshape(-1, 1))


plt.scatter(x, y + y_noise)


classification_model.coef_


classification_model.intercept_


classification_model.predict_proba(x.reshape(-1, 1))


predictions = classification_model.predict_proba(x.reshape(-1, 1))


np.argmax(predictions, axis = 0)


np.argmax(predictions, axis = 1)
