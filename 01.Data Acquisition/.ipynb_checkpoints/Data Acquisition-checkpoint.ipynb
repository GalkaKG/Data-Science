{
 "cells": [
  {
   "cell_type": "code",
   "execution_count": 3,
   "id": "298e406f-2bb0-42be-816b-a541dcd904bb",
   "metadata": {},
   "outputs": [],
   "source": [
    "%matplotlib inline"
   ]
  },
  {
   "cell_type": "code",
   "execution_count": 4,
   "id": "eebb5d68-a159-46fc-8134-1d4569682e40",
   "metadata": {},
   "outputs": [],
   "source": [
    "import numpy as np\n",
    "import pandas as pd\n",
    "import matplotlib.pyplot as plt"
   ]
  },
  {
   "cell_type": "markdown",
   "id": "86b975d1-168b-4c02-afa0-c363ed05a9e2",
   "metadata": {},
   "source": [
    "# Data Acquisition\n",
    "### Събиране на данни\n",
    "\n",
    "Data science е повече science и по-малко data."
   ]
  },
  {
   "cell_type": "markdown",
   "id": "dd06f713-cd22-4693-9d4c-003cde432755",
   "metadata": {},
   "source": [
    "\n",
    "Четем данните от различни източници: <br/>\n",
    "    - текстови файлове  <br/>\n",
    "    - Excel  <br/>\n",
    "    - SQL Бази данни  <br/>\n",
    "\n",
    "Принципи за събиране и валидиране на данни (Data Consolidation Principles)\n",
    "\n",
    "#### The Scientific Method Steps\n",
    "\n",
    "Процесът за събиране на данни винаги започва с въпрос - не с данни, не с хипотеза, а с въпрос. Въпросите може да са няколко, а не само един, може и да не е добре формулиран. <br/>\n",
    "След това правим рисърч. Разбираме какво се прави, това как да прехвърлим задачата от абстрактна бизнес задача към такава, която може да позволи данните да бъдат анализирани и моделирани. <br/>\n",
    "След това формулираме хипотеза. Вече знаем, че една хипотеза всъщност са две хипотези, които си противоречат. Тук често създаваме няколко хипотези.\n",
    "След това вече правим експеримент. Това е моментът в който за първи път получаваме данни. <br/>\n",
    "Процесът продължава с анализ на резултатите. <br/>\n",
    "хипотезата ни е или вярна или не. <br/>\n",
    "Много често продължаваме нататък със същия дейтасет."
   ]
  }
 ],
 "metadata": {
  "kernelspec": {
   "display_name": "Python 3 (ipykernel)",
   "language": "python",
   "name": "python3"
  },
  "language_info": {
   "codemirror_mode": {
    "name": "ipython",
    "version": 3
   },
   "file_extension": ".py",
   "mimetype": "text/x-python",
   "name": "python",
   "nbconvert_exporter": "python",
   "pygments_lexer": "ipython3",
   "version": "3.9.12"
  }
 },
 "nbformat": 4,
 "nbformat_minor": 5
}
