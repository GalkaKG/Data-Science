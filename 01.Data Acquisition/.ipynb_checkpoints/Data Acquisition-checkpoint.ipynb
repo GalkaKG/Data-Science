{
 "cells": [
  {
   "cell_type": "code",
   "execution_count": 3,
   "id": "298e406f-2bb0-42be-816b-a541dcd904bb",
   "metadata": {},
   "outputs": [],
   "source": [
    "%matplotlib inline"
   ]
  },
  {
   "cell_type": "code",
   "execution_count": 5,
   "id": "eebb5d68-a159-46fc-8134-1d4569682e40",
   "metadata": {},
   "outputs": [],
   "source": [
    "import numpy as np\n",
    "import pandas as pd\n",
    "import matplotlib.pyplot as plt"
   ]
  },
  {
   "cell_type": "markdown",
   "id": "a1c5275c-11db-45a5-a004-47f853b4c9af",
   "metadata": {},
   "source": [
    "**numpy** - работа с числа, числови данни <br/>\n",
    "**pandas** - работа с данни  <br/>\n",
    "**matplotlib** - работа с визуализации  <br/>"
   ]
  },
  {
   "cell_type": "markdown",
   "id": "86b975d1-168b-4c02-afa0-c363ed05a9e2",
   "metadata": {},
   "source": [
    "# Data Acquisition\n",
    "### Събиране на данни\n",
    "\n",
    "Data science е повече science и по-малко data."
   ]
  },
  {
   "cell_type": "markdown",
   "id": "dd06f713-cd22-4693-9d4c-003cde432755",
   "metadata": {},
   "source": [
    "\n",
    "Четем данните от различни източници: <br/>\n",
    "    - текстови файлове  <br/>\n",
    "    - Excel  <br/>\n",
    "    - SQL Бази данни  <br/>\n",
    "\n",
    "Принципи за събиране и валидиране на данни (Data Consolidation Principles)\n",
    "\n",
    "#### The Scientific Method Steps\n",
    "\n",
    "Процесът за събиране на данни винаги започва с въпрос - не с данни, не с хипотеза, а с въпрос. Въпросите може да са няколко, а не само един, може и да не е добре формулиран. <br/>\n",
    "След това правим рисърч. Разбираме какво се прави, това как да прехвърлим задачата от абстрактна бизнес задача към такава, която може да позволи данните да бъдат анализирани и моделирани. <br/>\n",
    "След това формулираме хипотеза. Вече знаем, че една хипотеза всъщност са две хипотези, които си противоречат. Тук често създаваме няколко хипотези.\n",
    "След това вече правим експеримент. Това е моментът в който за първи път получаваме данни. <br/>\n",
    "Процесът продължава с анализ на резултатите. <br/>\n",
    "хипотезата ни е или вярна или не. <br/>\n",
    "Много често продължаваме нататък със същия дейтасет."
   ]
  },
  {
   "cell_type": "markdown",
   "id": "e5343448-974d-4e6c-aa77-76a78cdfa66d",
   "metadata": {},
   "source": [
    "В pandas можем да правим или да четем много различни видове data frames (data sets), което означава не просто колекция от данни, а множество от данни. <br/>\n",
    "**С Shift + Tab се показва документацията.**"
   ]
  },
  {
   "cell_type": "code",
   "execution_count": 8,
   "id": "3ad921b1-8ee9-4931-88df-b24274ff7340",
   "metadata": {},
   "outputs": [
    {
     "data": {
      "text/html": [
       "<div>\n",
       "<style scoped>\n",
       "    .dataframe tbody tr th:only-of-type {\n",
       "        vertical-align: middle;\n",
       "    }\n",
       "\n",
       "    .dataframe tbody tr th {\n",
       "        vertical-align: top;\n",
       "    }\n",
       "\n",
       "    .dataframe thead th {\n",
       "        text-align: right;\n",
       "    }\n",
       "</style>\n",
       "<table border=\"1\" class=\"dataframe\">\n",
       "  <thead>\n",
       "    <tr style=\"text-align: right;\">\n",
       "      <th></th>\n",
       "      <th>name</th>\n",
       "      <th>surname</th>\n",
       "      <th>age</th>\n",
       "    </tr>\n",
       "  </thead>\n",
       "  <tbody>\n",
       "    <tr>\n",
       "      <th>0</th>\n",
       "      <td>Ivan</td>\n",
       "      <td>Angelov</td>\n",
       "      <td>27</td>\n",
       "    </tr>\n",
       "    <tr>\n",
       "      <th>1</th>\n",
       "      <td>Georgi</td>\n",
       "      <td>Georgiev</td>\n",
       "      <td>34</td>\n",
       "    </tr>\n",
       "  </tbody>\n",
       "</table>\n",
       "</div>"
      ],
      "text/plain": [
       "     name   surname  age\n",
       "0    Ivan   Angelov   27\n",
       "1  Georgi  Georgiev   34"
      ]
     },
     "execution_count": 8,
     "metadata": {},
     "output_type": "execute_result"
    }
   ],
   "source": [
    "pd.DataFrame({\"name\":[\"Ivan\", \"Georgi\"], \"surname\": [\"Angelov\", \"Georgiev\"], \"age\": [27, 34]})"
   ]
  },
  {
   "cell_type": "markdown",
   "id": "d71ef9db-eb59-458c-9982-1be2364d1522",
   "metadata": {},
   "source": [
    "Данните, които можем да прочетем се наричат структурирани данни.\n",
    "\n",
    "В други случеи ще ни трябва да използваме изображения, видеа, текстове, музика, човешки глас, птичи данни и др., тогава имаме неструктурирани данни.\n",
    "\n",
    "Това, което наричаме модел (schema) е самата структура: какви колони има, какво означават тези колони и какво съдържа тази таблица.\n",
    "Таблиците могат да бъдат във всякакъв формат. най-често ги получаваме в текстов файл (csv, comma separated values)."
   ]
  },
  {
   "cell_type": "code",
   "execution_count": 14,
   "id": "7fce6b28-294e-4340-ad05-fea2a4d953aa",
   "metadata": {},
   "outputs": [
    {
     "data": {
      "text/html": [
       "<div>\n",
       "<style scoped>\n",
       "    .dataframe tbody tr th:only-of-type {\n",
       "        vertical-align: middle;\n",
       "    }\n",
       "\n",
       "    .dataframe tbody tr th {\n",
       "        vertical-align: top;\n",
       "    }\n",
       "\n",
       "    .dataframe thead th {\n",
       "        text-align: right;\n",
       "    }\n",
       "</style>\n",
       "<table border=\"1\" class=\"dataframe\">\n",
       "  <thead>\n",
       "    <tr style=\"text-align: right;\">\n",
       "      <th></th>\n",
       "      <th>Miles from Home</th>\n",
       "      <th>% of Accidents</th>\n",
       "    </tr>\n",
       "  </thead>\n",
       "  <tbody>\n",
       "    <tr>\n",
       "      <th>0</th>\n",
       "      <td>less than 1</td>\n",
       "      <td>23</td>\n",
       "    </tr>\n",
       "    <tr>\n",
       "      <th>1</th>\n",
       "      <td>1 to 5</td>\n",
       "      <td>29</td>\n",
       "    </tr>\n",
       "    <tr>\n",
       "      <th>2</th>\n",
       "      <td>6 to 10</td>\n",
       "      <td>17</td>\n",
       "    </tr>\n",
       "    <tr>\n",
       "      <th>3</th>\n",
       "      <td>11 to 15</td>\n",
       "      <td>8</td>\n",
       "    </tr>\n",
       "    <tr>\n",
       "      <th>4</th>\n",
       "      <td>16 to 20</td>\n",
       "      <td>6</td>\n",
       "    </tr>\n",
       "    <tr>\n",
       "      <th>5</th>\n",
       "      <td>over 20</td>\n",
       "      <td>17</td>\n",
       "    </tr>\n",
       "  </tbody>\n",
       "</table>\n",
       "</div>"
      ],
      "text/plain": [
       "  Miles from Home  % of Accidents\n",
       "0     less than 1              23\n",
       "1          1 to 5              29\n",
       "2         6 to 10              17\n",
       "3        11 to 15               8\n",
       "4        16 to 20               6\n",
       "5         over 20              17"
      ]
     },
     "execution_count": 14,
     "metadata": {},
     "output_type": "execute_result"
    }
   ],
   "source": [
    "pd.read_table(\"accidents.csv\", sep = \",\")"
   ]
  },
  {
   "cell_type": "code",
   "execution_count": 16,
   "id": "891ffb7c-8b7a-4920-b669-b983c1362ead",
   "metadata": {},
   "outputs": [],
   "source": [
    "accidents = pd.read_csv(\"accidents.csv\")"
   ]
  },
  {
   "cell_type": "code",
   "execution_count": 23,
   "id": "749b2177-c6a7-43be-9d1e-a23cd61c1515",
   "metadata": {},
   "outputs": [
    {
     "data": {
      "text/html": [
       "<div>\n",
       "<style scoped>\n",
       "    .dataframe tbody tr th:only-of-type {\n",
       "        vertical-align: middle;\n",
       "    }\n",
       "\n",
       "    .dataframe tbody tr th {\n",
       "        vertical-align: top;\n",
       "    }\n",
       "\n",
       "    .dataframe thead th {\n",
       "        text-align: right;\n",
       "    }\n",
       "</style>\n",
       "<table border=\"1\" class=\"dataframe\">\n",
       "  <thead>\n",
       "    <tr style=\"text-align: right;\">\n",
       "      <th></th>\n",
       "      <th>Miles from Home</th>\n",
       "      <th>% of Accidents</th>\n",
       "    </tr>\n",
       "  </thead>\n",
       "  <tbody>\n",
       "    <tr>\n",
       "      <th>0</th>\n",
       "      <td>less than 1</td>\n",
       "      <td>23</td>\n",
       "    </tr>\n",
       "    <tr>\n",
       "      <th>1</th>\n",
       "      <td>1 to 5</td>\n",
       "      <td>29</td>\n",
       "    </tr>\n",
       "    <tr>\n",
       "      <th>2</th>\n",
       "      <td>6 to 10</td>\n",
       "      <td>17</td>\n",
       "    </tr>\n",
       "    <tr>\n",
       "      <th>3</th>\n",
       "      <td>11 to 15</td>\n",
       "      <td>8</td>\n",
       "    </tr>\n",
       "    <tr>\n",
       "      <th>4</th>\n",
       "      <td>16 to 20</td>\n",
       "      <td>6</td>\n",
       "    </tr>\n",
       "    <tr>\n",
       "      <th>5</th>\n",
       "      <td>over 20</td>\n",
       "      <td>17</td>\n",
       "    </tr>\n",
       "  </tbody>\n",
       "</table>\n",
       "</div>"
      ],
      "text/plain": [
       "  Miles from Home  % of Accidents\n",
       "0     less than 1              23\n",
       "1          1 to 5              29\n",
       "2         6 to 10              17\n",
       "3        11 to 15               8\n",
       "4        16 to 20               6\n",
       "5         over 20              17"
      ]
     },
     "execution_count": 23,
     "metadata": {},
     "output_type": "execute_result"
    }
   ],
   "source": [
    "accidents"
   ]
  },
  {
   "cell_type": "code",
   "execution_count": 24,
   "id": "c37f9c9d-0d1f-4f44-bcdc-c0b5734f1bcb",
   "metadata": {},
   "outputs": [
    {
     "data": {
      "text/plain": [
       "pandas.core.frame.DataFrame"
      ]
     },
     "execution_count": 24,
     "metadata": {},
     "output_type": "execute_result"
    }
   ],
   "source": [
    "type(accidents)"
   ]
  },
  {
   "cell_type": "code",
   "execution_count": 18,
   "id": "f3546530-23aa-40af-bdc2-3d53167eef11",
   "metadata": {},
   "outputs": [
    {
     "data": {
      "text/plain": [
       "RangeIndex(start=0, stop=6, step=1)"
      ]
     },
     "execution_count": 18,
     "metadata": {},
     "output_type": "execute_result"
    }
   ],
   "source": [
    "accidents.index"
   ]
  },
  {
   "cell_type": "code",
   "execution_count": 19,
   "id": "086bd298-56ba-4f8f-b199-4f994c24d6b7",
   "metadata": {},
   "outputs": [
    {
     "data": {
      "text/plain": [
       "Index(['Miles from Home', '% of Accidents'], dtype='object')"
      ]
     },
     "execution_count": 19,
     "metadata": {},
     "output_type": "execute_result"
    }
   ],
   "source": [
    "accidents.columns"
   ]
  },
  {
   "cell_type": "code",
   "execution_count": 21,
   "id": "95bb939a-1131-456a-a046-4a1478fb710c",
   "metadata": {},
   "outputs": [
    {
     "data": {
      "text/plain": [
       "0    less than 1\n",
       "1         1 to 5\n",
       "2        6 to 10\n",
       "3       11 to 15\n",
       "4       16 to 20\n",
       "5        over 20\n",
       "Name: Miles from Home, dtype: object"
      ]
     },
     "execution_count": 21,
     "metadata": {},
     "output_type": "execute_result"
    }
   ],
   "source": [
    "accidents['Miles from Home']"
   ]
  },
  {
   "cell_type": "code",
   "execution_count": 25,
   "id": "3af84321-d177-40e4-8714-7ca99cb3f27b",
   "metadata": {},
   "outputs": [
    {
     "data": {
      "text/plain": [
       "pandas.core.series.Series"
      ]
     },
     "execution_count": 25,
     "metadata": {},
     "output_type": "execute_result"
    }
   ],
   "source": [
    "type(accidents['Miles from Home'])"
   ]
  },
  {
   "cell_type": "markdown",
   "id": "5aa47900-896b-429d-907a-94b8f5049dc2",
   "metadata": {},
   "source": [
    "Колоната и таблицата имат различна визуализация, защото са от различен тип."
   ]
  },
  {
   "cell_type": "code",
   "execution_count": 26,
   "id": "6ba62a0b-a5d3-478a-93ad-990aa1cb324a",
   "metadata": {},
   "outputs": [
    {
     "data": {
      "text/plain": [
       "pandas.core.frame.DataFrame"
      ]
     },
     "execution_count": 26,
     "metadata": {},
     "output_type": "execute_result"
    }
   ],
   "source": [
    "type(accidents[['Miles from Home']])"
   ]
  },
  {
   "cell_type": "markdown",
   "id": "42ca7b42-52a0-456d-9a02-e08a8f7ce6e5",
   "metadata": {},
   "source": [
    "Колоните могат да се преименуват:"
   ]
  },
  {
   "cell_type": "code",
   "execution_count": 27,
   "id": "e0b46a7b-a719-4a74-8dc5-d41700bb8555",
   "metadata": {},
   "outputs": [],
   "source": [
    "accidents.columns = [\"miles_from_home\", \"pct_of_accidents\"]"
   ]
  },
  {
   "cell_type": "code",
   "execution_count": 29,
   "id": "6aa64cbf-e162-4ceb-982c-8daff16fab42",
   "metadata": {},
   "outputs": [
    {
     "data": {
      "text/plain": [
       "0    less than 1\n",
       "1         1 to 5\n",
       "2        6 to 10\n",
       "3       11 to 15\n",
       "4       16 to 20\n",
       "5        over 20\n",
       "Name: miles_from_home, dtype: object"
      ]
     },
     "execution_count": 29,
     "metadata": {},
     "output_type": "execute_result"
    }
   ],
   "source": [
    "accidents.miles_from_home"
   ]
  }
 ],
 "metadata": {
  "kernelspec": {
   "display_name": "Python 3 (ipykernel)",
   "language": "python",
   "name": "python3"
  },
  "language_info": {
   "codemirror_mode": {
    "name": "ipython",
    "version": 3
   },
   "file_extension": ".py",
   "mimetype": "text/x-python",
   "name": "python",
   "nbconvert_exporter": "python",
   "pygments_lexer": "ipython3",
   "version": "3.9.12"
  }
 },
 "nbformat": 4,
 "nbformat_minor": 5
}
