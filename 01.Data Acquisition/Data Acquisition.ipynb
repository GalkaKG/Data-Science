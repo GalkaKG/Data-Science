{
 "cells": [
  {
   "cell_type": "code",
   "execution_count": 3,
   "id": "298e406f-2bb0-42be-816b-a541dcd904bb",
   "metadata": {},
   "outputs": [],
   "source": [
    "%matplotlib inline"
   ]
  },
  {
   "cell_type": "code",
   "execution_count": 5,
   "id": "eebb5d68-a159-46fc-8134-1d4569682e40",
   "metadata": {},
   "outputs": [],
   "source": [
    "import numpy as np\n",
    "import pandas as pd\n",
    "import matplotlib.pyplot as plt"
   ]
  },
  {
   "cell_type": "markdown",
   "id": "a1c5275c-11db-45a5-a004-47f853b4c9af",
   "metadata": {},
   "source": [
    "**numpy** - работа с числа, числови данни <br/>\n",
    "**pandas** - работа с данни  <br/>\n",
    "**matplotlib** - работа с визуализации  <br/>"
   ]
  },
  {
   "cell_type": "markdown",
   "id": "86b975d1-168b-4c02-afa0-c363ed05a9e2",
   "metadata": {},
   "source": [
    "# Data Acquisition\n",
    "### Събиране на данни\n",
    "\n",
    "Data science е повече science и по-малко data."
   ]
  },
  {
   "cell_type": "markdown",
   "id": "dd06f713-cd22-4693-9d4c-003cde432755",
   "metadata": {},
   "source": [
    "\n",
    "Четем данните от различни източници: <br/>\n",
    "    - текстови файлове  <br/>\n",
    "    - Excel  <br/>\n",
    "    - SQL Бази данни  <br/>\n",
    "\n",
    "Принципи за събиране и валидиране на данни (Data Consolidation Principles)\n",
    "\n",
    "#### The Scientific Method Steps\n",
    "\n",
    "Процесът за събиране на данни винаги започва с въпрос - не с данни, не с хипотеза, а с въпрос. Въпросите може да са няколко, а не само един, може и да не е добре формулиран. <br/>\n",
    "След това правим рисърч. Разбираме какво се прави, това как да прехвърлим задачата от абстрактна бизнес задача към такава, която може да позволи данните да бъдат анализирани и моделирани. <br/>\n",
    "След това формулираме хипотеза. Вече знаем, че една хипотеза всъщност са две хипотези, които си противоречат. Тук често създаваме няколко хипотези.\n",
    "След това вече правим експеримент. Това е моментът в който за първи път получаваме данни. <br/>\n",
    "Процесът продължава с анализ на резултатите. <br/>\n",
    "хипотезата ни е или вярна или не. <br/>\n",
    "Много често продължаваме нататък със същия дейтасет."
   ]
  },
  {
   "cell_type": "markdown",
   "id": "e5343448-974d-4e6c-aa77-76a78cdfa66d",
   "metadata": {},
   "source": [
    "В pandas можем да правим или да четем много различни видове data frames (data sets), което означава не просто колекция от данни, а множество от данни. <br/>\n",
    "**С Shift + Tab се показва документацията.**"
   ]
  },
  {
   "cell_type": "code",
   "execution_count": 8,
   "id": "3ad921b1-8ee9-4931-88df-b24274ff7340",
   "metadata": {},
   "outputs": [
    {
     "data": {
      "text/html": [
       "<div>\n",
       "<style scoped>\n",
       "    .dataframe tbody tr th:only-of-type {\n",
       "        vertical-align: middle;\n",
       "    }\n",
       "\n",
       "    .dataframe tbody tr th {\n",
       "        vertical-align: top;\n",
       "    }\n",
       "\n",
       "    .dataframe thead th {\n",
       "        text-align: right;\n",
       "    }\n",
       "</style>\n",
       "<table border=\"1\" class=\"dataframe\">\n",
       "  <thead>\n",
       "    <tr style=\"text-align: right;\">\n",
       "      <th></th>\n",
       "      <th>name</th>\n",
       "      <th>surname</th>\n",
       "      <th>age</th>\n",
       "    </tr>\n",
       "  </thead>\n",
       "  <tbody>\n",
       "    <tr>\n",
       "      <th>0</th>\n",
       "      <td>Ivan</td>\n",
       "      <td>Angelov</td>\n",
       "      <td>27</td>\n",
       "    </tr>\n",
       "    <tr>\n",
       "      <th>1</th>\n",
       "      <td>Georgi</td>\n",
       "      <td>Georgiev</td>\n",
       "      <td>34</td>\n",
       "    </tr>\n",
       "  </tbody>\n",
       "</table>\n",
       "</div>"
      ],
      "text/plain": [
       "     name   surname  age\n",
       "0    Ivan   Angelov   27\n",
       "1  Georgi  Georgiev   34"
      ]
     },
     "execution_count": 8,
     "metadata": {},
     "output_type": "execute_result"
    }
   ],
   "source": [
    "pd.DataFrame({\"name\":[\"Ivan\", \"Georgi\"], \"surname\": [\"Angelov\", \"Georgiev\"], \"age\": [27, 34]})"
   ]
  },
  {
   "cell_type": "markdown",
   "id": "d71ef9db-eb59-458c-9982-1be2364d1522",
   "metadata": {},
   "source": [
    "Данните, които можем да прочетем се наричат структурирани данни.\n",
    "\n",
    "В други случеи ще ни трябва да използваме изображения, видеа, текстове, музика, човешки глас, птичи данни и др., тогава имаме неструктурирани данни.\n",
    "\n",
    "Това, което наричаме модел (schema) е самата структура: какви колони има, какво означават тези колони и какво съдържа тази таблица.\n",
    "Таблиците могат да бъдат във всякакъв формат. най-често ги получаваме в текстов файл (csv, comma separated values)."
   ]
  },
  {
   "cell_type": "code",
   "execution_count": 14,
   "id": "7fce6b28-294e-4340-ad05-fea2a4d953aa",
   "metadata": {},
   "outputs": [
    {
     "data": {
      "text/html": [
       "<div>\n",
       "<style scoped>\n",
       "    .dataframe tbody tr th:only-of-type {\n",
       "        vertical-align: middle;\n",
       "    }\n",
       "\n",
       "    .dataframe tbody tr th {\n",
       "        vertical-align: top;\n",
       "    }\n",
       "\n",
       "    .dataframe thead th {\n",
       "        text-align: right;\n",
       "    }\n",
       "</style>\n",
       "<table border=\"1\" class=\"dataframe\">\n",
       "  <thead>\n",
       "    <tr style=\"text-align: right;\">\n",
       "      <th></th>\n",
       "      <th>Miles from Home</th>\n",
       "      <th>% of Accidents</th>\n",
       "    </tr>\n",
       "  </thead>\n",
       "  <tbody>\n",
       "    <tr>\n",
       "      <th>0</th>\n",
       "      <td>less than 1</td>\n",
       "      <td>23</td>\n",
       "    </tr>\n",
       "    <tr>\n",
       "      <th>1</th>\n",
       "      <td>1 to 5</td>\n",
       "      <td>29</td>\n",
       "    </tr>\n",
       "    <tr>\n",
       "      <th>2</th>\n",
       "      <td>6 to 10</td>\n",
       "      <td>17</td>\n",
       "    </tr>\n",
       "    <tr>\n",
       "      <th>3</th>\n",
       "      <td>11 to 15</td>\n",
       "      <td>8</td>\n",
       "    </tr>\n",
       "    <tr>\n",
       "      <th>4</th>\n",
       "      <td>16 to 20</td>\n",
       "      <td>6</td>\n",
       "    </tr>\n",
       "    <tr>\n",
       "      <th>5</th>\n",
       "      <td>over 20</td>\n",
       "      <td>17</td>\n",
       "    </tr>\n",
       "  </tbody>\n",
       "</table>\n",
       "</div>"
      ],
      "text/plain": [
       "  Miles from Home  % of Accidents\n",
       "0     less than 1              23\n",
       "1          1 to 5              29\n",
       "2         6 to 10              17\n",
       "3        11 to 15               8\n",
       "4        16 to 20               6\n",
       "5         over 20              17"
      ]
     },
     "execution_count": 14,
     "metadata": {},
     "output_type": "execute_result"
    }
   ],
   "source": [
    "pd.read_table(\"accidents.csv\", sep = \",\")"
   ]
  },
  {
   "cell_type": "code",
   "execution_count": 16,
   "id": "891ffb7c-8b7a-4920-b669-b983c1362ead",
   "metadata": {},
   "outputs": [],
   "source": [
    "accidents = pd.read_csv(\"accidents.csv\")"
   ]
  },
  {
   "cell_type": "code",
   "execution_count": 23,
   "id": "749b2177-c6a7-43be-9d1e-a23cd61c1515",
   "metadata": {},
   "outputs": [
    {
     "data": {
      "text/html": [
       "<div>\n",
       "<style scoped>\n",
       "    .dataframe tbody tr th:only-of-type {\n",
       "        vertical-align: middle;\n",
       "    }\n",
       "\n",
       "    .dataframe tbody tr th {\n",
       "        vertical-align: top;\n",
       "    }\n",
       "\n",
       "    .dataframe thead th {\n",
       "        text-align: right;\n",
       "    }\n",
       "</style>\n",
       "<table border=\"1\" class=\"dataframe\">\n",
       "  <thead>\n",
       "    <tr style=\"text-align: right;\">\n",
       "      <th></th>\n",
       "      <th>Miles from Home</th>\n",
       "      <th>% of Accidents</th>\n",
       "    </tr>\n",
       "  </thead>\n",
       "  <tbody>\n",
       "    <tr>\n",
       "      <th>0</th>\n",
       "      <td>less than 1</td>\n",
       "      <td>23</td>\n",
       "    </tr>\n",
       "    <tr>\n",
       "      <th>1</th>\n",
       "      <td>1 to 5</td>\n",
       "      <td>29</td>\n",
       "    </tr>\n",
       "    <tr>\n",
       "      <th>2</th>\n",
       "      <td>6 to 10</td>\n",
       "      <td>17</td>\n",
       "    </tr>\n",
       "    <tr>\n",
       "      <th>3</th>\n",
       "      <td>11 to 15</td>\n",
       "      <td>8</td>\n",
       "    </tr>\n",
       "    <tr>\n",
       "      <th>4</th>\n",
       "      <td>16 to 20</td>\n",
       "      <td>6</td>\n",
       "    </tr>\n",
       "    <tr>\n",
       "      <th>5</th>\n",
       "      <td>over 20</td>\n",
       "      <td>17</td>\n",
       "    </tr>\n",
       "  </tbody>\n",
       "</table>\n",
       "</div>"
      ],
      "text/plain": [
       "  Miles from Home  % of Accidents\n",
       "0     less than 1              23\n",
       "1          1 to 5              29\n",
       "2         6 to 10              17\n",
       "3        11 to 15               8\n",
       "4        16 to 20               6\n",
       "5         over 20              17"
      ]
     },
     "execution_count": 23,
     "metadata": {},
     "output_type": "execute_result"
    }
   ],
   "source": [
    "accidents"
   ]
  },
  {
   "cell_type": "code",
   "execution_count": 24,
   "id": "c37f9c9d-0d1f-4f44-bcdc-c0b5734f1bcb",
   "metadata": {},
   "outputs": [
    {
     "data": {
      "text/plain": [
       "pandas.core.frame.DataFrame"
      ]
     },
     "execution_count": 24,
     "metadata": {},
     "output_type": "execute_result"
    }
   ],
   "source": [
    "type(accidents)"
   ]
  },
  {
   "cell_type": "code",
   "execution_count": 18,
   "id": "f3546530-23aa-40af-bdc2-3d53167eef11",
   "metadata": {},
   "outputs": [
    {
     "data": {
      "text/plain": [
       "RangeIndex(start=0, stop=6, step=1)"
      ]
     },
     "execution_count": 18,
     "metadata": {},
     "output_type": "execute_result"
    }
   ],
   "source": [
    "accidents.index"
   ]
  },
  {
   "cell_type": "code",
   "execution_count": 19,
   "id": "086bd298-56ba-4f8f-b199-4f994c24d6b7",
   "metadata": {},
   "outputs": [
    {
     "data": {
      "text/plain": [
       "Index(['Miles from Home', '% of Accidents'], dtype='object')"
      ]
     },
     "execution_count": 19,
     "metadata": {},
     "output_type": "execute_result"
    }
   ],
   "source": [
    "accidents.columns"
   ]
  },
  {
   "cell_type": "code",
   "execution_count": 21,
   "id": "95bb939a-1131-456a-a046-4a1478fb710c",
   "metadata": {},
   "outputs": [
    {
     "data": {
      "text/plain": [
       "0    less than 1\n",
       "1         1 to 5\n",
       "2        6 to 10\n",
       "3       11 to 15\n",
       "4       16 to 20\n",
       "5        over 20\n",
       "Name: Miles from Home, dtype: object"
      ]
     },
     "execution_count": 21,
     "metadata": {},
     "output_type": "execute_result"
    }
   ],
   "source": [
    "accidents['Miles from Home']"
   ]
  },
  {
   "cell_type": "code",
   "execution_count": 25,
   "id": "3af84321-d177-40e4-8714-7ca99cb3f27b",
   "metadata": {},
   "outputs": [
    {
     "data": {
      "text/plain": [
       "pandas.core.series.Series"
      ]
     },
     "execution_count": 25,
     "metadata": {},
     "output_type": "execute_result"
    }
   ],
   "source": [
    "type(accidents['Miles from Home'])"
   ]
  },
  {
   "cell_type": "markdown",
   "id": "5aa47900-896b-429d-907a-94b8f5049dc2",
   "metadata": {},
   "source": [
    "Колоната и таблицата имат различна визуализация, защото са от различен тип."
   ]
  },
  {
   "cell_type": "code",
   "execution_count": 26,
   "id": "6ba62a0b-a5d3-478a-93ad-990aa1cb324a",
   "metadata": {},
   "outputs": [
    {
     "data": {
      "text/plain": [
       "pandas.core.frame.DataFrame"
      ]
     },
     "execution_count": 26,
     "metadata": {},
     "output_type": "execute_result"
    }
   ],
   "source": [
    "type(accidents[['Miles from Home']])"
   ]
  },
  {
   "cell_type": "markdown",
   "id": "42ca7b42-52a0-456d-9a02-e08a8f7ce6e5",
   "metadata": {},
   "source": [
    "Колоните могат да се преименуват:"
   ]
  },
  {
   "cell_type": "code",
   "execution_count": 33,
   "id": "e0b46a7b-a719-4a74-8dc5-d41700bb8555",
   "metadata": {},
   "outputs": [],
   "source": [
    "accidents.columns = [\"miles_from_home\", \"pct_of_accidents\"]"
   ]
  },
  {
   "cell_type": "code",
   "execution_count": 34,
   "id": "e6d09aaa-23d9-41bb-8f57-ad543fb70486",
   "metadata": {},
   "outputs": [
    {
     "data": {
      "text/html": [
       "<div>\n",
       "<style scoped>\n",
       "    .dataframe tbody tr th:only-of-type {\n",
       "        vertical-align: middle;\n",
       "    }\n",
       "\n",
       "    .dataframe tbody tr th {\n",
       "        vertical-align: top;\n",
       "    }\n",
       "\n",
       "    .dataframe thead th {\n",
       "        text-align: right;\n",
       "    }\n",
       "</style>\n",
       "<table border=\"1\" class=\"dataframe\">\n",
       "  <thead>\n",
       "    <tr style=\"text-align: right;\">\n",
       "      <th></th>\n",
       "      <th>miles_from_home</th>\n",
       "      <th>pct_of_accidents</th>\n",
       "    </tr>\n",
       "  </thead>\n",
       "  <tbody>\n",
       "    <tr>\n",
       "      <th>0</th>\n",
       "      <td>less than 1</td>\n",
       "      <td>23</td>\n",
       "    </tr>\n",
       "    <tr>\n",
       "      <th>1</th>\n",
       "      <td>1 to 5</td>\n",
       "      <td>29</td>\n",
       "    </tr>\n",
       "    <tr>\n",
       "      <th>2</th>\n",
       "      <td>6 to 10</td>\n",
       "      <td>17</td>\n",
       "    </tr>\n",
       "    <tr>\n",
       "      <th>3</th>\n",
       "      <td>11 to 15</td>\n",
       "      <td>8</td>\n",
       "    </tr>\n",
       "    <tr>\n",
       "      <th>4</th>\n",
       "      <td>16 to 20</td>\n",
       "      <td>6</td>\n",
       "    </tr>\n",
       "    <tr>\n",
       "      <th>5</th>\n",
       "      <td>over 20</td>\n",
       "      <td>17</td>\n",
       "    </tr>\n",
       "  </tbody>\n",
       "</table>\n",
       "</div>"
      ],
      "text/plain": [
       "  miles_from_home  pct_of_accidents\n",
       "0     less than 1                23\n",
       "1          1 to 5                29\n",
       "2         6 to 10                17\n",
       "3        11 to 15                 8\n",
       "4        16 to 20                 6\n",
       "5         over 20                17"
      ]
     },
     "execution_count": 34,
     "metadata": {},
     "output_type": "execute_result"
    }
   ],
   "source": [
    "accidents"
   ]
  },
  {
   "cell_type": "code",
   "execution_count": 29,
   "id": "6aa64cbf-e162-4ceb-982c-8daff16fab42",
   "metadata": {},
   "outputs": [
    {
     "data": {
      "text/plain": [
       "0    less than 1\n",
       "1         1 to 5\n",
       "2        6 to 10\n",
       "3       11 to 15\n",
       "4       16 to 20\n",
       "5        over 20\n",
       "Name: miles_from_home, dtype: object"
      ]
     },
     "execution_count": 29,
     "metadata": {},
     "output_type": "execute_result"
    }
   ],
   "source": [
    "accidents.miles_from_home"
   ]
  },
  {
   "cell_type": "code",
   "execution_count": 31,
   "id": "59762989-5699-40e9-aeff-f3cf32cd85aa",
   "metadata": {},
   "outputs": [
    {
     "data": {
      "text/plain": [
       "(6, 2)"
      ]
     },
     "execution_count": 31,
     "metadata": {},
     "output_type": "execute_result"
    }
   ],
   "source": [
    "accidents.shape"
   ]
  },
  {
   "cell_type": "markdown",
   "id": "0f6abced-1619-4d58-bd74-852c48119961",
   "metadata": {},
   "source": [
    "shape казва колко реда и колко колони съдържа таблицата."
   ]
  },
  {
   "cell_type": "code",
   "execution_count": 35,
   "id": "bfd3e734-a536-4db7-8b88-e8824e2dcb63",
   "metadata": {},
   "outputs": [
    {
     "data": {
      "text/html": [
       "<div>\n",
       "<style scoped>\n",
       "    .dataframe tbody tr th:only-of-type {\n",
       "        vertical-align: middle;\n",
       "    }\n",
       "\n",
       "    .dataframe tbody tr th {\n",
       "        vertical-align: top;\n",
       "    }\n",
       "\n",
       "    .dataframe thead th {\n",
       "        text-align: right;\n",
       "    }\n",
       "</style>\n",
       "<table border=\"1\" class=\"dataframe\">\n",
       "  <thead>\n",
       "    <tr style=\"text-align: right;\">\n",
       "      <th></th>\n",
       "      <th>count</th>\n",
       "      <th>mean</th>\n",
       "      <th>std</th>\n",
       "      <th>min</th>\n",
       "      <th>25%</th>\n",
       "      <th>50%</th>\n",
       "      <th>75%</th>\n",
       "      <th>max</th>\n",
       "    </tr>\n",
       "  </thead>\n",
       "  <tbody>\n",
       "    <tr>\n",
       "      <th>pct_of_accidents</th>\n",
       "      <td>6.0</td>\n",
       "      <td>16.666667</td>\n",
       "      <td>8.733079</td>\n",
       "      <td>6.0</td>\n",
       "      <td>10.25</td>\n",
       "      <td>17.0</td>\n",
       "      <td>21.5</td>\n",
       "      <td>29.0</td>\n",
       "    </tr>\n",
       "  </tbody>\n",
       "</table>\n",
       "</div>"
      ],
      "text/plain": [
       "                  count       mean       std  min    25%   50%   75%   max\n",
       "pct_of_accidents    6.0  16.666667  8.733079  6.0  10.25  17.0  21.5  29.0"
      ]
     },
     "execution_count": 35,
     "metadata": {},
     "output_type": "execute_result"
    }
   ],
   "source": [
    "accidents.describe().T"
   ]
  },
  {
   "cell_type": "code",
   "execution_count": 37,
   "id": "420dde2b-74c9-4aa0-a5fd-aacc2fcc9eea",
   "metadata": {},
   "outputs": [
    {
     "data": {
      "text/plain": [
       "miles_from_home     object\n",
       "pct_of_accidents     int64\n",
       "dtype: object"
      ]
     },
     "execution_count": 37,
     "metadata": {},
     "output_type": "execute_result"
    }
   ],
   "source": [
    "accidents.dtypes"
   ]
  },
  {
   "cell_type": "markdown",
   "id": "7ee16c0b-9c4a-40ca-b638-a1064d829b05",
   "metadata": {},
   "source": [
    "Object може да означава object наистина, но може да означава и string.\n",
    "\n",
    "Можем да сменяме indexa:"
   ]
  },
  {
   "cell_type": "code",
   "execution_count": 39,
   "id": "0f21cf7c-7ffa-405d-941f-7f98cfd309c4",
   "metadata": {},
   "outputs": [
    {
     "data": {
      "text/html": [
       "<div>\n",
       "<style scoped>\n",
       "    .dataframe tbody tr th:only-of-type {\n",
       "        vertical-align: middle;\n",
       "    }\n",
       "\n",
       "    .dataframe tbody tr th {\n",
       "        vertical-align: top;\n",
       "    }\n",
       "\n",
       "    .dataframe thead th {\n",
       "        text-align: right;\n",
       "    }\n",
       "</style>\n",
       "<table border=\"1\" class=\"dataframe\">\n",
       "  <thead>\n",
       "    <tr style=\"text-align: right;\">\n",
       "      <th></th>\n",
       "      <th>index</th>\n",
       "      <th>miles_from_home</th>\n",
       "      <th>pct_of_accidents</th>\n",
       "    </tr>\n",
       "  </thead>\n",
       "  <tbody>\n",
       "    <tr>\n",
       "      <th>0</th>\n",
       "      <td>0</td>\n",
       "      <td>less than 1</td>\n",
       "      <td>23</td>\n",
       "    </tr>\n",
       "    <tr>\n",
       "      <th>1</th>\n",
       "      <td>1</td>\n",
       "      <td>1 to 5</td>\n",
       "      <td>29</td>\n",
       "    </tr>\n",
       "    <tr>\n",
       "      <th>2</th>\n",
       "      <td>2</td>\n",
       "      <td>6 to 10</td>\n",
       "      <td>17</td>\n",
       "    </tr>\n",
       "    <tr>\n",
       "      <th>3</th>\n",
       "      <td>3</td>\n",
       "      <td>11 to 15</td>\n",
       "      <td>8</td>\n",
       "    </tr>\n",
       "    <tr>\n",
       "      <th>4</th>\n",
       "      <td>4</td>\n",
       "      <td>16 to 20</td>\n",
       "      <td>6</td>\n",
       "    </tr>\n",
       "    <tr>\n",
       "      <th>5</th>\n",
       "      <td>5</td>\n",
       "      <td>over 20</td>\n",
       "      <td>17</td>\n",
       "    </tr>\n",
       "  </tbody>\n",
       "</table>\n",
       "</div>"
      ],
      "text/plain": [
       "   index miles_from_home  pct_of_accidents\n",
       "0      0     less than 1                23\n",
       "1      1          1 to 5                29\n",
       "2      2         6 to 10                17\n",
       "3      3        11 to 15                 8\n",
       "4      4        16 to 20                 6\n",
       "5      5         over 20                17"
      ]
     },
     "execution_count": 39,
     "metadata": {},
     "output_type": "execute_result"
    }
   ],
   "source": [
    "accidents.reset_index()    "
   ]
  },
  {
   "cell_type": "markdown",
   "id": "ee6643ec-7fb7-4ff8-9e87-143684918070",
   "metadata": {},
   "source": [
    "С reset_index() отива като нова колона."
   ]
  },
  {
   "cell_type": "code",
   "execution_count": 40,
   "id": "8f1ad34c-8bcf-4fe7-8a18-99a9e4c388a7",
   "metadata": {},
   "outputs": [],
   "source": [
    "accidents.index = [7, 17, 20, 4, 2, -1]"
   ]
  },
  {
   "cell_type": "code",
   "execution_count": 43,
   "id": "55f6446c-db09-4607-9f2a-b016dd1b998b",
   "metadata": {},
   "outputs": [
    {
     "data": {
      "text/html": [
       "<div>\n",
       "<style scoped>\n",
       "    .dataframe tbody tr th:only-of-type {\n",
       "        vertical-align: middle;\n",
       "    }\n",
       "\n",
       "    .dataframe tbody tr th {\n",
       "        vertical-align: top;\n",
       "    }\n",
       "\n",
       "    .dataframe thead th {\n",
       "        text-align: right;\n",
       "    }\n",
       "</style>\n",
       "<table border=\"1\" class=\"dataframe\">\n",
       "  <thead>\n",
       "    <tr style=\"text-align: right;\">\n",
       "      <th></th>\n",
       "      <th>miles_from_home</th>\n",
       "      <th>pct_of_accidents</th>\n",
       "    </tr>\n",
       "  </thead>\n",
       "  <tbody>\n",
       "    <tr>\n",
       "      <th>7</th>\n",
       "      <td>less than 1</td>\n",
       "      <td>23</td>\n",
       "    </tr>\n",
       "    <tr>\n",
       "      <th>17</th>\n",
       "      <td>1 to 5</td>\n",
       "      <td>29</td>\n",
       "    </tr>\n",
       "    <tr>\n",
       "      <th>20</th>\n",
       "      <td>6 to 10</td>\n",
       "      <td>17</td>\n",
       "    </tr>\n",
       "    <tr>\n",
       "      <th>4</th>\n",
       "      <td>11 to 15</td>\n",
       "      <td>8</td>\n",
       "    </tr>\n",
       "    <tr>\n",
       "      <th>2</th>\n",
       "      <td>16 to 20</td>\n",
       "      <td>6</td>\n",
       "    </tr>\n",
       "    <tr>\n",
       "      <th>-1</th>\n",
       "      <td>over 20</td>\n",
       "      <td>17</td>\n",
       "    </tr>\n",
       "  </tbody>\n",
       "</table>\n",
       "</div>"
      ],
      "text/plain": [
       "    miles_from_home  pct_of_accidents\n",
       " 7      less than 1                23\n",
       " 17          1 to 5                29\n",
       " 20         6 to 10                17\n",
       " 4         11 to 15                 8\n",
       " 2         16 to 20                 6\n",
       "-1          over 20                17"
      ]
     },
     "execution_count": 43,
     "metadata": {},
     "output_type": "execute_result"
    }
   ],
   "source": [
    "accidents"
   ]
  },
  {
   "cell_type": "markdown",
   "id": "53a0fa97-cc36-4a37-bd10-74b97e434867",
   "metadata": {},
   "source": [
    "Като извикаме отново reste_index():"
   ]
  },
  {
   "cell_type": "code",
   "execution_count": 45,
   "id": "37bca860-5a76-4a2a-b5cc-df6e4d0020f8",
   "metadata": {},
   "outputs": [],
   "source": [
    "accidents.reset_index(inplace = True)"
   ]
  },
  {
   "cell_type": "code",
   "execution_count": 46,
   "id": "de9b724a-8465-45e7-b95f-7e39c9f02b94",
   "metadata": {},
   "outputs": [
    {
     "data": {
      "text/html": [
       "<div>\n",
       "<style scoped>\n",
       "    .dataframe tbody tr th:only-of-type {\n",
       "        vertical-align: middle;\n",
       "    }\n",
       "\n",
       "    .dataframe tbody tr th {\n",
       "        vertical-align: top;\n",
       "    }\n",
       "\n",
       "    .dataframe thead th {\n",
       "        text-align: right;\n",
       "    }\n",
       "</style>\n",
       "<table border=\"1\" class=\"dataframe\">\n",
       "  <thead>\n",
       "    <tr style=\"text-align: right;\">\n",
       "      <th></th>\n",
       "      <th>index</th>\n",
       "      <th>miles_from_home</th>\n",
       "      <th>pct_of_accidents</th>\n",
       "    </tr>\n",
       "  </thead>\n",
       "  <tbody>\n",
       "    <tr>\n",
       "      <th>0</th>\n",
       "      <td>7</td>\n",
       "      <td>less than 1</td>\n",
       "      <td>23</td>\n",
       "    </tr>\n",
       "    <tr>\n",
       "      <th>1</th>\n",
       "      <td>17</td>\n",
       "      <td>1 to 5</td>\n",
       "      <td>29</td>\n",
       "    </tr>\n",
       "    <tr>\n",
       "      <th>2</th>\n",
       "      <td>20</td>\n",
       "      <td>6 to 10</td>\n",
       "      <td>17</td>\n",
       "    </tr>\n",
       "    <tr>\n",
       "      <th>3</th>\n",
       "      <td>4</td>\n",
       "      <td>11 to 15</td>\n",
       "      <td>8</td>\n",
       "    </tr>\n",
       "    <tr>\n",
       "      <th>4</th>\n",
       "      <td>2</td>\n",
       "      <td>16 to 20</td>\n",
       "      <td>6</td>\n",
       "    </tr>\n",
       "    <tr>\n",
       "      <th>5</th>\n",
       "      <td>-1</td>\n",
       "      <td>over 20</td>\n",
       "      <td>17</td>\n",
       "    </tr>\n",
       "  </tbody>\n",
       "</table>\n",
       "</div>"
      ],
      "text/plain": [
       "   index miles_from_home  pct_of_accidents\n",
       "0      7     less than 1                23\n",
       "1     17          1 to 5                29\n",
       "2     20         6 to 10                17\n",
       "3      4        11 to 15                 8\n",
       "4      2        16 to 20                 6\n",
       "5     -1         over 20                17"
      ]
     },
     "execution_count": 46,
     "metadata": {},
     "output_type": "execute_result"
    }
   ],
   "source": [
    "accidents"
   ]
  },
  {
   "cell_type": "code",
   "execution_count": 49,
   "id": "3b9af55a-db98-480f-884f-5448e50427a9",
   "metadata": {},
   "outputs": [],
   "source": [
    "accidents_new_index = accidents.reset_index()"
   ]
  },
  {
   "cell_type": "code",
   "execution_count": 50,
   "id": "69cf5007-eb89-474c-b8b7-1712a120fd3a",
   "metadata": {},
   "outputs": [
    {
     "data": {
      "text/html": [
       "<div>\n",
       "<style scoped>\n",
       "    .dataframe tbody tr th:only-of-type {\n",
       "        vertical-align: middle;\n",
       "    }\n",
       "\n",
       "    .dataframe tbody tr th {\n",
       "        vertical-align: top;\n",
       "    }\n",
       "\n",
       "    .dataframe thead th {\n",
       "        text-align: right;\n",
       "    }\n",
       "</style>\n",
       "<table border=\"1\" class=\"dataframe\">\n",
       "  <thead>\n",
       "    <tr style=\"text-align: right;\">\n",
       "      <th></th>\n",
       "      <th>index</th>\n",
       "      <th>miles_from_home</th>\n",
       "      <th>pct_of_accidents</th>\n",
       "    </tr>\n",
       "  </thead>\n",
       "  <tbody>\n",
       "    <tr>\n",
       "      <th>0</th>\n",
       "      <td>7</td>\n",
       "      <td>less than 1</td>\n",
       "      <td>23</td>\n",
       "    </tr>\n",
       "    <tr>\n",
       "      <th>1</th>\n",
       "      <td>17</td>\n",
       "      <td>1 to 5</td>\n",
       "      <td>29</td>\n",
       "    </tr>\n",
       "    <tr>\n",
       "      <th>2</th>\n",
       "      <td>20</td>\n",
       "      <td>6 to 10</td>\n",
       "      <td>17</td>\n",
       "    </tr>\n",
       "    <tr>\n",
       "      <th>3</th>\n",
       "      <td>4</td>\n",
       "      <td>11 to 15</td>\n",
       "      <td>8</td>\n",
       "    </tr>\n",
       "    <tr>\n",
       "      <th>4</th>\n",
       "      <td>2</td>\n",
       "      <td>16 to 20</td>\n",
       "      <td>6</td>\n",
       "    </tr>\n",
       "    <tr>\n",
       "      <th>5</th>\n",
       "      <td>-1</td>\n",
       "      <td>over 20</td>\n",
       "      <td>17</td>\n",
       "    </tr>\n",
       "  </tbody>\n",
       "</table>\n",
       "</div>"
      ],
      "text/plain": [
       "   index miles_from_home  pct_of_accidents\n",
       "0      7     less than 1                23\n",
       "1     17          1 to 5                29\n",
       "2     20         6 to 10                17\n",
       "3      4        11 to 15                 8\n",
       "4      2        16 to 20                 6\n",
       "5     -1         over 20                17"
      ]
     },
     "execution_count": 50,
     "metadata": {},
     "output_type": "execute_result"
    }
   ],
   "source": [
    "accidents"
   ]
  },
  {
   "cell_type": "code",
   "execution_count": 56,
   "id": "fe3128e8-30e0-4913-9820-e6cae8a6f18b",
   "metadata": {},
   "outputs": [],
   "source": [
    "accidents = accidents.reset_index(drop = True)"
   ]
  },
  {
   "cell_type": "markdown",
   "id": "73aa9c6e-752e-4ecb-870d-188a3eb9df29",
   "metadata": {},
   "source": [
    "Изтриваме таблица, за да освободим място или просто защото вече не ни трябва:"
   ]
  },
  {
   "cell_type": "code",
   "execution_count": 54,
   "id": "8a7f502a-b975-46a2-b812-87b6f554b560",
   "metadata": {},
   "outputs": [],
   "source": [
    "del accidents_new_index"
   ]
  },
  {
   "cell_type": "code",
   "execution_count": 57,
   "id": "eae47098-343b-4460-b862-29688311f104",
   "metadata": {},
   "outputs": [
    {
     "ename": "NameError",
     "evalue": "name 'accidents_new_index' is not defined",
     "output_type": "error",
     "traceback": [
      "\u001b[1;31m---------------------------------------------------------------------------\u001b[0m",
      "\u001b[1;31mNameError\u001b[0m                                 Traceback (most recent call last)",
      "Input \u001b[1;32mIn [57]\u001b[0m, in \u001b[0;36m<cell line: 1>\u001b[1;34m()\u001b[0m\n\u001b[1;32m----> 1\u001b[0m \u001b[43maccidents_new_index\u001b[49m\n",
      "\u001b[1;31mNameError\u001b[0m: name 'accidents_new_index' is not defined"
     ]
    }
   ],
   "source": [
    "accidents_new_index"
   ]
  },
  {
   "cell_type": "markdown",
   "id": "8fb97175-000a-4f15-b836-8ccc7ec691ee",
   "metadata": {},
   "source": [
    "Pandas може да чете от url-и:"
   ]
  },
  {
   "cell_type": "code",
   "execution_count": 60,
   "id": "b03c1e30-9f91-4836-8097-4159f860d0ba",
   "metadata": {},
   "outputs": [],
   "source": [
    "credit_risk_data = pd.read_csv(\"https://github.com/plotly/datasets/raw/master/data.csv\")"
   ]
  },
  {
   "cell_type": "code",
   "execution_count": 61,
   "id": "9555282f-dac9-4f83-8ca4-9cd94213ae09",
   "metadata": {},
   "outputs": [
    {
     "data": {
      "text/plain": [
       "(150000, 11)"
      ]
     },
     "execution_count": 61,
     "metadata": {},
     "output_type": "execute_result"
    }
   ],
   "source": [
    "credit_risk_data.shape"
   ]
  },
  {
   "cell_type": "code",
   "execution_count": 63,
   "id": "6e333cc9-df46-412c-ae44-1bee66f18366",
   "metadata": {},
   "outputs": [
    {
     "data": {
      "text/plain": [
       "SeriousDlqin2yrs                          int64\n",
       "RevolvingUtilizationOfUnsecuredLines    float64\n",
       "age                                       int64\n",
       "NumberOfTime30-59DaysPastDueNotWorse      int64\n",
       "DebtRatio                               float64\n",
       "MonthlyIncome                           float64\n",
       "NumberOfOpenCreditLinesAndLoans           int64\n",
       "NumberOfTimes90DaysLate                   int64\n",
       "NumberRealEstateLoansOrLines              int64\n",
       "NumberOfTime60-89DaysPastDueNotWorse      int64\n",
       "NumberOfDependents                      float64\n",
       "dtype: object"
      ]
     },
     "execution_count": 63,
     "metadata": {},
     "output_type": "execute_result"
    }
   ],
   "source": [
    "credit_risk_data.dtypes"
   ]
  },
  {
   "cell_type": "code",
   "execution_count": 67,
   "id": "e422dd66-82f6-465c-88cd-aa97c5a80fec",
   "metadata": {},
   "outputs": [
    {
     "data": {
      "text/html": [
       "<div>\n",
       "<style scoped>\n",
       "    .dataframe tbody tr th:only-of-type {\n",
       "        vertical-align: middle;\n",
       "    }\n",
       "\n",
       "    .dataframe tbody tr th {\n",
       "        vertical-align: top;\n",
       "    }\n",
       "\n",
       "    .dataframe thead th {\n",
       "        text-align: right;\n",
       "    }\n",
       "</style>\n",
       "<table border=\"1\" class=\"dataframe\">\n",
       "  <thead>\n",
       "    <tr style=\"text-align: right;\">\n",
       "      <th></th>\n",
       "      <th>count</th>\n",
       "      <th>mean</th>\n",
       "      <th>std</th>\n",
       "      <th>min</th>\n",
       "      <th>25%</th>\n",
       "      <th>50%</th>\n",
       "      <th>75%</th>\n",
       "      <th>max</th>\n",
       "    </tr>\n",
       "  </thead>\n",
       "  <tbody>\n",
       "    <tr>\n",
       "      <th>SeriousDlqin2yrs</th>\n",
       "      <td>150000.0</td>\n",
       "      <td>0.066840</td>\n",
       "      <td>0.249746</td>\n",
       "      <td>0.0</td>\n",
       "      <td>0.000000</td>\n",
       "      <td>0.000000</td>\n",
       "      <td>0.000000</td>\n",
       "      <td>1.0</td>\n",
       "    </tr>\n",
       "    <tr>\n",
       "      <th>RevolvingUtilizationOfUnsecuredLines</th>\n",
       "      <td>150000.0</td>\n",
       "      <td>6.048438</td>\n",
       "      <td>249.755371</td>\n",
       "      <td>0.0</td>\n",
       "      <td>0.029867</td>\n",
       "      <td>0.154181</td>\n",
       "      <td>0.559046</td>\n",
       "      <td>50708.0</td>\n",
       "    </tr>\n",
       "    <tr>\n",
       "      <th>age</th>\n",
       "      <td>150000.0</td>\n",
       "      <td>52.295207</td>\n",
       "      <td>14.771866</td>\n",
       "      <td>0.0</td>\n",
       "      <td>41.000000</td>\n",
       "      <td>52.000000</td>\n",
       "      <td>63.000000</td>\n",
       "      <td>109.0</td>\n",
       "    </tr>\n",
       "    <tr>\n",
       "      <th>NumberOfTime30-59DaysPastDueNotWorse</th>\n",
       "      <td>150000.0</td>\n",
       "      <td>0.421033</td>\n",
       "      <td>4.192781</td>\n",
       "      <td>0.0</td>\n",
       "      <td>0.000000</td>\n",
       "      <td>0.000000</td>\n",
       "      <td>0.000000</td>\n",
       "      <td>98.0</td>\n",
       "    </tr>\n",
       "    <tr>\n",
       "      <th>DebtRatio</th>\n",
       "      <td>150000.0</td>\n",
       "      <td>353.005076</td>\n",
       "      <td>2037.818523</td>\n",
       "      <td>0.0</td>\n",
       "      <td>0.175074</td>\n",
       "      <td>0.366508</td>\n",
       "      <td>0.868254</td>\n",
       "      <td>329664.0</td>\n",
       "    </tr>\n",
       "    <tr>\n",
       "      <th>MonthlyIncome</th>\n",
       "      <td>120269.0</td>\n",
       "      <td>6670.221237</td>\n",
       "      <td>14384.674215</td>\n",
       "      <td>0.0</td>\n",
       "      <td>3400.000000</td>\n",
       "      <td>5400.000000</td>\n",
       "      <td>8249.000000</td>\n",
       "      <td>3008750.0</td>\n",
       "    </tr>\n",
       "    <tr>\n",
       "      <th>NumberOfOpenCreditLinesAndLoans</th>\n",
       "      <td>150000.0</td>\n",
       "      <td>8.452760</td>\n",
       "      <td>5.145951</td>\n",
       "      <td>0.0</td>\n",
       "      <td>5.000000</td>\n",
       "      <td>8.000000</td>\n",
       "      <td>11.000000</td>\n",
       "      <td>58.0</td>\n",
       "    </tr>\n",
       "    <tr>\n",
       "      <th>NumberOfTimes90DaysLate</th>\n",
       "      <td>150000.0</td>\n",
       "      <td>0.265973</td>\n",
       "      <td>4.169304</td>\n",
       "      <td>0.0</td>\n",
       "      <td>0.000000</td>\n",
       "      <td>0.000000</td>\n",
       "      <td>0.000000</td>\n",
       "      <td>98.0</td>\n",
       "    </tr>\n",
       "    <tr>\n",
       "      <th>NumberRealEstateLoansOrLines</th>\n",
       "      <td>150000.0</td>\n",
       "      <td>1.018240</td>\n",
       "      <td>1.129771</td>\n",
       "      <td>0.0</td>\n",
       "      <td>0.000000</td>\n",
       "      <td>1.000000</td>\n",
       "      <td>2.000000</td>\n",
       "      <td>54.0</td>\n",
       "    </tr>\n",
       "    <tr>\n",
       "      <th>NumberOfTime60-89DaysPastDueNotWorse</th>\n",
       "      <td>150000.0</td>\n",
       "      <td>0.240387</td>\n",
       "      <td>4.155179</td>\n",
       "      <td>0.0</td>\n",
       "      <td>0.000000</td>\n",
       "      <td>0.000000</td>\n",
       "      <td>0.000000</td>\n",
       "      <td>98.0</td>\n",
       "    </tr>\n",
       "    <tr>\n",
       "      <th>NumberOfDependents</th>\n",
       "      <td>146076.0</td>\n",
       "      <td>0.757222</td>\n",
       "      <td>1.115086</td>\n",
       "      <td>0.0</td>\n",
       "      <td>0.000000</td>\n",
       "      <td>0.000000</td>\n",
       "      <td>1.000000</td>\n",
       "      <td>20.0</td>\n",
       "    </tr>\n",
       "  </tbody>\n",
       "</table>\n",
       "</div>"
      ],
      "text/plain": [
       "                                         count         mean           std  \\\n",
       "SeriousDlqin2yrs                      150000.0     0.066840      0.249746   \n",
       "RevolvingUtilizationOfUnsecuredLines  150000.0     6.048438    249.755371   \n",
       "age                                   150000.0    52.295207     14.771866   \n",
       "NumberOfTime30-59DaysPastDueNotWorse  150000.0     0.421033      4.192781   \n",
       "DebtRatio                             150000.0   353.005076   2037.818523   \n",
       "MonthlyIncome                         120269.0  6670.221237  14384.674215   \n",
       "NumberOfOpenCreditLinesAndLoans       150000.0     8.452760      5.145951   \n",
       "NumberOfTimes90DaysLate               150000.0     0.265973      4.169304   \n",
       "NumberRealEstateLoansOrLines          150000.0     1.018240      1.129771   \n",
       "NumberOfTime60-89DaysPastDueNotWorse  150000.0     0.240387      4.155179   \n",
       "NumberOfDependents                    146076.0     0.757222      1.115086   \n",
       "\n",
       "                                      min          25%          50%  \\\n",
       "SeriousDlqin2yrs                      0.0     0.000000     0.000000   \n",
       "RevolvingUtilizationOfUnsecuredLines  0.0     0.029867     0.154181   \n",
       "age                                   0.0    41.000000    52.000000   \n",
       "NumberOfTime30-59DaysPastDueNotWorse  0.0     0.000000     0.000000   \n",
       "DebtRatio                             0.0     0.175074     0.366508   \n",
       "MonthlyIncome                         0.0  3400.000000  5400.000000   \n",
       "NumberOfOpenCreditLinesAndLoans       0.0     5.000000     8.000000   \n",
       "NumberOfTimes90DaysLate               0.0     0.000000     0.000000   \n",
       "NumberRealEstateLoansOrLines          0.0     0.000000     1.000000   \n",
       "NumberOfTime60-89DaysPastDueNotWorse  0.0     0.000000     0.000000   \n",
       "NumberOfDependents                    0.0     0.000000     0.000000   \n",
       "\n",
       "                                              75%        max  \n",
       "SeriousDlqin2yrs                         0.000000        1.0  \n",
       "RevolvingUtilizationOfUnsecuredLines     0.559046    50708.0  \n",
       "age                                     63.000000      109.0  \n",
       "NumberOfTime30-59DaysPastDueNotWorse     0.000000       98.0  \n",
       "DebtRatio                                0.868254   329664.0  \n",
       "MonthlyIncome                         8249.000000  3008750.0  \n",
       "NumberOfOpenCreditLinesAndLoans         11.000000       58.0  \n",
       "NumberOfTimes90DaysLate                  0.000000       98.0  \n",
       "NumberRealEstateLoansOrLines             2.000000       54.0  \n",
       "NumberOfTime60-89DaysPastDueNotWorse     0.000000       98.0  \n",
       "NumberOfDependents                       1.000000       20.0  "
      ]
     },
     "execution_count": 67,
     "metadata": {},
     "output_type": "execute_result"
    }
   ],
   "source": [
    "credit_risk_data.describe().T"
   ]
  },
  {
   "cell_type": "code",
   "execution_count": 70,
   "id": "88a8b5bf-efd1-418d-892e-4f1017f478be",
   "metadata": {},
   "outputs": [],
   "source": [
    "credit_risk_data[\"SeriousDlqin2yrs\"] = credit_risk_data[\"SeriousDlqin2yrs\"].astype(\"category\")"
   ]
  },
  {
   "cell_type": "code",
   "execution_count": 71,
   "id": "c8ab4a9b-eafb-4374-b945-6df927f341c1",
   "metadata": {},
   "outputs": [
    {
     "data": {
      "text/plain": [
       "SeriousDlqin2yrs                        category\n",
       "RevolvingUtilizationOfUnsecuredLines     float64\n",
       "age                                        int64\n",
       "NumberOfTime30-59DaysPastDueNotWorse       int64\n",
       "DebtRatio                                float64\n",
       "MonthlyIncome                            float64\n",
       "NumberOfOpenCreditLinesAndLoans            int64\n",
       "NumberOfTimes90DaysLate                    int64\n",
       "NumberRealEstateLoansOrLines               int64\n",
       "NumberOfTime60-89DaysPastDueNotWorse       int64\n",
       "NumberOfDependents                       float64\n",
       "dtype: object"
      ]
     },
     "execution_count": 71,
     "metadata": {},
     "output_type": "execute_result"
    }
   ],
   "source": [
    "credit_risk_data.dtypes"
   ]
  },
  {
   "cell_type": "markdown",
   "id": "002d5dd7-fd5b-4cd8-9cd9-65735211aa16",
   "metadata": {},
   "source": [
    "Ако имаме един csv файл във zip - pandas ще го ънзипне сам, но ако имаме повече от едини няма да може.\n",
    "\n",
    "Можем да запазваме промените в данните и да създадем ново csv:"
   ]
  },
  {
   "cell_type": "code",
   "execution_count": 74,
   "id": "7f2490a7-a889-46b1-bd59-0aaf7e69c3f8",
   "metadata": {},
   "outputs": [],
   "source": [
    "accidents.to_csv(\"modified.csv\")"
   ]
  },
  {
   "cell_type": "code",
   "execution_count": 75,
   "id": "1b522b75-7f00-4bb5-9616-800b5322890c",
   "metadata": {},
   "outputs": [
    {
     "name": "stdout",
     "output_type": "stream",
     "text": [
      "Requirement already satisfied: openpyxl in c:\\users\\galin\\anaconda3\\lib\\site-packages (3.0.9)\n",
      "Requirement already satisfied: et-xmlfile in c:\\users\\galin\\anaconda3\\lib\\site-packages (from openpyxl) (1.1.0)\n"
     ]
    }
   ],
   "source": [
    "!pip install openpyxl"
   ]
  },
  {
   "cell_type": "markdown",
   "id": "6727cf84-0b4d-4fa2-90fa-4eaeea599b8b",
   "metadata": {},
   "source": [
    "Четем от excel файл:"
   ]
  },
  {
   "cell_type": "code",
   "execution_count": 84,
   "id": "56722793-f058-435c-bed8-f420adee7eb9",
   "metadata": {},
   "outputs": [],
   "source": [
    "green_trip_data = pd.read_excel(\"green_tripdata_2015-09.xls\")"
   ]
  },
  {
   "cell_type": "markdown",
   "id": "3bcc6de8-33ec-420b-a77c-4f9e994142e3",
   "metadata": {},
   "source": [
    "Гледаме колко редове и колони има в таблицата:"
   ]
  },
  {
   "cell_type": "code",
   "execution_count": 87,
   "id": "06128b5b-eef4-4e14-a521-101c7d597fe8",
   "metadata": {},
   "outputs": [
    {
     "data": {
      "text/plain": [
       "(65535, 21)"
      ]
     },
     "execution_count": 87,
     "metadata": {},
     "output_type": "execute_result"
    }
   ],
   "source": [
    "green_trip_data.shape"
   ]
  },
  {
   "cell_type": "markdown",
   "id": "ad0c9a11-0248-407a-865a-176775b1d0c6",
   "metadata": {},
   "source": [
    "От какъп тип са данните в колоните:"
   ]
  },
  {
   "cell_type": "code",
   "execution_count": 89,
   "id": "88376373-efd1-4d13-8182-c2140fc957f4",
   "metadata": {},
   "outputs": [
    {
     "data": {
      "text/plain": [
       "VendorID                          int64\n",
       "lpep_pickup_datetime     datetime64[ns]\n",
       "Lpep_dropoff_datetime    datetime64[ns]\n",
       "Store_and_fwd_flag               object\n",
       "RateCodeID                        int64\n",
       "Pickup_longitude                float64\n",
       "Pickup_latitude                 float64\n",
       "Dropoff_longitude               float64\n",
       "Dropoff_latitude                float64\n",
       "Passenger_count                   int64\n",
       "Trip_distance                   float64\n",
       "Fare_amount                     float64\n",
       "Extra                           float64\n",
       "MTA_tax                         float64\n",
       "Tip_amount                      float64\n",
       "Tolls_amount                    float64\n",
       "Ehail_fee                       float64\n",
       "improvement_surcharge           float64\n",
       "Total_amount                    float64\n",
       "Payment_type                      int64\n",
       "Trip_type                         int64\n",
       "dtype: object"
      ]
     },
     "execution_count": 89,
     "metadata": {},
     "output_type": "execute_result"
    }
   ],
   "source": [
    "green_trip_data.dtypes"
   ]
  },
  {
   "cell_type": "markdown",
   "id": "6c5b29f0-fc37-40e9-92ae-23eb2287e0fd",
   "metadata": {},
   "source": [
    "Какви колони има:"
   ]
  },
  {
   "cell_type": "code",
   "execution_count": 82,
   "id": "3a8c2212-a970-4c3a-8e3f-4a89f5a37fe9",
   "metadata": {},
   "outputs": [
    {
     "data": {
      "text/plain": [
       "Index(['VendorID', 'lpep_pickup_datetime', 'Lpep_dropoff_datetime',\n",
       "       'Store_and_fwd_flag', 'RateCodeID', 'Pickup_longitude',\n",
       "       'Pickup_latitude', 'Dropoff_longitude', 'Dropoff_latitude',\n",
       "       'Passenger_count', 'Trip_distance', 'Fare_amount', 'Extra', 'MTA_tax',\n",
       "       'Tip_amount', 'Tolls_amount', 'Ehail_fee', 'improvement_surcharge',\n",
       "       'Total_amount', 'Payment_type', 'Trip_type '],\n",
       "      dtype='object')"
      ]
     },
     "execution_count": 82,
     "metadata": {},
     "output_type": "execute_result"
    }
   ],
   "source": [
    "green_trip_data.columns"
   ]
  },
  {
   "cell_type": "markdown",
   "id": "21e075af-1f80-4005-998e-519b0bd1e524",
   "metadata": {},
   "source": [
    "Да покажем хистограмата:"
   ]
  },
  {
   "cell_type": "code",
   "execution_count": 94,
   "id": "41bd6582-e08d-4267-8604-095dc43ccd6c",
   "metadata": {},
   "outputs": [
    {
     "data": {
      "image/png": "[encoded data removed]",
      "text/plain": [
       "<Figure size 432x288 with 1 Axes>"
      ]
     },
     "metadata": {
      "needs_background": "light"
     },
     "output_type": "display_data"
    }
   ],
   "source": [
    "plt.hist(green_trip_data.Fare_amount, bins = 50)\n",
    "plt.show()"
   ]
  },
  {
   "cell_type": "markdown",
   "id": "cfd13c7b-bafb-489e-aed2-b94a4cd7d4c2",
   "metadata": {},
   "source": [
    "Махаме отрицателните амаунти:"
   ]
  },
  {
   "cell_type": "code",
   "execution_count": 96,
   "id": "7c2d3008-972c-4d6e-8d6b-3dbb8c63bcf2",
   "metadata": {},
   "outputs": [
    {
     "data": {
      "image/png": "[encoded data removed]",
      "text/plain": [
       "<Figure size 432x288 with 1 Axes>"
      ]
     },
     "metadata": {
      "needs_background": "light"
     },
     "output_type": "display_data"
    }
   ],
   "source": [
    "plt.hist(green_trip_data.Fare_amount[green_trip_data.Fare_amount > 0], bins = 50)\n",
    "plt.show()"
   ]
  },
  {
   "cell_type": "code",
   "execution_count": 97,
   "id": "56eb6c1b-c6c7-495b-8458-2e79c70e5432",
   "metadata": {},
   "outputs": [
    {
     "data": {
      "text/plain": [
       "7.01369599688203"
      ]
     },
     "execution_count": 97,
     "metadata": {},
     "output_type": "execute_result"
    }
   ],
   "source": [
    "green_trip_data.Fare_amount[green_trip_data.Fare_amount > 0].skew()"
   ]
  }
 ],
 "metadata": {
  "kernelspec": {
   "display_name": "Python 3 (ipykernel)",
   "language": "python",
   "name": "python3"
  },
  "language_info": {
   "codemirror_mode": {
    "name": "ipython",
    "version": 3
   },
   "file_extension": ".py",
   "mimetype": "text/x-python",
   "name": "python",
   "nbconvert_exporter": "python",
   "pygments_lexer": "ipython3",
   "version": "3.9.12"
  }
 },
 "nbformat": 4,
 "nbformat_minor": 5
}
