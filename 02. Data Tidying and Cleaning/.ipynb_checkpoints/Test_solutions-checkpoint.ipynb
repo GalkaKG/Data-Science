{
 "cells": [
  {
   "cell_type": "code",
   "execution_count": 5,
   "id": "d1ab8a33-5904-4620-a8b6-0d2084b2dc60",
   "metadata": {},
   "outputs": [],
   "source": [
    "import numpy as np\n",
    "import pandas as pd\n",
    "import matplotlib.pyplot as plt"
   ]
  },
  {
   "cell_type": "markdown",
   "id": "c00270d1-a595-48f7-b49c-e6e6f5923bea",
   "metadata": {},
   "source": [
    "__Tidy Data__ <br/>\n",
    "What does a row contain in a tidy dataset?\n",
    "\n",
    "Answear: An observation of all features"
   ]
  },
  {
   "cell_type": "markdown",
   "id": "c83476bc-55f6-4a7c-871d-f7aceb1d45db",
   "metadata": {},
   "source": [
    "__Messy Data__ <br/>\n",
    "\"Messy data\" and \"unstructured data\" are the same.\n",
    "\n",
    "Answear: False"
   ]
  },
  {
   "cell_type": "markdown",
   "id": "578e76ec-3ccb-44f6-bc6e-4ab4fdc3e6e8",
   "metadata": {},
   "source": [
    "__Null Values__ <br />\n",
    "The \"Titanic\" dataset (located at https://raw.githubusercontent.com/Geoyi/Cleaning-Titanic-Data/master/titanic_original.csv) contains information about 887 passengers on the Titanic (out of 2224 total). Which column has the most missing values?"
   ]
  },
  {
   "cell_type": "code",
   "execution_count": 3,
   "id": "2344214c-9f54-4a1c-b910-1ce1121f9152",
   "metadata": {},
   "outputs": [
    {
     "data": {
      "text/plain": [
       "('body', 1189)"
      ]
     },
     "execution_count": 3,
     "metadata": {},
     "output_type": "execute_result"
    }
   ],
   "source": [
    "url = \"https://raw.githubusercontent.com/Geoyi/Cleaning-Titanic-Data/master/titanic_original.csv\"\n",
    "titanic_data = pd.read_csv(url)\n",
    "\n",
    "# Find the column with the most missing values\n",
    "missing_values = titanic_data.isnull().sum()\n",
    "most_missing_column = missing_values.idxmax()\n",
    "most_missing_count = missing_values.max()\n",
    "\n",
    "most_missing_column, most_missing_count"
   ]
  },
  {
   "cell_type": "markdown",
   "id": "0cb53174-6dc5-4df2-9717-bbde47198224",
   "metadata": {},
   "source": [
    "__Observations and Features, Part 1__ <br/>\n",
    "The Iris dataset is one of the most populat datasets in data processing. You can find the data and description at https://archive.ics.uci.edu/ml/datasets/iris. How many observations are there?\n",
    "\n",
    "__Observations and Features, Part 2__ <br/>\n",
    "And how many features?"
   ]
  },
  {
   "cell_type": "code",
   "execution_count": 16,
   "id": "77f49047-fe20-4d24-8312-30782190aebc",
   "metadata": {},
   "outputs": [
    {
     "name": "stdout",
     "output_type": "stream",
     "text": [
      "The Iris dataset contains 150 observations and 5 features.\n"
     ]
    }
   ],
   "source": [
    "# URL of the Iris dataset\n",
    "url = \"https://archive.ics.uci.edu/ml/machine-learning-databases/iris/iris.data\"\n",
    "\n",
    "# Load the dataset into a pandas DataFrame\n",
    "column_names = ['sepal_length', 'sepal_width', 'petal_length', 'petal_width', 'species']\n",
    "iris_data = pd.read_csv(url, header=None, names=column_names)\n",
    "\n",
    "# Check the number of observations (rows) in the dataset\n",
    "num_observations = iris_data.shape[0]\n",
    "num_features = iris_data.shape[1]\n",
    "print(f'The Iris dataset contains {num_observations} observations and {num_features} features.')"
   ]
  },
  {
   "cell_type": "code",
   "execution_count": 14,
   "id": "5305918e-f1cc-426a-9f8d-5de8f3c634da",
   "metadata": {},
   "outputs": [
    {
     "data": {
      "text/html": [
       "<div>\n",
       "<style scoped>\n",
       "    .dataframe tbody tr th:only-of-type {\n",
       "        vertical-align: middle;\n",
       "    }\n",
       "\n",
       "    .dataframe tbody tr th {\n",
       "        vertical-align: top;\n",
       "    }\n",
       "\n",
       "    .dataframe thead th {\n",
       "        text-align: right;\n",
       "    }\n",
       "</style>\n",
       "<table border=\"1\" class=\"dataframe\">\n",
       "  <thead>\n",
       "    <tr style=\"text-align: right;\">\n",
       "      <th></th>\n",
       "      <th>sepal_length</th>\n",
       "      <th>sepal_width</th>\n",
       "      <th>petal_length</th>\n",
       "      <th>petal_width</th>\n",
       "      <th>species</th>\n",
       "    </tr>\n",
       "  </thead>\n",
       "  <tbody>\n",
       "    <tr>\n",
       "      <th>0</th>\n",
       "      <td>5.1</td>\n",
       "      <td>3.5</td>\n",
       "      <td>1.4</td>\n",
       "      <td>0.2</td>\n",
       "      <td>Iris-setosa</td>\n",
       "    </tr>\n",
       "    <tr>\n",
       "      <th>1</th>\n",
       "      <td>4.9</td>\n",
       "      <td>3.0</td>\n",
       "      <td>1.4</td>\n",
       "      <td>0.2</td>\n",
       "      <td>Iris-setosa</td>\n",
       "    </tr>\n",
       "    <tr>\n",
       "      <th>2</th>\n",
       "      <td>4.7</td>\n",
       "      <td>3.2</td>\n",
       "      <td>1.3</td>\n",
       "      <td>0.2</td>\n",
       "      <td>Iris-setosa</td>\n",
       "    </tr>\n",
       "    <tr>\n",
       "      <th>3</th>\n",
       "      <td>4.6</td>\n",
       "      <td>3.1</td>\n",
       "      <td>1.5</td>\n",
       "      <td>0.2</td>\n",
       "      <td>Iris-setosa</td>\n",
       "    </tr>\n",
       "    <tr>\n",
       "      <th>4</th>\n",
       "      <td>5.0</td>\n",
       "      <td>3.6</td>\n",
       "      <td>1.4</td>\n",
       "      <td>0.2</td>\n",
       "      <td>Iris-setosa</td>\n",
       "    </tr>\n",
       "    <tr>\n",
       "      <th>...</th>\n",
       "      <td>...</td>\n",
       "      <td>...</td>\n",
       "      <td>...</td>\n",
       "      <td>...</td>\n",
       "      <td>...</td>\n",
       "    </tr>\n",
       "    <tr>\n",
       "      <th>145</th>\n",
       "      <td>6.7</td>\n",
       "      <td>3.0</td>\n",
       "      <td>5.2</td>\n",
       "      <td>2.3</td>\n",
       "      <td>Iris-virginica</td>\n",
       "    </tr>\n",
       "    <tr>\n",
       "      <th>146</th>\n",
       "      <td>6.3</td>\n",
       "      <td>2.5</td>\n",
       "      <td>5.0</td>\n",
       "      <td>1.9</td>\n",
       "      <td>Iris-virginica</td>\n",
       "    </tr>\n",
       "    <tr>\n",
       "      <th>147</th>\n",
       "      <td>6.5</td>\n",
       "      <td>3.0</td>\n",
       "      <td>5.2</td>\n",
       "      <td>2.0</td>\n",
       "      <td>Iris-virginica</td>\n",
       "    </tr>\n",
       "    <tr>\n",
       "      <th>148</th>\n",
       "      <td>6.2</td>\n",
       "      <td>3.4</td>\n",
       "      <td>5.4</td>\n",
       "      <td>2.3</td>\n",
       "      <td>Iris-virginica</td>\n",
       "    </tr>\n",
       "    <tr>\n",
       "      <th>149</th>\n",
       "      <td>5.9</td>\n",
       "      <td>3.0</td>\n",
       "      <td>5.1</td>\n",
       "      <td>1.8</td>\n",
       "      <td>Iris-virginica</td>\n",
       "    </tr>\n",
       "  </tbody>\n",
       "</table>\n",
       "<p>150 rows × 5 columns</p>\n",
       "</div>"
      ],
      "text/plain": [
       "     sepal_length  sepal_width  petal_length  petal_width         species\n",
       "0             5.1          3.5           1.4          0.2     Iris-setosa\n",
       "1             4.9          3.0           1.4          0.2     Iris-setosa\n",
       "2             4.7          3.2           1.3          0.2     Iris-setosa\n",
       "3             4.6          3.1           1.5          0.2     Iris-setosa\n",
       "4             5.0          3.6           1.4          0.2     Iris-setosa\n",
       "..            ...          ...           ...          ...             ...\n",
       "145           6.7          3.0           5.2          2.3  Iris-virginica\n",
       "146           6.3          2.5           5.0          1.9  Iris-virginica\n",
       "147           6.5          3.0           5.2          2.0  Iris-virginica\n",
       "148           6.2          3.4           5.4          2.3  Iris-virginica\n",
       "149           5.9          3.0           5.1          1.8  Iris-virginica\n",
       "\n",
       "[150 rows x 5 columns]"
      ]
     },
     "execution_count": 14,
     "metadata": {},
     "output_type": "execute_result"
    }
   ],
   "source": [
    "iris_data"
   ]
  },
  {
   "cell_type": "markdown",
   "id": "5f837bc0-ab5d-4157-801a-9f3110bd7b8b",
   "metadata": {},
   "source": [
    "__Target Values__ <br/>\n",
    "The last column contains the different species of iris plant. How many species are there?"
   ]
  },
  {
   "cell_type": "code",
   "execution_count": 17,
   "id": "c7822034-4760-436a-b29f-5cdcefc3d0da",
   "metadata": {},
   "outputs": [
    {
     "data": {
      "text/plain": [
       "array(['Iris-setosa', 'Iris-versicolor', 'Iris-virginica'], dtype=object)"
      ]
     },
     "execution_count": 17,
     "metadata": {},
     "output_type": "execute_result"
    }
   ],
   "source": [
    "iris_data.species.unique()"
   ]
  },
  {
   "cell_type": "markdown",
   "id": "f2dfe471-5d6f-42ef-be77-4d46c6fe10e6",
   "metadata": {},
   "source": [
    "__Iris Data Insights__ <br/>\n",
    "Take all Iris flowers whose sepal length is between 4.5 and 10 (inclusive). What is the average petal length of these flowers (in cm)? Round your answer to two decimal places. Write your answer with a decimal point, for example \"4.5\"."
   ]
  },
  {
   "cell_type": "code",
   "execution_count": 18,
   "id": "ccb79083-ebea-44b9-a208-6975ff9c6407",
   "metadata": {},
   "outputs": [
    {
     "name": "stdout",
     "output_type": "stream",
     "text": [
      "The average petal length of Iris flowers with sepal length between 4.5 and 10 cm is: 3.83\n"
     ]
    }
   ],
   "source": [
    "# Filter rows where sepal length is between 4.5 and 10 inclusive\n",
    "filtered_df = iris_data[(iris_data['sepal_length'] >= 4.5) & (iris_data['sepal_length'] <= 10)]\n",
    "\n",
    "# Calculate the average petal length\n",
    "average_petal_length = filtered_df['petal_length'].mean()\n",
    "\n",
    "# Round the result to two decimal places\n",
    "average_petal_length_rounded = round(average_petal_length, 2)\n",
    "\n",
    "print(f'The average petal length of Iris flowers with sepal length between 4.5 and 10 cm is: {average_petal_length_rounded}')"
   ]
  },
  {
   "cell_type": "markdown",
   "id": "9dca20bc-4412-496d-a885-59e7b6f5aaef",
   "metadata": {},
   "source": [
    "__Wine Quality__ <br/>\n",
    "The dataset here: http://archive.ics.uci.edu/ml/datasets/Wine+Quality contains information about different red and white wines. Read the two files into Python. Which kinds of wine seem to be preferred (i.e. have greater average quality)? Write \"red\" or \"white\" in the textbox."
   ]
  },
  {
   "cell_type": "code",
   "execution_count": 3,
   "id": "f08a0766-4548-490a-9590-3f93cb6c96c2",
   "metadata": {},
   "outputs": [
    {
     "name": "stdout",
     "output_type": "stream",
     "text": [
      "{'uci_id': 186, 'name': 'Wine Quality', 'repository_url': 'https://archive.ics.uci.edu/dataset/186/wine+quality', 'data_url': 'https://archive.ics.uci.edu/static/public/186/data.csv', 'abstract': 'Two datasets are included, related to red and white vinho verde wine samples, from the north of Portugal. The goal is to model wine quality based on physicochemical tests (see [Cortez et al., 2009], http://www3.dsi.uminho.pt/pcortez/wine/).', 'area': 'Business', 'tasks': ['Classification', 'Regression'], 'characteristics': ['Multivariate'], 'num_instances': 4898, 'num_features': 11, 'feature_types': ['Real'], 'demographics': [], 'target_col': ['quality'], 'index_col': None, 'has_missing_values': 'no', 'missing_values_symbol': None, 'year_of_dataset_creation': 2009, 'last_updated': 'Wed Nov 15 2023', 'dataset_doi': '10.24432/C56S3T', 'creators': ['Paulo Cortez', 'A. Cerdeira', 'F. Almeida', 'T. Matos', 'J. Reis'], 'intro_paper': {'title': 'Modeling wine preferences by data mining from physicochemical properties', 'authors': 'P. Cortez, A. Cerdeira, Fernando Almeida, Telmo Matos, J. Reis', 'published_in': 'Decision Support Systems', 'year': 2009, 'url': 'https://www.semanticscholar.org/paper/Modeling-wine-preferences-by-data-mining-from-Cortez-Cerdeira/bf15a0ccc14ac1deb5cea570c870389c16be019c', 'doi': None}, 'additional_info': {'summary': 'The two datasets are related to red and white variants of the Portuguese \"Vinho Verde\" wine. For more details, consult: http://www.vinhoverde.pt/en/ or the reference [Cortez et al., 2009].  Due to privacy and logistic issues, only physicochemical (inputs) and sensory (the output) variables are available (e.g. there is no data about grape types, wine brand, wine selling price, etc.).\\n\\nThese datasets can be viewed as classification or regression tasks.  The classes are ordered and not balanced (e.g. there are many more normal wines than excellent or poor ones). Outlier detection algorithms could be used to detect the few excellent or poor wines. Also, we are not sure if all input variables are relevant. So it could be interesting to test feature selection methods.\\n', 'purpose': None, 'funded_by': None, 'instances_represent': None, 'recommended_data_splits': None, 'sensitive_data': None, 'preprocessing_description': None, 'variable_info': 'For more information, read [Cortez et al., 2009].\\r\\nInput variables (based on physicochemical tests):\\r\\n   1 - fixed acidity\\r\\n   2 - volatile acidity\\r\\n   3 - citric acid\\r\\n   4 - residual sugar\\r\\n   5 - chlorides\\r\\n   6 - free sulfur dioxide\\r\\n   7 - total sulfur dioxide\\r\\n   8 - density\\r\\n   9 - pH\\r\\n   10 - sulphates\\r\\n   11 - alcohol\\r\\nOutput variable (based on sensory data): \\r\\n   12 - quality (score between 0 and 10)', 'citation': None}}\n",
      "                    name     role         type demographic  \\\n",
      "0          fixed_acidity  Feature   Continuous        None   \n",
      "1       volatile_acidity  Feature   Continuous        None   \n",
      "2            citric_acid  Feature   Continuous        None   \n",
      "3         residual_sugar  Feature   Continuous        None   \n",
      "4              chlorides  Feature   Continuous        None   \n",
      "5    free_sulfur_dioxide  Feature   Continuous        None   \n",
      "6   total_sulfur_dioxide  Feature   Continuous        None   \n",
      "7                density  Feature   Continuous        None   \n",
      "8                     pH  Feature   Continuous        None   \n",
      "9              sulphates  Feature   Continuous        None   \n",
      "10               alcohol  Feature   Continuous        None   \n",
      "11               quality   Target      Integer        None   \n",
      "12                 color    Other  Categorical        None   \n",
      "\n",
      "               description units missing_values  \n",
      "0                     None  None             no  \n",
      "1                     None  None             no  \n",
      "2                     None  None             no  \n",
      "3                     None  None             no  \n",
      "4                     None  None             no  \n",
      "5                     None  None             no  \n",
      "6                     None  None             no  \n",
      "7                     None  None             no  \n",
      "8                     None  None             no  \n",
      "9                     None  None             no  \n",
      "10                    None  None             no  \n",
      "11  score between 0 and 10  None             no  \n",
      "12            red or white  None             no  \n"
     ]
    }
   ],
   "source": [
    "# !pip install ucimlrepo\n",
    "\n",
    "from ucimlrepo import fetch_ucirepo \n",
    "  \n",
    "# fetch dataset \n",
    "wine_quality = fetch_ucirepo(id=186) \n",
    "  \n",
    "# data (as pandas dataframes) \n",
    "X = wine_quality.data.features \n",
    "y = wine_quality.data.targets \n",
    "  \n",
    "# metadata \n",
    "print(wine_quality.metadata) \n",
    "  \n",
    "# variable information \n",
    "print(wine_quality.variables) "
   ]
  },
  {
   "cell_type": "code",
   "execution_count": 12,
   "id": "26cf48b7-ad96-4702-9810-a1d08a23b41e",
   "metadata": {},
   "outputs": [
    {
     "name": "stdout",
     "output_type": "stream",
     "text": [
      "   fixed_acidity  volatile_acidity  citric_acid  residual_sugar  chlorides  \\\n",
      "0            7.4              0.70         0.00             1.9      0.076   \n",
      "1            7.8              0.88         0.00             2.6      0.098   \n",
      "2            7.8              0.76         0.04             2.3      0.092   \n",
      "3           11.2              0.28         0.56             1.9      0.075   \n",
      "4            7.4              0.70         0.00             1.9      0.076   \n",
      "\n",
      "   free_sulfur_dioxide  total_sulfur_dioxide  density    pH  sulphates  \\\n",
      "0                 11.0                  34.0   0.9978  3.51       0.56   \n",
      "1                 25.0                  67.0   0.9968  3.20       0.68   \n",
      "2                 15.0                  54.0   0.9970  3.26       0.65   \n",
      "3                 17.0                  60.0   0.9980  3.16       0.58   \n",
      "4                 11.0                  34.0   0.9978  3.51       0.56   \n",
      "\n",
      "   alcohol  quality color  \n",
      "0      9.4        5   red  \n",
      "1      9.8        5   red  \n",
      "2      9.8        5   red  \n",
      "3      9.8        6   red  \n",
      "4      9.4        5   red  \n",
      "The type of wine that seems to be preferred (i.e., has greater average quality) is: white\n"
     ]
    }
   ],
   "source": [
    "# Create a DataFrame from the features and targets\n",
    "data = pd.concat([wine_quality.data.features, wine_quality.data.targets], axis=1)\n",
    "\n",
    "# Add the 'color' column manually as it seems to be missing in the combined features and targets\n",
    "data['color'] = ['red'] * 1599 + ['white'] * 4898  # Adjust as per the real split if necessary\n",
    "\n",
    "# Ensure 'color' column is included\n",
    "print(data.head())\n",
    "\n",
    "# Separate red and white wines\n",
    "red_wine_df = data[data['color'] == 'red']\n",
    "white_wine_df = data[data['color'] == 'white']\n",
    "\n",
    "# Calculate average quality for red and white wines\n",
    "average_red_quality = red_wine_df['quality'].mean()\n",
    "average_white_quality = white_wine_df['quality'].mean()\n",
    "\n",
    "# Compare the average qualities\n",
    "if average_red_quality > average_white_quality:\n",
    "    preferred_wine = \"red\"\n",
    "else:\n",
    "    preferred_wine = \"white\"\n",
    "\n",
    "print(f'The type of wine that seems to be preferred (i.e., has greater average quality) is: {preferred_wine}')\n"
   ]
  },
  {
   "cell_type": "markdown",
   "id": "82b3be6a-c5a4-49f4-88ae-e1af3b397ed7",
   "metadata": {},
   "source": [
    "__Quality and Alcohol Content, Part 1__ <br/>\n",
    "Does higher alcohol content mean better quality? We can't say directly, but we might explore the data. What is the correlation of alcohol content to quality for red wines? Round your answer to two decimal places."
   ]
  },
  {
   "cell_type": "code",
   "execution_count": 10,
   "id": "133f2f94-49c7-4e30-9504-81d6d34fd3f0",
   "metadata": {},
   "outputs": [
    {
     "name": "stdout",
     "output_type": "stream",
     "text": [
      "Correlation between alcohol content and quality for red wines: 0.48\n"
     ]
    }
   ],
   "source": [
    "# Assuming you have already loaded the dataset as `data`\n",
    "# Filter the data for red wines\n",
    "red_wine_df = data[data['color'] == 'red']\n",
    "\n",
    "# Calculate the correlation between alcohol content and quality\n",
    "correlation = red_wine_df['alcohol'].corr(red_wine_df['quality'])\n",
    "\n",
    "# Print the correlation rounded to two decimal places\n",
    "print(f'Correlation between alcohol content and quality for red wines: {correlation:.2f}')\n"
   ]
  },
  {
   "cell_type": "markdown",
   "id": "cca5fb0e-a86a-4359-ace5-e02ca26ffd0f",
   "metadata": {},
   "source": [
    "__Quality and Alcohol Content, Part 2__ <br/>\n",
    "What is the correlation of alcohol content to quality for white wines? Round your answer to two decimal places."
   ]
  },
  {
   "cell_type": "code",
   "execution_count": 11,
   "id": "4ec3b71f-2e49-45c6-943a-4840ba7171b2",
   "metadata": {},
   "outputs": [
    {
     "name": "stdout",
     "output_type": "stream",
     "text": [
      "Correlation between alcohol content and quality for white wines: 0.44\n"
     ]
    }
   ],
   "source": [
    "# Assuming you have already loaded the dataset as `data`\n",
    "# Filter the data for white wines\n",
    "white_wine_df = data[data['color'] == 'white']\n",
    "\n",
    "# Calculate the correlation between alcohol content and quality\n",
    "correlation_white = white_wine_df['alcohol'].corr(white_wine_df['quality'])\n",
    "\n",
    "# Print the correlation rounded to two decimal places\n",
    "print(f'Correlation between alcohol content and quality for white wines: {correlation_white:.2f}')"
   ]
  }
 ],
 "metadata": {
  "kernelspec": {
   "display_name": "Python 3 (ipykernel)",
   "language": "python",
   "name": "python3"
  },
  "language_info": {
   "codemirror_mode": {
    "name": "ipython",
    "version": 3
   },
   "file_extension": ".py",
   "mimetype": "text/x-python",
   "name": "python",
   "nbconvert_exporter": "python",
   "pygments_lexer": "ipython3",
   "version": "3.9.12"
  }
 },
 "nbformat": 4,
 "nbformat_minor": 5
}
