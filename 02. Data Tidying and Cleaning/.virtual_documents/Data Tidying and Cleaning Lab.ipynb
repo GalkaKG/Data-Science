%matplotlib inline


import numpy as np
import pandas as pd
import matplotlib.pyplot as plt











coffee_data = pd.read_csv("data/merged_data_cleaned.csv")


coffee_data





coffee_data.shape





coffee_data.dtypes





numerical_features = coffee_data.select_dtypes(include=['number']).columns.tolist()
numerical_features





len(numerical_features)





categorical_features = coffee_data.select_dtypes(include=['object']).columns.tolist()
categorical_features






















































