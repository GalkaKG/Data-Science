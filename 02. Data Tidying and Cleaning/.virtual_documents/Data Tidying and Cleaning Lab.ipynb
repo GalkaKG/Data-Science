%matplotlib inline


import numpy as np
import pandas as pd
import matplotlib.pyplot as plt











coffee_data = pd.read_csv("data/merged_data_cleaned.csv")


coffee_data





coffee_data.shape





coffee_data.dtypes





numerical_features = coffee_data.select_dtypes(include=['number']).columns.tolist()
numerical_features





len(numerical_features)





categorical_features = coffee_data.select_dtypes(include=['object']).columns.tolist()
categorical_features


coffee_data["Bag.Weight"].unique()











coffee_data.columns





def convert_to_snake_case(column_name):
    column_name = column_name.strip().replace(" ", "_").lower()
    column_name = column_name.strip().replace(".", "_").lower()
    column_name = column_name.strip().replace(":", "").lower()
    return column_name

new_column_names = [convert_to_snake_case(col) for col in coffee_data.columns]

coffee_data.columns = new_column_names

coffee_data.columns








coffee_data["bag_weight"].unique()





for idx, col in enumerate(coffee_data["bag_weight"]):
    elements = col.split()
    num = elements[0]
    
    if len(elements) < 2:
        elements.append('kg')  
    
    if len(elements) >= 2:
        kg = elements[1]
        if kg == 'lbs':
            converted_weight = lbs_to_kg(num)
            elements[0] = f"{converted_weight:.2f}"  
            elements[1] = 'kg'

        coffee_data.at[idx, 'bag_weight'] = " ".join(elements)





coffee_data.bag_weight.unique()










































