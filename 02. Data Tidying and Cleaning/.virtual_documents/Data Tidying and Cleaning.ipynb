%matplotlib inline


import numpy as np
import pandas as pd
import matplotlib.pyplot as plt








coffee_data = pd.read_csv("merged_data_cleaned.csv")


cofee_data





coffee_data.columns


coffee_data.dtypes





coffee_data["Altitude"]





coffee_data["Altitude"].unique()





plt.hist(coffee_data.Flavor, bins = 20)
plt.xlim(0, 10)
plt.xticks(range(11))
plt.show()





cofee_data.Region.unique()


coffee_data.Region.value_counts()








pew = pd.read_csv("pew.csv")


pew





pew.melt(id_vars = ["religion"], var_name= "income", value_name = "frequency")





pew





pew_tidy = pew.melt(id_vars = ["religion"], var_name= "income", value_name = "frequency")





pew.columns, pew_tidy.columns


pew_tidy.dtypes





pew_tidy.religion = pew_tidy.religion.astype("category")
pew_tidy.income = pew_tidy.income.astype("category")





pew_tidy.dtypes


pew_tidy.religion.unique()





pew_tidy.religion.value_counts()





pew_tidy.memory_usage()








tb = pd.read_csv("tb.csv")


tb





np.inf / 5





np.inf / np.inf





np.inf / 0


0 / np.inf


0 / 0








tb.shape


tb.dtypes





tb[(tb.year == 1989) & (tb.iso2 == "AD")].values





tb.describe().T






