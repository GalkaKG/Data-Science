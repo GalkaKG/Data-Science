%matplotlib inline


import numpy as np
import pandas as pd
import matplotlib as plt





pew = pd.read_csv("pew.csv")


pew
