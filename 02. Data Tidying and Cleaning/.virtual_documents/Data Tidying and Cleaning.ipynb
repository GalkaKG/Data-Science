%matplotlib inline


import numpy as np
import pandas as pd
import matplotlib.pyplot as plt








coffee_data = pd.read_csv("merged_data_cleaned.csv")


coffee_data





coffee_data.columns


coffee_data.dtypes





coffee_data["Altitude"]





coffee_data["Altitude"].unique()





plt.hist(coffee_data.Flavor, bins = 20)
plt.xlim(0, 10)
plt.xticks(range(11))
plt.show()





coffee_data.Region.unique()


coffee_data.Region.value_counts()








pew = pd.read_csv("pew.csv")


pew





pew.melt(id_vars = ["religion"], var_name= "income", value_name = "frequency")





pew





pew_tidy = pew.melt(id_vars = ["religion"], var_name= "income", value_name = "frequency")





pew.columns, pew_tidy.columns


pew_tidy.dtypes





pew_tidy.religion = pew_tidy.religion.astype("category")
pew_tidy.income = pew_tidy.income.astype("category")





pew_tidy.dtypes


pew_tidy.religion.unique()





pew_tidy.religion.value_counts()





pew_tidy.memory_usage()








tb = pd.read_csv("tb.csv")


tb





np.inf / 5





np.inf / np.inf





np.inf / 0


0 / np.inf


0 / 0








tb.shape


tb.dtypes





tb[(tb.year == 1989) & (tb.iso2 == "AD")].values





tb.describe().T





tb_tidy = tb.melt(id_vars = ["iso2", "year"], var_name = "sex_and_age", value_name = "cases")


tb_tidy.head()





tb_tidy.sex_and_age.str


tb_tidy.sex_and_age.str.slice(0, 1)





tb_tidy.sex_and_age.str.slice(0, 1).unique()


tb_tidy.sex_and_age.str.slice(1).unique()





tb_tidy["gender"] = tb_tidy.sex_and_age.str.slice(0, 1)


tb_tidy["age_group"] = tb_tidy.sex_and_age.str.slice(1)


tb_tidy





tb_tidy = tb_tidy.drop(columns = ["sex_and_age"])


tb_tidy


tb_tidy.describe().T





tb_tidy_no_missing = tb_tidy.dropna()


tb_tidy_no_missing





tb_tidy_no_missing.cases.mean()


tb_tidy_no_missing[tb_tidy_no_missing.iso2 == "BG"].cases.mean()





tb_tidy_no_missing.age_group.str.len().value_counts()


tb_tidy_no_missing.age_group.str.slice(0, 2)





tb_tidy_no_missing.age_group.apply(lambda x: x)


def process_age_group(age_group):
    ages = {"04": "0-4", "65": "65+", "u": "unknown"}
    if age_group in ages:
        return ages[age_group]
    # Put a dash before the last two digits
    return f"{age_group[:-2]}-{age_group[-2:]}"


tb_tidy_no_missing.age_group = tb_tidy_no_misssing.age_group.apply(process_age_group)


tb_tidy_no_missing.age_group


tb_tidy_no_missing.age_group.unique()


tb_tidy_no_missing.age_group.str.split("-")
# tb_tidy_no_misssing.age_group.str.split("-", expand = True)  в нова колона


tb_tidy_no_missing.gender = tb_tidy_no_missing.gender.astype("category")
tb_tidy_no_missing.age_group = tb_tidy_no_missing.age_group.astype("category")


tb_tidy_no_missing





tb_tidy_no_missing[["iso2", "year", "gender", "age_group", "cases"]]





tb_tidy_no_missing.sort_values("iso2")





tb_tidy_no_missing = tb_tidy_no_misssing.sort_values(["iso2", "year"])


tb_tidy_no_missing = tb_tidy_no_misssing.reset_index(drop = True)


tb_tidy_no_missing


# tb_tidy_no_misssing = tb_tidy_no_misssing.cases.astype(int)
tb_tidy_no_missing.to_csv("tb_tidy.csv", index = None)


weather_data = pd.read_csv("weather.csv")


weather_data


weather_data.loc[2, "d31"] = 23


weather_data_tidy = weather_data.melt(id_vars = ["id", "year", "month", "element"], var_name = "day", value_name = "value")


weather_data_tidy.columns


weather_data_tidy.day.unique()





weather_data_tidy = weather_data_tidy.day.str.slice(1)


weather_data_tidy





weather_data_tidy = weather_data_tidy.dropna()





if isinstance(weather_data_tidy, pd.Series):
    weather_data_tidy = weather_data_tidy.to_frame()





weather_data_tidy.pivot_table(index = ["id", "year", "month"], columns = "element", values = "value")
