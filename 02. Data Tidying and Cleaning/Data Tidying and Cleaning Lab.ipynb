{
 "cells": [
  {
   "cell_type": "code",
   "execution_count": 1,
   "id": "35985d1b-4ba0-4648-99d0-4989c19dfb30",
   "metadata": {},
   "outputs": [],
   "source": [
    "%matplotlib inline"
   ]
  },
  {
   "cell_type": "code",
   "execution_count": 2,
   "id": "078d90d4-aec6-40fe-997f-ce63c962d936",
   "metadata": {},
   "outputs": [],
   "source": [
    "import numpy as np\n",
    "import pandas as pd\n",
    "import matplotlib.pyplot as plt\n",
    "import seaborn as sns"
   ]
  },
  {
   "cell_type": "markdown",
   "id": "02aa71be-5d01-4efc-85fa-a019fe92a39a",
   "metadata": {},
   "source": [
    "# Data Tidying and Cleaning Lab\n",
    "## Reading, tidying and cleaning data. Preparing data for exploration, mining, analysis and learning"
   ]
  },
  {
   "cell_type": "markdown",
   "id": "259927d3-4ad5-471e-b34b-114f07127a39",
   "metadata": {},
   "source": [
    "In this lab, you'll be working with the Coffee Quality Index dataset, located [here](https://www.kaggle.com/datasets/volpatto/coffee-quality-database-from-cqi). For convenience (and to save trouble in case you can't download files, or someone uploads a newer version), I've provided the dataset in the `data/` folder. The metadata (description) is at the Kaggle link. For this lab, you'll only need `merged_data_cleaned.csv`, as it is the concatenation of the other two datasets.\n",
    "\n",
    "In this (and the following labs), you'll get several questions and problems. Do your analysis, describe it, use any tools and plots you wish, and answer. You can create any amount of cells you'd like.\n",
    "\n",
    "Sometimes, the answers will not be unique, and they will depend on how you decide to approach and solve the problem. This is usual - we're doing science after all!\n",
    "\n",
    "It's a good idea to save your clean dataset after all the work you've done to it."
   ]
  },
  {
   "cell_type": "markdown",
   "id": "4450ac8e-523c-46f8-a410-9ad5af4cfc14",
   "metadata": {},
   "source": [
    "### Problem 1. Read the dataset (1 point)\n",
    "This should be self-explanatory. The first column is the index."
   ]
  },
  {
   "cell_type": "code",
   "execution_count": 3,
   "id": "df50bd71-ea2a-4db9-814d-c49f782ca101",
   "metadata": {},
   "outputs": [],
   "source": [
    "coffee_data = pd.read_csv(\"data/merged_data_cleaned.csv\")"
   ]
  },
  {
   "cell_type": "code",
   "execution_count": 4,
   "id": "aff8118c-0729-427a-a54c-8157649a94c3",
   "metadata": {},
   "outputs": [
    {
     "data": {
      "text/html": [
       "<div>\n",
       "<style scoped>\n",
       "    .dataframe tbody tr th:only-of-type {\n",
       "        vertical-align: middle;\n",
       "    }\n",
       "\n",
       "    .dataframe tbody tr th {\n",
       "        vertical-align: top;\n",
       "    }\n",
       "\n",
       "    .dataframe thead th {\n",
       "        text-align: right;\n",
       "    }\n",
       "</style>\n",
       "<table border=\"1\" class=\"dataframe\">\n",
       "  <thead>\n",
       "    <tr style=\"text-align: right;\">\n",
       "      <th></th>\n",
       "      <th>Unnamed: 0</th>\n",
       "      <th>Species</th>\n",
       "      <th>Owner</th>\n",
       "      <th>Country.of.Origin</th>\n",
       "      <th>Farm.Name</th>\n",
       "      <th>Lot.Number</th>\n",
       "      <th>Mill</th>\n",
       "      <th>ICO.Number</th>\n",
       "      <th>Company</th>\n",
       "      <th>Altitude</th>\n",
       "      <th>...</th>\n",
       "      <th>Color</th>\n",
       "      <th>Category.Two.Defects</th>\n",
       "      <th>Expiration</th>\n",
       "      <th>Certification.Body</th>\n",
       "      <th>Certification.Address</th>\n",
       "      <th>Certification.Contact</th>\n",
       "      <th>unit_of_measurement</th>\n",
       "      <th>altitude_low_meters</th>\n",
       "      <th>altitude_high_meters</th>\n",
       "      <th>altitude_mean_meters</th>\n",
       "    </tr>\n",
       "  </thead>\n",
       "  <tbody>\n",
       "    <tr>\n",
       "      <th>0</th>\n",
       "      <td>0</td>\n",
       "      <td>Arabica</td>\n",
       "      <td>metad plc</td>\n",
       "      <td>Ethiopia</td>\n",
       "      <td>metad plc</td>\n",
       "      <td>NaN</td>\n",
       "      <td>metad plc</td>\n",
       "      <td>2014/2015</td>\n",
       "      <td>metad agricultural developmet plc</td>\n",
       "      <td>1950-2200</td>\n",
       "      <td>...</td>\n",
       "      <td>Green</td>\n",
       "      <td>0</td>\n",
       "      <td>April 3rd, 2016</td>\n",
       "      <td>METAD Agricultural Development plc</td>\n",
       "      <td>309fcf77415a3661ae83e027f7e5f05dad786e44</td>\n",
       "      <td>19fef5a731de2db57d16da10287413f5f99bc2dd</td>\n",
       "      <td>m</td>\n",
       "      <td>1950.0</td>\n",
       "      <td>2200.0</td>\n",
       "      <td>2075.0</td>\n",
       "    </tr>\n",
       "    <tr>\n",
       "      <th>1</th>\n",
       "      <td>1</td>\n",
       "      <td>Arabica</td>\n",
       "      <td>metad plc</td>\n",
       "      <td>Ethiopia</td>\n",
       "      <td>metad plc</td>\n",
       "      <td>NaN</td>\n",
       "      <td>metad plc</td>\n",
       "      <td>2014/2015</td>\n",
       "      <td>metad agricultural developmet plc</td>\n",
       "      <td>1950-2200</td>\n",
       "      <td>...</td>\n",
       "      <td>Green</td>\n",
       "      <td>1</td>\n",
       "      <td>April 3rd, 2016</td>\n",
       "      <td>METAD Agricultural Development plc</td>\n",
       "      <td>309fcf77415a3661ae83e027f7e5f05dad786e44</td>\n",
       "      <td>19fef5a731de2db57d16da10287413f5f99bc2dd</td>\n",
       "      <td>m</td>\n",
       "      <td>1950.0</td>\n",
       "      <td>2200.0</td>\n",
       "      <td>2075.0</td>\n",
       "    </tr>\n",
       "    <tr>\n",
       "      <th>2</th>\n",
       "      <td>2</td>\n",
       "      <td>Arabica</td>\n",
       "      <td>grounds for health admin</td>\n",
       "      <td>Guatemala</td>\n",
       "      <td>san marcos barrancas \"san cristobal cuch</td>\n",
       "      <td>NaN</td>\n",
       "      <td>NaN</td>\n",
       "      <td>NaN</td>\n",
       "      <td>NaN</td>\n",
       "      <td>1600 - 1800 m</td>\n",
       "      <td>...</td>\n",
       "      <td>NaN</td>\n",
       "      <td>0</td>\n",
       "      <td>May 31st, 2011</td>\n",
       "      <td>Specialty Coffee Association</td>\n",
       "      <td>36d0d00a3724338ba7937c52a378d085f2172daa</td>\n",
       "      <td>0878a7d4b9d35ddbf0fe2ce69a2062cceb45a660</td>\n",
       "      <td>m</td>\n",
       "      <td>1600.0</td>\n",
       "      <td>1800.0</td>\n",
       "      <td>1700.0</td>\n",
       "    </tr>\n",
       "    <tr>\n",
       "      <th>3</th>\n",
       "      <td>3</td>\n",
       "      <td>Arabica</td>\n",
       "      <td>yidnekachew dabessa</td>\n",
       "      <td>Ethiopia</td>\n",
       "      <td>yidnekachew dabessa coffee plantation</td>\n",
       "      <td>NaN</td>\n",
       "      <td>wolensu</td>\n",
       "      <td>NaN</td>\n",
       "      <td>yidnekachew debessa coffee plantation</td>\n",
       "      <td>1800-2200</td>\n",
       "      <td>...</td>\n",
       "      <td>Green</td>\n",
       "      <td>2</td>\n",
       "      <td>March 25th, 2016</td>\n",
       "      <td>METAD Agricultural Development plc</td>\n",
       "      <td>309fcf77415a3661ae83e027f7e5f05dad786e44</td>\n",
       "      <td>19fef5a731de2db57d16da10287413f5f99bc2dd</td>\n",
       "      <td>m</td>\n",
       "      <td>1800.0</td>\n",
       "      <td>2200.0</td>\n",
       "      <td>2000.0</td>\n",
       "    </tr>\n",
       "    <tr>\n",
       "      <th>4</th>\n",
       "      <td>4</td>\n",
       "      <td>Arabica</td>\n",
       "      <td>metad plc</td>\n",
       "      <td>Ethiopia</td>\n",
       "      <td>metad plc</td>\n",
       "      <td>NaN</td>\n",
       "      <td>metad plc</td>\n",
       "      <td>2014/2015</td>\n",
       "      <td>metad agricultural developmet plc</td>\n",
       "      <td>1950-2200</td>\n",
       "      <td>...</td>\n",
       "      <td>Green</td>\n",
       "      <td>2</td>\n",
       "      <td>April 3rd, 2016</td>\n",
       "      <td>METAD Agricultural Development plc</td>\n",
       "      <td>309fcf77415a3661ae83e027f7e5f05dad786e44</td>\n",
       "      <td>19fef5a731de2db57d16da10287413f5f99bc2dd</td>\n",
       "      <td>m</td>\n",
       "      <td>1950.0</td>\n",
       "      <td>2200.0</td>\n",
       "      <td>2075.0</td>\n",
       "    </tr>\n",
       "    <tr>\n",
       "      <th>...</th>\n",
       "      <td>...</td>\n",
       "      <td>...</td>\n",
       "      <td>...</td>\n",
       "      <td>...</td>\n",
       "      <td>...</td>\n",
       "      <td>...</td>\n",
       "      <td>...</td>\n",
       "      <td>...</td>\n",
       "      <td>...</td>\n",
       "      <td>...</td>\n",
       "      <td>...</td>\n",
       "      <td>...</td>\n",
       "      <td>...</td>\n",
       "      <td>...</td>\n",
       "      <td>...</td>\n",
       "      <td>...</td>\n",
       "      <td>...</td>\n",
       "      <td>...</td>\n",
       "      <td>...</td>\n",
       "      <td>...</td>\n",
       "      <td>...</td>\n",
       "    </tr>\n",
       "    <tr>\n",
       "      <th>1334</th>\n",
       "      <td>1334</td>\n",
       "      <td>Robusta</td>\n",
       "      <td>luis robles</td>\n",
       "      <td>Ecuador</td>\n",
       "      <td>robustasa</td>\n",
       "      <td>Lavado 1</td>\n",
       "      <td>our own lab</td>\n",
       "      <td>NaN</td>\n",
       "      <td>robustasa</td>\n",
       "      <td>NaN</td>\n",
       "      <td>...</td>\n",
       "      <td>Blue-Green</td>\n",
       "      <td>1</td>\n",
       "      <td>January 18th, 2017</td>\n",
       "      <td>Specialty Coffee Association</td>\n",
       "      <td>ff7c18ad303d4b603ac3f8cff7e611ffc735e720</td>\n",
       "      <td>352d0cf7f3e9be14dad7df644ad65efc27605ae2</td>\n",
       "      <td>m</td>\n",
       "      <td>NaN</td>\n",
       "      <td>NaN</td>\n",
       "      <td>NaN</td>\n",
       "    </tr>\n",
       "    <tr>\n",
       "      <th>1335</th>\n",
       "      <td>1335</td>\n",
       "      <td>Robusta</td>\n",
       "      <td>luis robles</td>\n",
       "      <td>Ecuador</td>\n",
       "      <td>robustasa</td>\n",
       "      <td>Lavado 3</td>\n",
       "      <td>own laboratory</td>\n",
       "      <td>NaN</td>\n",
       "      <td>robustasa</td>\n",
       "      <td>40</td>\n",
       "      <td>...</td>\n",
       "      <td>Blue-Green</td>\n",
       "      <td>0</td>\n",
       "      <td>January 18th, 2017</td>\n",
       "      <td>Specialty Coffee Association</td>\n",
       "      <td>ff7c18ad303d4b603ac3f8cff7e611ffc735e720</td>\n",
       "      <td>352d0cf7f3e9be14dad7df644ad65efc27605ae2</td>\n",
       "      <td>m</td>\n",
       "      <td>40.0</td>\n",
       "      <td>40.0</td>\n",
       "      <td>40.0</td>\n",
       "    </tr>\n",
       "    <tr>\n",
       "      <th>1336</th>\n",
       "      <td>1336</td>\n",
       "      <td>Robusta</td>\n",
       "      <td>james moore</td>\n",
       "      <td>United States</td>\n",
       "      <td>fazenda cazengo</td>\n",
       "      <td>NaN</td>\n",
       "      <td>cafe cazengo</td>\n",
       "      <td>NaN</td>\n",
       "      <td>global opportunity fund</td>\n",
       "      <td>795 meters</td>\n",
       "      <td>...</td>\n",
       "      <td>NaN</td>\n",
       "      <td>6</td>\n",
       "      <td>December 23rd, 2015</td>\n",
       "      <td>Specialty Coffee Association</td>\n",
       "      <td>ff7c18ad303d4b603ac3f8cff7e611ffc735e720</td>\n",
       "      <td>352d0cf7f3e9be14dad7df644ad65efc27605ae2</td>\n",
       "      <td>m</td>\n",
       "      <td>795.0</td>\n",
       "      <td>795.0</td>\n",
       "      <td>795.0</td>\n",
       "    </tr>\n",
       "    <tr>\n",
       "      <th>1337</th>\n",
       "      <td>1337</td>\n",
       "      <td>Robusta</td>\n",
       "      <td>cafe politico</td>\n",
       "      <td>India</td>\n",
       "      <td>NaN</td>\n",
       "      <td>NaN</td>\n",
       "      <td>NaN</td>\n",
       "      <td>14-1118-2014-0087</td>\n",
       "      <td>cafe politico</td>\n",
       "      <td>NaN</td>\n",
       "      <td>...</td>\n",
       "      <td>Green</td>\n",
       "      <td>1</td>\n",
       "      <td>August 25th, 2015</td>\n",
       "      <td>Specialty Coffee Association</td>\n",
       "      <td>ff7c18ad303d4b603ac3f8cff7e611ffc735e720</td>\n",
       "      <td>352d0cf7f3e9be14dad7df644ad65efc27605ae2</td>\n",
       "      <td>m</td>\n",
       "      <td>NaN</td>\n",
       "      <td>NaN</td>\n",
       "      <td>NaN</td>\n",
       "    </tr>\n",
       "    <tr>\n",
       "      <th>1338</th>\n",
       "      <td>1338</td>\n",
       "      <td>Robusta</td>\n",
       "      <td>cafe politico</td>\n",
       "      <td>Vietnam</td>\n",
       "      <td>NaN</td>\n",
       "      <td>NaN</td>\n",
       "      <td>NaN</td>\n",
       "      <td>NaN</td>\n",
       "      <td>cafe politico</td>\n",
       "      <td>NaN</td>\n",
       "      <td>...</td>\n",
       "      <td>None</td>\n",
       "      <td>9</td>\n",
       "      <td>August 25th, 2015</td>\n",
       "      <td>Specialty Coffee Association</td>\n",
       "      <td>ff7c18ad303d4b603ac3f8cff7e611ffc735e720</td>\n",
       "      <td>352d0cf7f3e9be14dad7df644ad65efc27605ae2</td>\n",
       "      <td>m</td>\n",
       "      <td>NaN</td>\n",
       "      <td>NaN</td>\n",
       "      <td>NaN</td>\n",
       "    </tr>\n",
       "  </tbody>\n",
       "</table>\n",
       "<p>1339 rows × 44 columns</p>\n",
       "</div>"
      ],
      "text/plain": [
       "      Unnamed: 0  Species                     Owner Country.of.Origin  \\\n",
       "0              0  Arabica                 metad plc          Ethiopia   \n",
       "1              1  Arabica                 metad plc          Ethiopia   \n",
       "2              2  Arabica  grounds for health admin         Guatemala   \n",
       "3              3  Arabica       yidnekachew dabessa          Ethiopia   \n",
       "4              4  Arabica                 metad plc          Ethiopia   \n",
       "...          ...      ...                       ...               ...   \n",
       "1334        1334  Robusta               luis robles           Ecuador   \n",
       "1335        1335  Robusta               luis robles           Ecuador   \n",
       "1336        1336  Robusta               james moore     United States   \n",
       "1337        1337  Robusta             cafe politico             India   \n",
       "1338        1338  Robusta             cafe politico           Vietnam   \n",
       "\n",
       "                                     Farm.Name Lot.Number            Mill  \\\n",
       "0                                    metad plc        NaN       metad plc   \n",
       "1                                    metad plc        NaN       metad plc   \n",
       "2     san marcos barrancas \"san cristobal cuch        NaN             NaN   \n",
       "3        yidnekachew dabessa coffee plantation        NaN         wolensu   \n",
       "4                                    metad plc        NaN       metad plc   \n",
       "...                                        ...        ...             ...   \n",
       "1334                                 robustasa   Lavado 1     our own lab   \n",
       "1335                                 robustasa   Lavado 3  own laboratory   \n",
       "1336                           fazenda cazengo        NaN    cafe cazengo   \n",
       "1337                                       NaN        NaN             NaN   \n",
       "1338                                       NaN        NaN             NaN   \n",
       "\n",
       "             ICO.Number                                Company       Altitude  \\\n",
       "0             2014/2015      metad agricultural developmet plc      1950-2200   \n",
       "1             2014/2015      metad agricultural developmet plc      1950-2200   \n",
       "2                   NaN                                    NaN  1600 - 1800 m   \n",
       "3                   NaN  yidnekachew debessa coffee plantation      1800-2200   \n",
       "4             2014/2015      metad agricultural developmet plc      1950-2200   \n",
       "...                 ...                                    ...            ...   \n",
       "1334                NaN                              robustasa            NaN   \n",
       "1335                NaN                              robustasa             40   \n",
       "1336                NaN                global opportunity fund     795 meters   \n",
       "1337  14-1118-2014-0087                          cafe politico            NaN   \n",
       "1338                NaN                          cafe politico            NaN   \n",
       "\n",
       "      ...       Color Category.Two.Defects           Expiration  \\\n",
       "0     ...       Green                    0      April 3rd, 2016   \n",
       "1     ...       Green                    1      April 3rd, 2016   \n",
       "2     ...         NaN                    0       May 31st, 2011   \n",
       "3     ...       Green                    2     March 25th, 2016   \n",
       "4     ...       Green                    2      April 3rd, 2016   \n",
       "...   ...         ...                  ...                  ...   \n",
       "1334  ...  Blue-Green                    1   January 18th, 2017   \n",
       "1335  ...  Blue-Green                    0   January 18th, 2017   \n",
       "1336  ...         NaN                    6  December 23rd, 2015   \n",
       "1337  ...       Green                    1    August 25th, 2015   \n",
       "1338  ...        None                    9    August 25th, 2015   \n",
       "\n",
       "                      Certification.Body  \\\n",
       "0     METAD Agricultural Development plc   \n",
       "1     METAD Agricultural Development plc   \n",
       "2           Specialty Coffee Association   \n",
       "3     METAD Agricultural Development plc   \n",
       "4     METAD Agricultural Development plc   \n",
       "...                                  ...   \n",
       "1334        Specialty Coffee Association   \n",
       "1335        Specialty Coffee Association   \n",
       "1336        Specialty Coffee Association   \n",
       "1337        Specialty Coffee Association   \n",
       "1338        Specialty Coffee Association   \n",
       "\n",
       "                         Certification.Address  \\\n",
       "0     309fcf77415a3661ae83e027f7e5f05dad786e44   \n",
       "1     309fcf77415a3661ae83e027f7e5f05dad786e44   \n",
       "2     36d0d00a3724338ba7937c52a378d085f2172daa   \n",
       "3     309fcf77415a3661ae83e027f7e5f05dad786e44   \n",
       "4     309fcf77415a3661ae83e027f7e5f05dad786e44   \n",
       "...                                        ...   \n",
       "1334  ff7c18ad303d4b603ac3f8cff7e611ffc735e720   \n",
       "1335  ff7c18ad303d4b603ac3f8cff7e611ffc735e720   \n",
       "1336  ff7c18ad303d4b603ac3f8cff7e611ffc735e720   \n",
       "1337  ff7c18ad303d4b603ac3f8cff7e611ffc735e720   \n",
       "1338  ff7c18ad303d4b603ac3f8cff7e611ffc735e720   \n",
       "\n",
       "                         Certification.Contact unit_of_measurement  \\\n",
       "0     19fef5a731de2db57d16da10287413f5f99bc2dd                   m   \n",
       "1     19fef5a731de2db57d16da10287413f5f99bc2dd                   m   \n",
       "2     0878a7d4b9d35ddbf0fe2ce69a2062cceb45a660                   m   \n",
       "3     19fef5a731de2db57d16da10287413f5f99bc2dd                   m   \n",
       "4     19fef5a731de2db57d16da10287413f5f99bc2dd                   m   \n",
       "...                                        ...                 ...   \n",
       "1334  352d0cf7f3e9be14dad7df644ad65efc27605ae2                   m   \n",
       "1335  352d0cf7f3e9be14dad7df644ad65efc27605ae2                   m   \n",
       "1336  352d0cf7f3e9be14dad7df644ad65efc27605ae2                   m   \n",
       "1337  352d0cf7f3e9be14dad7df644ad65efc27605ae2                   m   \n",
       "1338  352d0cf7f3e9be14dad7df644ad65efc27605ae2                   m   \n",
       "\n",
       "     altitude_low_meters altitude_high_meters altitude_mean_meters  \n",
       "0                 1950.0               2200.0               2075.0  \n",
       "1                 1950.0               2200.0               2075.0  \n",
       "2                 1600.0               1800.0               1700.0  \n",
       "3                 1800.0               2200.0               2000.0  \n",
       "4                 1950.0               2200.0               2075.0  \n",
       "...                  ...                  ...                  ...  \n",
       "1334                 NaN                  NaN                  NaN  \n",
       "1335                40.0                 40.0                 40.0  \n",
       "1336               795.0                795.0                795.0  \n",
       "1337                 NaN                  NaN                  NaN  \n",
       "1338                 NaN                  NaN                  NaN  \n",
       "\n",
       "[1339 rows x 44 columns]"
      ]
     },
     "execution_count": 4,
     "metadata": {},
     "output_type": "execute_result"
    }
   ],
   "source": [
    "coffee_data"
   ]
  },
  {
   "cell_type": "markdown",
   "id": "b278e2a8-56b4-4b1a-ad71-e7b920321e37",
   "metadata": {},
   "source": [
    "### Problem 2. Observations and features (1 point)\n",
    "How many observations are there? How many features? Which features are numerical, and which are categorical?\n",
    "\n",
    "**Note:** Think about the _meaning_, not the data types. The dataset hasn't been thoroughly cleaned."
   ]
  },
  {
   "cell_type": "code",
   "execution_count": 5,
   "id": "e7d17c46-5475-4c33-9c35-b7cf56ac41c3",
   "metadata": {},
   "outputs": [
    {
     "data": {
      "text/plain": [
       "(1339, 44)"
      ]
     },
     "execution_count": 5,
     "metadata": {},
     "output_type": "execute_result"
    }
   ],
   "source": [
    "coffee_data.shape"
   ]
  },
  {
   "cell_type": "markdown",
   "id": "330b8326-f346-4256-a30a-d789dbaac738",
   "metadata": {},
   "source": [
    "There is 1339 rows and 44 columns. That means 1339 observations and 44 features."
   ]
  },
  {
   "cell_type": "code",
   "execution_count": 6,
   "id": "ed669862-bb4f-4123-9f56-cf971b416e5d",
   "metadata": {},
   "outputs": [
    {
     "data": {
      "text/plain": [
       "Unnamed: 0                 int64\n",
       "Species                   object\n",
       "Owner                     object\n",
       "Country.of.Origin         object\n",
       "Farm.Name                 object\n",
       "Lot.Number                object\n",
       "Mill                      object\n",
       "ICO.Number                object\n",
       "Company                   object\n",
       "Altitude                  object\n",
       "Region                    object\n",
       "Producer                  object\n",
       "Number.of.Bags             int64\n",
       "Bag.Weight                object\n",
       "In.Country.Partner        object\n",
       "Harvest.Year              object\n",
       "Grading.Date              object\n",
       "Owner.1                   object\n",
       "Variety                   object\n",
       "Processing.Method         object\n",
       "Aroma                    float64\n",
       "Flavor                   float64\n",
       "Aftertaste               float64\n",
       "Acidity                  float64\n",
       "Body                     float64\n",
       "Balance                  float64\n",
       "Uniformity               float64\n",
       "Clean.Cup                float64\n",
       "Sweetness                float64\n",
       "Cupper.Points            float64\n",
       "Total.Cup.Points         float64\n",
       "Moisture                 float64\n",
       "Category.One.Defects       int64\n",
       "Quakers                  float64\n",
       "Color                     object\n",
       "Category.Two.Defects       int64\n",
       "Expiration                object\n",
       "Certification.Body        object\n",
       "Certification.Address     object\n",
       "Certification.Contact     object\n",
       "unit_of_measurement       object\n",
       "altitude_low_meters      float64\n",
       "altitude_high_meters     float64\n",
       "altitude_mean_meters     float64\n",
       "dtype: object"
      ]
     },
     "execution_count": 6,
     "metadata": {},
     "output_type": "execute_result"
    }
   ],
   "source": [
    "coffee_data.dtypes"
   ]
  },
  {
   "cell_type": "markdown",
   "id": "dbf75a4c-ba40-4351-b2e2-5af7b0795dd0",
   "metadata": {},
   "source": [
    "Let's see the features that are numerical:"
   ]
  },
  {
   "cell_type": "code",
   "execution_count": 7,
   "id": "133ed13b-0ec0-45bc-a9eb-cef69db9916f",
   "metadata": {},
   "outputs": [
    {
     "data": {
      "text/plain": [
       "['Unnamed: 0',\n",
       " 'Number.of.Bags',\n",
       " 'Aroma',\n",
       " 'Flavor',\n",
       " 'Aftertaste',\n",
       " 'Acidity',\n",
       " 'Body',\n",
       " 'Balance',\n",
       " 'Uniformity',\n",
       " 'Clean.Cup',\n",
       " 'Sweetness',\n",
       " 'Cupper.Points',\n",
       " 'Total.Cup.Points',\n",
       " 'Moisture',\n",
       " 'Category.One.Defects',\n",
       " 'Quakers',\n",
       " 'Category.Two.Defects',\n",
       " 'altitude_low_meters',\n",
       " 'altitude_high_meters',\n",
       " 'altitude_mean_meters']"
      ]
     },
     "execution_count": 7,
     "metadata": {},
     "output_type": "execute_result"
    }
   ],
   "source": [
    "numerical_features = coffee_data.select_dtypes(include=['number']).columns.tolist()\n",
    "numerical_features"
   ]
  },
  {
   "cell_type": "markdown",
   "id": "5dcf2817-d33e-4b52-aa94-4851f819efb4",
   "metadata": {},
   "source": [
    "And their count:"
   ]
  },
  {
   "cell_type": "code",
   "execution_count": 8,
   "id": "053b19fe-a929-41d5-94f1-13d23c611692",
   "metadata": {},
   "outputs": [
    {
     "data": {
      "text/plain": [
       "20"
      ]
     },
     "execution_count": 8,
     "metadata": {},
     "output_type": "execute_result"
    }
   ],
   "source": [
    "len(numerical_features)"
   ]
  },
  {
   "cell_type": "markdown",
   "id": "9f312610-47b9-4201-9ef3-d645a6d92a1c",
   "metadata": {},
   "source": [
    "And this is the categorical features: "
   ]
  },
  {
   "cell_type": "code",
   "execution_count": 9,
   "id": "d51afef3-710e-43bc-977e-d3fac8f4242d",
   "metadata": {},
   "outputs": [
    {
     "data": {
      "text/plain": [
       "['Species',\n",
       " 'Owner',\n",
       " 'Country.of.Origin',\n",
       " 'Farm.Name',\n",
       " 'Lot.Number',\n",
       " 'Mill',\n",
       " 'ICO.Number',\n",
       " 'Company',\n",
       " 'Altitude',\n",
       " 'Region',\n",
       " 'Producer',\n",
       " 'Bag.Weight',\n",
       " 'In.Country.Partner',\n",
       " 'Harvest.Year',\n",
       " 'Grading.Date',\n",
       " 'Owner.1',\n",
       " 'Variety',\n",
       " 'Processing.Method',\n",
       " 'Color',\n",
       " 'Expiration',\n",
       " 'Certification.Body',\n",
       " 'Certification.Address',\n",
       " 'Certification.Contact',\n",
       " 'unit_of_measurement']"
      ]
     },
     "execution_count": 9,
     "metadata": {},
     "output_type": "execute_result"
    }
   ],
   "source": [
    "categorical_features = coffee_data.select_dtypes(include=['object']).columns.tolist()\n",
    "categorical_features"
   ]
  },
  {
   "cell_type": "code",
   "execution_count": 10,
   "id": "39bf75da-9281-4ded-ba5d-0be7a3086aac",
   "metadata": {},
   "outputs": [
    {
     "data": {
      "text/plain": [
       "array(['60 kg', '1', '30 kg', '69 kg', '1 kg', '2 kg,lbs', '6', '3 lbs',\n",
       "       '50 kg', '2 lbs', '100 lbs', '15 kg', '2 kg', '2', '70 kg',\n",
       "       '19200 kg', '5 lbs', '1 kg,lbs', '6 kg', '0 lbs', '46 kg', '40 kg',\n",
       "       '20 kg', '34 kg', '1 lbs', '660 kg', '18975 kg', '12000 kg',\n",
       "       '35 kg', '66 kg', '80 kg', '132 lbs', '5 kg', '25 kg', '59 kg',\n",
       "       '18000 kg', '150 lbs', '9000 kg', '18 kg', '10 kg', '29 kg',\n",
       "       '1218 kg', '4 lbs', '0 kg', '13800 kg', '1500 kg', '24 kg',\n",
       "       '80 lbs', '8 kg', '3 kg', '350 kg', '67 kg', '4 kg', '55 lbs',\n",
       "       '100 kg', '130 lbs'], dtype=object)"
      ]
     },
     "execution_count": 10,
     "metadata": {},
     "output_type": "execute_result"
    }
   ],
   "source": [
    "coffee_data[\"Bag.Weight\"].unique()"
   ]
  },
  {
   "cell_type": "markdown",
   "id": "d01526a5-2f0c-452f-8cd1-9d03213af7a7",
   "metadata": {},
   "source": [
    "We see this feature by the meaning should be numeric not categorical."
   ]
  },
  {
   "cell_type": "markdown",
   "id": "2b745e68-35eb-4acb-b39f-513137f0ee4b",
   "metadata": {},
   "source": [
    "### Problem 3. Column manipulation (1 point)\n",
    "Make the column names more Pythonic (which helps with the quality and... aesthetics). Convert column names to `snake_case`, i.e. `species`, `country_of_origin`, `ico_number`, etc. Try to not do it manually."
   ]
  },
  {
   "cell_type": "markdown",
   "id": "d8e96657-1fad-403c-a831-d5a68fa7b043",
   "metadata": {},
   "source": [
    "Let's see the names of the all columns:"
   ]
  },
  {
   "cell_type": "code",
   "execution_count": 11,
   "id": "301e9f3f-afd6-4a91-a32f-1974584694ca",
   "metadata": {},
   "outputs": [
    {
     "data": {
      "text/plain": [
       "Index(['Unnamed: 0', 'Species', 'Owner', 'Country.of.Origin', 'Farm.Name',\n",
       "       'Lot.Number', 'Mill', 'ICO.Number', 'Company', 'Altitude', 'Region',\n",
       "       'Producer', 'Number.of.Bags', 'Bag.Weight', 'In.Country.Partner',\n",
       "       'Harvest.Year', 'Grading.Date', 'Owner.1', 'Variety',\n",
       "       'Processing.Method', 'Aroma', 'Flavor', 'Aftertaste', 'Acidity', 'Body',\n",
       "       'Balance', 'Uniformity', 'Clean.Cup', 'Sweetness', 'Cupper.Points',\n",
       "       'Total.Cup.Points', 'Moisture', 'Category.One.Defects', 'Quakers',\n",
       "       'Color', 'Category.Two.Defects', 'Expiration', 'Certification.Body',\n",
       "       'Certification.Address', 'Certification.Contact', 'unit_of_measurement',\n",
       "       'altitude_low_meters', 'altitude_high_meters', 'altitude_mean_meters'],\n",
       "      dtype='object')"
      ]
     },
     "execution_count": 11,
     "metadata": {},
     "output_type": "execute_result"
    }
   ],
   "source": [
    "coffee_data.columns"
   ]
  },
  {
   "cell_type": "markdown",
   "id": "01a8b548-d6fc-44ad-93e3-0714d245bd78",
   "metadata": {},
   "source": [
    "Let's implement a function that converts the names of the columns in snake case:"
   ]
  },
  {
   "cell_type": "code",
   "execution_count": 12,
   "id": "c6baba53-7953-4964-9136-1c37d05840dc",
   "metadata": {},
   "outputs": [
    {
     "data": {
      "text/plain": [
       "Index(['unnamed_0', 'species', 'owner', 'country_of_origin', 'farm_name',\n",
       "       'lot_number', 'mill', 'ico_number', 'company', 'altitude', 'region',\n",
       "       'producer', 'number_of_bags', 'bag_weight', 'in_country_partner',\n",
       "       'harvest_year', 'grading_date', 'owner_1', 'variety',\n",
       "       'processing_method', 'aroma', 'flavor', 'aftertaste', 'acidity', 'body',\n",
       "       'balance', 'uniformity', 'clean_cup', 'sweetness', 'cupper_points',\n",
       "       'total_cup_points', 'moisture', 'category_one_defects', 'quakers',\n",
       "       'color', 'category_two_defects', 'expiration', 'certification_body',\n",
       "       'certification_address', 'certification_contact', 'unit_of_measurement',\n",
       "       'altitude_low_meters', 'altitude_high_meters', 'altitude_mean_meters'],\n",
       "      dtype='object')"
      ]
     },
     "execution_count": 12,
     "metadata": {},
     "output_type": "execute_result"
    }
   ],
   "source": [
    "def convert_to_snake_case(column_name):\n",
    "    column_name = column_name.strip().replace(\" \", \"_\").lower()\n",
    "    column_name = column_name.strip().replace(\".\", \"_\").lower()\n",
    "    column_name = column_name.strip().replace(\":\", \"\").lower()\n",
    "    return column_name\n",
    "\n",
    "new_column_names = [convert_to_snake_case(col) for col in coffee_data.columns]\n",
    "\n",
    "coffee_data.columns = new_column_names\n",
    "\n",
    "coffee_data.columns"
   ]
  },
  {
   "cell_type": "markdown",
   "id": "8c53c4c6-6eb9-4c92-bd39-89286fe4c86e",
   "metadata": {},
   "source": [
    "### Problem 4. Bag weight (1 point)\n",
    "What's up with the bag weights? Make all necessary changes to the column values. Don't forget to document your methods and assumptions."
   ]
  },
  {
   "cell_type": "markdown",
   "id": "541a7286-1745-49d7-aed6-ae490353b815",
   "metadata": {},
   "source": [
    "Now let's see the unique values of the bag_weight feature:"
   ]
  },
  {
   "cell_type": "code",
   "execution_count": 13,
   "id": "8e97f3d0-1223-49a7-99a9-51a65e4ff4e0",
   "metadata": {},
   "outputs": [
    {
     "data": {
      "text/plain": [
       "array(['60 kg', '1', '30 kg', '69 kg', '1 kg', '2 kg,lbs', '6', '3 lbs',\n",
       "       '50 kg', '2 lbs', '100 lbs', '15 kg', '2 kg', '2', '70 kg',\n",
       "       '19200 kg', '5 lbs', '1 kg,lbs', '6 kg', '0 lbs', '46 kg', '40 kg',\n",
       "       '20 kg', '34 kg', '1 lbs', '660 kg', '18975 kg', '12000 kg',\n",
       "       '35 kg', '66 kg', '80 kg', '132 lbs', '5 kg', '25 kg', '59 kg',\n",
       "       '18000 kg', '150 lbs', '9000 kg', '18 kg', '10 kg', '29 kg',\n",
       "       '1218 kg', '4 lbs', '0 kg', '13800 kg', '1500 kg', '24 kg',\n",
       "       '80 lbs', '8 kg', '3 kg', '350 kg', '67 kg', '4 kg', '55 lbs',\n",
       "       '100 kg', '130 lbs'], dtype=object)"
      ]
     },
     "execution_count": 13,
     "metadata": {},
     "output_type": "execute_result"
    }
   ],
   "source": [
    "coffee_data[\"bag_weight\"].unique()"
   ]
  },
  {
   "cell_type": "markdown",
   "id": "8da80408-a19a-4b2d-8045-c2ba7c9b8873",
   "metadata": {},
   "source": [
    "Now let's convert pounds to kilograms. Iterating through each row in the DataFrame handle cases where there's only one element (like '1' or '6') or cases where there are two elements ( 'kg' and 'lbs') for one value:"
   ]
  },
  {
   "cell_type": "code",
   "execution_count": 14,
   "id": "410d3aaa-336c-4388-bddb-184c4485e108",
   "metadata": {},
   "outputs": [],
   "source": [
    "def lbs_to_kg(weight_lbs):\n",
    "    return float(weight_lbs) * 0.453592\n",
    "\n",
    "for idx, col in enumerate(coffee_data[\"bag_weight\"]):\n",
    "    elements = col.split()\n",
    "    num = elements[0]\n",
    "    \n",
    "    if len(elements) < 2:\n",
    "        elements.append('kg')  \n",
    "    \n",
    "    if len(elements) >= 2:\n",
    "        kg = elements[1]\n",
    "        if kg == 'lbs':\n",
    "            converted_weight = lbs_to_kg(num)\n",
    "            elements[0] = f\"{converted_weight:.2f}\"  \n",
    "            elements[1] = 'kg'\n",
    "\n",
    "        coffee_data.at[idx, 'bag_weight'] = \" \".join(elements)"
   ]
  },
  {
   "cell_type": "markdown",
   "id": "9a242469-4593-4ebd-9189-cb20cc905a4d",
   "metadata": {},
   "source": [
    "Below we see the applied changes:"
   ]
  },
  {
   "cell_type": "code",
   "execution_count": 15,
   "id": "70e648bd-ebdd-4600-84b1-62b50b6a8792",
   "metadata": {},
   "outputs": [
    {
     "data": {
      "text/plain": [
       "array(['60 kg', '1 kg', '30 kg', '69 kg', '2 kg,lbs', '6 kg', '1.36 kg',\n",
       "       '50 kg', '0.91 kg', '45.36 kg', '15 kg', '2 kg', '70 kg',\n",
       "       '19200 kg', '2.27 kg', '1 kg,lbs', '0.00 kg', '46 kg', '40 kg',\n",
       "       '20 kg', '34 kg', '0.45 kg', '660 kg', '18975 kg', '12000 kg',\n",
       "       '35 kg', '66 kg', '80 kg', '59.87 kg', '5 kg', '25 kg', '59 kg',\n",
       "       '18000 kg', '68.04 kg', '9000 kg', '18 kg', '10 kg', '29 kg',\n",
       "       '1218 kg', '1.81 kg', '0 kg', '13800 kg', '1500 kg', '24 kg',\n",
       "       '36.29 kg', '8 kg', '3 kg', '350 kg', '67 kg', '4 kg', '24.95 kg',\n",
       "       '100 kg', '58.97 kg'], dtype=object)"
      ]
     },
     "execution_count": 15,
     "metadata": {},
     "output_type": "execute_result"
    }
   ],
   "source": [
    "coffee_data.bag_weight.unique()"
   ]
  },
  {
   "cell_type": "markdown",
   "id": "2ff1f817-8e5e-4185-a320-dde7ed2cada1",
   "metadata": {},
   "source": [
    "### Problem 5. Dates (1 point)\n",
    "This should remind you of problem 4 but it's slightly nastier. Fix the harvest years, document the process.\n",
    "\n",
    "While you're here, fix the expiration dates, and grading dates. Unlike the other column, these should be dates (`pd.to_datetime()` is your friend)."
   ]
  },
  {
   "cell_type": "code",
   "execution_count": 16,
   "id": "814dc5f9-9572-44f0-bff6-8efeb084f93d",
   "metadata": {},
   "outputs": [],
   "source": [
    "def clean_harvest_year(year):\n",
    "    if pd.isna(year):\n",
    "        return year\n",
    "    if '/' in str(year):\n",
    "        # Take the first year in the range\n",
    "        return str(year).split('/')[0]\n",
    "    return year\n",
    "\n",
    "coffee_data['harvest_year'] = coffee_data['harvest_year'].apply(clean_harvest_year)"
   ]
  },
  {
   "cell_type": "markdown",
   "id": "8199c3ab-f9cd-4a92-8a0f-2563cc29c431",
   "metadata": {},
   "source": [
    "Now we will convert to datetime for Expiration and Grading Dates:"
   ]
  },
  {
   "cell_type": "code",
   "execution_count": 17,
   "id": "31488d4d-9584-4d25-84d5-51417cc9d85f",
   "metadata": {},
   "outputs": [],
   "source": [
    "coffee_data['expiration'] = pd.to_datetime(coffee_data['expiration'], errors='coerce')\n",
    "coffee_data['grading_date'] = pd.to_datetime(coffee_data['grading_date'], errors='coerce')"
   ]
  },
  {
   "cell_type": "markdown",
   "id": "d8072e16-467e-4b1b-84a4-6e309fa64bf0",
   "metadata": {},
   "source": [
    "Let's verify the changes:"
   ]
  },
  {
   "cell_type": "code",
   "execution_count": 18,
   "id": "d84cb8dd-cd05-4b43-a688-9936fbe54a07",
   "metadata": {},
   "outputs": [
    {
     "data": {
      "text/plain": [
       "array(['2014', nan, '2013', '2012', 'March 2010',\n",
       "       'Sept 2009 - April 2010', 'May-August', '2009', '2015', '2011',\n",
       "       '2016', '2010', 'Fall 2009', '2017', '2009 ', '2010-2011',\n",
       "       '2009-2010', '2009 - 2010', '2017 ', 'mmm', 'TEST',\n",
       "       'December 2009-March 2010', 'January 2011', '4T', '2016 ',\n",
       "       '23 July 2010', 'January Through April', '1T', '4t',\n",
       "       'August to December', 'Mayo a Julio', '47', 'Abril - Julio',\n",
       "       'Abril - Julio ', 'Spring 2011 in Colombia.', '3T', '1t', '2018',\n",
       "       '4T72010', '08'], dtype=object)"
      ]
     },
     "execution_count": 18,
     "metadata": {},
     "output_type": "execute_result"
    }
   ],
   "source": [
    "coffee_data['harvest_year'].unique()"
   ]
  },
  {
   "cell_type": "code",
   "execution_count": 19,
   "id": "ad1a0865-bc90-4b5e-98a2-184ebaaf61c2",
   "metadata": {},
   "outputs": [
    {
     "data": {
      "text/html": [
       "<div>\n",
       "<style scoped>\n",
       "    .dataframe tbody tr th:only-of-type {\n",
       "        vertical-align: middle;\n",
       "    }\n",
       "\n",
       "    .dataframe tbody tr th {\n",
       "        vertical-align: top;\n",
       "    }\n",
       "\n",
       "    .dataframe thead th {\n",
       "        text-align: right;\n",
       "    }\n",
       "</style>\n",
       "<table border=\"1\" class=\"dataframe\">\n",
       "  <thead>\n",
       "    <tr style=\"text-align: right;\">\n",
       "      <th></th>\n",
       "      <th>expiration</th>\n",
       "      <th>grading_date</th>\n",
       "    </tr>\n",
       "  </thead>\n",
       "  <tbody>\n",
       "    <tr>\n",
       "      <th>0</th>\n",
       "      <td>2016-04-03</td>\n",
       "      <td>2015-04-04</td>\n",
       "    </tr>\n",
       "    <tr>\n",
       "      <th>1</th>\n",
       "      <td>2016-04-03</td>\n",
       "      <td>2015-04-04</td>\n",
       "    </tr>\n",
       "    <tr>\n",
       "      <th>2</th>\n",
       "      <td>2011-05-31</td>\n",
       "      <td>2010-05-31</td>\n",
       "    </tr>\n",
       "    <tr>\n",
       "      <th>3</th>\n",
       "      <td>2016-03-25</td>\n",
       "      <td>2015-03-26</td>\n",
       "    </tr>\n",
       "    <tr>\n",
       "      <th>4</th>\n",
       "      <td>2016-04-03</td>\n",
       "      <td>2015-04-04</td>\n",
       "    </tr>\n",
       "  </tbody>\n",
       "</table>\n",
       "</div>"
      ],
      "text/plain": [
       "  expiration grading_date\n",
       "0 2016-04-03   2015-04-04\n",
       "1 2016-04-03   2015-04-04\n",
       "2 2011-05-31   2010-05-31\n",
       "3 2016-03-25   2015-03-26\n",
       "4 2016-04-03   2015-04-04"
      ]
     },
     "execution_count": 19,
     "metadata": {},
     "output_type": "execute_result"
    }
   ],
   "source": [
    "coffee_data[['expiration', 'grading_date']].head()"
   ]
  },
  {
   "cell_type": "markdown",
   "id": "0dff33b4-c94d-43b3-bab3-97eabb862a37",
   "metadata": {},
   "source": [
    "### Problem 6. Countries (1 point)\n",
    "How many coffees are there with unknown countries of origin? What can you do about them?"
   ]
  },
  {
   "cell_type": "code",
   "execution_count": 20,
   "id": "9a21ae80-fb7e-4d26-bae6-6138a09c5f6f",
   "metadata": {},
   "outputs": [
    {
     "data": {
      "text/plain": [
       "Index(['unnamed_0', 'species', 'owner', 'country_of_origin', 'farm_name',\n",
       "       'lot_number', 'mill', 'ico_number', 'company', 'altitude', 'region',\n",
       "       'producer', 'number_of_bags', 'bag_weight', 'in_country_partner',\n",
       "       'harvest_year', 'grading_date', 'owner_1', 'variety',\n",
       "       'processing_method', 'aroma', 'flavor', 'aftertaste', 'acidity', 'body',\n",
       "       'balance', 'uniformity', 'clean_cup', 'sweetness', 'cupper_points',\n",
       "       'total_cup_points', 'moisture', 'category_one_defects', 'quakers',\n",
       "       'color', 'category_two_defects', 'expiration', 'certification_body',\n",
       "       'certification_address', 'certification_contact', 'unit_of_measurement',\n",
       "       'altitude_low_meters', 'altitude_high_meters', 'altitude_mean_meters'],\n",
       "      dtype='object')"
      ]
     },
     "execution_count": 20,
     "metadata": {},
     "output_type": "execute_result"
    }
   ],
   "source": [
    "coffee_data.columns"
   ]
  },
  {
   "cell_type": "markdown",
   "id": "f35f0d57-dd7d-4276-97cd-32a2ab03513c",
   "metadata": {},
   "source": [
    "This is the number of coffees with unknown countries of origin:"
   ]
  },
  {
   "cell_type": "code",
   "execution_count": 21,
   "id": "0851c1a8-0420-4dba-ac27-487bae4318be",
   "metadata": {},
   "outputs": [
    {
     "data": {
      "text/plain": [
       "1"
      ]
     },
     "execution_count": 21,
     "metadata": {},
     "output_type": "execute_result"
    }
   ],
   "source": [
    "unknown_countries_count = coffee_data['country_of_origin'].isna().sum() + (coffee_data['country_of_origin'] == '').sum()\n",
    "unknown_countries_count"
   ]
  },
  {
   "cell_type": "markdown",
   "id": "b520ffc4-44a2-419d-a5ee-118a51089234",
   "metadata": {},
   "source": [
    "Put \"Unknown\" for missing country values:"
   ]
  },
  {
   "cell_type": "code",
   "execution_count": 22,
   "id": "bac62bb6-0736-4536-9cc1-6b6a5374e127",
   "metadata": {},
   "outputs": [],
   "source": [
    "coffee_data['country_of_origin'].fillna('Unknown', inplace=True)\n",
    "coffee_data['country_of_origin'].replace('', 'Unknown', inplace=True)"
   ]
  },
  {
   "cell_type": "markdown",
   "id": "44e0fba8-8fd6-47a4-8f74-6edbfa869625",
   "metadata": {},
   "source": [
    "And we verify the changes:"
   ]
  },
  {
   "cell_type": "code",
   "execution_count": 23,
   "id": "dba4dc70-d585-4565-8f3f-b3a0267ec49a",
   "metadata": {},
   "outputs": [
    {
     "data": {
      "text/plain": [
       "Mexico                          236\n",
       "Colombia                        183\n",
       "Guatemala                       181\n",
       "Brazil                          132\n",
       "Taiwan                           75\n",
       "United States (Hawaii)           73\n",
       "Honduras                         53\n",
       "Costa Rica                       51\n",
       "Ethiopia                         44\n",
       "Tanzania, United Republic Of     40\n",
       "Uganda                           36\n",
       "Thailand                         32\n",
       "Nicaragua                        26\n",
       "Kenya                            25\n",
       "El Salvador                      21\n",
       "Indonesia                        20\n",
       "China                            16\n",
       "India                            14\n",
       "Malawi                           11\n",
       "United States                    10\n",
       "Peru                             10\n",
       "Myanmar                           8\n",
       "Vietnam                           8\n",
       "Haiti                             6\n",
       "Philippines                       5\n",
       "United States (Puerto Rico)       4\n",
       "Panama                            4\n",
       "Ecuador                           3\n",
       "Laos                              3\n",
       "Burundi                           2\n",
       "Papua New Guinea                  1\n",
       "Rwanda                            1\n",
       "Zambia                            1\n",
       "Japan                             1\n",
       "Mauritius                         1\n",
       "Cote d?Ivoire                     1\n",
       "Unknown                           1\n",
       "Name: country_of_origin, dtype: int64"
      ]
     },
     "execution_count": 23,
     "metadata": {},
     "output_type": "execute_result"
    }
   ],
   "source": [
    "coffee_data['country_of_origin'].value_counts()"
   ]
  },
  {
   "cell_type": "markdown",
   "id": "d0aa6f30-4b93-4f23-95e0-2cafb7152c6c",
   "metadata": {},
   "source": [
    "### Problem 7. Owners (1 point)\n",
    "There are two suspicious columns, named `Owner`, and `Owner.1` (they're likely called something different after you solved problem 3). Do something about them. Is there any link to `Producer`?"
   ]
  },
  {
   "cell_type": "code",
   "execution_count": 24,
   "id": "39bc1689-33f6-4446-bfc3-c4b4e69eccf6",
   "metadata": {},
   "outputs": [
    {
     "data": {
      "text/plain": [
       "316"
      ]
     },
     "execution_count": 24,
     "metadata": {},
     "output_type": "execute_result"
    }
   ],
   "source": [
    "len(coffee_data['owner'].unique())"
   ]
  },
  {
   "cell_type": "code",
   "execution_count": 25,
   "id": "dd0cd315-f5af-42b9-83a7-75b9daa90d9c",
   "metadata": {},
   "outputs": [
    {
     "data": {
      "text/plain": [
       "320"
      ]
     },
     "execution_count": 25,
     "metadata": {},
     "output_type": "execute_result"
    }
   ],
   "source": [
    "len(coffee_data['owner_1'].unique())"
   ]
  },
  {
   "cell_type": "code",
   "execution_count": 26,
   "id": "b7eee6b4-4826-4a31-af77-4a5fb6481aa0",
   "metadata": {},
   "outputs": [
    {
     "data": {
      "text/plain": [
       "693"
      ]
     },
     "execution_count": 26,
     "metadata": {},
     "output_type": "execute_result"
    }
   ],
   "source": [
    "len(coffee_data['producer'].unique())"
   ]
  },
  {
   "cell_type": "markdown",
   "id": "c15a6c7b-da79-444d-bcbb-1fd468b4881b",
   "metadata": {},
   "source": [
    "Combine the owner and owner_1 columns:"
   ]
  },
  {
   "cell_type": "code",
   "execution_count": 27,
   "id": "49502bb7-8eda-4410-8fdb-47487c7904ce",
   "metadata": {},
   "outputs": [],
   "source": [
    "coffee_data['combined_owner'] = coffee_data['owner_1'].combine_first(coffee_data['owner'])"
   ]
  },
  {
   "cell_type": "code",
   "execution_count": 28,
   "id": "93128326-8eca-497b-ae76-f3564bd939f5",
   "metadata": {},
   "outputs": [
    {
     "data": {
      "text/plain": [
       "array(['metad plc', 'Grounds for Health Admin', 'Yidnekachew Dabessa',\n",
       "       'Ji-Ae Ahn', 'Hugo Valdivia', 'Ethiopia Commodity Exchange',\n",
       "       'Diamond Enterprise Plc', 'Mohammed Lalo',\n",
       "       'CQI Q Coffee Sample Representative', 'Yunnan Coffee Exchange',\n",
       "       'EssenceCoffee', 'The Coffee Source Inc.', 'ROBERTO LICONA FRANCO',\n",
       "       'NUCOFFEE', 'Kabum Trading company', 'Bismarck Castro',\n",
       "       'Lin, Che-Hao Krude 林哲豪', 'Nora Zeas', 'Specialty Coffee-Korea',\n",
       "       'Francisco A Mena', 'Hider Abamecha', 'Daniel Magu',\n",
       "       'Kona Pacific Farmers Cooperative', 'ITDP International',\n",
       "       'Jacques Pereira Carneiro', 'Jungle Estate',\n",
       "       'Great Lakes Coffee Uganda', 'LUSSO LAB', 'AFCA',\n",
       "       'Juan Luis Alvarado Romero', 'Kawacom Uganda LTD',\n",
       "       'Exportadora de Cafe Condor S.A', 'Gonzalo Hernandez',\n",
       "       'Ibrahim Hussien Speciality Coffee Producer &Export',\n",
       "       'SEID DAMTEW COFFEE PLANATAION', 'Dane Loraas',\n",
       "       'Colbran Coffeelands, Ltd.', 'Atlantic Specialty Coffee',\n",
       "       'Assefa Belay Coffee Producer', 'Kyagalanyi Ltd',\n",
       "       'RASHID MOLEDINA & CO. (MSA) LTD.', 'Ibero Kenya Limited',\n",
       "       'Compañia Colombiana Agroindustrial S.A',\n",
       "       'Nomura Trading Co., Ltd.', 'CARCAFE LTDA CI', 'Steven Kil',\n",
       "       'Eileen Koyanagi', 'Kyagalanyi Coffee Ltd', 'Racafe & Cia S.C.A',\n",
       "       'Troy Quimby', 'El Equimite, Cafetal Biodinámico', 'SIMON MAHINDA',\n",
       "       'Young Kim', 'Carl Walker', 'Taylor Winch (T) Ltd',\n",
       "       'ARTEMIO ZAPATA TEJEDA', 'Brian Speckman', 'Philip Schluter',\n",
       "       '松澤宏樹 Koju Matsuzawa', 'Lydiah Mwangi', 'CADEXSA',\n",
       "       'Consejo Salvadoreño del Café', 'SanJava Coffee', 'Rodrigo Soto',\n",
       "       'Fabian Calderon Mora', 'Eric Thormaehlen', 'Rob Tuttle',\n",
       "       'CQI Taiwan ICP CQI台灣合作夥伴', 'Dream Together',\n",
       "       'ORGANIZACIONES DE PRODUCTORES DE CAFE COLIMENSE',\n",
       "       'Benjamin Schmerler', 'Taylor Winch (Coffee) Ltd.', 'Max Gurdian',\n",
       "       'ECOM Japan Limited', 'Federacion Nacional de Cafeteros',\n",
       "       'Eric Wu', 'MARIA IMELDA USCANGA MARTINEZ', 'ALFREDO BOJALIL',\n",
       "       'Daniel Friedlander', 'Alexandra Katona-Carroll',\n",
       "       'Aulia Arif Syahri', 'Kao Ming Lee',\n",
       "       'MARIA AMALIA GUADALUPE TORIELLO ELORZA', 'Raúl Vargas',\n",
       "       'VICTOR HUGO MELCHOR CORDOVA', 'Tembo Coffee Company Ltd',\n",
       "       'JESUS SALAZAR VELASCO', 'MANUEL HERRERA JUAREZ', 'Wayner Jimenez',\n",
       "       'COOPERATIVA EL GORRION R.L', 'Cafebras', 'CECA,S.A.',\n",
       "       'Asefa Dukamo Keroma', 'Selian Coffee Estate',\n",
       "       'Olam Agro Colombia', 'Chris Finch', 'ITOCHU Corporation',\n",
       "       'Owen Carver', 'PT.ROYAL PACIFIC INDAH INTERNATIONAL',\n",
       "       'ANDRES MARTINEZ LEON', 'Amanda Powers', 'Ipanema Coffees',\n",
       "       'Doi Tung Development Project', 'CAFES TOMARI SA DE CV',\n",
       "       'Sarawut Premjit', 'ALMACAFE', 'OSCAR ORTEGA CARBALLO',\n",
       "       'CECA, S.A.', 'yasmin Cofffee Plantation Plc', 'Garet Alban',\n",
       "       'FILEMON MENDOZA CAMPOS', 'Doi Chaang Coffee Company',\n",
       "       'Kennedy Macharia', 'Nile Highland Arabica Coffee Farmers',\n",
       "       'German Negron', 'SAUL M. HERNANDEZ RAMIREZ',\n",
       "       'COMERCIAL INTERNACIONAL EXPORTADORA, S.A.', 'Rob Stephen',\n",
       "       'JUAN LUIS ORTEGA CARBALLO', 'EKAI International Company Ltd.',\n",
       "       'ANDREAS KUSSMAUL', 'Bulamburi coffee farmers association',\n",
       "       'Damari Absalome', 'Debesa Agro Industry Plc', nan,\n",
       "       'MIGUEL CORTES MORENO', 'GABRIEL BERNARDO RIVAS ROSS',\n",
       "       'Felipe Isaza', 'Specialty Coffee Association of Indonesia',\n",
       "       'Bugisu Cooperative Union', 'BOURBON SPECIALTY COFFEES',\n",
       "       'Ngila Estate Ltd', 'Federación Nacional de Cafeteros',\n",
       "       'J.ANDRADE', 'ITIAH COFFEE LLC',\n",
       "       'CAFE DE DON BALBINO S.C. DE R.L. DE C.V.',\n",
       "       'PRODUCTOS Y SERVICIOS CHILINDRON S.A. DE C.V.',\n",
       "       'CALIXTO GUILLEN VAZQUEZ', 'ERNESTO RODRIGUEZ LUNA',\n",
       "       'MODESTO LANDEROS FLORES', 'ANDREA BERNAL', 'Sunvirtue Co., Ltd.',\n",
       "       'Tutunze Kahawa Ltd', 'Cafe Politico', 'Mayra Yessenia Torres',\n",
       "       'Balam Hinyula', 'NESTOR MENDEZ GOMEZ',\n",
       "       'FERNANDO MENDOZA APARICIO',\n",
       "       'MARIA LUISA DEL CARMEN ROJAS NARVAEZ', 'UCFA',\n",
       "       'Irene Alves Santos', 'Star Cafe Ltd',\n",
       "       'ROSA AURORA FALCON FERNANDEZ', 'SANTIAGO SOLIS AYERDI',\n",
       "       'Renee A. Perrine', 'Zarah Zamora Perez', 'Andrew Bowman',\n",
       "       'Expocaccer Coop dos Cafeic do Cerrado Ltda',\n",
       "       'Nyapea coffee farmers association', 'MARIA GUADALUPE GOMEZ ANZO',\n",
       "       'Royal Base Corporation', 'VERONICA LOPEZ CASTILLEJOS',\n",
       "       'Samuel Muhirwa', 'Joshua Marsceau', 'Coffeebythebag.com , INC',\n",
       "       'Edwin Agasso', 'ARMANDO LUIS POHLENZ MARTINEZ', 'Coffee Export',\n",
       "       'SERGIO DE LA VEQUIA BERNARDI', 'ROMULO BELLO FLORES',\n",
       "       'Rachel Peterson', 'José Luis Rojas Yeo', 'Nitin Coffee Estate',\n",
       "       'Adam Kline', 'MONTEGRANDE',\n",
       "       'GRUPO CAFETALERO LOS BRUJOS SPR DE RL', 'George A. Fernandez',\n",
       "       'Gabriel Barbara', 'Andry Simarmata', 'Brent Hall',\n",
       "       'GUILLERMO ROJAS SALDANA', 'Elsy Reyes', 'Shah Plantations',\n",
       "       'Amkeni Gourmet Coffee Group', 'ENRIQUE MITRE LOPEZ',\n",
       "       'Enrique Eduardo Lopez Aguilar', 'Brian Beck',\n",
       "       'Gladness Obed Pallangyo', 'DARIO CESAR GALEANA SANCHEZ',\n",
       "       'JOSE DANIEL COBILT CASTRO', 'ALVARO QUIROS PEREZ',\n",
       "       'OLIVIA HERNANDEZ VIRVES', 'FINCA LAS NIEVES',\n",
       "       'Pedro Santos e Silva', 'Michael Gavina', 'KlemOrganics',\n",
       "       'JESUS CARLOS CARDENAS VALDIVIA', 'BENCAFE, S. A.',\n",
       "       'Langiro Farm group', 'IBERO COFFEE TRADING CO (T) LTD',\n",
       "       'SALVADOR CARO CARRION', 'CAFETALERA INTERNACIONAL CAFINTER, S.A.',\n",
       "       'Ngorogoro Convenant Estate', 'JULIO PEREZ HERNANDEZ', 'Didas',\n",
       "       'Minwook Ku', 'Finca Estate', 'Beneficio Santa Rosa',\n",
       "       'JORGE OCTAVIO ESCAMILLA PRADO', 'Mcomafa Co Ltd',\n",
       "       'JUAN HERMILIO SAMPIERI CARCAMO', 'U Mg Mg', 'VIRIDIANA',\n",
       "       'Kurt Kappeli', 'CHRISTINA DUSING',\n",
       "       'JORGE FRANCISCO MARTINEZ HACHITY', 'SERGIO LANDA ALARCON',\n",
       "       'DIEGO MANUEL WOOLRICH RAMIREZ', 'DAE Ltd Company',\n",
       "       'FREDY GORDILLO REYES', 'VIRGINIA GORDILLO GORDILLO',\n",
       "       'JOSE LUIS MUNOZ GUERRERO', 'MDH', 'Acacia Hills Ltd',\n",
       "       'Exportadora Atlantic, S.A.', 'Genius Coffee',\n",
       "       'Santa Laura Exportadora de Cafe S.L.E.C. S.A.',\n",
       "       'Lin, Che-Hao Krude 林哲豪\\r\\n', 'Myriam Kaplan-Pasternak',\n",
       "       'TOMAS EDELMANN BLASS', 'MARIA DE LA PAZ AGUILAR GUILLEN',\n",
       "       'Angel Oscar Medina Rodriguez', 'Victoria',\n",
       "       'HECTOR GABRIEL BARREDA NADER', 'Shangrilla Estate Ltd',\n",
       "       'Immaculata John', 'KERCHANSHE', 'Gregorio Sebba',\n",
       "       'Rolando Lacayo', 'Wali Ali', 'OBED RENDON PONCE',\n",
       "       'GERARDO HERNANDEZ VALDERRABANO', 'BALBINO RAMIREZ FLORES',\n",
       "       'Mlimani Ngarashi', 'ALEJANDRO GARCIA PALACIOS',\n",
       "       'Grupo Santab S.A de C.V.', 'Min Hlaing', 'Karatu Estate',\n",
       "       'EDUARDO LUIS AUGUSTO VELAZQUEZ SOLIS',\n",
       "       'LUIS ROBERTO FERMOSO BELTRAN', 'JOSE MANUEL VERGARA CORTES',\n",
       "       'U Soe', 'Burka Coffee Estate', 'Janny Marlith Torres',\n",
       "       'Case Noyale Ltd', 'Shwe Yin Mar Coffee',\n",
       "       'ISRAEL EDUARDO PAZ GARCIA', 'Adam Ciruli Ye',\n",
       "       'CQI Taiwan ICP CQI台灣合作夥伴\\r\\n', 'Delfina Leon Shine',\n",
       "       'Kongoni Estate', 'Volcafe Ltda. - Brasil', 'Bob McCauley',\n",
       "       'U Htun Htun', 'Gloria Antonieta Escobar Urrutia',\n",
       "       'Honor dela Fuente', 'PABLO ENRIQUE MARTINEZ GAMA',\n",
       "       'MARCO VIRGILIO RAMIREZ TELIZ', 'Brayan Cunha Souza',\n",
       "       'FEDERICO PACHECO PEREZ', 'Ngu Shwe Li',\n",
       "       'SEMIRAMIS CASAS VELAZQUEZ', 'JESUS CARLOS CADENA VALDIVIA',\n",
       "       'Asociación Aldea Global Jinotega', 'LEONIDES DE LA CRUZ LOPEZ',\n",
       "       'MARIO JOSE FERNANDEZ', 'ADRIANA TORRES RICO QUEVEDO',\n",
       "       'Rre Kunene', 'ERIC JESUS CORDOBA ARROYO',\n",
       "       'JULIO CESAR ROBLES FLORES', 'Masamichi Hiroike',\n",
       "       'JUANA RODRIGUEZ GUTIERREZ',\n",
       "       'CAFES FINOS DE EXPORTACION S DE R.L.',\n",
       "       'Sustainable Harvest Coffee', 'GONZALO DE AQUINO FLORES',\n",
       "       'JUAN AVENAMAR RODRIGUEZ FUNEZ', 'OCTAVIO AUGUSTO DIAZ TREJO',\n",
       "       'DAMASO MARTINEZ PEREZ',\n",
       "       'PRODUCTORES DE ESPECIALIDAD EMILIANO ZAPEATA, SPR.',\n",
       "       'JUAN GARCIA HERNANDEZ', 'ROSARIO MIGUEL HERNANDEZ',\n",
       "       'FRANCISCO RUIZ NUNEZ', 'PABLO CERVANTES MORELOS        ',\n",
       "       'GUSTAVO AMIEVA GONZALEZ', 'Samuel Eli Gurel', 'Mao-Heng Chu',\n",
       "       'GUSTAVO ABARCA SOLIS', 'STEPHANY ESCAMILLA FEMAT',\n",
       "       'HOMERO ANTONIO DE ANDA ANDRADE', 'William Ho',\n",
       "       'GUILLERMO EDUARDO BOBADILLA MUGUIRA', 'Ana Gonzales',\n",
       "       'FRANCISCO HERNANDEZ LORENZO', 'MARTIN JIMENEZ CASIANO',\n",
       "       'GRUPO JUVENIL MAGTAYANI, AC', 'MYRNA ROXANA GALVEZ GONZALEZ',\n",
       "       'EUGENE HOLMAN PEW', 'JOSE ARMANDO NORBERTO BORZANI LEMINI',\n",
       "       'RICARDO AARON SAMPIERI MARINI', 'JUAN CARLOS GARCIA LOPEZ',\n",
       "       'Ankole coffee producers coop', 'Nishant Gurjer', 'Andrew Hetzel',\n",
       "       'UGACOF', 'Katuka Development Trust Ltd',\n",
       "       'Kasozi Coffee Farmers Association', 'Nitubaasa Ltd',\n",
       "       'Mannya coffee project', 'Luis Robles', 'James Moore'],\n",
       "      dtype=object)"
      ]
     },
     "execution_count": 28,
     "metadata": {},
     "output_type": "execute_result"
    }
   ],
   "source": [
    "coffee_data['combined_owner'].unique()"
   ]
  },
  {
   "cell_type": "markdown",
   "id": "ea50d9e7-1ebf-439d-89b7-f62a43624a05",
   "metadata": {},
   "source": [
    "Check if there are common elements (intersection):"
   ]
  },
  {
   "cell_type": "code",
   "execution_count": 29,
   "id": "9efe1e9a-e941-4be7-98a8-28fd56f91264",
   "metadata": {},
   "outputs": [
    {
     "name": "stdout",
     "output_type": "stream",
     "text": [
      "Common elements between combined_owner and producer:\n",
      "{nan, 'EDUARDO LUIS AUGUSTO VELAZQUEZ SOLIS', 'U Soe', 'Selian Coffee Estate', 'GUSTAVO ABARCA SOLIS', 'SERGIO LANDA ALARCON', 'ROSA AURORA FALCON FERNANDEZ', 'UGACOF', 'HECTOR GABRIEL BARREDA NADER', 'MARIA DE LA PAZ AGUILAR GUILLEN', 'Mlimani Ngarashi', 'MODESTO LANDEROS FLORES', 'OLIVIA HERNANDEZ VIRVES', 'SANTIAGO SOLIS AYERDI', 'MARIA IMELDA USCANGA MARTINEZ', 'MARIA GUADALUPE GOMEZ ANZO', 'Bulamburi coffee farmers association', 'Acacia Hills Ltd', 'Doi Tung Development Project', 'GONZALO DE AQUINO FLORES', 'SEMIRAMIS CASAS VELAZQUEZ', 'CAFES TOMARI SA DE CV', 'JUAN HERMILIO SAMPIERI CARCAMO', 'EUGENE HOLMAN PEW', 'JUAN LUIS ORTEGA CARBALLO', 'Nyapea coffee farmers association', 'Asociación Aldea Global Jinotega', 'RICARDO AARON SAMPIERI MARINI', 'ANDRES MARTINEZ LEON', 'Delfina Leon Shine', 'PABLO ENRIQUE MARTINEZ GAMA', 'Ipanema Coffees', 'OSCAR ORTEGA CARBALLO', 'Katuka Development Trust Ltd', 'ROBERTO LICONA FRANCO', 'Nile Highland Arabica Coffee Farmers', 'Kongoni Estate', 'Nishant Gurjer', 'Assefa Belay Coffee Producer', 'MARCO VIRGILIO RAMIREZ TELIZ', 'MANUEL HERRERA JUAREZ', 'Ngila Estate Ltd', 'DAMASO MARTINEZ PEREZ', 'JORGE FRANCISCO MARTINEZ HACHITY', 'FEDERICO PACHECO PEREZ', 'Diamond Enterprise Plc', 'ROMULO BELLO FLORES', 'U Htun Htun', 'JUAN AVENAMAR RODRIGUEZ FUNEZ', 'Immaculata John', 'ADRIANA TORRES RICO QUEVEDO', 'JESUS SALAZAR VELASCO', 'TOMAS EDELMANN BLASS', 'Karatu Estate', 'ERNESTO RODRIGUEZ LUNA', 'Min Hlaing', 'Kona Pacific Farmers Cooperative', 'FILEMON MENDOZA CAMPOS', 'ERIC JESUS CORDOBA ARROYO', 'Kyagalanyi Coffee Ltd', 'Tutunze Kahawa Ltd', 'Shah Plantations', 'Rolando Lacayo', 'Tembo Coffee Company Ltd', 'ARMANDO LUIS POHLENZ MARTINEZ', 'ARTEMIO ZAPATA TEJEDA', 'SERGIO DE LA VEQUIA BERNARDI', 'ENRIQUE MITRE LOPEZ', 'JORGE OCTAVIO ESCAMILLA PRADO', 'Mannya coffee project', 'MARIA LUISA DEL CARMEN ROJAS NARVAEZ', 'Ankole coffee producers coop', 'U Mg Mg', 'JUANA RODRIGUEZ GUTIERREZ', 'Kao Ming Lee', 'MARIA AMALIA GUADALUPE TORIELLO ELORZA', 'Case Noyale Ltd', 'VICTOR HUGO MELCHOR CORDOVA', 'Finca Estate', 'GUILLERMO EDUARDO BOBADILLA MUGUIRA', 'JOSE DANIEL COBILT CASTRO', 'JUAN GARCIA HERNANDEZ', 'BALBINO RAMIREZ FLORES', 'Ngorogoro Convenant Estate', 'Kawacom Uganda LTD', 'Nitin Coffee Estate', 'Amkeni Gourmet Coffee Group', 'FERNANDO MENDOZA APARICIO', 'SALVADOR CARO CARRION', 'PABLO CERVANTES MORELOS        '}\n",
      "There is a link between combined_owner and producer.\n"
     ]
    }
   ],
   "source": [
    "unique_combined_owners = coffee_data['combined_owner'].unique()\n",
    "unique_producers = coffee_data['producer'].unique()\n",
    "\n",
    "set_combined_owners = set(unique_combined_owners)\n",
    "set_producers = set(unique_producers)\n",
    "\n",
    "common_elements = set_combined_owners.intersection(set_producers)\n",
    "\n",
    "print(\"Common elements between combined_owner and producer:\")\n",
    "print(common_elements)\n",
    "\n",
    "if common_elements:\n",
    "    print(\"There is a link between combined_owner and producer.\")\n",
    "else:\n",
    "    print(\"There is no direct link between combined_owner and producer.\")"
   ]
  },
  {
   "cell_type": "markdown",
   "id": "30c53923-1b72-4500-af0a-47fdca9f57e9",
   "metadata": {},
   "source": [
    "### Problem 8. Coffee color by country and continent (1 point)\n",
    "Create a table which shows how many coffees of each color are there in every country. Leave the missing values as they are.\n",
    "\n",
    "**Note:** If you ask me, countries should be in rows, I prefer long tables much better than wide ones.\n",
    "\n",
    "Now do the same for continents. You know what continent each country is located in."
   ]
  },
  {
   "cell_type": "code",
   "execution_count": 30,
   "id": "72cbe6a9-ca71-4826-806d-562bc30b40d2",
   "metadata": {},
   "outputs": [
    {
     "name": "stdout",
     "output_type": "stream",
     "text": [
      "Coffee Color by Country:\n",
      "color                         Blue-Green  Bluish-Green  Green  None\n",
      "country_of_origin                                                  \n",
      "Brazil                              14.0          12.0   92.0   2.0\n",
      "Burundi                              NaN           NaN    1.0   NaN\n",
      "China                                NaN           NaN   16.0   NaN\n",
      "Colombia                             8.0           8.0  118.0   1.0\n",
      "Costa Rica                          10.0           9.0   28.0   2.0\n",
      "Cote d?Ivoire                        NaN           1.0    NaN   NaN\n",
      "Ecuador                              2.0           1.0    NaN   NaN\n",
      "El Salvador                          2.0           2.0    9.0   2.0\n",
      "Ethiopia                             NaN           2.0   15.0   1.0\n",
      "Guatemala                            2.0           7.0  159.0   2.0\n",
      "Haiti                                1.0           1.0    2.0   NaN\n",
      "Honduras                             3.0           2.0   47.0   1.0\n",
      "India                                1.0           2.0   10.0   NaN\n",
      "Indonesia                            4.0           3.0    6.0   2.0\n",
      "Japan                                NaN           NaN    1.0   NaN\n",
      "Kenya                                3.0           6.0   14.0   NaN\n",
      "Laos                                 1.0           1.0    1.0   NaN\n",
      "Malawi                               1.0           4.0    6.0   NaN\n",
      "Mauritius                            NaN           NaN    1.0   NaN\n",
      "Mexico                               7.0           7.0  156.0  34.0\n",
      "Myanmar                              NaN           NaN    7.0   NaN\n",
      "Nicaragua                            NaN           2.0   19.0   NaN\n",
      "Panama                               NaN           1.0    2.0   NaN\n",
      "Papua New Guinea                     NaN           1.0    NaN   NaN\n",
      "Peru                                 NaN           2.0    6.0   NaN\n",
      "Philippines                          1.0           1.0    2.0   1.0\n",
      "Rwanda                               NaN           1.0    NaN   NaN\n",
      "Taiwan                              14.0           5.0   50.0   NaN\n",
      "Tanzania, United Republic Of         NaN           7.0   32.0   NaN\n",
      "Thailand                             3.0           7.0   10.0   NaN\n",
      "Uganda                               2.0           1.0   32.0   NaN\n",
      "United States                        NaN           NaN    1.0   1.0\n",
      "United States (Hawaii)               6.0          16.0   21.0   NaN\n",
      "United States (Puerto Rico)          NaN           1.0    3.0   NaN\n",
      "Vietnam                              NaN           1.0    3.0   3.0\n"
     ]
    }
   ],
   "source": [
    "color_by_country = coffee_data.groupby(['country_of_origin', 'color']).size().reset_index(name='count')\n",
    "\n",
    "# Pivot the table to have countries as rows and colors as columns\n",
    "color_by_country_pivot = color_by_country.pivot(index='country_of_origin', columns='color', values='count')\n",
    "\n",
    "print(\"Coffee Color by Country:\")\n",
    "print(color_by_country_pivot)"
   ]
  },
  {
   "cell_type": "code",
   "execution_count": 31,
   "id": "ebaccd50-e90a-45aa-a9ab-364ec3bf47d5",
   "metadata": {},
   "outputs": [
    {
     "data": {
      "text/plain": [
       "0              Africa\n",
       "1              Africa\n",
       "2       North America\n",
       "3              Africa\n",
       "4              Africa\n",
       "            ...      \n",
       "1334    South America\n",
       "1335    South America\n",
       "1336    North America\n",
       "1337             Asia\n",
       "1338             Asia\n",
       "Name: continent, Length: 1339, dtype: object"
      ]
     },
     "execution_count": 31,
     "metadata": {},
     "output_type": "execute_result"
    }
   ],
   "source": [
    "# Mapping of countries to continents\n",
    "country_to_continent = {\n",
    "    'Ethiopia': 'Africa',\n",
    "    'Guatemala': 'North America',\n",
    "    'Brazil': 'South America',\n",
    "    'Peru': 'South America',\n",
    "    'United States': 'North America',\n",
    "    'United States (Hawaii)': 'North America',\n",
    "    'Indonesia': 'Asia',\n",
    "    'China': 'Asia',\n",
    "    'Costa Rica': 'North America',\n",
    "    'Mexico': 'North America',\n",
    "    'Uganda': 'Africa',\n",
    "    'Honduras': 'North America',\n",
    "    'Taiwan': 'Asia',\n",
    "    'Nicaragua': 'North America',\n",
    "    'Tanzania, United Republic Of': 'Africa',\n",
    "    'Kenya': 'Africa',\n",
    "    'Thailand': 'Asia',\n",
    "    'Colombia': 'South America',\n",
    "    'Panama': 'North America',\n",
    "    'Papua New Guinea': 'Oceania',\n",
    "    'El Salvador': 'North America',\n",
    "    'Japan': 'Asia',\n",
    "    'Ecuador': 'South America',\n",
    "    'United States (Puerto Rico)': 'North America',\n",
    "    'Haiti': 'North America',\n",
    "    'Burundi': 'Africa',\n",
    "    'Vietnam': 'Asia',\n",
    "    'Philippines': 'Asia',\n",
    "    'Rwanda': 'Africa',\n",
    "    'Malawi': 'Africa',\n",
    "    'Laos': 'Asia',\n",
    "    'Zambia': 'Africa',\n",
    "    'Myanmar': 'Asia',\n",
    "    'Mauritius': 'Africa',\n",
    "    'Cote d?Ivoire': 'Africa',\n",
    "    'Unknown': 'Unknown',\n",
    "    'India': 'Asia'\n",
    "}\n",
    "\n",
    "# Add a new column 'continent' based on the mapping\n",
    "coffee_data['continent'] = coffee_data['country_of_origin'].map(country_to_continent)\n",
    "\n",
    "coffee_data['continent']"
   ]
  },
  {
   "cell_type": "code",
   "execution_count": 32,
   "id": "de669bf9-c3d5-42b9-b040-0612d330cbab",
   "metadata": {},
   "outputs": [
    {
     "name": "stdout",
     "output_type": "stream",
     "text": [
      "\n",
      "Coffee Color by Continent:\n",
      "color          Blue-Green  Bluish-Green  Green  None\n",
      "continent                                           \n",
      "Africa                6.0          22.0  101.0   1.0\n",
      "Asia                 24.0          20.0  106.0   6.0\n",
      "North America        31.0          48.0  447.0  42.0\n",
      "Oceania               NaN           1.0    NaN   NaN\n",
      "South America        24.0          23.0  216.0   3.0\n"
     ]
    }
   ],
   "source": [
    "# Group by continent and color, then count occurrences\n",
    "color_by_continent = coffee_data.groupby(['continent', 'color']).size().reset_index(name='count')\n",
    "\n",
    "# Pivot the table to have continents as rows and colors as columns\n",
    "color_by_continent_pivot = color_by_continent.pivot(index='continent', columns='color', values='count')\n",
    "\n",
    "print(\"\\nCoffee Color by Continent:\")\n",
    "print(color_by_continent_pivot)"
   ]
  },
  {
   "cell_type": "markdown",
   "id": "27095ced-7179-4ee4-94d3-7d94450b4120",
   "metadata": {},
   "source": [
    "### Problem 9. Ratings (1 point)\n",
    "The columns `Aroma`, `Flavor`, etc., up to `Moisture` represent subjective ratings. Explore them. Show the means and range; draw histograms and / or boxplots as needed. You can even try correlations if you want. What's up with all those ratings?"
   ]
  },
  {
   "cell_type": "markdown",
   "id": "d587bf74-c0dd-4eb7-8cf2-4dece6d0a2b6",
   "metadata": {},
   "source": [
    "Calculate summary statistics for the ratings:"
   ]
  },
  {
   "cell_type": "code",
   "execution_count": 33,
   "id": "d08ee355-dcbb-4657-a814-cdcfbd455c42",
   "metadata": {},
   "outputs": [
    {
     "name": "stdout",
     "output_type": "stream",
     "text": [
      "             aroma       flavor   aftertaste      acidity         body  \\\n",
      "count  1339.000000  1339.000000  1339.000000  1339.000000  1339.000000   \n",
      "mean      7.566706     7.520426     7.401083     7.535706     7.517498   \n",
      "std       0.377560     0.398442     0.404463     0.379827     0.370064   \n",
      "min       0.000000     0.000000     0.000000     0.000000     0.000000   \n",
      "25%       7.420000     7.330000     7.250000     7.330000     7.330000   \n",
      "50%       7.580000     7.580000     7.420000     7.580000     7.500000   \n",
      "75%       7.750000     7.750000     7.580000     7.750000     7.670000   \n",
      "max       8.750000     8.830000     8.670000     8.750000     8.580000   \n",
      "\n",
      "           balance   uniformity    clean_cup    sweetness  cupper_points  \\\n",
      "count  1339.000000  1339.000000  1339.000000  1339.000000    1339.000000   \n",
      "mean      7.518013     9.834877     9.835108     9.856692       7.503376   \n",
      "std       0.408943     0.554591     0.763946     0.616102       0.473464   \n",
      "min       0.000000     0.000000     0.000000     0.000000       0.000000   \n",
      "25%       7.330000    10.000000    10.000000    10.000000       7.250000   \n",
      "50%       7.500000    10.000000    10.000000    10.000000       7.500000   \n",
      "75%       7.750000    10.000000    10.000000    10.000000       7.750000   \n",
      "max       8.750000    10.000000    10.000000    10.000000      10.000000   \n",
      "\n",
      "       total_cup_points     moisture  \n",
      "count       1339.000000  1339.000000  \n",
      "mean          82.089851     0.088379  \n",
      "std            3.500575     0.048287  \n",
      "min            0.000000     0.000000  \n",
      "25%           81.080000     0.090000  \n",
      "50%           82.500000     0.110000  \n",
      "75%           83.670000     0.120000  \n",
      "max           90.580000     0.280000  \n"
     ]
    }
   ],
   "source": [
    "ratings_columns = ['aroma', 'flavor', 'aftertaste', 'acidity', 'body', \n",
    "                   'balance', 'uniformity', 'clean_cup', 'sweetness', \n",
    "                   'cupper_points', 'total_cup_points', 'moisture']\n",
    "\n",
    "ratings_summary = coffee_data[ratings_columns].describe()\n",
    "print(ratings_summary)"
   ]
  },
  {
   "cell_type": "code",
   "execution_count": 34,
   "id": "c7172470-189f-4c6b-8996-a0448d3dfd21",
   "metadata": {},
   "outputs": [
    {
     "data": {
      "image/png": "[encoded data removed]",
      "text/plain": [
       "<Figure size 1080x720 with 12 Axes>"
      ]
     },
     "metadata": {
      "needs_background": "light"
     },
     "output_type": "display_data"
    },
    {
     "data": {
      "image/png": "[encoded data removed]",
      "text/plain": [
       "<Figure size 864x576 with 1 Axes>"
      ]
     },
     "metadata": {
      "needs_background": "light"
     },
     "output_type": "display_data"
    }
   ],
   "source": [
    "# Histograms\n",
    "plt.figure(figsize=(15, 10))\n",
    "for i, col in enumerate(ratings_columns):\n",
    "    plt.subplot(3, 4, i + 1)\n",
    "    sns.histplot(coffee_data[col], kde=True, bins=20)\n",
    "    plt.title(f'Histogram of {col}')\n",
    "    plt.xlabel(col)\n",
    "    plt.ylabel('Frequency')\n",
    "plt.tight_layout()\n",
    "plt.show()\n",
    "\n",
    "# Boxplots\n",
    "plt.figure(figsize=(12, 8))\n",
    "sns.boxplot(data=coffee_data[ratings_columns], orient='h', palette='Set2')\n",
    "plt.title('Boxplots of Coffee Ratings')\n",
    "plt.xlabel('Rating Scale')\n",
    "plt.show()"
   ]
  },
  {
   "cell_type": "markdown",
   "id": "8ae01325-2957-4e47-bd7b-5d085d8ace5e",
   "metadata": {},
   "source": [
    "**Correlation Analysis:**"
   ]
  },
  {
   "cell_type": "code",
   "execution_count": 35,
   "id": "2311ab92-83f2-4617-a09f-9f7b04cf904a",
   "metadata": {},
   "outputs": [
    {
     "data": {
      "image/png": "[encoded data removed]",
      "text/plain": [
       "<Figure size 720x576 with 2 Axes>"
      ]
     },
     "metadata": {
      "needs_background": "light"
     },
     "output_type": "display_data"
    }
   ],
   "source": [
    "# Correlation matrix\n",
    "correlation_matrix = coffee_data[ratings_columns].corr()\n",
    "\n",
    "# Heatmap\n",
    "plt.figure(figsize=(10, 8))\n",
    "sns.heatmap(correlation_matrix, annot=True, cmap='coolwarm', vmin=-1, vmax=1)\n",
    "plt.title('Correlation Heatmap of Coffee Ratings')\n",
    "plt.show()"
   ]
  },
  {
   "cell_type": "markdown",
   "id": "92054218-978d-48c6-b7aa-36226837354c",
   "metadata": {},
   "source": [
    "### Problem 10. High-level errors (1 point)\n",
    "Check the countries against region names, altitudes, and companies. Are there any discrepancies (e.g. human errors, like a region not matching the country)? Take a look at the (cleaned) altitudes; there has been a lot of preprocessing done to them. Was it done correctly?"
   ]
  },
  {
   "cell_type": "markdown",
   "id": "ec9e3c25-0265-4008-af65-418426d8ba14",
   "metadata": {},
   "source": [
    "Let's check for discrepancies between country_of_origin and region"
   ]
  },
  {
   "cell_type": "code",
   "execution_count": 36,
   "id": "a971e5dd-4bb1-4ad6-bcbc-3cceab758f5d",
   "metadata": {},
   "outputs": [
    {
     "name": "stdout",
     "output_type": "stream",
     "text": [
      "Discrepancies between country_of_origin and region:\n",
      "     country_of_origin                         region\n",
      "0             Ethiopia                   guji-hambela\n",
      "1             Ethiopia                   guji-hambela\n",
      "2            Guatemala                            NaN\n",
      "3             Ethiopia                         oromia\n",
      "4             Ethiopia                   guji-hambela\n",
      "...                ...                            ...\n",
      "1334           Ecuador               san juan, playas\n",
      "1335           Ecuador               san juan, playas\n",
      "1336     United States  kwanza norte province, angola\n",
      "1337             India                            NaN\n",
      "1338           Vietnam                            NaN\n",
      "\n",
      "[1339 rows x 2 columns]\n"
     ]
    }
   ],
   "source": [
    "discrepancies = coffee_data[coffee_data['country_of_origin'] != coffee_data['region']][['country_of_origin', 'region']]\n",
    "print(\"Discrepancies between country_of_origin and region:\")\n",
    "print(discrepancies)"
   ]
  },
  {
   "cell_type": "markdown",
   "id": "cf438fc1-412a-43ad-ad72-f0b7e9822bba",
   "metadata": {},
   "source": [
    "Validate cleaned altitudes. For example, check unique values or inspect a sample:"
   ]
  },
  {
   "cell_type": "code",
   "execution_count": 37,
   "id": "5ee4a107-02d3-4386-b0e7-70bd0fcaecd1",
   "metadata": {},
   "outputs": [
    {
     "name": "stdout",
     "output_type": "stream",
     "text": [
      "Unique altitudes after preprocessing:\n",
      "['1950-2200' '1600 - 1800 m' '1800-2200' nan '1570-1700' '1795-1850'\n",
      " '1855-1955' 'meters above sea level: 1.872'\n",
      " 'meters above sea level: 1.943' '2000 ft' 'meters above sea level: 2.080'\n",
      " '1200-1800m' '1450' '1700-2000m' 'meters above sea level: 2.019'\n",
      " '1300 msnm' '1320' 'meters above sea level: 2.112' '1250m' '1950' '1400'\n",
      " '1200' '1300' '1750-1800' '1800' 'meters above sea level: 1.941' '1.2'\n",
      " '1000 m' '1754' '900-1500m' '1520m-2200m' '1400-1900m' '1500-2000 m'\n",
      " '1400ft' '1400-1900' '1800 msnm' '1600' '1800-2000' '5000' '4650'\n",
      " '1700 mts' '1500 meters' '1300~1400 m.s.l' '1680' '1900m'\n",
      " '5600-5760 metros' '1400 m' '1700' '1770' 'above 1600 m' 'above 1200 m'\n",
      " '1550 msnm' '1550' '1250-1400 meter' '1400 msm' '2.560 msnm' '2136 msnm'\n",
      " '1900' '-1' '1580' '1100m' '1400 masl' '3500-5200 feet'\n",
      " 'de 1600 a 1950 msnm' '800 m' '1620m' '1200m' '350' '1450 msnm'\n",
      " '1200 mts' '800-1050m' '1350' '170' '1150' '1750' '1750m' '2000' '4300'\n",
      " '1700-1850m' '1500' '5000 ft.' '4000 psn' '1600 a 1900 msnm' '1750 msnm'\n",
      " '1450 ~ 1700 m' '1300m' 'above 1100m' '2000 m' 'mmm' 'test' '900'\n",
      " '442 msnm' '1200m to 1350m' '900-1200m' '3600-6200 ft' '4400-4700 ft'\n",
      " '1000' '2560' '3607' '4000 psnm' '1170' '1700m' '3664' '1565' '3280'\n",
      " 'de 900 a 1100 msnm' '1850' '1545-1668 masl' '1530'\n",
      " \"approx. 1'500 metres a.s.l.\" '894m - 1183m' '1500-1700m' '442' '968'\n",
      " '1480' '1800m' '5440 - 5760 metros' '1550 m' '1260' '1700 msnm' '1650'\n",
      " '890' '934' '950公尺' '2527' '1' '480-570m' '1650-1703' '1200-1400'\n",
      " '800 meters above sea level' '1218' '1.250 m' '4921ft' '750' '2800 ft'\n",
      " '1500-1600' '700' '1300 mts' '1600 m.s.n.m' '1600 msnm' '1250' '800++'\n",
      " '1550-1700m' '4451 metros' '1800 - 2000' '1100' '1200-1600masl' '3702'\n",
      " 'de 1.600 a 1.950 msnm' '1799' '4000' '1400m' '1600 on average'\n",
      " '1850 msnm' '1400 mts' '940' '4600 ft.' '439' '1330' '1813' '1500 msnm'\n",
      " '900-1200mtr' '1227' '1650 msnm' '1100-1300' '4200 feet' '1000 msnm'\n",
      " '1880' '2100' '1261' '800公尺' '1483' '175' '1600-1800msnm' '1880 msnm'\n",
      " '1800 m.s.n.m' '1901' '16.8' '1500msnm' '1400-1900 psn'\n",
      " \"approx.1'500 metres a.s.l.\" '1653' '1450 msnn' '5000 pies' '532' '1089'\n",
      " '1380' '1000m' '950m' '900m' '1850 m' '905' '700-800m' '1300 m'\n",
      " 'de 1.600 a 1.950 msn' '1300-1400m' '894' '872' '1473' '1645'\n",
      " '1300 a 1800 metros sobre el nivel del mar' '4500 pies' '900-1100'\n",
      " '1600 - 1950 msnm' '1500-1750 msnm' '4500' '1050 - 1850 msnm' '775'\n",
      " '1200 masl' '1600 + meters above sea level' '1059' '1300 meters'\n",
      " '11000 metros' '5440-5760 metros' '1248' '1040m' '1040' '4000psn'\n",
      " '1200-2000m' '1200 m' '1800 mts' '1400 meter above sea level' '518' '650'\n",
      " '1442 m' '1.65' '1400 thru 1850' '1200公尺' '1296' '1400- 1900' '1240 m'\n",
      " '950' '1800 meters (5900' '1050' '200 m' '1200-1300m dpl' '1400-1500 m'\n",
      " '1317' '900-1050m' '1679' '2285' 'huanuco' '1560' '1750 m.s.n.m' '1396'\n",
      " '982' '1268' '5500 metros' '1450 m' '600 m' '5500-6000 psnm' '441'\n",
      " '1200 a 1400' '1180m' '650 m' '1338' '533' '4563' '1500-1800'\n",
      " '1200-1600m' '1144' '1200-1400 masl' '1500 - 1700' '1.3' '944'\n",
      " '1300- 1400' '2500m' '600m' '1400 m.s.n.m.' '600-700 m' '1050m' '1020'\n",
      " '1300 a 1800 mtrs. a nivel del mar' '1877' '1000-1500m' '981' '690' '973'\n",
      " '4001' '1350-1500' '1400 msnm' '700m' '1556m' '1550 meters'\n",
      " 'de 1.600 a 1950 msnm' '900-950m' '1600-1800 msnm' '774' '150 m' '750 m'\n",
      " '190164' '800' '850 m' '4500-6000 feet' '160-200m' '4000 ft' '1200 msm'\n",
      " '1599m' '900 m' '400-1250m' '1.25' '1050 - 1850' '110公尺' '1422'\n",
      " '1550 mts.' '1550 meter' '763' '1130' '680' '1400 msn' '5000 f'\n",
      " '100/2000' '1450 mals' '990-1000m' '0' '695' '1100 m.o.s.l.' '5600 feet'\n",
      " '1456' '1500 mts' '1642' '758m' '1350 snn' '1525 m' '1100 m' '200'\n",
      " '3500 ft' '550公尺' 'between 700 and 1400 meters' '688 m' '300 m' '1186'\n",
      " '1210' '100' '3825' '1100.00 mosl' '1450 masl' '1680m' '~1000 meters'\n",
      " '1200-1500' '1.85' '4540 metros' '50' '280' '1250 m' '3800'\n",
      " '4000 p.s.n.m.' '6100 metros' '600公尺' '1450m' '995' '3000 ft' '4287'\n",
      " '900 m.s.n.m.' '700 m' '808' '1100 - 1275 mts' '850公尺' '250 m' '3845'\n",
      " '1300 to 1500 meters' '1901.64' '800-1200' '500-700m' '1022' '975' '1264'\n",
      " '3500 - 5200 feet' '700m公尺' '850' '12oo' '800m' '1600 meters'\n",
      " '4000 p.s.n.m' '1200 meters' '750-800 m' '900-1500 masl' '3500'\n",
      " '1000+ meters' '1280' '1140' '640m-1400m' '1000 meters' '~350m' '1488'\n",
      " '3170' '1212' '1200-1300' \"3000'\" '750m' '3140' '900-1300' '1095' '1367'\n",
      " '1745' '40' '795 meters']\n"
     ]
    }
   ],
   "source": [
    "print(\"Unique altitudes after preprocessing:\")\n",
    "print(coffee_data['altitude'].unique())"
   ]
  },
  {
   "cell_type": "markdown",
   "id": "f57b8755-00c8-4b28-b3b5-4f0495d1ba53",
   "metadata": {},
   "source": [
    "Ensure Consistency in Companies:"
   ]
  },
  {
   "cell_type": "code",
   "execution_count": 38,
   "id": "2bf06405-eb14-4203-885a-61a56eb0c9ac",
   "metadata": {},
   "outputs": [
    {
     "name": "stdout",
     "output_type": "stream",
     "text": [
      "Top 10 companies by count:\n",
      "unex guatemala, s.a.                86\n",
      "ipanema coffees                     50\n",
      "exportadora de cafe condor s.a      40\n",
      "racafe & cia s.c.a                  40\n",
      "kona pacific farmers cooperative    40\n",
      "blossom valley宸嶧國際                  25\n",
      "carcafe ltda                        25\n",
      "nucoffee                            24\n",
      "taiwan coffee laboratory            20\n",
      "宸嶧國際                                19\n",
      "Name: company, dtype: int64\n"
     ]
    }
   ],
   "source": [
    "# Check for consistency in company names\n",
    "company_counts = coffee_data['company'].value_counts()\n",
    "print(\"Top 10 companies by count:\")\n",
    "print(company_counts.head(10))"
   ]
  },
  {
   "cell_type": "markdown",
   "id": "3c3b5118-9f8e-45c2-a200-1be89fa4b3bf",
   "metadata": {},
   "source": [
    "### * Problem 11. Clean and explore at will\n",
    "The dataset claimed to be clean, but we were able to discover a lot of things to fix and do better.\n",
    "\n",
    "Play around with the data as much as you wish, and if you find variables to tidy up and clean - by all means, do that!"
   ]
  }
 ],
 "metadata": {
  "kernelspec": {
   "display_name": "Python 3 (ipykernel)",
   "language": "python",
   "name": "python3"
  },
  "language_info": {
   "codemirror_mode": {
    "name": "ipython",
    "version": 3
   },
   "file_extension": ".py",
   "mimetype": "text/x-python",
   "name": "python",
   "nbconvert_exporter": "python",
   "pygments_lexer": "ipython3",
   "version": "3.9.12"
  }
 },
 "nbformat": 4,
 "nbformat_minor": 5
}
