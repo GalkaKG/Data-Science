{
 "cells": [
  {
   "cell_type": "code",
   "execution_count": 3,
   "id": "0beb6358-9c07-427a-8ed4-50b27ee51de1",
   "metadata": {},
   "outputs": [],
   "source": [
    "%matplotlib inline"
   ]
  },
  {
   "cell_type": "code",
   "execution_count": 2,
   "id": "8acd9f75-192c-4873-99d2-5bad8602192c",
   "metadata": {},
   "outputs": [],
   "source": [
    "import numpy as np\n",
    "import pandas as pd\n",
    "import matplotlib.pyplot as plt"
   ]
  },
  {
   "cell_type": "markdown",
   "id": "8d0b328e-35e3-44d3-86a2-a66eb5bad919",
   "metadata": {},
   "source": [
    "# Data Visualization and EDA (Exploratory Data Analysis)\n",
    "\n",
    "\n",
    "Ще видим как се прави визуализация на данни и анализ. Двете неща са различни,\n",
    "Първата ни работа е да видим какво има в данните (data mining или information extraction). \n",
    "\n",
    "Трябва да изкараме полезната информация от данните. В това число да се опитаме да разберем какво става с тях. Това е EDA. Анализ на данни с цел запознаване."
   ]
  },
  {
   "cell_type": "code",
   "execution_count": null,
   "id": "77103657-1013-4fa6-8154-029540b4bb07",
   "metadata": {},
   "outputs": [],
   "source": []
  }
 ],
 "metadata": {
  "kernelspec": {
   "display_name": "Python 3 (ipykernel)",
   "language": "python",
   "name": "python3"
  },
  "language_info": {
   "codemirror_mode": {
    "name": "ipython",
    "version": 3
   },
   "file_extension": ".py",
   "mimetype": "text/x-python",
   "name": "python",
   "nbconvert_exporter": "python",
   "pygments_lexer": "ipython3",
   "version": "3.9.12"
  }
 },
 "nbformat": 4,
 "nbformat_minor": 5
}
