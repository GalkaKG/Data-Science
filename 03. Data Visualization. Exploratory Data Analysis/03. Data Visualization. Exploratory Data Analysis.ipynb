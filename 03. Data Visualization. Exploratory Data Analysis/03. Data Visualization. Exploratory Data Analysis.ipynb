{
 "cells": [
  {
   "cell_type": "code",
   "execution_count": 3,
   "id": "0beb6358-9c07-427a-8ed4-50b27ee51de1",
   "metadata": {},
   "outputs": [],
   "source": [
    "%matplotlib inline"
   ]
  },
  {
   "cell_type": "code",
   "execution_count": 4,
   "id": "8acd9f75-192c-4873-99d2-5bad8602192c",
   "metadata": {},
   "outputs": [],
   "source": [
    "import numpy as np\n",
    "import pandas as pd\n",
    "import matplotlib.pyplot as plt"
   ]
  },
  {
   "cell_type": "markdown",
   "id": "8d0b328e-35e3-44d3-86a2-a66eb5bad919",
   "metadata": {},
   "source": [
    "# Data Visualization and EDA (Exploratory Data Analysis)\n",
    "\n",
    "## Live Demos"
   ]
  },
  {
   "cell_type": "markdown",
   "id": "38bc3972-5fe6-4a1d-934d-5c9cefa544f9",
   "metadata": {},
   "source": []
  }
 ],
 "metadata": {
  "kernelspec": {
   "display_name": "Python 3 (ipykernel)",
   "language": "python",
   "name": "python3"
  },
  "language_info": {
   "codemirror_mode": {
    "name": "ipython",
    "version": 3
   },
   "file_extension": ".py",
   "mimetype": "text/x-python",
   "name": "python",
   "nbconvert_exporter": "python",
   "pygments_lexer": "ipython3",
   "version": "3.9.12"
  }
 },
 "nbformat": 4,
 "nbformat_minor": 5
}
