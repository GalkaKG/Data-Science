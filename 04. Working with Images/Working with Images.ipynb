{
 "cells": [
  {
   "cell_type": "markdown",
   "id": "e27b7b54-f605-4597-8952-7153435e59a4",
   "metadata": {},
   "source": [
    "# Working with Images"
   ]
  },
  {
   "cell_type": "markdown",
   "id": "0ce13eb3-81dc-42f1-9381-6904ffcb090b",
   "metadata": {},
   "source": [
    "Една голяма част от данните, които получаваме в нашето съвремие са неструктурирани.\n",
    "Структурирани данни са тези, които имат модел или тези, които можем да организираме в таблица с редове и колони, таблица която можем да подредим по правилата за нормализация.\n",
    "\n",
    "Сравнително често се получава така, че данните ни са някаква смесица, така нареченият хетерогенен, с различни произходи, дейта сет.\n",
    "\n",
    "Начинът по който получаваме данните, видът в който се намират те, се нарича модалност(modality)."
   ]
  }
 ],
 "metadata": {
  "kernelspec": {
   "display_name": "Python 3 (ipykernel)",
   "language": "python",
   "name": "python3"
  },
  "language_info": {
   "codemirror_mode": {
    "name": "ipython",
    "version": 3
   },
   "file_extension": ".py",
   "mimetype": "text/x-python",
   "name": "python",
   "nbconvert_exporter": "python",
   "pygments_lexer": "ipython3",
   "version": "3.9.12"
  }
 },
 "nbformat": 4,
 "nbformat_minor": 5
}
