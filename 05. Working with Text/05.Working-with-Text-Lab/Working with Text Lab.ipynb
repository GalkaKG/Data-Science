{
 "cells": [
  {
   "cell_type": "code",
   "execution_count": 1,
   "id": "bb8c5630-11b2-41b9-98a2-f67d6cebc323",
   "metadata": {},
   "outputs": [],
   "source": [
    "import numpy as np\n",
    "import pandas as pd\n",
    "import matplotlib.pyplot as plt\n",
    "\n",
    "import string\n",
    "from collections import Counter\n",
    "\n",
    "import nltk\n",
    "from nltk.corpus import stopwords\n",
    "from nltk.tokenize import word_tokenize\n",
    "from nltk.stem import WordNetLemmatizer\n",
    "\n",
    "from sklearn.feature_extraction.text import CountVectorizer"
   ]
  },
  {
   "cell_type": "markdown",
   "id": "0375379c-19e4-4e50-9f63-5c74cf81ece5",
   "metadata": {},
   "source": [
    "# Working with Text Lab\n",
    "## Information retrieval, preprocessing, and feature extraction"
   ]
  },
  {
   "cell_type": "markdown",
   "id": "d92edf71-988c-4e95-b17f-987095e9246a",
   "metadata": {},
   "source": [
    "In this lab, you'll be looking at and exploring European restaurant reviews. The dataset is rather tiny, but that's just because it has to run on any machine. In real life, just like with images, texts can be several terabytes long.\n",
    "\n",
    "The dataset is located [here](https://www.kaggle.com/datasets/gorororororo23/european-restaurant-reviews) and as always, it's been provided to you in the `data/` folder."
   ]
  },
  {
   "cell_type": "markdown",
   "id": "888cf2cf-1cd7-4538-a7a2-462e80b1df99",
   "metadata": {},
   "source": [
    "### Problem 1. Read the dataset (1 point)\n",
    "Read the dataset, get acquainted with it. Ensure the data is valid before you proceed.\n",
    "\n",
    "How many observations are there? Which country is the most represented? What time range does the dataset represent?\n",
    "\n",
    "Is the sample balanced in terms of restaurants, i.e., do you have an equal number of reviews for each one? Most importantly, is the dataset balanced in terms of **sentiment**?"
   ]
  },
  {
   "cell_type": "code",
   "execution_count": 2,
   "id": "596f1cf0-acfe-4e05-a953-6a2fc1ea2463",
   "metadata": {},
   "outputs": [
    {
     "data": {
      "text/html": [
       "<div>\n",
       "<style scoped>\n",
       "    .dataframe tbody tr th:only-of-type {\n",
       "        vertical-align: middle;\n",
       "    }\n",
       "\n",
       "    .dataframe tbody tr th {\n",
       "        vertical-align: top;\n",
       "    }\n",
       "\n",
       "    .dataframe thead th {\n",
       "        text-align: right;\n",
       "    }\n",
       "</style>\n",
       "<table border=\"1\" class=\"dataframe\">\n",
       "  <thead>\n",
       "    <tr style=\"text-align: right;\">\n",
       "      <th></th>\n",
       "      <th>Country</th>\n",
       "      <th>Restaurant Name</th>\n",
       "      <th>Sentiment</th>\n",
       "      <th>Review Title</th>\n",
       "      <th>Review Date</th>\n",
       "      <th>Review</th>\n",
       "    </tr>\n",
       "  </thead>\n",
       "  <tbody>\n",
       "    <tr>\n",
       "      <th>0</th>\n",
       "      <td>France</td>\n",
       "      <td>The Frog at Bercy Village</td>\n",
       "      <td>Negative</td>\n",
       "      <td>Rude manager</td>\n",
       "      <td>May 2024 •</td>\n",
       "      <td>The manager became agressive when I said the c...</td>\n",
       "    </tr>\n",
       "    <tr>\n",
       "      <th>1</th>\n",
       "      <td>France</td>\n",
       "      <td>The Frog at Bercy Village</td>\n",
       "      <td>Negative</td>\n",
       "      <td>A big disappointment</td>\n",
       "      <td>Feb 2024 •</td>\n",
       "      <td>I ordered a beef fillet ask to be done medium,...</td>\n",
       "    </tr>\n",
       "    <tr>\n",
       "      <th>2</th>\n",
       "      <td>France</td>\n",
       "      <td>The Frog at Bercy Village</td>\n",
       "      <td>Negative</td>\n",
       "      <td>Pretty Place with Bland Food</td>\n",
       "      <td>Nov 2023 •</td>\n",
       "      <td>This is an attractive venue with welcoming, al...</td>\n",
       "    </tr>\n",
       "    <tr>\n",
       "      <th>3</th>\n",
       "      <td>France</td>\n",
       "      <td>The Frog at Bercy Village</td>\n",
       "      <td>Negative</td>\n",
       "      <td>Great service and wine but inedible food</td>\n",
       "      <td>Mar 2023 •</td>\n",
       "      <td>Sadly I  used the high TripAdvisor rating too ...</td>\n",
       "    </tr>\n",
       "    <tr>\n",
       "      <th>4</th>\n",
       "      <td>France</td>\n",
       "      <td>The Frog at Bercy Village</td>\n",
       "      <td>Negative</td>\n",
       "      <td>Avoid- Worst meal in Rome - possibly ever</td>\n",
       "      <td>Nov 2022 •</td>\n",
       "      <td>From the start this meal was bad- especially g...</td>\n",
       "    </tr>\n",
       "  </tbody>\n",
       "</table>\n",
       "</div>"
      ],
      "text/plain": [
       "  Country            Restaurant Name Sentiment  \\\n",
       "0  France  The Frog at Bercy Village  Negative   \n",
       "1  France  The Frog at Bercy Village  Negative   \n",
       "2  France  The Frog at Bercy Village  Negative   \n",
       "3  France  The Frog at Bercy Village  Negative   \n",
       "4  France  The Frog at Bercy Village  Negative   \n",
       "\n",
       "                                Review Title Review Date  \\\n",
       "0                               Rude manager  May 2024 •   \n",
       "1                       A big disappointment  Feb 2024 •   \n",
       "2               Pretty Place with Bland Food  Nov 2023 •   \n",
       "3   Great service and wine but inedible food  Mar 2023 •   \n",
       "4  Avoid- Worst meal in Rome - possibly ever  Nov 2022 •   \n",
       "\n",
       "                                              Review  \n",
       "0  The manager became agressive when I said the c...  \n",
       "1  I ordered a beef fillet ask to be done medium,...  \n",
       "2  This is an attractive venue with welcoming, al...  \n",
       "3  Sadly I  used the high TripAdvisor rating too ...  \n",
       "4  From the start this meal was bad- especially g...  "
      ]
     },
     "execution_count": 2,
     "metadata": {},
     "output_type": "execute_result"
    }
   ],
   "source": [
    "file_path = \"data/European Restaurant Reviews.csv\"\n",
    "df = pd.read_csv(file_path)\n",
    "\n",
    "df.head()"
   ]
  },
  {
   "cell_type": "code",
   "execution_count": 3,
   "id": "927f24c4-589b-4c24-9964-68de3ab9aba9",
   "metadata": {},
   "outputs": [
    {
     "data": {
      "text/html": [
       "<div>\n",
       "<style scoped>\n",
       "    .dataframe tbody tr th:only-of-type {\n",
       "        vertical-align: middle;\n",
       "    }\n",
       "\n",
       "    .dataframe tbody tr th {\n",
       "        vertical-align: top;\n",
       "    }\n",
       "\n",
       "    .dataframe thead th {\n",
       "        text-align: right;\n",
       "    }\n",
       "</style>\n",
       "<table border=\"1\" class=\"dataframe\">\n",
       "  <thead>\n",
       "    <tr style=\"text-align: right;\">\n",
       "      <th></th>\n",
       "      <th>Country</th>\n",
       "      <th>Restaurant Name</th>\n",
       "      <th>Sentiment</th>\n",
       "      <th>Review Title</th>\n",
       "      <th>Review Date</th>\n",
       "      <th>Review</th>\n",
       "    </tr>\n",
       "  </thead>\n",
       "  <tbody>\n",
       "    <tr>\n",
       "      <th>0</th>\n",
       "      <td>France</td>\n",
       "      <td>The Frog at Bercy Village</td>\n",
       "      <td>Negative</td>\n",
       "      <td>Rude manager</td>\n",
       "      <td>May 2024 •</td>\n",
       "      <td>The manager became agressive when I said the c...</td>\n",
       "    </tr>\n",
       "    <tr>\n",
       "      <th>1</th>\n",
       "      <td>France</td>\n",
       "      <td>The Frog at Bercy Village</td>\n",
       "      <td>Negative</td>\n",
       "      <td>A big disappointment</td>\n",
       "      <td>Feb 2024 •</td>\n",
       "      <td>I ordered a beef fillet ask to be done medium,...</td>\n",
       "    </tr>\n",
       "    <tr>\n",
       "      <th>2</th>\n",
       "      <td>France</td>\n",
       "      <td>The Frog at Bercy Village</td>\n",
       "      <td>Negative</td>\n",
       "      <td>Pretty Place with Bland Food</td>\n",
       "      <td>Nov 2023 •</td>\n",
       "      <td>This is an attractive venue with welcoming, al...</td>\n",
       "    </tr>\n",
       "    <tr>\n",
       "      <th>3</th>\n",
       "      <td>France</td>\n",
       "      <td>The Frog at Bercy Village</td>\n",
       "      <td>Negative</td>\n",
       "      <td>Great service and wine but inedible food</td>\n",
       "      <td>Mar 2023 •</td>\n",
       "      <td>Sadly I  used the high TripAdvisor rating too ...</td>\n",
       "    </tr>\n",
       "    <tr>\n",
       "      <th>4</th>\n",
       "      <td>France</td>\n",
       "      <td>The Frog at Bercy Village</td>\n",
       "      <td>Negative</td>\n",
       "      <td>Avoid- Worst meal in Rome - possibly ever</td>\n",
       "      <td>Nov 2022 •</td>\n",
       "      <td>From the start this meal was bad- especially g...</td>\n",
       "    </tr>\n",
       "    <tr>\n",
       "      <th>...</th>\n",
       "      <td>...</td>\n",
       "      <td>...</td>\n",
       "      <td>...</td>\n",
       "      <td>...</td>\n",
       "      <td>...</td>\n",
       "      <td>...</td>\n",
       "    </tr>\n",
       "    <tr>\n",
       "      <th>1497</th>\n",
       "      <td>Cuba</td>\n",
       "      <td>Old Square (Plaza Vieja)</td>\n",
       "      <td>Negative</td>\n",
       "      <td>The Tourism Trap</td>\n",
       "      <td>Oct 2016 •</td>\n",
       "      <td>Despite the other reviews saying that this is ...</td>\n",
       "    </tr>\n",
       "    <tr>\n",
       "      <th>1498</th>\n",
       "      <td>Cuba</td>\n",
       "      <td>Old Square (Plaza Vieja)</td>\n",
       "      <td>Negative</td>\n",
       "      <td>the beer factory</td>\n",
       "      <td>Oct 2016 •</td>\n",
       "      <td>beer is good.  food is awfull  The only decent...</td>\n",
       "    </tr>\n",
       "    <tr>\n",
       "      <th>1499</th>\n",
       "      <td>Cuba</td>\n",
       "      <td>Old Square (Plaza Vieja)</td>\n",
       "      <td>Negative</td>\n",
       "      <td>brewery</td>\n",
       "      <td>Oct 2016 •</td>\n",
       "      <td>for terrible service of a truly comedic level,...</td>\n",
       "    </tr>\n",
       "    <tr>\n",
       "      <th>1500</th>\n",
       "      <td>Cuba</td>\n",
       "      <td>Old Square (Plaza Vieja)</td>\n",
       "      <td>Negative</td>\n",
       "      <td>It's nothing exciting over there</td>\n",
       "      <td>Oct 2016 •</td>\n",
       "      <td>We visited the Havana's Club Museum which is l...</td>\n",
       "    </tr>\n",
       "    <tr>\n",
       "      <th>1501</th>\n",
       "      <td>Cuba</td>\n",
       "      <td>Old Square (Plaza Vieja)</td>\n",
       "      <td>Negative</td>\n",
       "      <td>Tourist Trap</td>\n",
       "      <td>Oct 2016 •</td>\n",
       "      <td>Food and service was awful. Very pretty stop. ...</td>\n",
       "    </tr>\n",
       "  </tbody>\n",
       "</table>\n",
       "<p>1502 rows × 6 columns</p>\n",
       "</div>"
      ],
      "text/plain": [
       "     Country            Restaurant Name Sentiment  \\\n",
       "0     France  The Frog at Bercy Village  Negative   \n",
       "1     France  The Frog at Bercy Village  Negative   \n",
       "2     France  The Frog at Bercy Village  Negative   \n",
       "3     France  The Frog at Bercy Village  Negative   \n",
       "4     France  The Frog at Bercy Village  Negative   \n",
       "...      ...                        ...       ...   \n",
       "1497    Cuba   Old Square (Plaza Vieja)  Negative   \n",
       "1498    Cuba   Old Square (Plaza Vieja)  Negative   \n",
       "1499    Cuba   Old Square (Plaza Vieja)  Negative   \n",
       "1500    Cuba   Old Square (Plaza Vieja)  Negative   \n",
       "1501    Cuba   Old Square (Plaza Vieja)  Negative   \n",
       "\n",
       "                                   Review Title Review Date  \\\n",
       "0                                  Rude manager  May 2024 •   \n",
       "1                          A big disappointment  Feb 2024 •   \n",
       "2                  Pretty Place with Bland Food  Nov 2023 •   \n",
       "3      Great service and wine but inedible food  Mar 2023 •   \n",
       "4     Avoid- Worst meal in Rome - possibly ever  Nov 2022 •   \n",
       "...                                         ...         ...   \n",
       "1497                           The Tourism Trap  Oct 2016 •   \n",
       "1498                           the beer factory  Oct 2016 •   \n",
       "1499                                    brewery  Oct 2016 •   \n",
       "1500           It's nothing exciting over there  Oct 2016 •   \n",
       "1501                               Tourist Trap  Oct 2016 •   \n",
       "\n",
       "                                                 Review  \n",
       "0     The manager became agressive when I said the c...  \n",
       "1     I ordered a beef fillet ask to be done medium,...  \n",
       "2     This is an attractive venue with welcoming, al...  \n",
       "3     Sadly I  used the high TripAdvisor rating too ...  \n",
       "4     From the start this meal was bad- especially g...  \n",
       "...                                                 ...  \n",
       "1497  Despite the other reviews saying that this is ...  \n",
       "1498  beer is good.  food is awfull  The only decent...  \n",
       "1499  for terrible service of a truly comedic level,...  \n",
       "1500  We visited the Havana's Club Museum which is l...  \n",
       "1501  Food and service was awful. Very pretty stop. ...  \n",
       "\n",
       "[1502 rows x 6 columns]"
      ]
     },
     "execution_count": 3,
     "metadata": {},
     "output_type": "execute_result"
    }
   ],
   "source": [
    "df"
   ]
  },
  {
   "cell_type": "code",
   "execution_count": 4,
   "id": "6ff35055-1046-4e4a-8b11-2bef8d6d3001",
   "metadata": {},
   "outputs": [
    {
     "data": {
      "text/plain": [
       "(1502, 6)"
      ]
     },
     "execution_count": 4,
     "metadata": {},
     "output_type": "execute_result"
    }
   ],
   "source": [
    "df.shape"
   ]
  },
  {
   "cell_type": "markdown",
   "id": "c1a313e7-02cb-4cfd-9dc7-fa298ab46bfd",
   "metadata": {},
   "source": [
    "Number of observations:"
   ]
  },
  {
   "cell_type": "code",
   "execution_count": 5,
   "id": "a661ecbe-e9c3-4c4f-bcb0-a9bca60565df",
   "metadata": {},
   "outputs": [
    {
     "data": {
      "text/plain": [
       "1502"
      ]
     },
     "execution_count": 5,
     "metadata": {},
     "output_type": "execute_result"
    }
   ],
   "source": [
    "df.shape[0]"
   ]
  },
  {
   "cell_type": "code",
   "execution_count": 6,
   "id": "8c9c4a12-c8ca-46bc-ac21-af34ca65a1a2",
   "metadata": {},
   "outputs": [
    {
     "data": {
      "text/plain": [
       "Index(['Country', 'Restaurant Name', 'Sentiment', 'Review Title',\n",
       "       'Review Date', 'Review'],\n",
       "      dtype='object')"
      ]
     },
     "execution_count": 6,
     "metadata": {},
     "output_type": "execute_result"
    }
   ],
   "source": [
    "df.columns"
   ]
  },
  {
   "cell_type": "code",
   "execution_count": 7,
   "id": "692014e8-457c-41bd-b916-fc1b77ce34b1",
   "metadata": {},
   "outputs": [
    {
     "data": {
      "text/plain": [
       "Country            object\n",
       "Restaurant Name    object\n",
       "Sentiment          object\n",
       "Review Title       object\n",
       "Review Date        object\n",
       "Review             object\n",
       "dtype: object"
      ]
     },
     "execution_count": 7,
     "metadata": {},
     "output_type": "execute_result"
    }
   ],
   "source": [
    "df.dtypes"
   ]
  },
  {
   "cell_type": "code",
   "execution_count": 8,
   "id": "adf01524-e62f-4fd6-9a05-c206e06292a4",
   "metadata": {},
   "outputs": [
    {
     "data": {
      "text/html": [
       "<div>\n",
       "<style scoped>\n",
       "    .dataframe tbody tr th:only-of-type {\n",
       "        vertical-align: middle;\n",
       "    }\n",
       "\n",
       "    .dataframe tbody tr th {\n",
       "        vertical-align: top;\n",
       "    }\n",
       "\n",
       "    .dataframe thead th {\n",
       "        text-align: right;\n",
       "    }\n",
       "</style>\n",
       "<table border=\"1\" class=\"dataframe\">\n",
       "  <thead>\n",
       "    <tr style=\"text-align: right;\">\n",
       "      <th></th>\n",
       "      <th>Country</th>\n",
       "      <th>Restaurant Name</th>\n",
       "      <th>Sentiment</th>\n",
       "      <th>Review Title</th>\n",
       "      <th>Review Date</th>\n",
       "      <th>Review</th>\n",
       "    </tr>\n",
       "  </thead>\n",
       "  <tbody>\n",
       "    <tr>\n",
       "      <th>count</th>\n",
       "      <td>1502</td>\n",
       "      <td>1502</td>\n",
       "      <td>1502</td>\n",
       "      <td>1502</td>\n",
       "      <td>1502</td>\n",
       "      <td>1502</td>\n",
       "    </tr>\n",
       "    <tr>\n",
       "      <th>unique</th>\n",
       "      <td>7</td>\n",
       "      <td>7</td>\n",
       "      <td>2</td>\n",
       "      <td>1343</td>\n",
       "      <td>143</td>\n",
       "      <td>1426</td>\n",
       "    </tr>\n",
       "    <tr>\n",
       "      <th>top</th>\n",
       "      <td>France</td>\n",
       "      <td>The Frog at Bercy Village</td>\n",
       "      <td>Positive</td>\n",
       "      <td>Excellent</td>\n",
       "      <td>May 2014 •</td>\n",
       "      <td>I'm afraid we were very let down by this resta...</td>\n",
       "    </tr>\n",
       "    <tr>\n",
       "      <th>freq</th>\n",
       "      <td>512</td>\n",
       "      <td>512</td>\n",
       "      <td>1237</td>\n",
       "      <td>9</td>\n",
       "      <td>108</td>\n",
       "      <td>4</td>\n",
       "    </tr>\n",
       "  </tbody>\n",
       "</table>\n",
       "</div>"
      ],
      "text/plain": [
       "       Country            Restaurant Name Sentiment Review Title Review Date  \\\n",
       "count     1502                       1502      1502         1502        1502   \n",
       "unique       7                          7         2         1343         143   \n",
       "top     France  The Frog at Bercy Village  Positive    Excellent  May 2014 •   \n",
       "freq       512                        512      1237            9         108   \n",
       "\n",
       "                                                   Review  \n",
       "count                                                1502  \n",
       "unique                                               1426  \n",
       "top     I'm afraid we were very let down by this resta...  \n",
       "freq                                                    4  "
      ]
     },
     "execution_count": 8,
     "metadata": {},
     "output_type": "execute_result"
    }
   ],
   "source": [
    "df.describe()"
   ]
  },
  {
   "cell_type": "markdown",
   "id": "15930d13-125d-4c19-836c-f23790a870cd",
   "metadata": {},
   "source": [
    "The most represented country is:"
   ]
  },
  {
   "cell_type": "code",
   "execution_count": 9,
   "id": "35bda424-18ad-428f-b350-08d0b6d5a03c",
   "metadata": {},
   "outputs": [
    {
     "data": {
      "text/plain": [
       "'France'"
      ]
     },
     "execution_count": 9,
     "metadata": {},
     "output_type": "execute_result"
    }
   ],
   "source": [
    "df['Country'].value_counts().idxmax()"
   ]
  },
  {
   "cell_type": "markdown",
   "id": "ce750b6a-e1b1-4b13-a96a-46e94f3179ef",
   "metadata": {},
   "source": [
    "Let's see the range of the dataset like first check the data in the column 'Review Date' if it's in correct format:"
   ]
  },
  {
   "cell_type": "code",
   "execution_count": 10,
   "id": "5d05063c-36be-43f7-bd65-fb2eb7fea916",
   "metadata": {},
   "outputs": [
    {
     "data": {
      "text/plain": [
       "0       May 2024 •\n",
       "1       Feb 2024 •\n",
       "2       Nov 2023 •\n",
       "3       Mar 2023 •\n",
       "4       Nov 2022 •\n",
       "           ...    \n",
       "1497    Oct 2016 •\n",
       "1498    Oct 2016 •\n",
       "1499    Oct 2016 •\n",
       "1500    Oct 2016 •\n",
       "1501    Oct 2016 •\n",
       "Name: Review Date, Length: 1502, dtype: object"
      ]
     },
     "execution_count": 10,
     "metadata": {},
     "output_type": "execute_result"
    }
   ],
   "source": [
    "df['Review Date']"
   ]
  },
  {
   "cell_type": "markdown",
   "id": "5ba4599c-901d-428c-854c-123848875eeb",
   "metadata": {},
   "source": [
    "Preprocess the Review Date column to remove the extra character:"
   ]
  },
  {
   "cell_type": "code",
   "execution_count": 11,
   "id": "55cca9ad-afdf-4e5e-b4f6-7082c0ffa1fa",
   "metadata": {},
   "outputs": [],
   "source": [
    "df['Review Date'] = df['Review Date'].str.replace(' •', '')"
   ]
  },
  {
   "cell_type": "markdown",
   "id": "ee40ce27-8b71-4545-bfb2-77118750e320",
   "metadata": {},
   "source": [
    "Convert the Review Date column to datetime format:"
   ]
  },
  {
   "cell_type": "code",
   "execution_count": 12,
   "id": "2f94bf91-80c0-4c05-a0ad-0e975e8fc847",
   "metadata": {},
   "outputs": [],
   "source": [
    "df['Review Date'] = pd.to_datetime(df['Review Date'], format='%b %Y', errors='coerce')"
   ]
  },
  {
   "cell_type": "code",
   "execution_count": 13,
   "id": "d4398a5a-8b95-4156-a4c1-f2bdef3d9e7c",
   "metadata": {},
   "outputs": [
    {
     "name": "stdout",
     "output_type": "stream",
     "text": [
      "Time range: ('01 September 2010', '01 July 2024')\n"
     ]
    }
   ],
   "source": [
    "min_date = df['Review Date'].min().strftime('%d %B %Y')\n",
    "max_date = df['Review Date'].max().strftime('%d %B %Y')\n",
    "\n",
    "time_range = (min_date, max_date)\n",
    "print(f'Time range: {time_range}')"
   ]
  },
  {
   "cell_type": "code",
   "execution_count": 14,
   "id": "704dd3a0-472d-4a53-a68d-77c35823140d",
   "metadata": {},
   "outputs": [
    {
     "name": "stdout",
     "output_type": "stream",
     "text": [
      "Is the sample balanced in terms of restaurants? False\n"
     ]
    }
   ],
   "source": [
    "reviews_per_restaurant = df['Restaurant Name'].value_counts()\n",
    "is_balanced_restaurants = reviews_per_restaurant.nunique() == 1\n",
    "print(f'Is the sample balanced in terms of restaurants? {is_balanced_restaurants}')"
   ]
  },
  {
   "cell_type": "code",
   "execution_count": 15,
   "id": "e15186c9-3756-44cb-a2d0-8ea35310abcd",
   "metadata": {},
   "outputs": [
    {
     "name": "stdout",
     "output_type": "stream",
     "text": [
      "Is the dataset balanced in terms of sentiment? False\n"
     ]
    }
   ],
   "source": [
    "sentiment_counts = df['Sentiment'].value_counts()\n",
    "is_balanced_sentiment = sentiment_counts.nunique() == 1\n",
    "print(f'Is the dataset balanced in terms of sentiment? {is_balanced_sentiment}')"
   ]
  },
  {
   "cell_type": "code",
   "execution_count": 16,
   "id": "c4d0bdde-c8e7-4a5d-b2e2-38a6956d24af",
   "metadata": {},
   "outputs": [
    {
     "name": "stdout",
     "output_type": "stream",
     "text": [
      "Reviews per restaurant:\n",
      "The Frog at Bercy Village                512\n",
      "Ad Hoc Ristorante (Piazza del Popolo)    318\n",
      "The LOFT                                 210\n",
      "Old Square (Plaza Vieja)                 146\n",
      "Stara Kamienica                          135\n",
      "Pelmenya                                 100\n",
      "Mosaic                                    81\n",
      "Name: Restaurant Name, dtype: int64\n",
      "-----------------------------------\n",
      "Sentiment counts:\n",
      "Positive    1237\n",
      "Negative     265\n",
      "Name: Sentiment, dtype: int64\n"
     ]
    }
   ],
   "source": [
    "# Value counts for restaurants and sentiments:\n",
    "print('Reviews per restaurant:')\n",
    "print(reviews_per_restaurant)\n",
    "\n",
    "print('-----------------------------------')\n",
    "print('Sentiment counts:')\n",
    "print(sentiment_counts)"
   ]
  },
  {
   "cell_type": "markdown",
   "id": "431fcdee-daa8-439d-a309-181d44cfbd85",
   "metadata": {},
   "source": [
    "We can see that the Positive sentiments are much more than the Negative."
   ]
  },
  {
   "cell_type": "markdown",
   "id": "01a55576-cd3c-4451-b5c8-6a51356a7386",
   "metadata": {},
   "source": [
    "### Problem 2. Getting acquainted with reviews (1 point)\n",
    "Are positive comments typically shorter or longer? Try to define a good, robust metric for \"length\" of a text; it's not necessary just the character count. Can you explain your findings?"
   ]
  },
  {
   "cell_type": "code",
   "execution_count": 17,
   "id": "97901e74-6093-4274-966a-da73ec3a5961",
   "metadata": {},
   "outputs": [
    {
     "data": {
      "text/plain": [
       "0       The manager became agressive when I said the c...\n",
       "1       I ordered a beef fillet ask to be done medium,...\n",
       "2       This is an attractive venue with welcoming, al...\n",
       "3       Sadly I  used the high TripAdvisor rating too ...\n",
       "4       From the start this meal was bad- especially g...\n",
       "                              ...                        \n",
       "1497    Despite the other reviews saying that this is ...\n",
       "1498    beer is good.  food is awfull  The only decent...\n",
       "1499    for terrible service of a truly comedic level,...\n",
       "1500    We visited the Havana's Club Museum which is l...\n",
       "1501    Food and service was awful. Very pretty stop. ...\n",
       "Name: Review, Length: 1502, dtype: object"
      ]
     },
     "execution_count": 17,
     "metadata": {},
     "output_type": "execute_result"
    }
   ],
   "source": [
    "df.Review"
   ]
  },
  {
   "cell_type": "markdown",
   "id": "a7051782-ce35-4a63-9103-8dbd8e136634",
   "metadata": {},
   "source": [
    "Now we will calculate the word counts for each review:"
   ]
  },
  {
   "cell_type": "code",
   "execution_count": 18,
   "id": "c028e9f1-4971-4cb0-a92b-8dd6d0545c0a",
   "metadata": {},
   "outputs": [],
   "source": [
    "df['word_count'] = df['Review'].apply(lambda x: len(str(x).split()))"
   ]
  },
  {
   "cell_type": "code",
   "execution_count": 19,
   "id": "1ea9eb92-e165-4287-925b-ff9d1b22c66b",
   "metadata": {},
   "outputs": [
    {
     "data": {
      "text/plain": [
       "0        28\n",
       "1        58\n",
       "2        40\n",
       "3       279\n",
       "4       243\n",
       "       ... \n",
       "1497    147\n",
       "1498     30\n",
       "1499     28\n",
       "1500     70\n",
       "1501     14\n",
       "Name: word_count, Length: 1502, dtype: int64"
      ]
     },
     "execution_count": 19,
     "metadata": {},
     "output_type": "execute_result"
    }
   ],
   "source": [
    "df['word_count']"
   ]
  },
  {
   "cell_type": "markdown",
   "id": "57611a27-ba74-4395-99e8-0afa5da6b348",
   "metadata": {},
   "source": [
    "Let's separate the Positive and the Negative comments:"
   ]
  },
  {
   "cell_type": "code",
   "execution_count": 20,
   "id": "e3280116-35b4-4f22-92ec-0e9427e6b21a",
   "metadata": {},
   "outputs": [],
   "source": [
    "positive_reviews = df[df['Sentiment'] == 'Positive']\n",
    "negative_reviews = df[df['Sentiment'] == 'Negative']"
   ]
  },
  {
   "cell_type": "markdown",
   "id": "9774daaa-e317-4f59-9640-8ae06ae6ab45",
   "metadata": {},
   "source": [
    "Here we will see the mean, median, and standard deviation of word counts for positive reviews:"
   ]
  },
  {
   "cell_type": "code",
   "execution_count": 21,
   "id": "68f3deda-8902-40b7-8c58-7b065a24505c",
   "metadata": {},
   "outputs": [],
   "source": [
    "positive_mean = positive_reviews['word_count'].mean()\n",
    "positive_median = positive_reviews['word_count'].median()\n",
    "positive_std = positive_reviews['word_count'].std()"
   ]
  },
  {
   "cell_type": "markdown",
   "id": "b8e2d967-9f89-4a09-9084-af86243fb0ff",
   "metadata": {},
   "source": [
    "Here we will see the mean, median, and standard deviation of word counts for negative reviews:"
   ]
  },
  {
   "cell_type": "code",
   "execution_count": 22,
   "id": "01c85b9e-fdf9-4043-a4e1-24f4e530ff13",
   "metadata": {},
   "outputs": [],
   "source": [
    "negative_mean = negative_reviews['word_count'].mean()\n",
    "negative_median = negative_reviews['word_count'].median()\n",
    "negative_std = negative_reviews['word_count'].std()"
   ]
  },
  {
   "cell_type": "code",
   "execution_count": 23,
   "id": "309d73d9-25d6-49b6-93f6-5d46b41aca07",
   "metadata": {},
   "outputs": [
    {
     "name": "stdout",
     "output_type": "stream",
     "text": [
      "Positive Reviews - Mean word count: 50.18350848827809, Median word count: 37.0, Std: 38.7410428479818\n",
      "Negative Reviews - Mean word count: 140.57358490566037, Median word count: 95.0, Std: 131.7596355957585\n"
     ]
    }
   ],
   "source": [
    "print(f\"Positive Reviews - Mean word count: {positive_mean}, Median word count: {positive_median}, Std: {positive_std}\")\n",
    "print(f\"Negative Reviews - Mean word count: {negative_mean}, Median word count: {negative_median}, Std: {negative_std}\")"
   ]
  },
  {
   "cell_type": "code",
   "execution_count": 24,
   "id": "e5c26a75-c6c2-419c-8728-df421d96de50",
   "metadata": {},
   "outputs": [
    {
     "name": "stdout",
     "output_type": "stream",
     "text": [
      "Negative comments are typically longer.\n"
     ]
    }
   ],
   "source": [
    "if positive_mean > negative_mean:\n",
    "    print(\"Positive comments are typically longer.\")\n",
    "elif positive_mean < negative_mean:\n",
    "    print(\"Negative comments are typically longer.\")\n",
    "else:\n",
    "    print(\"Positive and negative comments have the same average length.\")"
   ]
  },
  {
   "cell_type": "markdown",
   "id": "cef7ae38-7173-4baa-bdbd-078b8b16c2dd",
   "metadata": {},
   "source": [
    "As we can see the Negative comments are typically longer.\n",
    "\n",
    "The std() function calculates the standard deviation of a dataset, which is a measure of the amount of variation or dispersion in the data. In simpler terms, it tells you how spread out the values in your dataset are around the mean (average) value."
   ]
  },
  {
   "cell_type": "markdown",
   "id": "1c7770d1-7c23-4cae-836c-895d4ce7c010",
   "metadata": {},
   "source": [
    "__Variability:__ Negative reviews have a much higher variability in word count than positive reviews. The high standard deviation in negative reviews indicates that some reviews might be very short, while others are exceptionally long, creating a wide range of word counts. Positive reviews are more consistent in their length.\n",
    "\n",
    "__Possible Reasons for the Findings:__\n",
    "1. Expressing Dissatisfaction: People tend to be more detailed when they are dissatisfied, explaining their issues and experiences thoroughly. This often results in longer negative reviews.\n",
    "\n",
    "2. Emotional Venting: Negative reviews might be longer because people use them as a platform to vent their frustrations and emotions, leading to more elaborate descriptions.\n",
    "\n",
    "3. Positive Conciseness: Positive experiences might be simpler to convey and can often be summed up quickly. People might just highlight the key positive aspects without going into extensive detail."
   ]
  },
  {
   "cell_type": "markdown",
   "id": "7c440fff-c079-464c-b97d-fffbf3d65baf",
   "metadata": {},
   "source": [
    "### Problem 3. Preprocess the review content (2 points)\n",
    "You'll likely need to do this while working on the problems below, but try to synthesize (and document!) your preprocessing here. Your tasks will revolve around words and their connection to sentiment. While preprocessing, keep in mind the domain (restaurant reviews) and the task (sentiment analysis)."
   ]
  },
  {
   "cell_type": "code",
   "execution_count": 25,
   "id": "7114fcf9-c63a-41b2-9ff9-591a15d2ebe5",
   "metadata": {},
   "outputs": [
    {
     "name": "stderr",
     "output_type": "stream",
     "text": [
      "[nltk_data] Downloading package punkt to\n",
      "[nltk_data]     C:\\Users\\galin\\AppData\\Roaming\\nltk_data...\n",
      "[nltk_data]   Package punkt is already up-to-date!\n",
      "[nltk_data] Downloading package stopwords to\n",
      "[nltk_data]     C:\\Users\\galin\\AppData\\Roaming\\nltk_data...\n",
      "[nltk_data]   Package stopwords is already up-to-date!\n",
      "[nltk_data] Downloading package wordnet to\n",
      "[nltk_data]     C:\\Users\\galin\\AppData\\Roaming\\nltk_data...\n",
      "[nltk_data]   Package wordnet is already up-to-date!\n",
      "[nltk_data] Downloading package omw-1.4 to\n",
      "[nltk_data]     C:\\Users\\galin\\AppData\\Roaming\\nltk_data...\n",
      "[nltk_data]   Package omw-1.4 is already up-to-date!\n"
     ]
    },
    {
     "name": "stdout",
     "output_type": "stream",
     "text": [
      "                                              Review  \\\n",
      "0  The manager became agressive when I said the c...   \n",
      "1  I ordered a beef fillet ask to be done medium,...   \n",
      "2  This is an attractive venue with welcoming, al...   \n",
      "3  Sadly I  used the high TripAdvisor rating too ...   \n",
      "4  From the start this meal was bad- especially g...   \n",
      "\n",
      "                                 Preprocessed_Review  \n",
      "0  manager became agressive said carbonara good r...  \n",
      "1  ordered beef fillet ask done medium got well d...  \n",
      "2  attractive venue welcoming albeit somewhat slo...  \n",
      "3  sadly used high tripadvisor rating literally f...  \n",
      "4  start meal bad especially given price visited ...  \n"
     ]
    }
   ],
   "source": [
    "# Initialize lemmatizer\n",
    "lemmatizer = WordNetLemmatizer()\n",
    "\n",
    "# Download necessary NLTK data files\n",
    "nltk.download('punkt')\n",
    "nltk.download('stopwords')\n",
    "nltk.download('wordnet')\n",
    "nltk.download('omw-1.4')\n",
    "\n",
    "# Define preprocessing function\n",
    "def preprocess_review(review):\n",
    "    # Lowercase the review\n",
    "    review = review.lower()\n",
    "    \n",
    "    # Remove punctuation\n",
    "    review = review.translate(str.maketrans('', '', string.punctuation))\n",
    "    \n",
    "    # Remove numbers\n",
    "    review = ''.join([i for i in review if not i.isdigit()])\n",
    "    \n",
    "    # Tokenize the review\n",
    "    tokens = word_tokenize(review)\n",
    "    \n",
    "    # Remove stopwords\n",
    "    tokens = [word for word in tokens if word not in stopwords.words('english')]\n",
    "    \n",
    "    # Lemmatize the tokens\n",
    "    tokens = [lemmatizer.lemmatize(word) for word in tokens]\n",
    "    \n",
    "    # Join tokens back to string\n",
    "    preprocessed_review = ' '.join(tokens)\n",
    "    \n",
    "    return preprocessed_review\n",
    "\n",
    "# Apply preprocessing to reviews\n",
    "df['Preprocessed_Review'] = df['Review'].apply(preprocess_review)\n",
    "\n",
    "# Display the first few rows of the dataframe to check the preprocessing\n",
    "print(df[['Review', 'Preprocessed_Review']].head())"
   ]
  },
  {
   "cell_type": "markdown",
   "id": "2a8532af-2411-4d71-a003-0813be3f98de",
   "metadata": {},
   "source": [
    "### Problem 4. Top words (1 point)\n",
    "Use a simple word tokenization and count the top 10 words in positive reviews; then the top 10 words in negative reviews*. Once again, try to define what \"top\" words means. Describe and document your process. Explain your results.\n",
    "\n",
    "\\* Okay, you may want to see top N words (with $N \\ge 10$)."
   ]
  },
  {
   "cell_type": "markdown",
   "id": "02a34554-0a81-417b-a498-17fba4ad5e03",
   "metadata": {},
   "source": [
    "__The Process will be:__\n",
    "1. Tokenization and Filtering: We already performed tokenization and stop word removal during preprocessing.\n",
    "2. Counting Word Frequencies: We'll count the occurrences of each word in positive and negative reviews separately.\n",
    "3. Identifying Top Words: We'll sort the word counts and select the top N words."
   ]
  },
  {
   "cell_type": "code",
   "execution_count": 26,
   "id": "faaa6dd4-251e-4e32-9137-cc6c984726be",
   "metadata": {},
   "outputs": [],
   "source": [
    "# Function to get top N words from a series of reviews\n",
    "def get_top_words(reviews, n=10):\n",
    "    # Tokenize the reviews\n",
    "    all_words = ' '.join(reviews).split()\n",
    "    # Count word frequencies\n",
    "    word_counts = Counter(all_words)\n",
    "    # Get the most common words\n",
    "    top_words = word_counts.most_common(n)\n",
    "    return top_words\n",
    "\n",
    "# Separate positive and negative reviews\n",
    "positive_reviews = df[df['Sentiment'] == 'Positive']['Preprocessed_Review']\n",
    "negative_reviews = df[df['Sentiment'] == 'Negative']['Preprocessed_Review']\n",
    "\n",
    "# Get top 10 words in positive reviews\n",
    "top_positive_words = get_top_words(positive_reviews, n=10)\n",
    "\n",
    "# Get top 10 words in negative reviews\n",
    "top_negative_words = get_top_words(negative_reviews, n=10)"
   ]
  },
  {
   "cell_type": "code",
   "execution_count": 27,
   "id": "7af6e718-183c-43f7-8f44-a6b2ee5d6307",
   "metadata": {},
   "outputs": [
    {
     "name": "stdout",
     "output_type": "stream",
     "text": [
      "Top 10 words in positive reviews:\n",
      " ('food', 740) ('great', 570) ('service', 542) ('good', 511) ('restaurant', 433) ('place', 397) ('nice', 302) ('wine', 301) ('menu', 265) ('staff', 257)\n"
     ]
    }
   ],
   "source": [
    "print(\"Top 10 words in positive reviews:\\n\", *top_positive_words)"
   ]
  },
  {
   "cell_type": "code",
   "execution_count": 28,
   "id": "5ce7a9be-94b4-4233-931e-51f7ba11b883",
   "metadata": {},
   "outputs": [
    {
     "name": "stdout",
     "output_type": "stream",
     "text": [
      "Top 10 words in negative reviews:\n",
      " ('restaurant', 250) ('food', 247) ('u', 209) ('wine', 204) ('table', 172) ('menu', 152) ('good', 151) ('service', 146) ('one', 142) ('would', 127)\n"
     ]
    }
   ],
   "source": [
    "print(\"Top 10 words in negative reviews:\\n\", *top_negative_words)"
   ]
  },
  {
   "cell_type": "markdown",
   "id": "9344b329-03f6-4f65-b4cc-b90f10c8fd3b",
   "metadata": {},
   "source": [
    "__Interpretation:__ <br/>\n",
    "The top words in positive reviews highlight aspects that customers appreciate, such as good food, service, and the overall experience. Words like \"great,\" \"good,\" and \"nice\" emphasize satisfaction and positive experiences.\n",
    "\n",
    "In contrast, the top words in negative reviews reveal areas of dissatisfaction, with frequent mentions of food, service, and specific issues like seating or the menu. The presence of informal language (\"u\") suggests a more casual or frustrated tone in negative feedback.\n",
    "\n",
    "These insights can help restaurant managers understand what aspects are most important to their customers and where improvements are needed to enhance customer satisfaction."
   ]
  },
  {
   "cell_type": "markdown",
   "id": "790ae91f-2def-41bc-8861-49fc5467b335",
   "metadata": {},
   "source": [
    "### Problem 5. Review titles (2 point)\n",
    "How do the top words you found in the last problem correlate to the review titles? Do the top 10 words (for each sentiment) appear in the titles at all? Do reviews which contain one or more of the top words have the same words in their titles?\n",
    "\n",
    "Does the title of a comment present a good summary of its content? That is, are the titles descriptive, or are they simply meant to catch the attention of the reader?"
   ]
  },
  {
   "cell_type": "code",
   "execution_count": 29,
   "id": "982c91ec-238d-4f41-84a9-2bf6792dcb50",
   "metadata": {},
   "outputs": [
    {
     "name": "stdout",
     "output_type": "stream",
     "text": [
      "Positive correlation percentage: 30.22636484687084%\n",
      "Negative correlation percentage: 20.838881491344875%\n"
     ]
    }
   ],
   "source": [
    "stop_words = set(stopwords.words('english'))\n",
    "lemmatizer = WordNetLemmatizer()\n",
    "\n",
    "# Function to preprocess text\n",
    "def preprocess_text(text):\n",
    "    tokens = word_tokenize(text.lower())\n",
    "    tokens = [word for word in tokens if word.isalpha() and word not in stop_words]\n",
    "    tokens = [lemmatizer.lemmatize(word) for word in tokens]\n",
    "    return tokens\n",
    "\n",
    "# Apply preprocessing to review titles and reviews\n",
    "df['Processed_Title'] = df['Review Title'].apply(lambda x: preprocess_text(str(x)))\n",
    "df['Processed_Review'] = df['Review'].apply(lambda x: preprocess_text(str(x)))\n",
    "\n",
    "# Convert top words to lowercase\n",
    "top_positive_words = ['food', 'great', 'service', 'good', 'restaurant', 'place', 'nice', 'wine', 'menu', 'staff']\n",
    "top_negative_words = ['restaurant', 'food', 'u', 'wine', 'table', 'menu', 'good', 'service', 'one', 'would']\n",
    "\n",
    "top_positive_words = [word.lower() for word in top_positive_words]\n",
    "top_negative_words = [word.lower() for word in top_negative_words]\n",
    "\n",
    "# Check for top words in reviews\n",
    "df['Positive_Review_Words'] = df['Processed_Review'].apply(lambda x: list(set(x) & set(top_positive_words)))\n",
    "df['Negative_Review_Words'] = df['Processed_Review'].apply(lambda x: list(set(x) & set(top_negative_words)))\n",
    "\n",
    "# Check for top words in titles\n",
    "df['Positive_Title_Words'] = df['Processed_Title'].apply(lambda x: list(set(x) & set(top_positive_words)))\n",
    "df['Negative_Title_Words'] = df['Processed_Title'].apply(lambda x: list(set(x) & set(top_negative_words)))\n",
    "\n",
    "# Function to check correlation between review content and title\n",
    "def check_word_correlation(review_words, title_words):\n",
    "    return any(word in title_words for word in review_words)\n",
    "\n",
    "# Check correlation for positive and negative reviews\n",
    "df['Positive_Correlation'] = df.apply(lambda x: check_word_correlation(x['Positive_Review_Words'], x['Positive_Title_Words']), axis=1)\n",
    "df['Negative_Correlation'] = df.apply(lambda x: check_word_correlation(x['Negative_Review_Words'], x['Negative_Title_Words']), axis=1)\n",
    "\n",
    "# Calculate correlation percentages\n",
    "positive_correlation_percentage = df['Positive_Correlation'].mean() * 100\n",
    "negative_correlation_percentage = df['Negative_Correlation'].mean() * 100\n",
    "\n",
    "# Display correlation results\n",
    "print(f\"Positive correlation percentage: {positive_correlation_percentage}%\")\n",
    "print(f\"Negative correlation percentage: {negative_correlation_percentage}%\")"
   ]
  },
  {
   "cell_type": "markdown",
   "id": "c439540a-2b80-4648-a670-3ff21cc38ec7",
   "metadata": {},
   "source": [
    "30.23% of positive reviews have at least one of the top positive words in their titles.\n",
    "\n",
    "20.84% of negative reviews have at least one of the top negative words in their titles."
   ]
  },
  {
   "cell_type": "code",
   "execution_count": 30,
   "id": "82d7912e-56d0-4fd9-a030-eb4b722510bf",
   "metadata": {},
   "outputs": [
    {
     "name": "stdout",
     "output_type": "stream",
     "text": [
      "                                Review Title  \\\n",
      "0                               Rude manager   \n",
      "1                       A big disappointment   \n",
      "2               Pretty Place with Bland Food   \n",
      "3   Great service and wine but inedible food   \n",
      "4  Avoid- Worst meal in Rome - possibly ever   \n",
      "\n",
      "                          Processed_Title          Positive_Title_Words  \\\n",
      "0                         [rude, manager]                            []   \n",
      "1                   [big, disappointment]                            []   \n",
      "2            [pretty, place, bland, food]                 [food, place]   \n",
      "3  [great, service, wine, inedible, food]  [food, great, wine, service]   \n",
      "4     [worst, meal, rome, possibly, ever]                            []   \n",
      "\n",
      "    Negative_Title_Words                              Positive_Review_Words  \\\n",
      "0                     []                                             [good]   \n",
      "1                     []                                                 []   \n",
      "2                 [food]                        [food, restaurant, service]   \n",
      "3  [food, wine, service]  [good, restaurant, nice, great, food, place, s...   \n",
      "4                     []                           [menu, food, wine, good]   \n",
      "\n",
      "                               Negative_Review_Words  \n",
      "0                                             [good]  \n",
      "1                                                 []  \n",
      "2                        [food, restaurant, service]  \n",
      "3  [would, good, restaurant, food, wine, menu, se...  \n",
      "4          [would, good, u, table, food, menu, wine]  \n"
     ]
    }
   ],
   "source": [
    "# Display the first few rows to inspect\n",
    "print(df[['Review Title', 'Processed_Title', 'Positive_Title_Words', 'Negative_Title_Words', 'Positive_Review_Words', 'Negative_Review_Words']].head())"
   ]
  },
  {
   "cell_type": "markdown",
   "id": "0870f714-0773-4cd0-8a24-ac34e371ab5f",
   "metadata": {},
   "source": [
    "__Insights:__ <br/>\n",
    "Descriptive Titles: <br/>\n",
    "Titles containing top words from the review content indicate that these titles can indeed be descriptive.\n",
    "The higher correlation in positive reviews suggests that when customers are happy, they tend to use significant words in both their titles and content.\n",
    "\n",
    "Attention-Grabbing Titles: <br/>\n",
    "The lower correlation in negative reviews suggests that these titles might be more focused on capturing attention or expressing frustration rather than being descriptive.\n",
    "\n",
    "__Conclusion:__ <br/>\n",
    "Titles in positive reviews tend to be more descriptive of the content, while titles in negative reviews may focus more on grabbing attention. "
   ]
  },
  {
   "cell_type": "markdown",
   "id": "6fd94515-62aa-4822-a9b0-b7666530c535",
   "metadata": {},
   "source": [
    "To determine whether reviews containing one or more of the top words in their content have the same words in their titles, we can analyze the data more closely. Specifically, we can check if the presence of top words in the reviews correlates with their presence in the titles."
   ]
  },
  {
   "cell_type": "code",
   "execution_count": 31,
   "id": "a64f65b0-e20c-41c5-a8ed-d31ca8d93207",
   "metadata": {},
   "outputs": [
    {
     "data": {
      "text/plain": [
       "(30.22636484687084, 20.838881491344875)"
      ]
     },
     "execution_count": 31,
     "metadata": {},
     "output_type": "execute_result"
    }
   ],
   "source": [
    "# Check for top positive words in both titles and reviews\n",
    "df['Positive_Correlation'] = df.apply(\n",
    "    lambda row: bool(set(row['Positive_Title_Words']) & set(row['Positive_Review_Words'])), axis=1)\n",
    "\n",
    "# Check for top negative words in both titles and reviews\n",
    "df['Negative_Correlation'] = df.apply(\n",
    "    lambda row: bool(set(row['Negative_Title_Words']) & set(row['Negative_Review_Words'])), axis=1)\n",
    "\n",
    "# Calculate correlation percentages\n",
    "positive_correlation_percentage = df['Positive_Correlation'].mean() * 100\n",
    "negative_correlation_percentage = df['Negative_Correlation'].mean() * 100\n",
    "\n",
    "positive_correlation_percentage, negative_correlation_percentage"
   ]
  },
  {
   "cell_type": "markdown",
   "id": "66ef3305-7fe1-4de5-8657-fba3843dfeae",
   "metadata": {},
   "source": [
    "__Detailed Analysis__\n",
    "Do reviews which contain one or more of the top words have the same words in their titles? <b/>\n",
    "\n",
    "For positive reviews, around 30% of the reviews show that the top words in the content are also reflected in the titles. This suggests that positive review titles often highlight key positive words that are central to the review.\n",
    "\n",
    "For negative reviews, only about 20% reflect the same pattern, indicating that negative review titles are less likely to match the key negative words in the content. This could be due to the diversity of negative experiences or the use of more varied vocabulary in negative reviews."
   ]
  },
  {
   "cell_type": "markdown",
   "id": "a3a0aa94-23e4-4db1-a780-cd1bd3abb411",
   "metadata": {},
   "source": [
    "### Problem 6. Bag of words (1 point)\n",
    "Based on your findings so far, come up with a good set of settings (hyperparameters) for a bag-of-words model for review titles and contents. It's easiest to treat them separately (so, create two models); but you may also think about a unified representation. I find the simplest way of concatenating the title and content too simplistic to be useful, as it doesn't allow you to treat the title differently (e.g., by giving it more weight).\n",
    "\n",
    "The documentation for `CountVectorizer` is [here](https://scikit-learn.org/stable/modules/generated/sklearn.feature_extraction.text.CountVectorizer.html). Familiarize yourself with all settings; try out different combinations and come up with a final model; or rather - two models :)."
   ]
  },
  {
   "cell_type": "code",
   "execution_count": 32,
   "id": "58093cb9-b595-4173-a6b6-1b59e1ca7c6c",
   "metadata": {},
   "outputs": [
    {
     "name": "stdout",
     "output_type": "stream",
     "text": [
      "0                           [rude, manager]\n",
      "1                     [big, disappointment]\n",
      "2              [pretty, place, bland, food]\n",
      "3    [great, service, wine, inedible, food]\n",
      "4       [worst, meal, rome, possibly, ever]\n",
      "Name: Processed_Title, dtype: object\n",
      "0    manager became agressive said carbonara good r...\n",
      "1    ordered beef fillet ask done medium got well d...\n",
      "2    attractive venue welcoming albeit somewhat slo...\n",
      "3    sadly used high tripadvisor rating literally f...\n",
      "4    start meal bad especially given price visited ...\n",
      "Name: Preprocessed_Review, dtype: object\n"
     ]
    }
   ],
   "source": [
    "print(df['Processed_Title'].head())\n",
    "print(df['Preprocessed_Review'].head())"
   ]
  },
  {
   "cell_type": "code",
   "execution_count": 42,
   "id": "f4639074-962c-486d-973e-f76e26a4e270",
   "metadata": {},
   "outputs": [
    {
     "name": "stdout",
     "output_type": "stream",
     "text": [
      "0                           [rude, manager]\n",
      "1                     [big, disappointment]\n",
      "2              [pretty, place, bland, food]\n",
      "3    [great, service, wine, inedible, food]\n",
      "4       [worst, meal, rome, possibly, ever]\n",
      "Name: Processed_Title, dtype: object\n",
      "0    manager became agressive said carbonara good r...\n",
      "1    ordered beef fillet ask done medium got well d...\n",
      "2    attractive venue welcoming albeit somewhat slo...\n",
      "3    sadly used high tripadvisor rating literally f...\n",
      "4    start meal bad especially given price visited ...\n",
      "Name: Preprocessed_Review, dtype: object\n",
      "0                        rude manager\n",
      "1                  big disappointment\n",
      "2             pretty place bland food\n",
      "3    great service wine inedible food\n",
      "4       worst meal rome possibly ever\n",
      "Name: Processed_Title_Str, dtype: object\n",
      "0    m a n a g e r   b e c a m e   a g r e s s i v ...\n",
      "1    o r d e r e d   b e e f   f i l l e t   a s k ...\n",
      "2    a t t r a c t i v e   v e n u e   w e l c o m ...\n",
      "3    s a d l y   u s e d   h i g h   t r i p a d v ...\n",
      "4    s t a r t   m e a l   b a d   e s p e c i a l ...\n",
      "Name: Preprocessed_Review_Str, dtype: object\n",
      "Title BoW shape: (1493, 908)\n",
      "Content BoW shape: (1493, 5000)\n"
     ]
    }
   ],
   "source": [
    "import pandas as pd\n",
    "from sklearn.feature_extraction.text import CountVectorizer\n",
    "\n",
    "# Verify 'Processed_Title' and 'Preprocessed_Review'\n",
    "print(df['Processed_Title'].head())\n",
    "print(df['Preprocessed_Review'].head())\n",
    "\n",
    "# Join tokens back to string for vectorization\n",
    "df['Processed_Title_Str'] = df['Processed_Title'].apply(lambda x: ' '.join(x))\n",
    "df['Preprocessed_Review_Str'] = df['Preprocessed_Review'].apply(lambda x: ' '.join(x))\n",
    "\n",
    "# Check if there are empty strings after preprocessing\n",
    "print(df['Processed_Title_Str'].head())\n",
    "print(df['Preprocessed_Review_Str'].head())\n",
    "\n",
    "# Ensure 'Preprocessed_Review_Str' has correct format\n",
    "df = df[df['Preprocessed_Review_Str'].str.strip() != '']\n",
    "\n",
    "# Define hyperparameters for the models\n",
    "title_vectorizer_params = {\n",
    "    'stop_words': 'english',\n",
    "    'lowercase': True,\n",
    "    'max_features': 1000\n",
    "}\n",
    "\n",
    "content_vectorizer_params = {\n",
    "    'stop_words': 'english',\n",
    "    'lowercase': True,\n",
    "    'max_features': 5000,\n",
    "    'max_df': 0.85,\n",
    "    'min_df': 2\n",
    "}\n",
    "\n",
    "# Create CountVectorizer instances with the defined hyperparameters\n",
    "title_vectorizer = CountVectorizer(**title_vectorizer_params)\n",
    "content_vectorizer = CountVectorizer(**content_vectorizer_params)\n",
    "\n",
    "# Transform the text data to Bag of Words\n",
    "title_bow = title_vectorizer.fit_transform(df['Processed_Title_Str'])\n",
    "# content_bow = content_vectorizer.fit_transform(df['Preprocessed_Review_Str'])\n",
    "\n",
    "# Check the shape of the transformed data\n",
    "print(\"Title BoW shape:\", title_bow.shape)\n",
    "print(\"Content BoW shape:\", content_bow.shape)\n"
   ]
  },
  {
   "cell_type": "code",
   "execution_count": 35,
   "id": "746ebcd5-2744-4b3c-b662-51584a4caa6a",
   "metadata": {},
   "outputs": [
    {
     "data": {
      "text/plain": [
       "CountVectorizer(max_df=0.85, max_features=5000, min_df=2, stop_words='english')"
      ]
     },
     "execution_count": 35,
     "metadata": {},
     "output_type": "execute_result"
    }
   ],
   "source": [
    "content_vectorizer"
   ]
  },
  {
   "cell_type": "code",
   "execution_count": null,
   "id": "d72a0d78-a022-48b8-a03a-e965b1ad03fd",
   "metadata": {},
   "outputs": [],
   "source": [
    "title_vectorizer"
   ]
  },
  {
   "cell_type": "code",
   "execution_count": null,
   "id": "e961278c-3f50-44b3-aec4-4f024cd2405c",
   "metadata": {},
   "outputs": [],
   "source": [
    "title_vectorizer.fit_transform(df['Processed_Title_Str'])"
   ]
  },
  {
   "cell_type": "code",
   "execution_count": 48,
   "id": "af4ee1f3-2e02-4e78-8ecb-46b2599a69e9",
   "metadata": {},
   "outputs": [],
   "source": [
    "# content_vectorizer.fit_transform(df['Preprocessed_Review_Str'])\n",
    "# Here is the error beacuse of that I commented it up."
   ]
  },
  {
   "cell_type": "code",
   "execution_count": 49,
   "id": "c569acfb-b6af-454c-9e86-2e5f7936a45a",
   "metadata": {},
   "outputs": [
    {
     "name": "stdout",
     "output_type": "stream",
     "text": [
      "Title BoW shape: (1493, 908)\n"
     ]
    }
   ],
   "source": [
    "print(\"Title BoW shape:\", title_bow.shape)"
   ]
  },
  {
   "cell_type": "markdown",
   "id": "9a858ccf-4b84-4f67-a388-d268bf7e89c4",
   "metadata": {},
   "source": [
    "Let's try to do it over :"
   ]
  },
  {
   "cell_type": "code",
   "execution_count": 50,
   "id": "a1ac9214-3dff-4473-97b1-23ec6446774f",
   "metadata": {},
   "outputs": [
    {
     "name": "stdout",
     "output_type": "stream",
     "text": [
      "Lengths of Processed Titles:\n",
      "count    1493.000000\n",
      "mean       19.818486\n",
      "std        11.372260\n",
      "min         1.000000\n",
      "25%        12.000000\n",
      "50%        17.000000\n",
      "75%        26.000000\n",
      "max        83.000000\n",
      "Name: Processed_Title_Str, dtype: float64\n",
      "Lengths of Preprocessed Reviews:\n",
      "count    1493.000000\n",
      "mean      227.517749\n",
      "std       235.034555\n",
      "min         4.000000\n",
      "25%        99.000000\n",
      "50%       154.000000\n",
      "75%       257.000000\n",
      "max      2352.000000\n",
      "Name: Preprocessed_Review_Str, dtype: float64\n",
      "Sample Preprocessed Reviews:\n",
      "173     good service ellen served wonderful energy rec...\n",
      "1352    went loft drink dinner happy find nice place d...\n",
      "433     frog bercy village great craft beer pub bercy ...\n",
      "1417    plaza vieja must chill multiple bar time eveni...\n",
      "1261    great dinner diner raving food everything spec...\n",
      "Name: Preprocessed_Review_Str, dtype: object\n"
     ]
    }
   ],
   "source": [
    "# Initialize lemmatizer\n",
    "lemmatizer = WordNetLemmatizer()\n",
    "\n",
    "# Define stop words\n",
    "stop_words = set(stopwords.words('english'))\n",
    "\n",
    "# Function to preprocess text\n",
    "def preprocess_text(text):\n",
    "    tokens = word_tokenize(text.lower())\n",
    "    tokens = [word for word in tokens if word.isalpha() and word not in stop_words]\n",
    "    tokens = [lemmatizer.lemmatize(word) for word in tokens]\n",
    "    return tokens\n",
    "\n",
    "# Apply preprocessing to review titles and reviews\n",
    "df['Processed_Title'] = df['Review Title'].apply(lambda x: preprocess_text(str(x)))\n",
    "df['Processed_Review'] = df['Review'].apply(lambda x: preprocess_text(str(x)))\n",
    "\n",
    "# Join tokens back to string for vectorization\n",
    "df['Processed_Title_Str'] = df['Processed_Title'].apply(lambda x: ' '.join(x))\n",
    "df['Preprocessed_Review_Str'] = df['Processed_Review'].apply(lambda x: ' '.join(x))\n",
    "\n",
    "# Ensure there are no empty strings or strings with only whitespace\n",
    "df = df[df['Processed_Title_Str'].str.strip() != '']\n",
    "df = df[df['Preprocessed_Review_Str'].str.strip() != '']\n",
    "\n",
    "# Check lengths of the processed strings\n",
    "print(\"Lengths of Processed Titles:\")\n",
    "print(df['Processed_Title_Str'].apply(len).describe())\n",
    "\n",
    "print(\"Lengths of Preprocessed Reviews:\")\n",
    "print(df['Preprocessed_Review_Str'].apply(len).describe())\n",
    "\n",
    "# Inspect a few preprocessed reviews\n",
    "print(\"Sample Preprocessed Reviews:\")\n",
    "print(df['Preprocessed_Review_Str'].sample(5))"
   ]
  },
  {
   "cell_type": "code",
   "execution_count": 44,
   "id": "e03e629c-1cf6-443d-85b4-34260b88b8c9",
   "metadata": {},
   "outputs": [
    {
     "name": "stdout",
     "output_type": "stream",
     "text": [
      "Shape of BoW: (1493, 5000)\n",
      "Vectorization successful with the temporary parameters.\n"
     ]
    }
   ],
   "source": [
    "from sklearn.feature_extraction.text import CountVectorizer\n",
    "\n",
    "# Define hyperparameters for the models\n",
    "title_vectorizer_params = {\n",
    "    'stop_words': 'english',\n",
    "    'lowercase': True,\n",
    "    'max_features': 1000\n",
    "}\n",
    "\n",
    "content_vectorizer_params = {\n",
    "    'stop_words': 'english',\n",
    "    'lowercase': True,\n",
    "    'max_features': 5000,\n",
    "    'max_df': 1.0,  # Temporarily allow all documents\n",
    "    'min_df': 1    # Temporarily allow all tokens\n",
    "}\n",
    "\n",
    "# Create CountVectorizer instances with the defined hyperparameters\n",
    "title_vectorizer = CountVectorizer(**title_vectorizer_params)\n",
    "content_vectorizer = CountVectorizer(**content_vectorizer_params)\n",
    "\n",
    "# Create a function to log and inspect potential issues\n",
    "def log_and_inspect(texts, vectorizer):\n",
    "    try:\n",
    "        bow = vectorizer.fit_transform(texts)\n",
    "        print(f\"Shape of BoW: {bow.shape}\")\n",
    "    except ValueError as e:\n",
    "        print(f\"Error: {e}\")\n",
    "    return bow if 'bow' in locals() else None\n",
    "\n",
    "# Log and inspect the content\n",
    "content_bow = log_and_inspect(df['Preprocessed_Review_Str'], content_vectorizer)\n",
    "\n",
    "# If the above adjustment works, fine-tune the parameters\n",
    "if content_bow is not None:\n",
    "    print(\"Vectorization successful with the temporary parameters.\")\n",
    "else:\n",
    "    print(\"Vectorization still unsuccessful. Need to inspect the preprocessing steps and data further.\")\n"
   ]
  },
  {
   "cell_type": "code",
   "execution_count": 45,
   "id": "b998e325-7e2c-489d-90eb-6740961c53d4",
   "metadata": {},
   "outputs": [
    {
     "name": "stdout",
     "output_type": "stream",
     "text": [
      "Title BoW shape: (1493, 908)\n",
      "Content BoW shape: (1493, 5000)\n"
     ]
    }
   ],
   "source": [
    "print(\"Title BoW shape:\", title_bow.shape)\n",
    "print(\"Content BoW shape:\", content_bow.shape)"
   ]
  },
  {
   "cell_type": "markdown",
   "id": "a337ce0f-2afe-422f-8e9d-beddd5635093",
   "metadata": {},
   "source": [
    "### Problem 7. Deep sentiment analysis models (1 point)\n",
    "Find a suitable model for sentiment analysis in English. Without modifying, training, or fine-tuning the model, make it predict all contents (or better, combinations of titles and contents, if you can). Meaure the accuracy of the model compared to the `sentiment` column in the dataset."
   ]
  },
  {
   "cell_type": "code",
   "execution_count": null,
   "id": "9292c210-ec5f-4738-8a6e-926345952848",
   "metadata": {},
   "outputs": [],
   "source": []
  },
  {
   "cell_type": "markdown",
   "id": "773d804d-9c83-48ec-be2b-8564d73d908c",
   "metadata": {},
   "source": [
    "### Problem 8. Deep features (embeddings) (1 point)\n",
    "Use the same model to perform feature extraction on the review contents (or contents + titles) instead of direct predictions. You should already be familiar how to do that from your work on images.\n",
    "\n",
    "Use the cosine similarity between texts to try to cluster them. Are there \"similar\" reviews (you'll need to find a way to measure similarity) across different restaurants? Are customers generally in agreement for the same restaurant?"
   ]
  },
  {
   "cell_type": "code",
   "execution_count": null,
   "id": "f732c764-2ef0-4da2-a662-f8cd7b684245",
   "metadata": {},
   "outputs": [],
   "source": []
  },
  {
   "cell_type": "markdown",
   "id": "c79a585f-1dad-469a-a2ae-31d3981b9e1b",
   "metadata": {},
   "source": [
    "### \\* Problem 9. Explore and model at will\n",
    "In this lab, we focused on preprocessing and feature extraction and we didn't really have a chance to train (or compare) models. The dataset is maybe too small to be conclusive, but feel free to play around with ready-made models, and train your own."
   ]
  },
  {
   "cell_type": "code",
   "execution_count": null,
   "id": "a1e90732-4d96-4692-8588-b9429430a98b",
   "metadata": {},
   "outputs": [],
   "source": []
  }
 ],
 "metadata": {
  "kernelspec": {
   "display_name": "Python 3 (ipykernel)",
   "language": "python",
   "name": "python3"
  },
  "language_info": {
   "codemirror_mode": {
    "name": "ipython",
    "version": 3
   },
   "file_extension": ".py",
   "mimetype": "text/x-python",
   "name": "python",
   "nbconvert_exporter": "python",
   "pygments_lexer": "ipython3",
   "version": "3.9.12"
  }
 },
 "nbformat": 4,
 "nbformat_minor": 5
}
