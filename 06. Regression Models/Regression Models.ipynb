{
 "cells": [
  {
   "cell_type": "code",
   "execution_count": 4,
   "id": "30c4ab80-68b3-46f5-9519-9d4077718abe",
   "metadata": {},
   "outputs": [],
   "source": [
    "import numpy as np\n",
    "import pandas as pd\n",
    "import matplotlib.pyplot as plt\n",
    "\n",
    "import os"
   ]
  },
  {
   "cell_type": "markdown",
   "id": "4bba8264-f873-4fcb-94d4-5af6002e3ce8",
   "metadata": {},
   "source": [
    "# Regression Models"
   ]
  },
  {
   "cell_type": "markdown",
   "id": "e92ab9e9-bb81-4a9a-b6fc-c0d61e90d25e",
   "metadata": {},
   "source": [
    "#### Работа с голям обем данни\n",
    "\n",
    "Най-често подхода е разделяме големия файл на малки парчета. На всяко едно парче правин мякаква обработка - получаваме друго парче. И всяка една от тези части много често агрегираме по някакъв начин, много често по един запис или по няколко свързани такива. Този процес се нарича map-reduce.\n",
    "\n",
    "tensorflow: Dataset - batch, map\n",
    "\n",
    "1. Имаме един списък - например с 5 пътечки към имиджи вътре и това за разлика от изображенията е нещо, което се събира в паметта, това са стрингове).\n",
    "2. Прочитаме ги (read them).\n",
    "3. process them\n",
    "4. pass them through the model\n",
    "5. result = [\"cat\", \"tiger\", ...]\n",
    "\n",
    "Един модел, на който му се подава данни не се интересува колко данни ще получи, единствено ако е един, трябва да му подадем не един запис, едно изображение, ами списък от едно изображение. \n",
    "Това цялото нещо е начин за работа с данни, който е по-разумен и който ни позволява да сме много гъвкави.\n",
    "Ако си представим, че все един от тези редове е по една или по няколко функции, чийто резултати се предават една на друга можем да видим, че това е композиция от функции. Бихме я нарекли data pipeline.\n",
    "\n",
    "Ако използваме pytorch, той също има Dataset като има Dataset и DataLoader. Dataset ни оказва самите данни какви са и какво представляват, а DataLoader е по какъв начин да бъдат обработени-зареждани, разбърквани и т.н. В tensorflow това се прави наведнъж."
   ]
  },
  {
   "cell_type": "code",
   "execution_count": 5,
   "id": "424e0acb-5fc6-46a1-84c5-86e5d251912a",
   "metadata": {},
   "outputs": [
    {
     "data": {
      "text/plain": [
       "['african-wildcat',\n",
       " 'blackfoot-cat',\n",
       " 'chinese-mountain-cat',\n",
       " 'domestic-cat',\n",
       " 'european-wildcat',\n",
       " 'jungle-cat',\n",
       " 'sand-cat']"
      ]
     },
     "execution_count": 5,
     "metadata": {},
     "output_type": "execute_result"
    }
   ],
   "source": [
    "os.listdir(\"../04. Working with Images/cat_taxonomy\")"
   ]
  },
  {
   "cell_type": "code",
   "execution_count": 6,
   "id": "2ffe0ce8-edee-44cf-aa27-bc81768eef87",
   "metadata": {},
   "outputs": [
    {
     "data": {
      "text/plain": [
       "<generator object _walk at 0x000001E2010336E0>"
      ]
     },
     "execution_count": 6,
     "metadata": {},
     "output_type": "execute_result"
    }
   ],
   "source": [
    "os.walk(\"../04. Working with Images/cat_taxonomy\")"
   ]
  },
  {
   "cell_type": "code",
   "execution_count": 7,
   "id": "5c9216ee-da79-4f0d-b410-a43c1f4ea8ea",
   "metadata": {},
   "outputs": [
    {
     "data": {
      "text/plain": [
       "[('../04. Working with Images/cat_taxonomy',\n",
       "  ['african-wildcat',\n",
       "   'blackfoot-cat',\n",
       "   'chinese-mountain-cat',\n",
       "   'domestic-cat',\n",
       "   'european-wildcat',\n",
       "   'jungle-cat',\n",
       "   'sand-cat'],\n",
       "  []),\n",
       " ('../04. Working with Images/cat_taxonomy\\\\african-wildcat',\n",
       "  [],\n",
       "  ['af (1).jpg',\n",
       "   'af (10).jpg',\n",
       "   'af (11).jpg',\n",
       "   'af (12).jpg',\n",
       "   'af (13).jpg',\n",
       "   'af (14).jpg',\n",
       "   'af (15).jpg',\n",
       "   'af (16).jpg',\n",
       "   'af (17).jpg',\n",
       "   'af (18).jpg',\n",
       "   'af (19).jpg',\n",
       "   'af (2).jpg',\n",
       "   'af (20).jpg',\n",
       "   'af (21).jpg',\n",
       "   'af (22).jpg',\n",
       "   'af (23).jpg',\n",
       "   'af (24).jpg',\n",
       "   'af (25).jpg',\n",
       "   'af (26).jpg',\n",
       "   'af (27).jpg',\n",
       "   'af (28).jpg',\n",
       "   'af (29).jpg',\n",
       "   'af (3).jpg',\n",
       "   'af (30).jpg',\n",
       "   'af (31).jpg',\n",
       "   'af (32).jpg',\n",
       "   'af (33).jpg',\n",
       "   'af (34).jpg',\n",
       "   'af (35).jpg',\n",
       "   'af (36).jpg',\n",
       "   'af (37).jpg',\n",
       "   'af (38).jpg',\n",
       "   'af (39).jpg',\n",
       "   'af (4).jpg',\n",
       "   'af (40).jpg',\n",
       "   'af (41).jpg',\n",
       "   'af (42).jpg',\n",
       "   'af (43).jpg',\n",
       "   'af (44).jpg',\n",
       "   'af (45).jpg',\n",
       "   'af (46).jpg',\n",
       "   'af (47).jpg',\n",
       "   'af (48).jpg',\n",
       "   'af (49).jpg',\n",
       "   'af (5).jpg',\n",
       "   'af (50).jpg',\n",
       "   'af (51).jpg',\n",
       "   'af (52).jpg',\n",
       "   'af (53).jpg',\n",
       "   'af (54).jpg',\n",
       "   'af (55).jpg',\n",
       "   'af (56).jpg',\n",
       "   'af (57).jpg',\n",
       "   'af (58).jpg',\n",
       "   'af (59).jpg',\n",
       "   'af (6).jpg',\n",
       "   'af (60).jpg',\n",
       "   'af (61).jpg',\n",
       "   'af (62).jpg',\n",
       "   'af (63).jpg',\n",
       "   'af (64).jpg',\n",
       "   'af (65).jpg',\n",
       "   'af (66).jpg',\n",
       "   'af (67).jpg',\n",
       "   'af (68).jpg',\n",
       "   'af (69).jpg',\n",
       "   'af (7).jpg',\n",
       "   'af (70).jpg',\n",
       "   'af (71).jpg',\n",
       "   'af (72).jpg',\n",
       "   'af (73).jpg',\n",
       "   'af (74).jpg',\n",
       "   'af (75).jpg',\n",
       "   'af (76).jpg',\n",
       "   'af (77).jpg',\n",
       "   'af (78).jpg',\n",
       "   'af (79).jpg',\n",
       "   'af (8).jpg',\n",
       "   'af (80).jpg',\n",
       "   'af (81).jpg',\n",
       "   'af (82).jpg',\n",
       "   'af (83).jpg',\n",
       "   'af (84).jpg',\n",
       "   'af (85).jpg',\n",
       "   'af (86).jpg',\n",
       "   'af (87).jpg',\n",
       "   'af (88).jpg',\n",
       "   'af (89).jpg',\n",
       "   'af (9).jpg',\n",
       "   'af (90).jpg',\n",
       "   'af (91).jpg']),\n",
       " ('../04. Working with Images/cat_taxonomy\\\\blackfoot-cat',\n",
       "  [],\n",
       "  ['bc (1).jpg',\n",
       "   'bc (10).jpg',\n",
       "   'bc (11).jpg',\n",
       "   'bc (12).jpg',\n",
       "   'bc (13).jpg',\n",
       "   'bc (14).jpg',\n",
       "   'bc (15).jpg',\n",
       "   'bc (16).jpg',\n",
       "   'bc (17).jpg',\n",
       "   'bc (18).jpg',\n",
       "   'bc (19).jpg',\n",
       "   'bc (2).jpg',\n",
       "   'bc (20).jpg',\n",
       "   'bc (21).jpg',\n",
       "   'bc (22).jpg',\n",
       "   'bc (23).jpg',\n",
       "   'bc (24).jpg',\n",
       "   'bc (25).jpg',\n",
       "   'bc (26).jpg',\n",
       "   'bc (27).jpg',\n",
       "   'bc (28).jpg',\n",
       "   'bc (29).jpg',\n",
       "   'bc (3).jpg',\n",
       "   'bc (30).jpg',\n",
       "   'bc (31).jpg',\n",
       "   'bc (32).jpg',\n",
       "   'bc (33).jpg',\n",
       "   'bc (34).jpg',\n",
       "   'bc (35).jpg',\n",
       "   'bc (36).jpg',\n",
       "   'bc (37).jpg',\n",
       "   'bc (38).jpg',\n",
       "   'bc (39).jpg',\n",
       "   'bc (4).jpg',\n",
       "   'bc (40).jpg',\n",
       "   'bc (41).jpg',\n",
       "   'bc (42).jpg',\n",
       "   'bc (43).jpg',\n",
       "   'bc (44).jpg',\n",
       "   'bc (45).jpg',\n",
       "   'bc (46).jpg',\n",
       "   'bc (47).jpg',\n",
       "   'bc (48).jpg',\n",
       "   'bc (49).jpg',\n",
       "   'bc (5).jpg',\n",
       "   'bc (50).jpg',\n",
       "   'bc (51).jpg',\n",
       "   'bc (52).jpg',\n",
       "   'bc (53).jpg',\n",
       "   'bc (54).jpg',\n",
       "   'bc (55).jpg',\n",
       "   'bc (56).jpg',\n",
       "   'bc (57).jpg',\n",
       "   'bc (58).jpg',\n",
       "   'bc (59).jpg',\n",
       "   'bc (6).jpg',\n",
       "   'bc (60).jpg',\n",
       "   'bc (61).jpg',\n",
       "   'bc (62).jpg',\n",
       "   'bc (63).jpg',\n",
       "   'bc (64).jpg',\n",
       "   'bc (65).jpg',\n",
       "   'bc (66).jpg',\n",
       "   'bc (67).jpg',\n",
       "   'bc (68).jpg',\n",
       "   'bc (69).jpg',\n",
       "   'bc (7).jpg',\n",
       "   'bc (70).jpg',\n",
       "   'bc (71).jpg',\n",
       "   'bc (72).jpg',\n",
       "   'bc (73).jpg',\n",
       "   'bc (74).jpg',\n",
       "   'bc (75).jpg',\n",
       "   'bc (76).jpg',\n",
       "   'bc (77).jpg',\n",
       "   'bc (78).jpg',\n",
       "   'bc (79).jpg',\n",
       "   'bc (8).jpg',\n",
       "   'bc (9).jpg']),\n",
       " ('../04. Working with Images/cat_taxonomy\\\\chinese-mountain-cat',\n",
       "  [],\n",
       "  ['ch (1).jpg',\n",
       "   'ch (10).jpg',\n",
       "   'ch (11).jpg',\n",
       "   'ch (12).jpg',\n",
       "   'ch (13).jpg',\n",
       "   'ch (14).jpg',\n",
       "   'ch (15).jpg',\n",
       "   'ch (16).jpg',\n",
       "   'ch (17).jpg',\n",
       "   'ch (18).jpg',\n",
       "   'ch (19).jpg',\n",
       "   'ch (2).jpg',\n",
       "   'ch (20).jpg',\n",
       "   'ch (21).jpg',\n",
       "   'ch (22).jpg',\n",
       "   'ch (23).jpg',\n",
       "   'ch (24).jpg',\n",
       "   'ch (25).jpg',\n",
       "   'ch (26).jpg',\n",
       "   'ch (27).jpg',\n",
       "   'ch (28).jpg',\n",
       "   'ch (29).jpg',\n",
       "   'ch (3).jpg',\n",
       "   'ch (30).jpg',\n",
       "   'ch (31).jpg',\n",
       "   'ch (32).jpg',\n",
       "   'ch (33).jpg',\n",
       "   'ch (34).jpg',\n",
       "   'ch (35).jpg',\n",
       "   'ch (36).jpg',\n",
       "   'ch (37).jpg',\n",
       "   'ch (38).jpg',\n",
       "   'ch (39).jpg',\n",
       "   'ch (4).jpg',\n",
       "   'ch (40).jpg',\n",
       "   'ch (41).jpg',\n",
       "   'ch (42).jpg',\n",
       "   'ch (5).jpg',\n",
       "   'ch (6).jpg',\n",
       "   'ch (7).jpg',\n",
       "   'ch (8).jpg',\n",
       "   'ch (9).jpg']),\n",
       " ('../04. Working with Images/cat_taxonomy\\\\domestic-cat',\n",
       "  [],\n",
       "  ['dc (1).jpg',\n",
       "   'dc (10).jpg',\n",
       "   'dc (11).jpg',\n",
       "   'dc (12).jpg',\n",
       "   'dc (13).jpg',\n",
       "   'dc (14).jpg',\n",
       "   'dc (15).jpg',\n",
       "   'dc (16).jpg',\n",
       "   'dc (17).jpg',\n",
       "   'dc (18).jpg',\n",
       "   'dc (19).jpg',\n",
       "   'dc (2).jpg',\n",
       "   'dc (20).jpg',\n",
       "   'dc (21).jpg',\n",
       "   'dc (22).jpg',\n",
       "   'dc (23).jpg',\n",
       "   'dc (24).jpg',\n",
       "   'dc (25).jpg',\n",
       "   'dc (26).jpg',\n",
       "   'dc (27).jpg',\n",
       "   'dc (28).jpg',\n",
       "   'dc (29).jpg',\n",
       "   'dc (3).jpg',\n",
       "   'dc (30).jpg',\n",
       "   'dc (31).jpg',\n",
       "   'dc (32).jpg',\n",
       "   'dc (33).jpg',\n",
       "   'dc (34).jpg',\n",
       "   'dc (35).jpg',\n",
       "   'dc (36).jpg',\n",
       "   'dc (37).jpg',\n",
       "   'dc (38).jpg',\n",
       "   'dc (39).jpg',\n",
       "   'dc (4).jpg',\n",
       "   'dc (40).jpg',\n",
       "   'dc (41).jpg',\n",
       "   'dc (42).jpg',\n",
       "   'dc (43).jpg',\n",
       "   'dc (44).jpg',\n",
       "   'dc (45).jpg',\n",
       "   'dc (46).jpg',\n",
       "   'dc (47).jpg',\n",
       "   'dc (48).jpg',\n",
       "   'dc (49).jpg',\n",
       "   'dc (5).jpg',\n",
       "   'dc (50).jpg',\n",
       "   'dc (51).jpg',\n",
       "   'dc (52).jpg',\n",
       "   'dc (53).jpg',\n",
       "   'dc (54).jpg',\n",
       "   'dc (55).jpg',\n",
       "   'dc (56).jpg',\n",
       "   'dc (57).jpg',\n",
       "   'dc (58).jpg',\n",
       "   'dc (59).jpg',\n",
       "   'dc (6).jpg',\n",
       "   'dc (60).jpg',\n",
       "   'dc (61).jpg',\n",
       "   'dc (62).jpg',\n",
       "   'dc (63).jpg',\n",
       "   'dc (64).jpg',\n",
       "   'dc (7).jpg',\n",
       "   'dc (8).jpg',\n",
       "   'dc (9).jpg']),\n",
       " ('../04. Working with Images/cat_taxonomy\\\\european-wildcat',\n",
       "  [],\n",
       "  ['eu (1).jpg',\n",
       "   'eu (10).jpg',\n",
       "   'eu (11).jpg',\n",
       "   'eu (12).jpg',\n",
       "   'eu (13).jpg',\n",
       "   'eu (14).jpg',\n",
       "   'eu (15).jpg',\n",
       "   'eu (16).jpg',\n",
       "   'eu (17).jpg',\n",
       "   'eu (18).jpg',\n",
       "   'eu (19).jpg',\n",
       "   'eu (2).jpg',\n",
       "   'eu (20).jpg',\n",
       "   'eu (21).jpg',\n",
       "   'eu (22).jpg',\n",
       "   'eu (23).jpg',\n",
       "   'eu (24).jpg',\n",
       "   'eu (25).jpg',\n",
       "   'eu (26).jpg',\n",
       "   'eu (27).jpg',\n",
       "   'eu (28).jpg',\n",
       "   'eu (29).jpg',\n",
       "   'eu (3).jpg',\n",
       "   'eu (30).jpg',\n",
       "   'eu (31).jpg',\n",
       "   'eu (32).jpg',\n",
       "   'eu (33).jpg',\n",
       "   'eu (34).jpg',\n",
       "   'eu (35).jpg',\n",
       "   'eu (36).jpg',\n",
       "   'eu (37).jpg',\n",
       "   'eu (38).jpg',\n",
       "   'eu (39).jpg',\n",
       "   'eu (4).jpg',\n",
       "   'eu (40).jpg',\n",
       "   'eu (41).jpg',\n",
       "   'eu (42).jpg',\n",
       "   'eu (43).jpg',\n",
       "   'eu (44).jpg',\n",
       "   'eu (45).jpg',\n",
       "   'eu (46).jpg',\n",
       "   'eu (47).jpg',\n",
       "   'eu (48).jpg',\n",
       "   'eu (49).jpg',\n",
       "   'eu (5).jpg',\n",
       "   'eu (50).jpg',\n",
       "   'eu (51).jpg',\n",
       "   'eu (52).jpg',\n",
       "   'eu (53).jpg',\n",
       "   'eu (54).jpg',\n",
       "   'eu (55).jpg',\n",
       "   'eu (56).jpg',\n",
       "   'eu (57).jpg',\n",
       "   'eu (58).jpg',\n",
       "   'eu (59).jpg',\n",
       "   'eu (6).jpg',\n",
       "   'eu (60).jpg',\n",
       "   'eu (61).jpg',\n",
       "   'eu (62).jpg',\n",
       "   'eu (63).jpg',\n",
       "   'eu (64).jpg',\n",
       "   'eu (65).jpg',\n",
       "   'eu (66).jpg',\n",
       "   'eu (67).jpg',\n",
       "   'eu (68).jpg',\n",
       "   'eu (69).jpg',\n",
       "   'eu (7).jpg',\n",
       "   'eu (70).jpg',\n",
       "   'eu (71).jpg',\n",
       "   'eu (72).jpg',\n",
       "   'eu (73).jpg',\n",
       "   'eu (74).jpg',\n",
       "   'eu (75).jpg',\n",
       "   'eu (76).jpg',\n",
       "   'eu (77).jpg',\n",
       "   'eu (78).jpg',\n",
       "   'eu (79).jpg',\n",
       "   'eu (8).jpg',\n",
       "   'eu (80).jpg',\n",
       "   'eu (81).jpg',\n",
       "   'eu (82).jpg',\n",
       "   'eu (83).jpg',\n",
       "   'eu (84).jpg',\n",
       "   'eu (85).jpg',\n",
       "   'eu (9).jpg']),\n",
       " ('../04. Working with Images/cat_taxonomy\\\\jungle-cat',\n",
       "  [],\n",
       "  ['jg (1).jpg',\n",
       "   'jg (10).jpg',\n",
       "   'jg (11).jpg',\n",
       "   'jg (12).jpg',\n",
       "   'jg (13).jpg',\n",
       "   'jg (14).jpg',\n",
       "   'jg (15).jpg',\n",
       "   'jg (16).jpg',\n",
       "   'jg (17).jpg',\n",
       "   'jg (18).jpg',\n",
       "   'jg (19).jpg',\n",
       "   'jg (2).jpg',\n",
       "   'jg (20).jpg',\n",
       "   'jg (21).jpg',\n",
       "   'jg (22).jpg',\n",
       "   'jg (23).jpg',\n",
       "   'jg (24).jpg',\n",
       "   'jg (25).jpg',\n",
       "   'jg (26).jpg',\n",
       "   'jg (27).jpg',\n",
       "   'jg (28).jpg',\n",
       "   'jg (29).jpg',\n",
       "   'jg (3).jpg',\n",
       "   'jg (30).jpg',\n",
       "   'jg (31).jpg',\n",
       "   'jg (32).jpg',\n",
       "   'jg (33).jpg',\n",
       "   'jg (34).jpg',\n",
       "   'jg (35).jpg',\n",
       "   'jg (36).jpg',\n",
       "   'jg (37).jpg',\n",
       "   'jg (38).jpg',\n",
       "   'jg (39).jpg',\n",
       "   'jg (4).jpg',\n",
       "   'jg (40).jpg',\n",
       "   'jg (41).jpg',\n",
       "   'jg (42).jpg',\n",
       "   'jg (43).jpg',\n",
       "   'jg (44).jpg',\n",
       "   'jg (45).jpg',\n",
       "   'jg (46).jpg',\n",
       "   'jg (47).jpg',\n",
       "   'jg (48).jpg',\n",
       "   'jg (49).jpg',\n",
       "   'jg (5).jpg',\n",
       "   'jg (50).jpg',\n",
       "   'jg (51).jpg',\n",
       "   'jg (52).jpg',\n",
       "   'jg (53).jpg',\n",
       "   'jg (54).jpg',\n",
       "   'jg (55).jpg',\n",
       "   'jg (56).jpg',\n",
       "   'jg (57).jpg',\n",
       "   'jg (58).jpg',\n",
       "   'jg (59).jpg',\n",
       "   'jg (6).jpg',\n",
       "   'jg (60).jpg',\n",
       "   'jg (61).jpg',\n",
       "   'jg (62).jpg',\n",
       "   'jg (63).jpg',\n",
       "   'jg (64).jpg',\n",
       "   'jg (65).jpg',\n",
       "   'jg (66).jpg',\n",
       "   'jg (67).jpg',\n",
       "   'jg (68).jpg',\n",
       "   'jg (69).jpg',\n",
       "   'jg (7).jpg',\n",
       "   'jg (70).jpg',\n",
       "   'jg (71).jpg',\n",
       "   'jg (72).jpg',\n",
       "   'jg (73).jpg',\n",
       "   'jg (74).jpg',\n",
       "   'jg (75).jpg',\n",
       "   'jg (76).jpg',\n",
       "   'jg (77).jpg',\n",
       "   'jg (78).jpg',\n",
       "   'jg (79).jpg',\n",
       "   'jg (8).jpg',\n",
       "   'jg (80).jpg',\n",
       "   'jg (81).jpg',\n",
       "   'jg (82).jpg',\n",
       "   'jg (83).jpg',\n",
       "   'jg (84).jpg',\n",
       "   'jg (85).jpg',\n",
       "   'jg (86).jpg',\n",
       "   'jg (9).jpg']),\n",
       " ('../04. Working with Images/cat_taxonomy\\\\sand-cat',\n",
       "  [],\n",
       "  ['sd (1).jpg',\n",
       "   'sd (10).jpg',\n",
       "   'sd (11).jpg',\n",
       "   'sd (12).jpg',\n",
       "   'sd (13).jpg',\n",
       "   'sd (14).jpg',\n",
       "   'sd (15).jpg',\n",
       "   'sd (16).jpg',\n",
       "   'sd (17).jpg',\n",
       "   'sd (18).jpg',\n",
       "   'sd (19).jpg',\n",
       "   'sd (2).jpg',\n",
       "   'sd (20).jpg',\n",
       "   'sd (21).jpg',\n",
       "   'sd (22).jpg',\n",
       "   'sd (23).jpg',\n",
       "   'sd (24).jpg',\n",
       "   'sd (25).jpg',\n",
       "   'sd (26).jpg',\n",
       "   'sd (27).jpg',\n",
       "   'sd (28).jpg',\n",
       "   'sd (29).jpg',\n",
       "   'sd (3).jpg',\n",
       "   'sd (30).jpg',\n",
       "   'sd (31).jpg',\n",
       "   'sd (32).jpg',\n",
       "   'sd (33).jpg',\n",
       "   'sd (34).jpg',\n",
       "   'sd (35).jpg',\n",
       "   'sd (36).jpg',\n",
       "   'sd (37).jpg',\n",
       "   'sd (38).jpg',\n",
       "   'sd (39).jpg',\n",
       "   'sd (4).jpg',\n",
       "   'sd (40).jpg',\n",
       "   'sd (41).jpg',\n",
       "   'sd (42).jpg',\n",
       "   'sd (43).jpg',\n",
       "   'sd (44).jpg',\n",
       "   'sd (45).jpg',\n",
       "   'sd (46).jpg',\n",
       "   'sd (47).jpg',\n",
       "   'sd (48).jpg',\n",
       "   'sd (49).jpg',\n",
       "   'sd (5).jpg',\n",
       "   'sd (50).jpg',\n",
       "   'sd (51).jpg',\n",
       "   'sd (52).jpg',\n",
       "   'sd (53).jpg',\n",
       "   'sd (54).jpg',\n",
       "   'sd (55).jpg',\n",
       "   'sd (56).jpg',\n",
       "   'sd (57).jpg',\n",
       "   'sd (58).jpg',\n",
       "   'sd (59).jpg',\n",
       "   'sd (6).jpg',\n",
       "   'sd (60).jpg',\n",
       "   'sd (61).jpg',\n",
       "   'sd (62).jpg',\n",
       "   'sd (63).jpg',\n",
       "   'sd (64).jpg',\n",
       "   'sd (65).jpg',\n",
       "   'sd (66).jpg',\n",
       "   'sd (67).jpg',\n",
       "   'sd (68).jpg',\n",
       "   'sd (69).jpg',\n",
       "   'sd (7).jpg',\n",
       "   'sd (70).jpg',\n",
       "   'sd (71).jpg',\n",
       "   'sd (72).jpg',\n",
       "   'sd (8).jpg',\n",
       "   'sd (9).jpg'])]"
      ]
     },
     "execution_count": 7,
     "metadata": {},
     "output_type": "execute_result"
    }
   ],
   "source": [
    "list(os.walk(\"../04. Working with Images/cat_taxonomy\"))"
   ]
  },
  {
   "cell_type": "code",
   "execution_count": 9,
   "id": "f21e84ef-c94d-4f71-9ea4-7cd408337d34",
   "metadata": {},
   "outputs": [],
   "source": [
    "dir_name, dir_names, file_names = list(os.walk(\"../04. Working with Images/cat_taxonomy\"))[1]"
   ]
  },
  {
   "cell_type": "code",
   "execution_count": 11,
   "id": "7b50f02c-bad7-4749-a70d-1e23c2902b08",
   "metadata": {},
   "outputs": [
    {
     "data": {
      "text/plain": [
       "['af (1).jpg', 'af (10).jpg', 'af (11).jpg', 'af (12).jpg', 'af (13).jpg']"
      ]
     },
     "execution_count": 11,
     "metadata": {},
     "output_type": "execute_result"
    }
   ],
   "source": [
    "file_names[:5]"
   ]
  },
  {
   "cell_type": "markdown",
   "id": "28d4af45-9f8b-43b1-965d-5ab756dd6fa5",
   "metadata": {},
   "source": [
    "Много често когато работим с данни те са големи. Когато ще работим с невронни мрежи ще имаме голям проблем, защото ще трябва в паметта на GPU-то, на графични процесор), да съберем целия модел + данните, които му трябват в момента. Паметта на GPU-то е скъпа и много ценна, трябва да я пазим. Имаме интерес модела да заема възможно най-голяма част от нея и да оставим минимално място за други неща - възможно по-малко. Но това означава, че не можем да заредим целия dataset. Вероятно и на много голяма машина не можем да го заредим целия, дори да нямаше това ограничение."
   ]
  },
  {
   "cell_type": "markdown",
   "id": "278271b3-4bbc-42af-8c91-b3979f25a8ed",
   "metadata": {},
   "source": [
    "Сега ще видим как Data Science, работа с data pipelines, автоматизация, възпроизведимост как се съчетават с моделирането. защото окей, имаме данни - почистени, подредени - какво ще ги правим? Основното нещо, което да ги направим е да направим ментален модел на тези данни. Това върши работа. Това означава експертен анализ. Ние сме хората, които ги анализираме. Това се прави, ама е много остаряло. Експертни модели още има.\n",
    "Обаче, ако имаме много данни можем да подходим по друг начин. Можем да намерим функция, която ги описва добре и тази функция да я напишем математически, после да я прилагаме. Тази функция винаги допуска грешка. Няма нито един модел, който да е перфектен. То затовюа това е модел - не е реалността, а някакво приближение на реалността.\n",
    "\n",
    "Ще се опитаме да вземем от данните полезна информация, да игнорираме шума и да получим функция която апроксимира добре данните, т.е. като й подадем подходящия вход, ще получим изход, който е много правдоподобен.\n",
    "\n",
    "#### Задача\n",
    "Имаме много на брой данни като искаме да получим нещо полезно за тях. Само че тези данни не са дошли от нищото, някакъв процес ги е генерирал. И този процес, който ги е генерирал ние нямаме никаква видимост за него.\n",
    "Знаем, че изискването за функция е за един вход да съществува само един изход. Това в случая дори не е задължително. Имаме някакъв процес, който като получи някакви входни данни дава някакъв резултат. Много често входните данни са някаква цяла матрица(X), а резултатът много често го виждаме като един вектор, като една колона. Какво става, ако дава няколко резултата - отделни независими колони. <br/>\n",
    "Основната задача е като получим много на брой данни, много на брой променливи да дадем като резултат една колона или вектор стълб.\n",
    "\n",
    "В __X__(матрица), ако имаме размери __n__(реда) x __m__(колони), нашите данни __n__ на брой живеят в едно __m__- мерно пространство. Имаме n на брой характеристики, които се смятат за всеки един запис. И нашата работа е да направим функция, която се държи по подобен начин, която ако и подадем същия вход ще получим __prediction__ $\\hat{y}$ (y тилда) . Тилдата подсказва, че $\\hat{y}$ искаме да е подобно на $y$:  $\\hat{y} \\approx y$ . <br/>\n",
    "Искаме тази функция да дава резултати близки до реалната. <br/>\n",
    "След това можем да си играем на интерполация и екстраполация. \n",
    "\n",
    "Всеки модел върши някаква работа. Никой модел не е перфектен и всеки модел има предположение. Първото предположение е, че данните изобщо могат да бъдат моделирани. Ние ги разглеждаме като случайни събития, но тези случайни събития имат разпределения и тези променливи, които сме получили в данните (като __x__) имат някакви закономерности. Както правим в математиката, ако някъде имаме закономерност искаме да я експлоатираме по някакъв начин. Така че трябва да направим някакви предположения и след това моделът представлява опростена версия на реалността. Като проверим колко е опростена може да се окаже, че е твърде опростена и може да се окаже, че моделът може да бъде подобряван или че не може да бъде подобряван. Но тук вече идва итеративната част.\n",
    "Моделът представлява хипотеза за данните. една хипотеза не работи. Какво правим? Правим нова. Или подобряваме старата по някакъв начин.\n",
    "Проверката на хипотези означава да оценим колко добре, по какъв начин и в кои случаи работи нашият модел. Никой няма да бъде универсален, но ще трябва да видим какво работи от него и какво не работи от него. И това цялото нещо можем да го наречем машийн лърнинг. Машийн лърнинг е ситуацията в която имаме програма, която работи без да бъде програмирана експлицитно или изрично. В стандартните алгоритми имаме 1ва стъпка, 2ра стъпка, 3та стъпка, 4та и т.н., нямат нужда от данни, прилагаме само една рецепта. Прилагаме тази рецепта и получаваме резултат, който е винаги един и същи. Тук е точно наобратно - имаме данни, имаме някаква идея как се готви, т.е. имаме алгоритъм който е готов, готови примитиви, готови наивни блокове, но цялото нещо което правим зависи от данните. Машийн лърнинг алгоритъм без данни не представлява нищо. Когато получи данни и се обучи с тях той става техен модел.\n",
    "Друга част от работата е когато получим някакъв алгоритъм да го оценим колко е добър, тъй като самите модели вече са написани(няма нужда да откриваме топлата вода 😄️). Анализа на резултатите е нещо тривиално и голяма част от Data science съществува заради тази оценка на алгоритми. <br/>\n",
    "Много често имаме помощни алгоритми, най-често свързани с оценяването на моделите."
   ]
  },
  {
   "cell_type": "markdown",
   "id": "c35d7e5a-602f-4383-93bd-ec3ac7a4ea32",
   "metadata": {},
   "source": [
    "### Има няколко основни вида моделиране:\n",
    "\n",
    "- supervised learning (контролирано обучение) - имаме данни и резултати, които да очакваме. Обучение, в което казваме вземи тези входни данни, за тях аз съм получил този изход $X, y$. $y$ се нарича ground truth. Направи всичко възможно да ги наподобиш\n",
    "- unsupervised learning (неконтролирано обучение) - имаме само данни, нямаме очакван резултат. Ние ще получим някакъв резултат, но няма да можем по различни причини да го сравним с нещо очаквано. <br/>\n",
    "И двата модела имат някакви предположения (assumptions)\n",
    "- reinforcement learning - може да бъде какъвто и да е - можем да имаме само входни данни $X$ , може да имаме $X, y$ , това няма много голямо значение. Основното нещо е, че алгоритъмът работейки променя средата си.\n",
    "\n",
    "Supervised learning е най-разпространената част и тази към която се опитваме да докараме бизнес задачите ни.\n",
    "тя може да бъде основно 2 вида:\n",
    " 1. Регресия и\n",
    " 2. Класификация\n",
    "\n",
    "Разликата е в това, което имаме като резултат.\n",
    "Регресията предсказва непрекъснати величини, т.е. $y$ e непрекъсната величина.\n",
    "Класификацията предсказва категорийна променлива. И цялата работа с обучението, ако е добре направена работи. Така работят най-простите модели и най-големите невронни мрежи. Дори и най-дълбоките и най-сложни невронни мрежи в основата си правят линейни операции. Когато чуем линейно ние се радваме. Когато чуем линейно значи е относително просто."
   ]
  },
  {
   "cell_type": "markdown",
   "id": "759bb1ec-cb23-42ae-95cf-ce28752da792",
   "metadata": {},
   "source": [
    "### Линейна регресия\n",
    "\n",
    "Имаме регресия, т.е. ще предсказваме променлива, която не непрекъсната и ще бъде линейна. Ще трябва веднага да направим предположението, че данните имат някаква форма и тази форма е права линия.\n",
    "Много често се случва да вземем случаен процес, който не може да бъде моделиран и да се опитваме да го моделираме. Добър пример са някои финансови анализи или процес, който има твърде много външни данни. Какво означава вероятности? Може да са просто данни, които ние нямаме или на които не сме обърнали внимание. И тук ще предположим, че $\\hat{y}$ не е просто функция на $x$ , ами е линейна функция на $x$ : $\\hat{y} = a x + b$ .\n",
    "Трябва да си направим данните - за да си ги направим трябва да знаем, че в реалния свят винаги има някакви неточности. Тези неточности могат да бъдат по много причини: могат да бъдат грешки (Statistical error - чисто случайни фактори и bias. В машийн лърнинг се наричат variance и bias.)\n",
    "Качеството на модела много силно зависи от човекът, който работи с данните, трябва добре да ги познаваме. Защото моделът винаги дава някакъв резултат обаче garbage in, garbage out. Ако това, което сме подали като данни е garbage ще получим още по-голям garbage на изхода.\n"
   ]
  },
  {
   "cell_type": "markdown",
   "id": "df4f0c98-991a-42c3-9157-02e850057171",
   "metadata": {},
   "source": [
    "За да можем да покажем примери трябва да си генерираме данни."
   ]
  },
  {
   "cell_type": "code",
   "execution_count": 16,
   "id": "a4e64877-a603-422b-854a-d8c3c2d485a2",
   "metadata": {},
   "outputs": [],
   "source": [
    "x = np.linspace(-3, 5, 10)  # от -3 до 5, 10 на брой точки\n",
    "y = 2 * x + 3"
   ]
  },
  {
   "cell_type": "code",
   "execution_count": 13,
   "id": "37497e6e-9cfc-4ada-9251-d675d14cf330",
   "metadata": {},
   "outputs": [
    {
     "data": {
      "text/plain": [
       "array([-3.        , -2.11111111, -1.22222222, -0.33333333,  0.55555556,\n",
       "        1.44444444,  2.33333333,  3.22222222,  4.11111111,  5.        ])"
      ]
     },
     "execution_count": 13,
     "metadata": {},
     "output_type": "execute_result"
    }
   ],
   "source": [
    "x"
   ]
  },
  {
   "cell_type": "code",
   "execution_count": 18,
   "id": "191fd3d4-99eb-4e52-b0c1-73b1c5334db7",
   "metadata": {},
   "outputs": [
    {
     "data": {
      "text/plain": [
       "array([-3.        , -1.22222222,  0.55555556,  2.33333333,  4.11111111,\n",
       "        5.88888889,  7.66666667,  9.44444444, 11.22222222, 13.        ])"
      ]
     },
     "execution_count": 18,
     "metadata": {},
     "output_type": "execute_result"
    }
   ],
   "source": [
    "y"
   ]
  },
  {
   "cell_type": "markdown",
   "id": "dfcd326e-8bfd-494f-955e-7b04ff0fbd11",
   "metadata": {},
   "source": [
    "Ако кежем, че $y$ е функция на $x$ , то това означава че можем да ги плотнем. Това беше графичният вид на една функция."
   ]
  },
  {
   "cell_type": "code",
   "execution_count": 21,
   "id": "5f0ec4c5-02fe-4214-a813-f749139dc7c5",
   "metadata": {},
   "outputs": [
    {
     "data": {
      "image/png": "[encoded data removed]",
      "text/plain": [
       "<Figure size 640x480 with 1 Axes>"
      ]
     },
     "metadata": {},
     "output_type": "display_data"
    }
   ],
   "source": [
    "# plt.plot(x, y) # Това е моделът за данните\n",
    "plt.scatter(x, y, color=\"red\")  # Това са данните\n",
    "\n",
    "plt.xlabel(\"x\")\n",
    "plt.ylabel(\"y\")\n",
    "\n",
    "plt.show()"
   ]
  },
  {
   "cell_type": "markdown",
   "id": "f2f9301d-1593-4088-9ee9-135240d068d3",
   "metadata": {},
   "source": [
    "Ето един дейтасет с 10 на брой точки."
   ]
  },
  {
   "cell_type": "code",
   "execution_count": 34,
   "id": "60553e5f-b387-457c-a55c-381d8185eeeb",
   "metadata": {},
   "outputs": [
    {
     "data": {
      "image/png": "[encoded data removed]",
      "text/plain": [
       "<Figure size 640x480 with 1 Axes>"
      ]
     },
     "metadata": {},
     "output_type": "display_data"
    }
   ],
   "source": [
    "x = np.linspace(-3, 5, 500)\n",
    "y = 2 * x + 3\n",
    "\n",
    "plt.scatter(x, y, color=\"red\", s = 0.1) \n",
    "\n",
    "plt.xlabel(\"x\")\n",
    "plt.ylabel(\"y\")\n",
    "\n",
    "plt.show()"
   ]
  },
  {
   "cell_type": "markdown",
   "id": "f8c711f6-9799-4ecc-81e9-2b06d9fd2416",
   "metadata": {},
   "source": [
    "Към всяка една от тези точки имаме някаква неопределеност. И тази неопределеност е една случайна променлива. Ние не се интересуваме от нея, но в случая трябва да я добавим някак си. Към нея можем да сложим всяко нещо, което не ни е интересно за модела. Казваме, че това е случаен шум. Искаме полезното нещо да го вземем, а шумът да го игнорираме. Шум е друго име за случайна променлива."
   ]
  },
  {
   "cell_type": "markdown",
   "id": "d693ecac-2fc0-43ab-bca4-6cfb081842cc",
   "metadata": {},
   "source": [
    "Нека създадем шум, който да добавим към плота:"
   ]
  },
  {
   "cell_type": "code",
   "execution_count": 36,
   "id": "d4568993-2854-4f17-b0f4-d946809a8954",
   "metadata": {},
   "outputs": [],
   "source": [
    "y_noise = np.random.normal(loc = 0, scale = 1, size = len(x)) # средното на този шум ще бъде 0, стандартното отклонение ще бъде 1 и size колкото е дължината на x, за да може да направи за всяко едно"
   ]
  },
  {
   "cell_type": "code",
   "execution_count": 37,
   "id": "be7b0a76-da65-47d1-87b7-6f97b4dae81a",
   "metadata": {},
   "outputs": [
    {
     "data": {
      "text/plain": [
       "array([ 2.63880798e-01,  7.89044891e-01,  4.32008291e-01, -1.31751223e+00,\n",
       "       -1.17746484e+00,  3.52884292e-01,  1.42731433e+00,  8.13912028e-01,\n",
       "       -5.82576617e-01, -1.55738212e+00, -1.90412454e+00,  1.02966622e+00,\n",
       "        1.75748355e+00, -1.53110826e-01, -7.99125888e-01, -2.24466505e+00,\n",
       "        1.61815398e+00,  1.05637526e+00, -6.33632447e-01, -6.23984365e-01,\n",
       "       -1.24866012e+00,  5.33156551e-01, -2.32231377e-01, -8.97000689e-01,\n",
       "        7.67713878e-01,  4.18142146e-01,  1.45597770e+00,  1.27126940e+00,\n",
       "       -6.87339417e-01,  6.57002396e-02, -1.12338590e+00, -1.27867124e+00,\n",
       "        1.52469016e+00, -5.92919038e-01, -1.61971425e+00,  4.16511882e-01,\n",
       "       -1.03085692e+00,  1.09042216e-01,  8.63001569e-01, -1.14238659e+00,\n",
       "        1.60268757e-01, -8.82283685e-03, -2.03616016e-03, -5.82850067e-02,\n",
       "       -2.39828036e+00, -8.20324857e-01, -6.56258631e-02,  1.82610389e+00,\n",
       "        8.63780685e-01,  8.69354909e-01, -2.27516621e+00,  1.41640594e+00,\n",
       "        7.04559082e-01, -1.35439245e+00, -5.32810751e-01, -8.46871279e-01,\n",
       "       -8.44808462e-01,  2.05990413e+00,  6.77970515e-01,  2.05527459e-01,\n",
       "       -6.09241349e-01,  1.41844641e+00,  2.60822155e-01, -1.07041640e-01,\n",
       "        2.27743380e-01, -1.23942973e+00,  4.79975495e-01,  1.20889953e+00,\n",
       "       -1.22203946e+00, -2.37778932e-01,  4.40536347e-01, -4.86330706e-01,\n",
       "       -1.07951282e-02,  8.25056828e-01,  3.99103547e-01, -1.07057395e+00,\n",
       "        7.98924635e-01, -1.11175890e+00, -7.88680691e-01, -1.15700664e+00,\n",
       "       -9.30297488e-01,  1.09523299e+00,  6.41311153e-01, -1.97229688e+00,\n",
       "        1.87078165e-01, -5.23479188e-01, -1.77934536e+00,  4.11260094e-01,\n",
       "       -3.47744044e-01, -1.66782846e+00, -4.27600261e-01,  8.91688403e-01,\n",
       "        1.41830667e+00,  7.63399488e-01,  6.12880351e-01, -9.07118434e-01,\n",
       "        3.04143928e-01, -1.73497145e+00, -3.61723653e-01, -7.57700518e-01,\n",
       "       -6.15585040e-01, -5.27911719e-01,  1.22911392e+00, -9.26669015e-01,\n",
       "        6.13256749e-02,  1.11246028e+00,  1.33719909e-01,  7.11508902e-01,\n",
       "        1.03484132e+00,  1.07715679e+00, -2.49927778e+00, -2.09070522e+00,\n",
       "        7.63729708e-01,  4.92591167e-01,  5.84046453e-02,  9.03194586e-01,\n",
       "        1.39801507e+00,  9.01213036e-01,  5.93503268e-01, -1.50951673e+00,\n",
       "       -1.08099811e+00,  4.64849867e-01, -5.48103084e-01, -1.04993691e+00,\n",
       "        1.10158680e+00, -1.20123504e+00, -8.46941275e-01,  2.43927132e-01,\n",
       "        4.55421714e-01, -5.06804875e-01, -5.55386528e-01,  1.18005062e+00,\n",
       "        9.91243511e-02, -3.46089344e-01, -8.01552589e-01, -7.74894756e-01,\n",
       "        3.08059599e-01,  4.69805403e-01,  1.51950045e+00, -7.30593813e-01,\n",
       "       -1.40468032e-01,  1.18970961e+00,  4.13194198e-01,  1.48294005e+00,\n",
       "       -8.68604456e-01, -8.02434616e-01,  1.20157935e+00, -2.61243768e-01,\n",
       "        1.75413024e+00,  1.65167387e+00,  3.16064948e-01,  1.43379128e-01,\n",
       "        6.21390080e-01, -8.39419247e-01, -2.42164665e+00, -4.63155003e-01,\n",
       "       -1.66817657e+00, -5.19491848e-01,  6.08479967e-01, -1.25133800e+00,\n",
       "        6.12667625e-01, -1.59145674e-01,  1.03667952e+00, -1.86136168e+00,\n",
       "       -1.28356014e-01, -1.36709735e-01, -2.18142005e-01, -7.12391070e-01,\n",
       "        8.08856204e-02, -2.62184310e-01,  1.17210487e+00,  5.09973938e-01,\n",
       "        7.63888776e-01, -3.06700090e-01,  2.20381242e-01, -1.74370009e+00,\n",
       "        1.27012494e+00,  4.38935416e-01, -1.13871635e+00,  9.73787101e-01,\n",
       "       -6.73724920e-02,  9.35275485e-01, -4.35350959e-01, -1.92808344e-01,\n",
       "        9.03024788e-01, -7.55411303e-01,  5.25605779e-01,  8.84933092e-01,\n",
       "        2.95301795e+00,  1.34972067e+00, -2.01616859e-01,  2.00263771e+00,\n",
       "       -5.92656414e-01, -1.28389415e+00, -6.68887365e-01,  1.11717575e+00,\n",
       "        1.87370230e+00, -1.35052262e+00,  7.12519448e-01,  2.49883069e-01,\n",
       "       -2.14677848e+00,  1.65081876e+00,  3.36585588e-01, -9.99463871e-01,\n",
       "       -5.39074983e-01, -1.68789600e+00,  7.75406891e-01,  7.31797205e-02,\n",
       "        7.82942593e-01,  1.01808992e+00,  9.01646674e-01,  1.13178984e+00,\n",
       "       -1.97772412e+00,  4.69245409e-02, -7.40282797e-01,  1.24875021e+00,\n",
       "       -7.76644982e-02,  7.13264419e-01,  9.25742265e-01, -2.86898998e-01,\n",
       "        2.54728495e+00,  1.96491781e-01, -1.34958689e+00,  1.78626924e+00,\n",
       "       -7.09462873e-01,  6.72777861e-01, -5.52262707e-01,  7.55669184e-01,\n",
       "        5.95352438e-01, -2.66990263e+00,  1.70292237e+00,  7.67665384e-01,\n",
       "       -1.71053801e-01, -1.03875262e+00,  6.06918724e-01,  3.22958739e-01,\n",
       "        1.06897389e+00,  1.24674349e-01,  5.72573828e-01, -1.51311939e-01,\n",
       "        3.71337235e-01, -3.10314250e-01,  2.22667534e-01,  2.28641730e-01,\n",
       "       -7.78025436e-01, -7.18357589e-01, -1.02221520e+00, -1.14525421e+00,\n",
       "       -9.18795974e-01, -5.12652928e-01, -3.98804182e-01, -2.52838594e+00,\n",
       "        1.72085564e+00, -5.48049083e-01,  1.66661931e+00,  7.44131106e-02,\n",
       "       -2.87466781e-01, -1.08095890e+00,  2.46769025e-01, -6.84941828e-03,\n",
       "        3.32775690e-01,  2.23196060e-01,  9.13748063e-01, -1.22221048e+00,\n",
       "        7.43695206e-01, -6.66780766e-01,  8.32855896e-01,  6.20877672e-02,\n",
       "        3.14105834e-02,  5.73529042e-01,  1.36002334e+00,  3.27776290e-01,\n",
       "       -6.76167802e-01,  5.76541922e-01, -1.21713518e+00,  2.27999896e-01,\n",
       "       -1.82172251e+00, -1.89166100e-01, -2.10053129e+00,  2.37144601e-02,\n",
       "        9.47068288e-02, -7.67875553e-01, -3.25669373e-01, -7.30205088e-01,\n",
       "       -1.79557050e+00, -7.88914061e-01, -6.00352974e-01, -1.00754646e+00,\n",
       "       -1.53130562e-02,  9.81764871e-01,  3.95484607e-01, -1.26642589e-01,\n",
       "       -5.02570187e-01, -1.56336565e+00, -6.07450825e-01, -9.21923875e-01,\n",
       "       -4.94205866e-01,  1.34110328e-01,  1.68890278e+00,  3.81712949e-02,\n",
       "       -1.89106631e+00, -2.21499227e+00, -2.40967091e+00,  8.45516644e-01,\n",
       "        2.73086756e-01, -6.85567056e-01,  1.00370802e+00,  6.49918052e-01,\n",
       "       -5.90530185e-01,  2.32590943e+00,  8.49714735e-01,  5.03763252e-01,\n",
       "       -1.27780958e+00, -1.21615764e+00,  8.49572023e-01,  5.48635180e-01,\n",
       "        1.02465990e+00, -4.54752873e-01,  7.40107428e-01,  1.73618677e+00,\n",
       "        1.02569851e+00, -7.30725683e-01,  1.03812157e+00, -1.15283735e+00,\n",
       "        3.98900285e-01, -9.02497160e-01,  6.92124462e-01,  1.49544247e-02,\n",
       "       -2.93037367e-01, -3.15250044e-01, -3.13344217e-01, -5.35117442e-01,\n",
       "        9.86168619e-01,  9.33856778e-01, -1.57274758e+00,  4.69041663e-01,\n",
       "       -1.19635541e-01, -9.49499249e-02,  6.42260340e-01, -7.98806584e-02,\n",
       "        5.95588099e-01, -8.80276642e-01, -6.83015652e-01, -1.08742078e+00,\n",
       "        8.74786435e-01,  1.21587619e+00,  2.40488677e-01, -4.08440448e-01,\n",
       "       -5.18479976e-01,  1.03333547e+00,  4.17566745e-02,  5.78081439e-02,\n",
       "        5.43774834e-01, -1.36820373e+00, -2.15950246e+00, -6.54321077e-02,\n",
       "        1.02647628e+00, -1.92895746e+00, -1.71432400e+00,  5.72228470e-01,\n",
       "       -5.00125621e-01, -5.23126351e-01,  4.44138685e-01, -1.30317205e-01,\n",
       "       -1.22835360e+00,  1.93316636e+00, -2.72680474e-01, -1.09858588e+00,\n",
       "        7.63061567e-01, -1.29267932e+00,  1.19866480e-01, -2.44704894e+00,\n",
       "        1.66390530e+00, -6.79997188e-02,  5.57589597e-01, -4.39737715e-01,\n",
       "        4.19233806e-01,  9.06742064e-01,  1.15080821e+00,  1.85132427e-02,\n",
       "       -9.41867197e-01, -2.41585250e+00, -8.71846574e-01,  2.97790984e-01,\n",
       "        3.53525215e-01,  4.81812817e-01,  1.12578781e+00, -1.39599794e+00,\n",
       "       -4.95612479e-01,  3.19957132e-01,  4.89236732e-01, -1.10440608e+00,\n",
       "       -1.73367506e+00,  5.82442283e-02,  6.52731657e-01,  1.73957520e-01,\n",
       "        3.51233899e-01, -7.62999499e-01,  6.89758970e-01, -1.37604478e+00,\n",
       "       -5.06489843e-01, -1.25590595e+00, -1.24943300e+00,  1.58854530e-01,\n",
       "        1.04379458e+00,  3.68542087e-01,  2.89370283e+00,  3.78752870e-01,\n",
       "       -1.14289935e+00, -5.17892003e-01, -7.03332839e-01, -6.95130460e-02,\n",
       "       -3.55792820e-01, -5.60683968e-01, -1.97857094e+00,  1.81625626e+00,\n",
       "        4.66165095e-01,  1.10820798e-01,  4.79193865e-01,  4.18900986e-01,\n",
       "        1.51902997e+00, -6.71208854e-01,  5.37476362e-01, -2.18033327e-01,\n",
       "       -1.60801884e+00, -3.67569414e-01,  4.27540714e-01, -1.64143300e+00,\n",
       "       -3.15094509e-01,  7.69396194e-01,  4.14132309e-01, -8.02157290e-01,\n",
       "        4.75670630e-02,  1.90974840e+00,  1.57426189e+00, -1.84134927e+00,\n",
       "       -3.60790648e-01, -4.89639848e-02,  3.85195761e-01, -2.29345191e+00,\n",
       "        5.90660555e-01,  1.04733369e+00, -3.23745735e-01,  2.00906853e+00,\n",
       "        5.00990280e-01, -9.67601101e-01, -1.46697314e+00,  5.26373411e-01,\n",
       "        9.10457024e-01, -6.44412033e-01, -3.45986022e-01, -6.74187443e-01,\n",
       "       -2.13787765e+00,  3.18930559e-01, -1.73394675e+00, -7.94986004e-01,\n",
       "       -8.46715176e-01, -3.94741689e-01, -1.37582273e+00,  6.22135434e-01,\n",
       "       -9.57470875e-01, -9.58911965e-01, -1.89333904e+00,  1.45710608e-01,\n",
       "       -2.34776258e-01, -1.59245233e+00, -1.85255169e+00, -4.57544085e-01,\n",
       "       -1.55226634e+00, -9.31367843e-01, -4.45709926e-01, -6.11946203e-01,\n",
       "        5.77628461e-01,  1.23009701e+00,  1.78622215e-01,  2.44185996e+00,\n",
       "       -1.64358101e-01,  8.22862716e-01, -4.65637674e-01,  4.89137424e-01,\n",
       "       -1.68853510e+00, -1.04323653e-01, -9.34670631e-02, -5.40939089e-01,\n",
       "        7.17276519e-01, -4.43007875e-01,  6.58871870e-01, -2.84648216e+00,\n",
       "       -1.75017109e+00, -5.61061619e-01, -4.84163421e-01, -1.33161989e-03,\n",
       "        1.86438109e-01, -1.74248796e+00, -5.59865746e-01,  1.00646471e+00,\n",
       "        1.24914887e+00,  2.01012660e-01,  1.40131383e+00,  1.40404632e-01])"
      ]
     },
     "execution_count": 37,
     "metadata": {},
     "output_type": "execute_result"
    }
   ],
   "source": [
    "y_noise"
   ]
  },
  {
   "cell_type": "code",
   "execution_count": 38,
   "id": "e167787d-29fb-4982-9fc2-b074c9395586",
   "metadata": {},
   "outputs": [],
   "source": [
    "y_result = y + y_noise"
   ]
  },
  {
   "cell_type": "code",
   "execution_count": 39,
   "id": "d0b99112-4e36-45b6-86da-aad30c40d3e5",
   "metadata": {},
   "outputs": [
    {
     "data": {
      "text/plain": [
       "array([-2.7361192 , -2.17889098, -2.50386345, -4.22131985, -4.04920832,\n",
       "       -2.48679507, -1.3803009 , -1.96163907, -3.32606359, -4.26880496,\n",
       "       -4.58348326, -1.61762836, -0.85774691, -2.73627716, -3.35022809,\n",
       "       -4.76370312, -0.86881997, -1.39853456, -3.05647814, -3.01476593,\n",
       "       -3.60737755, -1.79349676, -2.52682056, -3.15952574, -1.46274704,\n",
       "       -1.78025465, -0.71035496, -0.86299914, -2.78954383, -2.00444004,\n",
       "       -3.16146205, -3.28468327, -0.44925774, -2.53480281, -3.52953389,\n",
       "       -1.46124363, -2.87654831, -1.70458504, -0.91856156, -2.89188559,\n",
       "       -1.55716611, -1.69419358, -1.65534277, -1.67952749, -3.98745872,\n",
       "       -2.37743909, -1.59067596,  0.33311792, -0.59714116, -0.55950281,\n",
       "       -3.6719598 ,  0.05167648, -0.62810625, -2.65499366, -1.80134782,\n",
       "       -2.08334422, -2.04921728,  0.88755944, -0.46231005, -0.90268897,\n",
       "       -1.68539365,  0.37435823, -0.75120189, -1.08700156, -0.72015241,\n",
       "       -2.15526139, -0.40379204,  0.35719613, -2.04167874, -1.02535408,\n",
       "       -0.31497467, -1.2097776 , -0.70217789,  0.16573819, -0.22815096,\n",
       "       -1.66576433,  0.23579838, -1.64282102, -1.28767869, -1.62394051,\n",
       "       -1.36516723,  0.69242738,  0.27056967, -2.31097423, -0.11953506,\n",
       "       -0.79802829, -2.02183033,  0.20083925, -0.52610076, -1.81412105,\n",
       "       -0.54182872,  0.80952407,  1.36820647,  0.74536342,  0.62690841,\n",
       "       -0.86102625,  0.38230024, -1.62475101, -0.21943908, -0.58335182,\n",
       "       -0.40917221, -0.28943477,  1.499655  , -0.6240638 ,  0.39599501,\n",
       "        1.47919375,  0.5325175 ,  1.14237063,  1.49776717,  1.57214677,\n",
       "       -1.97222367, -1.53158699,  1.35491207,  1.11583766,  0.71371527,\n",
       "        1.59056934,  2.11745395,  1.65271604,  1.3770704 , -0.69388547,\n",
       "       -0.23330272,  1.34460939,  0.36372056, -0.10604913,  2.0775387 ,\n",
       "       -0.19321901,  0.19313889,  1.31607142,  1.55963013,  0.62946767,\n",
       "        0.61295015,  2.38045142,  1.33158928,  0.91843971,  0.4950406 ,\n",
       "        0.55376256,  1.66878104,  1.86259097,  2.94435014,  0.72632002,\n",
       "        1.34850992,  2.71075169,  1.96630041,  3.06811039,  0.74863001,\n",
       "        0.84686398,  2.88294207,  1.45218309,  3.49962122,  3.42922898,\n",
       "        2.12568419,  1.98506249,  2.49513758,  1.06639238, -0.4837709 ,\n",
       "        1.50678488,  0.33382744,  1.51457629,  2.67461223,  0.84685839,\n",
       "        2.74292815,  2.00317898,  3.2310683 ,  0.36509123,  2.13016102,\n",
       "        2.15387143,  2.10450329,  1.64231835,  2.46765917,  2.15665337,\n",
       "        3.62300668,  2.99293987,  3.27891884,  2.2403941 ,  2.79953956,\n",
       "        0.86752235,  3.91341151,  3.11428612,  1.56869848,  3.71326606,\n",
       "        2.70417059,  3.7388827 ,  2.40032038,  2.67492713,  3.80282439,\n",
       "        2.17645242,  3.48953363,  3.88092508,  5.98107406,  4.40984091,\n",
       "        2.89056751,  5.1268862 ,  2.56365621,  1.9044826 ,  2.55155352,\n",
       "        4.36968076,  5.15827144,  1.96611064,  4.06121684,  3.63064459,\n",
       "        1.26604717,  5.09570854,  3.8135395 ,  2.50955416,  3.00200718,\n",
       "        1.88525029,  4.38061731,  3.71045427,  4.45228127,  4.71949273,\n",
       "        4.63511361,  4.8973209 ,  1.81987107,  3.87658386,  3.12144065,\n",
       "        5.14253778,  3.84818721,  4.67118025,  4.91572223,  3.73514509,\n",
       "        6.60139317,  4.28266413,  2.76864958,  5.93656984,  3.47290186,\n",
       "        4.88720672,  3.69423028,  5.0342263 ,  4.90597368,  1.67278275,\n",
       "        6.07767187,  5.17447901,  4.26782395,  3.43218927,  5.10992474,\n",
       "        4.85802888,  5.63610816,  4.72387275,  5.20383635,  4.51201471,\n",
       "        5.06672802,  4.41714066,  4.98218657,  5.0202249 ,  4.04562186,\n",
       "        4.13735383,  3.86556035,  3.77458547,  4.03310783,  4.47131501,\n",
       "        4.61722788,  2.51971026,  6.80101596,  4.56417537,  6.81090789,\n",
       "        5.25076582,  4.92095005,  4.15952206,  5.51931411,  5.2977598 ,\n",
       "        5.66944904,  5.59193353,  6.31454967,  4.21065525,  6.20862507,\n",
       "        4.83021322,  6.36191401,  5.62321001,  5.62459696,  6.19877954,\n",
       "        7.01733797,  6.01715505,  5.04527508,  6.33004894,  4.56843596,\n",
       "        6.04563517,  4.02797689,  5.69259743,  3.81329637,  5.96960624,\n",
       "        6.07266274,  5.24214449,  5.71641479,  5.34394321,  4.31064193,\n",
       "        5.34936249,  5.56998771,  5.19485835,  6.21915588,  7.24829794,\n",
       "        6.6940818 ,  6.20401873,  5.86015526,  4.83142393,  5.81940288,\n",
       "        5.53699396,  5.9967761 ,  6.65715642,  8.244013  ,  6.62534564,\n",
       "        4.72817217,  4.43631033,  4.27369582,  7.56094751,  7.02058175,\n",
       "        6.09399206,  7.81533127,  7.49360543,  6.28522132,  9.23372506,\n",
       "        7.78959449,  7.47570714,  5.72619843,  5.8199145 ,  7.9177083 ,\n",
       "        7.64883558,  8.15692443,  6.70957578,  7.93650021,  8.96464369,\n",
       "        8.28621955,  6.56185949,  8.36277087,  6.20387607,  7.78767784,\n",
       "        6.51834452,  8.14503027,  7.49992436,  7.2239967 ,  7.23384815,\n",
       "        7.26781811,  7.07810901,  8.6314592 ,  8.61121149,  6.13667125,\n",
       "        8.21052463,  7.65391155,  7.7106613 ,  8.47993569,  7.78985882,\n",
       "        8.49739171,  7.05359109,  7.28291621,  6.91057521,  8.90484656,\n",
       "        9.27800044,  8.33467705,  7.71781206,  7.63983666,  9.22371623,\n",
       "        8.26420156,  8.31231716,  8.83034798,  6.95043355,  6.19119894,\n",
       "        8.31733342,  9.44130594,  6.51793633,  6.76463392,  9.08325051,\n",
       "        8.04296055,  8.05202395,  9.05135311,  8.50896135,  7.44298909,\n",
       "       10.63657318,  8.46279047,  7.66894919,  9.56266077,  7.538984  ,\n",
       "        8.98359394,  6.44874264, 10.59176101,  8.89192012,  9.54957356,\n",
       "        8.58431038,  9.47534603,  9.99491842, 10.27104869,  9.17081785,\n",
       "        8.24250154,  6.80058037,  8.37665042,  9.57835211,  9.66615047,\n",
       "        9.8265022 , 10.50254132,  8.0128197 ,  8.94526928,  9.79290302,\n",
       "        9.99424675,  8.43266807,  7.83546322,  9.65944663, 10.28599819,\n",
       "        9.83928818, 10.04862869,  8.96645942, 10.45128202,  8.4175424 ,\n",
       "        9.31916146,  8.60180948,  8.64034656, 10.08069822, 10.99770239,\n",
       "       10.35451403, 12.9117389 , 10.42885307,  8.93926497,  9.59633645,\n",
       "        9.44295975, 10.10884367,  9.85462802,  9.681801  ,  8.29597816,\n",
       "       12.12286948, 10.80484245, 10.48156228, 10.88199948, 10.85377073,\n",
       "       11.98596384,  9.82778914, 11.06853849, 10.34509293,  8.98717154,\n",
       "       10.2596851 , 11.08685935,  9.04994976, 10.40835238, 11.52490722,\n",
       "       11.20170746, 10.01748199, 10.89927047, 12.79351594, 12.49009355,\n",
       "        9.10654652, 10.61916927, 10.96306006, 11.42928394,  8.78270039,\n",
       "       11.69887699, 12.18761426, 10.84859895, 13.21347734, 11.73746323,\n",
       "       10.30093597,  9.83362806, 11.85903874, 12.27518648, 10.75238155,\n",
       "       11.08287169, 10.7867344 ,  9.35510832, 11.84398066,  9.82316747,\n",
       "       10.79419235, 10.77452731, 11.25856492, 10.30954801, 12.3395703 ,\n",
       "       10.79202812, 10.82265116,  9.92028822, 11.99140199, 11.64297925,\n",
       "       10.31736731, 10.08933208, 11.51640381, 10.45374568, 11.10670831,\n",
       "       11.62443035, 11.49025821, 12.711897  , 13.39642967, 12.37701901,\n",
       "       14.67232088, 12.09816695, 13.11745189, 11.86101563, 12.84785486,\n",
       "       10.70224647, 12.31852204, 12.36144276, 11.94603486, 13.2363146 ,\n",
       "       12.10809433, 13.2420382 ,  9.7687483 , 10.8971235 , 12.1182971 ,\n",
       "       12.22725942, 12.74215535, 12.96198921, 11.06512727, 12.27981361,\n",
       "       13.8782082 , 14.15295649, 13.1368844 , 14.3692497 , 13.14040463])"
      ]
     },
     "execution_count": 39,
     "metadata": {},
     "output_type": "execute_result"
    }
   ],
   "source": [
    "y_result"
   ]
  },
  {
   "cell_type": "code",
   "execution_count": 40,
   "id": "3456e71c-57bc-4c76-8ca0-89f4453a5504",
   "metadata": {},
   "outputs": [
    {
     "data": {
      "image/png": "[encoded data removed]",
      "text/plain": [
       "<Figure size 640x480 with 1 Axes>"
      ]
     },
     "metadata": {},
     "output_type": "display_data"
    }
   ],
   "source": [
    "plt.scatter(x, y_result, color=\"red\", s = 0.1) \n",
    "\n",
    "plt.xlabel(\"x\")\n",
    "plt.ylabel(\"y\")\n",
    "\n",
    "plt.show()"
   ]
  },
  {
   "cell_type": "markdown",
   "id": "27ce5595-b25e-4525-8523-95a05087c364",
   "metadata": {},
   "source": [
    "Вече виждаме как имаме облак от точки. За който облак казваме окей, интересува ни основната тенденция. Всяко друго нещо, което не я следва се счита за случайна грешка.\n",
    "\n",
    "Искаме да намалим малко скейла:"
   ]
  },
  {
   "cell_type": "code",
   "execution_count": 47,
   "id": "1f2657b7-1edb-4b05-a020-eb48333d00aa",
   "metadata": {},
   "outputs": [
    {
     "data": {
      "image/png": "[encoded data removed]",
      "text/plain": [
       "<Figure size 640x480 with 1 Axes>"
      ]
     },
     "metadata": {},
     "output_type": "display_data"
    }
   ],
   "source": [
    "y_noise = np.random.normal(loc = 0, scale = 0.1, size = len(x))\n",
    "y_result = y + y_noise\n",
    "plt.scatter(x, y_result, color=\"red\", s = 0.1) \n",
    "\n",
    "plt.xlabel(\"x\")\n",
    "plt.ylabel(\"y\")\n",
    "\n",
    "plt.show()"
   ]
  },
  {
   "cell_type": "code",
   "execution_count": 53,
   "id": "ab404174-052b-4d24-bd0a-d19ae499960c",
   "metadata": {},
   "outputs": [
    {
     "data": {
      "image/png": "[encoded data removed]",
      "text/plain": [
       "<Figure size 640x480 with 1 Axes>"
      ]
     },
     "metadata": {},
     "output_type": "display_data"
    }
   ],
   "source": [
    "y_noise = np.random.normal(loc = 0, scale = 50, size = len(x))\n",
    "y_result = y + y_noise\n",
    "\n",
    "plt.scatter(x, y_result, color=\"red\", s = 0.1) \n",
    "\n",
    "plt.xlabel(\"x\")\n",
    "plt.ylabel(\"y\")\n",
    "\n",
    "plt.show()"
   ]
  },
  {
   "cell_type": "markdown",
   "id": "d915c34c-f531-4483-8efb-a8f3edc4e9a4",
   "metadata": {},
   "source": [
    "Тук полезната част се скри, защото шумът е повече спрямо нея."
   ]
  },
  {
   "cell_type": "code",
   "execution_count": 56,
   "id": "24ce2b30-72b8-4b6d-8447-1c6d551d8ac4",
   "metadata": {},
   "outputs": [],
   "source": [
    "y_noise = np.random.normal(loc = 0, scale = 0.7, size = len(x))\n",
    "y += y_noise"
   ]
  },
  {
   "cell_type": "code",
   "execution_count": 59,
   "id": "4d2f0015-4bc4-488c-a8b0-61d7f5b171f3",
   "metadata": {},
   "outputs": [
    {
     "data": {
      "image/png": "[encoded data removed]",
      "text/plain": [
       "<Figure size 640x480 with 1 Axes>"
      ]
     },
     "metadata": {},
     "output_type": "display_data"
    }
   ],
   "source": [
    "plt.scatter(x, y, color=\"red\", s = 0.5) \n",
    "\n",
    "plt.xlabel(\"x\")\n",
    "plt.ylabel(\"y\")\n",
    "\n",
    "plt.show()"
   ]
  },
  {
   "cell_type": "code",
   "execution_count": 64,
   "id": "76d77182-503d-4d19-a76a-727aee458afc",
   "metadata": {},
   "outputs": [],
   "source": [
    "a = 8\n",
    "b = 2\n",
    "\n",
    "model_x = np.linspace(np.min(x), np.max(x), 5)\n",
    "model_y = a * model_x + b  # Това е y тилда"
   ]
  },
  {
   "cell_type": "code",
   "execution_count": 65,
   "id": "f37b9c6d-ba4f-4afd-8b35-4f430db5edfd",
   "metadata": {},
   "outputs": [
    {
     "data": {
      "image/png": "[encoded data removed]",
      "text/plain": [
       "<Figure size 640x480 with 1 Axes>"
      ]
     },
     "metadata": {},
     "output_type": "display_data"
    }
   ],
   "source": [
    "plt.scatter(x, y, color=\"red\", s = 0.5) \n",
    "plt.plot(model_x, model_y)\n",
    "\n",
    "plt.xlabel(\"x\")\n",
    "plt.ylabel(\"y\")\n",
    "\n",
    "plt.show()"
   ]
  },
  {
   "cell_type": "markdown",
   "id": "458090f2-b314-41bc-be9e-74b287252762",
   "metadata": {},
   "source": [
    "Нека изкараме това във функция:"
   ]
  },
  {
   "cell_type": "code",
   "execution_count": 70,
   "id": "fab41ac8-f130-4db7-843d-31a16e386647",
   "metadata": {},
   "outputs": [],
   "source": [
    "def plot_predictions(x, y, a, b):\n",
    "    predictions = a * x + b\n",
    "    \n",
    "    plt.scatter(x, y, color=\"red\", s = 0.5, label = \"data\") \n",
    "    plt.plot(x, predictions, label = \"model\")\n",
    "    \n",
    "    plt.xlabel(\"x\")\n",
    "    plt.ylabel(\"y\")\n",
    "\n",
    "    plt.legend()\n",
    "    \n",
    "    plt.show()"
   ]
  },
  {
   "cell_type": "code",
   "execution_count": 71,
   "id": "3e6ffca2-9ddf-4a5c-b11a-1e6fa5e98bc7",
   "metadata": {},
   "outputs": [
    {
     "data": {
      "image/png": "[encoded data removed]",
      "text/plain": [
       "<Figure size 640x480 with 1 Axes>"
      ]
     },
     "metadata": {},
     "output_type": "display_data"
    }
   ],
   "source": [
    "plot_predictions(x, y, a, b)"
   ]
  },
  {
   "cell_type": "code",
   "execution_count": 72,
   "id": "e1577195-0dd6-4d84-a924-8f8e04efaa08",
   "metadata": {},
   "outputs": [
    {
     "data": {
      "image/png": "[encoded data removed]",
      "text/plain": [
       "<Figure size 640x480 with 1 Axes>"
      ]
     },
     "metadata": {},
     "output_type": "display_data"
    }
   ],
   "source": [
    "plot_predictions(x, y, 5, 0)"
   ]
  },
  {
   "cell_type": "code",
   "execution_count": 73,
   "id": "ea0d0485-98df-44a4-a8a7-681c1e796af5",
   "metadata": {},
   "outputs": [
    {
     "data": {
      "image/png": "[encoded data removed]",
      "text/plain": [
       "<Figure size 640x480 with 1 Axes>"
      ]
     },
     "metadata": {},
     "output_type": "display_data"
    }
   ],
   "source": [
    "plot_predictions(x, y, -2, 1)"
   ]
  },
  {
   "cell_type": "code",
   "execution_count": 74,
   "id": "5f04707b-437d-4698-9f46-f4e5dbdad008",
   "metadata": {},
   "outputs": [
    {
     "data": {
      "image/png": "[encoded data removed]",
      "text/plain": [
       "<Figure size 640x480 with 1 Axes>"
      ]
     },
     "metadata": {},
     "output_type": "display_data"
    }
   ],
   "source": [
    "plot_predictions(x, y, 2, 1)"
   ]
  },
  {
   "cell_type": "markdown",
   "id": "c8b4a1fb-b793-4bdc-af9a-e9d3dec8481b",
   "metadata": {},
   "source": [
    "Тази е доста близо, но навсякъде подценява данните.\n",
    "\n",
    "И вече имаме интуиция. Искам да кажа от всички възможни модели, които искам да направя аз имам представа какво представлява моя модел. Мога да му подавам различни параметри ($a$ и $b$) и ще можем да разберем кой е най-добрия от тях.\n",
    "За тази работа трябва да имаме мярка колко е добър или колко моделът е подобен на данните.\n",
    "\n",
    "__Регресия__ - не става на въпрос за намаляване, а за схождане към средното.\n",
    "\n",
    "Като пробваме различни модели виждаме, че някои са по-добри.\n",
    "\n",
    "Всяка една крива линия локално е права линия и можем да си я представим от много на брой много тънки малки прави линии. И пак можем да търсим разстоянието от точката, която и да е тя до съответната точка от кривата. Какво означава обаче разстояние - разстояние от точка до права е дължината на перпендикуляра от точката към правата. Защо? защото това е най-малкото разстояние. Взимаме точката, прекарваме перпендикуляра към правата и дължината на този перпендикуляра е това, което търсим.\n",
    "Ортогонална регресия се нарича, когато използваме перпендикулярните разстояния.\n",
    "\n",
    "Нека направим една функция за грешка/ функция за разстояния:"
   ]
  },
  {
   "cell_type": "code",
   "execution_count": 88,
   "id": "f71ad5c6-5f25-4cb3-98ab-e1f680976b45",
   "metadata": {},
   "outputs": [],
   "source": [
    "def compute_distances(x, y, a, b):\n",
    "    predictions = a * x + b\n",
    "    distances = np.abs(y - predictions)\n",
    "    total_distance = np.mean(distances)\n",
    "    \n",
    "    # np.mean(np.abs(y - predictions)) # MAE - Mean Absolute Error\n",
    "    \n",
    "    return total_distance"
   ]
  },
  {
   "cell_type": "markdown",
   "id": "5821e73a-e792-4437-9529-4a9f51edb3bb",
   "metadata": {},
   "source": [
    "Това са много на брой разстояния:"
   ]
  },
  {
   "cell_type": "code",
   "execution_count": 89,
   "id": "4b5bed5e-6537-4284-b726-e0f4d0202fba",
   "metadata": {},
   "outputs": [
    {
     "data": {
      "text/plain": [
       "9.140502510891753"
      ]
     },
     "execution_count": 89,
     "metadata": {},
     "output_type": "execute_result"
    }
   ],
   "source": [
    "compute_distances(x, y, -2, 1)"
   ]
  },
  {
   "cell_type": "code",
   "execution_count": 90,
   "id": "7e3cacea-8180-4fee-8f91-544b1805ced0",
   "metadata": {},
   "outputs": [
    {
     "data": {
      "text/plain": [
       "6.090802294967167"
      ]
     },
     "execution_count": 90,
     "metadata": {},
     "output_type": "execute_result"
    }
   ],
   "source": [
    "compute_distances(x, y, 5, 0)"
   ]
  },
  {
   "cell_type": "code",
   "execution_count": 91,
   "id": "7152b734-85f7-42d7-b871-ed149b72bf67",
   "metadata": {},
   "outputs": [
    {
     "data": {
      "text/plain": [
       "2.0223301679270858"
      ]
     },
     "execution_count": 91,
     "metadata": {},
     "output_type": "execute_result"
    }
   ],
   "source": [
    "compute_distances(x, y, 2, 1)"
   ]
  },
  {
   "cell_type": "code",
   "execution_count": 92,
   "id": "b0812c9b-bddd-45a1-9c47-b7767cf79e92",
   "metadata": {},
   "outputs": [
    {
     "data": {
      "text/plain": [
       "0.7620616261632931"
      ]
     },
     "execution_count": 92,
     "metadata": {},
     "output_type": "execute_result"
    }
   ],
   "source": [
    "compute_distances(x, y, 2, 3)"
   ]
  },
  {
   "cell_type": "markdown",
   "id": "71e0d18f-acb4-45d4-a932-5d3f65335a82",
   "metadata": {},
   "source": [
    "Самото число, което ще получим зависи от броя точки, които имаме. Повече точки означава по-голяма сума.\n",
    "\n",
    "Ще говорим за производни и за оптимизация. При производните имаме проблеми понякога. Производната на една функция представлява граница и тази граница трябва да съществува и да бъде отляво и отдясно еднаква на точката.\n",
    "\n",
    "Много повече предпочитаме да използваме гладка функция - такава, която не прави ръбове. Освен абсолютна стойност нещо друго, което не прави ръбове е на квадрат."
   ]
  },
  {
   "cell_type": "code",
   "execution_count": 101,
   "id": "fadd3bc8-37c2-46d0-9715-ae7cbbc79614",
   "metadata": {},
   "outputs": [],
   "source": [
    "def compute_distances(x, y, a, b):\n",
    "    predictions = a * x + b\n",
    "    distances = (y - predictions) ** 2\n",
    "    total_distance = np.mean(distances) # MSE - Mean Square Error\n",
    "    \n",
    "    return total_distance"
   ]
  },
  {
   "cell_type": "markdown",
   "id": "53f252ad-b1ef-4d4f-a353-2cef87446d3b",
   "metadata": {},
   "source": [
    "Този модел за по-далечни точки ще дава по-голямо разстояние, например за 2: 4, за 3: 9, за 4: 16 и т.н. Тук по-далечните точки ще имат по-голямо влияние върху модела.\n",
    "\n",
    "Има плюсове и минуси. Няма едно валидно решение. Нямаме нещо, което се прави \"по този начин\". Всяко нещо се прави по много различни начини докато си избираме този, който най-малко ни дразни 😆 ."
   ]
  },
  {
   "cell_type": "code",
   "execution_count": 97,
   "id": "1a6b9e4d-0bf8-413e-ac1b-dbbf942d432b",
   "metadata": {},
   "outputs": [
    {
     "data": {
      "text/plain": [
       "122.28363504318483"
      ]
     },
     "execution_count": 97,
     "metadata": {},
     "output_type": "execute_result"
    }
   ],
   "source": [
    "compute_distances(x, y, -2, 1)"
   ]
  },
  {
   "cell_type": "code",
   "execution_count": 98,
   "id": "0034759e-6427-404e-a3cf-6a7c71f6d1ac",
   "metadata": {},
   "outputs": [
    {
     "data": {
      "text/plain": [
       "49.500991569916074"
      ]
     },
     "execution_count": 98,
     "metadata": {},
     "output_type": "execute_result"
    }
   ],
   "source": [
    "compute_distances(x, y, 5, 0)"
   ]
  },
  {
   "cell_type": "code",
   "execution_count": 99,
   "id": "d1866fed-d224-4c97-9ff1-84e6680bc66f",
   "metadata": {},
   "outputs": [
    {
     "data": {
      "text/plain": [
       "4.993562664062894"
      ]
     },
     "execution_count": 99,
     "metadata": {},
     "output_type": "execute_result"
    }
   ],
   "source": [
    "compute_distances(x, y, 2, 1)"
   ]
  },
  {
   "cell_type": "code",
   "execution_count": 100,
   "id": "5214109c-5199-46d5-bb63-4cc7c609c6f3",
   "metadata": {},
   "outputs": [
    {
     "data": {
      "text/plain": [
       "0.9413918748559678"
      ]
     },
     "execution_count": 100,
     "metadata": {},
     "output_type": "execute_result"
    }
   ],
   "source": [
    "compute_distances(x, y, 2, 3)"
   ]
  }
 ],
 "metadata": {
  "kernelspec": {
   "display_name": "Python 3 (ipykernel)",
   "language": "python",
   "name": "python3"
  },
  "language_info": {
   "codemirror_mode": {
    "name": "ipython",
    "version": 3
   },
   "file_extension": ".py",
   "mimetype": "text/x-python",
   "name": "python",
   "nbconvert_exporter": "python",
   "pygments_lexer": "ipython3",
   "version": "3.11.7"
  }
 },
 "nbformat": 4,
 "nbformat_minor": 5
}
