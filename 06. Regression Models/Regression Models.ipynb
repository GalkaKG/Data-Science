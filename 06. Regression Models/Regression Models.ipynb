{
 "cells": [
  {
   "cell_type": "code",
   "execution_count": 90,
   "id": "30c4ab80-68b3-46f5-9519-9d4077718abe",
   "metadata": {},
   "outputs": [],
   "source": [
    "import numpy as np\n",
    "import pandas as pd\n",
    "import matplotlib.pyplot as plt\n",
    "\n",
    "from sklearn.linear_model import LinearRegression, LogisticRegression\n",
    "\n",
    "import os"
   ]
  },
  {
   "cell_type": "markdown",
   "id": "4bba8264-f873-4fcb-94d4-5af6002e3ce8",
   "metadata": {},
   "source": [
    "# Regression Models"
   ]
  },
  {
   "cell_type": "markdown",
   "id": "e92ab9e9-bb81-4a9a-b6fc-c0d61e90d25e",
   "metadata": {},
   "source": [
    "#### Работа с голям обем данни\n",
    "\n",
    "Най-често подхода е разделяме големия файл на малки парчета. На всяко едно парче правин мякаква обработка - получаваме друго парче. И всяка една от тези части много често агрегираме по някакъв начин, много често по един запис или по няколко свързани такива. Този процес се нарича map-reduce.\n",
    "\n",
    "tensorflow: Dataset - batch, map\n",
    "\n",
    "1. Имаме един списък - например с 5 пътечки към имиджи вътре и това за разлика от изображенията е нещо, което се събира в паметта, това са стрингове).\n",
    "2. Прочитаме ги (read them).\n",
    "3. process them\n",
    "4. pass them through the model\n",
    "5. result = [\"cat\", \"tiger\", ...]\n",
    "\n",
    "Един модел, на който му се подава данни не се интересува колко данни ще получи, единствено ако е един, трябва да му подадем не един запис, едно изображение, ами списък от едно изображение. \n",
    "Това цялото нещо е начин за работа с данни, който е по-разумен и който ни позволява да сме много гъвкави.\n",
    "Ако си представим, че все един от тези редове е по една или по няколко функции, чийто резултати се предават една на друга можем да видим, че това е композиция от функции. Бихме я нарекли data pipeline.\n",
    "\n",
    "Ако използваме pytorch, той също има Dataset като има Dataset и DataLoader. Dataset ни оказва самите данни какви са и какво представляват, а DataLoader е по какъв начин да бъдат обработени-зареждани, разбърквани и т.н. В tensorflow това се прави наведнъж."
   ]
  },
  {
   "cell_type": "code",
   "execution_count": 2,
   "id": "424e0acb-5fc6-46a1-84c5-86e5d251912a",
   "metadata": {},
   "outputs": [
    {
     "data": {
      "text/plain": [
       "['african-wildcat',\n",
       " 'blackfoot-cat',\n",
       " 'chinese-mountain-cat',\n",
       " 'domestic-cat',\n",
       " 'european-wildcat',\n",
       " 'jungle-cat',\n",
       " 'sand-cat']"
      ]
     },
     "execution_count": 2,
     "metadata": {},
     "output_type": "execute_result"
    }
   ],
   "source": [
    "os.listdir(\"../04. Working with Images/cat_taxonomy\")"
   ]
  },
  {
   "cell_type": "code",
   "execution_count": 3,
   "id": "2ffe0ce8-edee-44cf-aa27-bc81768eef87",
   "metadata": {},
   "outputs": [
    {
     "data": {
      "text/plain": [
       "<generator object _walk at 0x000001B977056B30>"
      ]
     },
     "execution_count": 3,
     "metadata": {},
     "output_type": "execute_result"
    }
   ],
   "source": [
    "os.walk(\"../04. Working with Images/cat_taxonomy\")"
   ]
  },
  {
   "cell_type": "code",
   "execution_count": 4,
   "id": "5c9216ee-da79-4f0d-b410-a43c1f4ea8ea",
   "metadata": {},
   "outputs": [
    {
     "data": {
      "text/plain": [
       "[('../04. Working with Images/cat_taxonomy',\n",
       "  ['african-wildcat',\n",
       "   'blackfoot-cat',\n",
       "   'chinese-mountain-cat',\n",
       "   'domestic-cat',\n",
       "   'european-wildcat',\n",
       "   'jungle-cat',\n",
       "   'sand-cat'],\n",
       "  []),\n",
       " ('../04. Working with Images/cat_taxonomy\\\\african-wildcat',\n",
       "  [],\n",
       "  ['af (1).jpg',\n",
       "   'af (10).jpg',\n",
       "   'af (11).jpg',\n",
       "   'af (12).jpg',\n",
       "   'af (13).jpg',\n",
       "   'af (14).jpg',\n",
       "   'af (15).jpg',\n",
       "   'af (16).jpg',\n",
       "   'af (17).jpg',\n",
       "   'af (18).jpg',\n",
       "   'af (19).jpg',\n",
       "   'af (2).jpg',\n",
       "   'af (20).jpg',\n",
       "   'af (21).jpg',\n",
       "   'af (22).jpg',\n",
       "   'af (23).jpg',\n",
       "   'af (24).jpg',\n",
       "   'af (25).jpg',\n",
       "   'af (26).jpg',\n",
       "   'af (27).jpg',\n",
       "   'af (28).jpg',\n",
       "   'af (29).jpg',\n",
       "   'af (3).jpg',\n",
       "   'af (30).jpg',\n",
       "   'af (31).jpg',\n",
       "   'af (32).jpg',\n",
       "   'af (33).jpg',\n",
       "   'af (34).jpg',\n",
       "   'af (35).jpg',\n",
       "   'af (36).jpg',\n",
       "   'af (37).jpg',\n",
       "   'af (38).jpg',\n",
       "   'af (39).jpg',\n",
       "   'af (4).jpg',\n",
       "   'af (40).jpg',\n",
       "   'af (41).jpg',\n",
       "   'af (42).jpg',\n",
       "   'af (43).jpg',\n",
       "   'af (44).jpg',\n",
       "   'af (45).jpg',\n",
       "   'af (46).jpg',\n",
       "   'af (47).jpg',\n",
       "   'af (48).jpg',\n",
       "   'af (49).jpg',\n",
       "   'af (5).jpg',\n",
       "   'af (50).jpg',\n",
       "   'af (51).jpg',\n",
       "   'af (52).jpg',\n",
       "   'af (53).jpg',\n",
       "   'af (54).jpg',\n",
       "   'af (55).jpg',\n",
       "   'af (56).jpg',\n",
       "   'af (57).jpg',\n",
       "   'af (58).jpg',\n",
       "   'af (59).jpg',\n",
       "   'af (6).jpg',\n",
       "   'af (60).jpg',\n",
       "   'af (61).jpg',\n",
       "   'af (62).jpg',\n",
       "   'af (63).jpg',\n",
       "   'af (64).jpg',\n",
       "   'af (65).jpg',\n",
       "   'af (66).jpg',\n",
       "   'af (67).jpg',\n",
       "   'af (68).jpg',\n",
       "   'af (69).jpg',\n",
       "   'af (7).jpg',\n",
       "   'af (70).jpg',\n",
       "   'af (71).jpg',\n",
       "   'af (72).jpg',\n",
       "   'af (73).jpg',\n",
       "   'af (74).jpg',\n",
       "   'af (75).jpg',\n",
       "   'af (76).jpg',\n",
       "   'af (77).jpg',\n",
       "   'af (78).jpg',\n",
       "   'af (79).jpg',\n",
       "   'af (8).jpg',\n",
       "   'af (80).jpg',\n",
       "   'af (81).jpg',\n",
       "   'af (82).jpg',\n",
       "   'af (83).jpg',\n",
       "   'af (84).jpg',\n",
       "   'af (85).jpg',\n",
       "   'af (86).jpg',\n",
       "   'af (87).jpg',\n",
       "   'af (88).jpg',\n",
       "   'af (89).jpg',\n",
       "   'af (9).jpg',\n",
       "   'af (90).jpg',\n",
       "   'af (91).jpg']),\n",
       " ('../04. Working with Images/cat_taxonomy\\\\blackfoot-cat',\n",
       "  [],\n",
       "  ['bc (1).jpg',\n",
       "   'bc (10).jpg',\n",
       "   'bc (11).jpg',\n",
       "   'bc (12).jpg',\n",
       "   'bc (13).jpg',\n",
       "   'bc (14).jpg',\n",
       "   'bc (15).jpg',\n",
       "   'bc (16).jpg',\n",
       "   'bc (17).jpg',\n",
       "   'bc (18).jpg',\n",
       "   'bc (19).jpg',\n",
       "   'bc (2).jpg',\n",
       "   'bc (20).jpg',\n",
       "   'bc (21).jpg',\n",
       "   'bc (22).jpg',\n",
       "   'bc (23).jpg',\n",
       "   'bc (24).jpg',\n",
       "   'bc (25).jpg',\n",
       "   'bc (26).jpg',\n",
       "   'bc (27).jpg',\n",
       "   'bc (28).jpg',\n",
       "   'bc (29).jpg',\n",
       "   'bc (3).jpg',\n",
       "   'bc (30).jpg',\n",
       "   'bc (31).jpg',\n",
       "   'bc (32).jpg',\n",
       "   'bc (33).jpg',\n",
       "   'bc (34).jpg',\n",
       "   'bc (35).jpg',\n",
       "   'bc (36).jpg',\n",
       "   'bc (37).jpg',\n",
       "   'bc (38).jpg',\n",
       "   'bc (39).jpg',\n",
       "   'bc (4).jpg',\n",
       "   'bc (40).jpg',\n",
       "   'bc (41).jpg',\n",
       "   'bc (42).jpg',\n",
       "   'bc (43).jpg',\n",
       "   'bc (44).jpg',\n",
       "   'bc (45).jpg',\n",
       "   'bc (46).jpg',\n",
       "   'bc (47).jpg',\n",
       "   'bc (48).jpg',\n",
       "   'bc (49).jpg',\n",
       "   'bc (5).jpg',\n",
       "   'bc (50).jpg',\n",
       "   'bc (51).jpg',\n",
       "   'bc (52).jpg',\n",
       "   'bc (53).jpg',\n",
       "   'bc (54).jpg',\n",
       "   'bc (55).jpg',\n",
       "   'bc (56).jpg',\n",
       "   'bc (57).jpg',\n",
       "   'bc (58).jpg',\n",
       "   'bc (59).jpg',\n",
       "   'bc (6).jpg',\n",
       "   'bc (60).jpg',\n",
       "   'bc (61).jpg',\n",
       "   'bc (62).jpg',\n",
       "   'bc (63).jpg',\n",
       "   'bc (64).jpg',\n",
       "   'bc (65).jpg',\n",
       "   'bc (66).jpg',\n",
       "   'bc (67).jpg',\n",
       "   'bc (68).jpg',\n",
       "   'bc (69).jpg',\n",
       "   'bc (7).jpg',\n",
       "   'bc (70).jpg',\n",
       "   'bc (71).jpg',\n",
       "   'bc (72).jpg',\n",
       "   'bc (73).jpg',\n",
       "   'bc (74).jpg',\n",
       "   'bc (75).jpg',\n",
       "   'bc (76).jpg',\n",
       "   'bc (77).jpg',\n",
       "   'bc (78).jpg',\n",
       "   'bc (79).jpg',\n",
       "   'bc (8).jpg',\n",
       "   'bc (9).jpg']),\n",
       " ('../04. Working with Images/cat_taxonomy\\\\chinese-mountain-cat',\n",
       "  [],\n",
       "  ['ch (1).jpg',\n",
       "   'ch (10).jpg',\n",
       "   'ch (11).jpg',\n",
       "   'ch (12).jpg',\n",
       "   'ch (13).jpg',\n",
       "   'ch (14).jpg',\n",
       "   'ch (15).jpg',\n",
       "   'ch (16).jpg',\n",
       "   'ch (17).jpg',\n",
       "   'ch (18).jpg',\n",
       "   'ch (19).jpg',\n",
       "   'ch (2).jpg',\n",
       "   'ch (20).jpg',\n",
       "   'ch (21).jpg',\n",
       "   'ch (22).jpg',\n",
       "   'ch (23).jpg',\n",
       "   'ch (24).jpg',\n",
       "   'ch (25).jpg',\n",
       "   'ch (26).jpg',\n",
       "   'ch (27).jpg',\n",
       "   'ch (28).jpg',\n",
       "   'ch (29).jpg',\n",
       "   'ch (3).jpg',\n",
       "   'ch (30).jpg',\n",
       "   'ch (31).jpg',\n",
       "   'ch (32).jpg',\n",
       "   'ch (33).jpg',\n",
       "   'ch (34).jpg',\n",
       "   'ch (35).jpg',\n",
       "   'ch (36).jpg',\n",
       "   'ch (37).jpg',\n",
       "   'ch (38).jpg',\n",
       "   'ch (39).jpg',\n",
       "   'ch (4).jpg',\n",
       "   'ch (40).jpg',\n",
       "   'ch (41).jpg',\n",
       "   'ch (42).jpg',\n",
       "   'ch (5).jpg',\n",
       "   'ch (6).jpg',\n",
       "   'ch (7).jpg',\n",
       "   'ch (8).jpg',\n",
       "   'ch (9).jpg']),\n",
       " ('../04. Working with Images/cat_taxonomy\\\\domestic-cat',\n",
       "  [],\n",
       "  ['dc (1).jpg',\n",
       "   'dc (10).jpg',\n",
       "   'dc (11).jpg',\n",
       "   'dc (12).jpg',\n",
       "   'dc (13).jpg',\n",
       "   'dc (14).jpg',\n",
       "   'dc (15).jpg',\n",
       "   'dc (16).jpg',\n",
       "   'dc (17).jpg',\n",
       "   'dc (18).jpg',\n",
       "   'dc (19).jpg',\n",
       "   'dc (2).jpg',\n",
       "   'dc (20).jpg',\n",
       "   'dc (21).jpg',\n",
       "   'dc (22).jpg',\n",
       "   'dc (23).jpg',\n",
       "   'dc (24).jpg',\n",
       "   'dc (25).jpg',\n",
       "   'dc (26).jpg',\n",
       "   'dc (27).jpg',\n",
       "   'dc (28).jpg',\n",
       "   'dc (29).jpg',\n",
       "   'dc (3).jpg',\n",
       "   'dc (30).jpg',\n",
       "   'dc (31).jpg',\n",
       "   'dc (32).jpg',\n",
       "   'dc (33).jpg',\n",
       "   'dc (34).jpg',\n",
       "   'dc (35).jpg',\n",
       "   'dc (36).jpg',\n",
       "   'dc (37).jpg',\n",
       "   'dc (38).jpg',\n",
       "   'dc (39).jpg',\n",
       "   'dc (4).jpg',\n",
       "   'dc (40).jpg',\n",
       "   'dc (41).jpg',\n",
       "   'dc (42).jpg',\n",
       "   'dc (43).jpg',\n",
       "   'dc (44).jpg',\n",
       "   'dc (45).jpg',\n",
       "   'dc (46).jpg',\n",
       "   'dc (47).jpg',\n",
       "   'dc (48).jpg',\n",
       "   'dc (49).jpg',\n",
       "   'dc (5).jpg',\n",
       "   'dc (50).jpg',\n",
       "   'dc (51).jpg',\n",
       "   'dc (52).jpg',\n",
       "   'dc (53).jpg',\n",
       "   'dc (54).jpg',\n",
       "   'dc (55).jpg',\n",
       "   'dc (56).jpg',\n",
       "   'dc (57).jpg',\n",
       "   'dc (58).jpg',\n",
       "   'dc (59).jpg',\n",
       "   'dc (6).jpg',\n",
       "   'dc (60).jpg',\n",
       "   'dc (61).jpg',\n",
       "   'dc (62).jpg',\n",
       "   'dc (63).jpg',\n",
       "   'dc (64).jpg',\n",
       "   'dc (7).jpg',\n",
       "   'dc (8).jpg',\n",
       "   'dc (9).jpg']),\n",
       " ('../04. Working with Images/cat_taxonomy\\\\european-wildcat',\n",
       "  [],\n",
       "  ['eu (1).jpg',\n",
       "   'eu (10).jpg',\n",
       "   'eu (11).jpg',\n",
       "   'eu (12).jpg',\n",
       "   'eu (13).jpg',\n",
       "   'eu (14).jpg',\n",
       "   'eu (15).jpg',\n",
       "   'eu (16).jpg',\n",
       "   'eu (17).jpg',\n",
       "   'eu (18).jpg',\n",
       "   'eu (19).jpg',\n",
       "   'eu (2).jpg',\n",
       "   'eu (20).jpg',\n",
       "   'eu (21).jpg',\n",
       "   'eu (22).jpg',\n",
       "   'eu (23).jpg',\n",
       "   'eu (24).jpg',\n",
       "   'eu (25).jpg',\n",
       "   'eu (26).jpg',\n",
       "   'eu (27).jpg',\n",
       "   'eu (28).jpg',\n",
       "   'eu (29).jpg',\n",
       "   'eu (3).jpg',\n",
       "   'eu (30).jpg',\n",
       "   'eu (31).jpg',\n",
       "   'eu (32).jpg',\n",
       "   'eu (33).jpg',\n",
       "   'eu (34).jpg',\n",
       "   'eu (35).jpg',\n",
       "   'eu (36).jpg',\n",
       "   'eu (37).jpg',\n",
       "   'eu (38).jpg',\n",
       "   'eu (39).jpg',\n",
       "   'eu (4).jpg',\n",
       "   'eu (40).jpg',\n",
       "   'eu (41).jpg',\n",
       "   'eu (42).jpg',\n",
       "   'eu (43).jpg',\n",
       "   'eu (44).jpg',\n",
       "   'eu (45).jpg',\n",
       "   'eu (46).jpg',\n",
       "   'eu (47).jpg',\n",
       "   'eu (48).jpg',\n",
       "   'eu (49).jpg',\n",
       "   'eu (5).jpg',\n",
       "   'eu (50).jpg',\n",
       "   'eu (51).jpg',\n",
       "   'eu (52).jpg',\n",
       "   'eu (53).jpg',\n",
       "   'eu (54).jpg',\n",
       "   'eu (55).jpg',\n",
       "   'eu (56).jpg',\n",
       "   'eu (57).jpg',\n",
       "   'eu (58).jpg',\n",
       "   'eu (59).jpg',\n",
       "   'eu (6).jpg',\n",
       "   'eu (60).jpg',\n",
       "   'eu (61).jpg',\n",
       "   'eu (62).jpg',\n",
       "   'eu (63).jpg',\n",
       "   'eu (64).jpg',\n",
       "   'eu (65).jpg',\n",
       "   'eu (66).jpg',\n",
       "   'eu (67).jpg',\n",
       "   'eu (68).jpg',\n",
       "   'eu (69).jpg',\n",
       "   'eu (7).jpg',\n",
       "   'eu (70).jpg',\n",
       "   'eu (71).jpg',\n",
       "   'eu (72).jpg',\n",
       "   'eu (73).jpg',\n",
       "   'eu (74).jpg',\n",
       "   'eu (75).jpg',\n",
       "   'eu (76).jpg',\n",
       "   'eu (77).jpg',\n",
       "   'eu (78).jpg',\n",
       "   'eu (79).jpg',\n",
       "   'eu (8).jpg',\n",
       "   'eu (80).jpg',\n",
       "   'eu (81).jpg',\n",
       "   'eu (82).jpg',\n",
       "   'eu (83).jpg',\n",
       "   'eu (84).jpg',\n",
       "   'eu (85).jpg',\n",
       "   'eu (9).jpg']),\n",
       " ('../04. Working with Images/cat_taxonomy\\\\jungle-cat',\n",
       "  [],\n",
       "  ['jg (1).jpg',\n",
       "   'jg (10).jpg',\n",
       "   'jg (11).jpg',\n",
       "   'jg (12).jpg',\n",
       "   'jg (13).jpg',\n",
       "   'jg (14).jpg',\n",
       "   'jg (15).jpg',\n",
       "   'jg (16).jpg',\n",
       "   'jg (17).jpg',\n",
       "   'jg (18).jpg',\n",
       "   'jg (19).jpg',\n",
       "   'jg (2).jpg',\n",
       "   'jg (20).jpg',\n",
       "   'jg (21).jpg',\n",
       "   'jg (22).jpg',\n",
       "   'jg (23).jpg',\n",
       "   'jg (24).jpg',\n",
       "   'jg (25).jpg',\n",
       "   'jg (26).jpg',\n",
       "   'jg (27).jpg',\n",
       "   'jg (28).jpg',\n",
       "   'jg (29).jpg',\n",
       "   'jg (3).jpg',\n",
       "   'jg (30).jpg',\n",
       "   'jg (31).jpg',\n",
       "   'jg (32).jpg',\n",
       "   'jg (33).jpg',\n",
       "   'jg (34).jpg',\n",
       "   'jg (35).jpg',\n",
       "   'jg (36).jpg',\n",
       "   'jg (37).jpg',\n",
       "   'jg (38).jpg',\n",
       "   'jg (39).jpg',\n",
       "   'jg (4).jpg',\n",
       "   'jg (40).jpg',\n",
       "   'jg (41).jpg',\n",
       "   'jg (42).jpg',\n",
       "   'jg (43).jpg',\n",
       "   'jg (44).jpg',\n",
       "   'jg (45).jpg',\n",
       "   'jg (46).jpg',\n",
       "   'jg (47).jpg',\n",
       "   'jg (48).jpg',\n",
       "   'jg (49).jpg',\n",
       "   'jg (5).jpg',\n",
       "   'jg (50).jpg',\n",
       "   'jg (51).jpg',\n",
       "   'jg (52).jpg',\n",
       "   'jg (53).jpg',\n",
       "   'jg (54).jpg',\n",
       "   'jg (55).jpg',\n",
       "   'jg (56).jpg',\n",
       "   'jg (57).jpg',\n",
       "   'jg (58).jpg',\n",
       "   'jg (59).jpg',\n",
       "   'jg (6).jpg',\n",
       "   'jg (60).jpg',\n",
       "   'jg (61).jpg',\n",
       "   'jg (62).jpg',\n",
       "   'jg (63).jpg',\n",
       "   'jg (64).jpg',\n",
       "   'jg (65).jpg',\n",
       "   'jg (66).jpg',\n",
       "   'jg (67).jpg',\n",
       "   'jg (68).jpg',\n",
       "   'jg (69).jpg',\n",
       "   'jg (7).jpg',\n",
       "   'jg (70).jpg',\n",
       "   'jg (71).jpg',\n",
       "   'jg (72).jpg',\n",
       "   'jg (73).jpg',\n",
       "   'jg (74).jpg',\n",
       "   'jg (75).jpg',\n",
       "   'jg (76).jpg',\n",
       "   'jg (77).jpg',\n",
       "   'jg (78).jpg',\n",
       "   'jg (79).jpg',\n",
       "   'jg (8).jpg',\n",
       "   'jg (80).jpg',\n",
       "   'jg (81).jpg',\n",
       "   'jg (82).jpg',\n",
       "   'jg (83).jpg',\n",
       "   'jg (84).jpg',\n",
       "   'jg (85).jpg',\n",
       "   'jg (86).jpg',\n",
       "   'jg (9).jpg']),\n",
       " ('../04. Working with Images/cat_taxonomy\\\\sand-cat',\n",
       "  [],\n",
       "  ['sd (1).jpg',\n",
       "   'sd (10).jpg',\n",
       "   'sd (11).jpg',\n",
       "   'sd (12).jpg',\n",
       "   'sd (13).jpg',\n",
       "   'sd (14).jpg',\n",
       "   'sd (15).jpg',\n",
       "   'sd (16).jpg',\n",
       "   'sd (17).jpg',\n",
       "   'sd (18).jpg',\n",
       "   'sd (19).jpg',\n",
       "   'sd (2).jpg',\n",
       "   'sd (20).jpg',\n",
       "   'sd (21).jpg',\n",
       "   'sd (22).jpg',\n",
       "   'sd (23).jpg',\n",
       "   'sd (24).jpg',\n",
       "   'sd (25).jpg',\n",
       "   'sd (26).jpg',\n",
       "   'sd (27).jpg',\n",
       "   'sd (28).jpg',\n",
       "   'sd (29).jpg',\n",
       "   'sd (3).jpg',\n",
       "   'sd (30).jpg',\n",
       "   'sd (31).jpg',\n",
       "   'sd (32).jpg',\n",
       "   'sd (33).jpg',\n",
       "   'sd (34).jpg',\n",
       "   'sd (35).jpg',\n",
       "   'sd (36).jpg',\n",
       "   'sd (37).jpg',\n",
       "   'sd (38).jpg',\n",
       "   'sd (39).jpg',\n",
       "   'sd (4).jpg',\n",
       "   'sd (40).jpg',\n",
       "   'sd (41).jpg',\n",
       "   'sd (42).jpg',\n",
       "   'sd (43).jpg',\n",
       "   'sd (44).jpg',\n",
       "   'sd (45).jpg',\n",
       "   'sd (46).jpg',\n",
       "   'sd (47).jpg',\n",
       "   'sd (48).jpg',\n",
       "   'sd (49).jpg',\n",
       "   'sd (5).jpg',\n",
       "   'sd (50).jpg',\n",
       "   'sd (51).jpg',\n",
       "   'sd (52).jpg',\n",
       "   'sd (53).jpg',\n",
       "   'sd (54).jpg',\n",
       "   'sd (55).jpg',\n",
       "   'sd (56).jpg',\n",
       "   'sd (57).jpg',\n",
       "   'sd (58).jpg',\n",
       "   'sd (59).jpg',\n",
       "   'sd (6).jpg',\n",
       "   'sd (60).jpg',\n",
       "   'sd (61).jpg',\n",
       "   'sd (62).jpg',\n",
       "   'sd (63).jpg',\n",
       "   'sd (64).jpg',\n",
       "   'sd (65).jpg',\n",
       "   'sd (66).jpg',\n",
       "   'sd (67).jpg',\n",
       "   'sd (68).jpg',\n",
       "   'sd (69).jpg',\n",
       "   'sd (7).jpg',\n",
       "   'sd (70).jpg',\n",
       "   'sd (71).jpg',\n",
       "   'sd (72).jpg',\n",
       "   'sd (8).jpg',\n",
       "   'sd (9).jpg'])]"
      ]
     },
     "execution_count": 4,
     "metadata": {},
     "output_type": "execute_result"
    }
   ],
   "source": [
    "list(os.walk(\"../04. Working with Images/cat_taxonomy\"))"
   ]
  },
  {
   "cell_type": "code",
   "execution_count": 5,
   "id": "f21e84ef-c94d-4f71-9ea4-7cd408337d34",
   "metadata": {},
   "outputs": [],
   "source": [
    "dir_name, dir_names, file_names = list(os.walk(\"../04. Working with Images/cat_taxonomy\"))[1]"
   ]
  },
  {
   "cell_type": "code",
   "execution_count": 6,
   "id": "7b50f02c-bad7-4749-a70d-1e23c2902b08",
   "metadata": {},
   "outputs": [
    {
     "data": {
      "text/plain": [
       "['af (1).jpg', 'af (10).jpg', 'af (11).jpg', 'af (12).jpg', 'af (13).jpg']"
      ]
     },
     "execution_count": 6,
     "metadata": {},
     "output_type": "execute_result"
    }
   ],
   "source": [
    "file_names[:5]"
   ]
  },
  {
   "cell_type": "markdown",
   "id": "28d4af45-9f8b-43b1-965d-5ab756dd6fa5",
   "metadata": {},
   "source": [
    "Много често когато работим с данни те са големи. Когато ще работим с невронни мрежи ще имаме голям проблем, защото ще трябва в паметта на GPU-то, на графични процесор), да съберем целия модел + данните, които му трябват в момента. Паметта на GPU-то е скъпа и много ценна, трябва да я пазим. Имаме интерес модела да заема възможно най-голяма част от нея и да оставим минимално място за други неща - възможно по-малко. Но това означава, че не можем да заредим целия dataset. Вероятно и на много голяма машина не можем да го заредим целия, дори да нямаше това ограничение."
   ]
  },
  {
   "cell_type": "markdown",
   "id": "278271b3-4bbc-42af-8c91-b3979f25a8ed",
   "metadata": {},
   "source": [
    "Сега ще видим как Data Science, работа с data pipelines, автоматизация, възпроизведимост как се съчетават с моделирането. защото окей, имаме данни - почистени, подредени - какво ще ги правим? Основното нещо, което да ги направим е да направим ментален модел на тези данни. Това върши работа. Това означава експертен анализ. Ние сме хората, които ги анализираме. Това се прави, ама е много остаряло. Експертни модели още има.\n",
    "Обаче, ако имаме много данни можем да подходим по друг начин. Можем да намерим функция, която ги описва добре и тази функция да я напишем математически, после да я прилагаме. Тази функция винаги допуска грешка. Няма нито един модел, който да е перфектен. То затовюа това е модел - не е реалността, а някакво приближение на реалността.\n",
    "\n",
    "Ще се опитаме да вземем от данните полезна информация, да игнорираме шума и да получим функция която апроксимира добре данните, т.е. като й подадем подходящия вход, ще получим изход, който е много правдоподобен.\n",
    "\n",
    "#### Задача\n",
    "Имаме много на брой данни като искаме да получим нещо полезно за тях. Само че тези данни не са дошли от нищото, някакъв процес ги е генерирал. И този процес, който ги е генерирал ние нямаме никаква видимост за него.\n",
    "Знаем, че изискването за функция е за един вход да съществува само един изход. Това в случая дори не е задължително. Имаме някакъв процес, който като получи някакви входни данни дава някакъв резултат. Много често входните данни са някаква цяла матрица(X), а резултатът много често го виждаме като един вектор, като една колона. Какво става, ако дава няколко резултата - отделни независими колони. <br/>\n",
    "Основната задача е като получим много на брой данни, много на брой променливи да дадем като резултат една колона или вектор стълб.\n",
    "\n",
    "В __X__(матрица), ако имаме размери __n__(реда) x __m__(колони), нашите данни __n__ на брой живеят в едно __m__- мерно пространство. Имаме n на брой характеристики, които се смятат за всеки един запис. И нашата работа е да направим функция, която се държи по подобен начин, която ако и подадем същия вход ще получим __prediction__ $\\hat{y}$ (y тилда) . Тилдата подсказва, че $\\hat{y}$ искаме да е подобно на $y$:  $\\hat{y} \\approx y$ . <br/>\n",
    "Искаме тази функция да дава резултати близки до реалната. <br/>\n",
    "След това можем да си играем на интерполация и екстраполация. \n",
    "\n",
    "Всеки модел върши някаква работа. Никой модел не е перфектен и всеки модел има предположение. Първото предположение е, че данните изобщо могат да бъдат моделирани. Ние ги разглеждаме като случайни събития, но тези случайни събития имат разпределения и тези променливи, които сме получили в данните (като __x__) имат някакви закономерности. Както правим в математиката, ако някъде имаме закономерност искаме да я експлоатираме по някакъв начин. Така че трябва да направим някакви предположения и след това моделът представлява опростена версия на реалността. Като проверим колко е опростена може да се окаже, че е твърде опростена и може да се окаже, че моделът може да бъде подобряван или че не може да бъде подобряван. Но тук вече идва итеративната част.\n",
    "Моделът представлява хипотеза за данните. една хипотеза не работи. Какво правим? Правим нова. Или подобряваме старата по някакъв начин.\n",
    "Проверката на хипотези означава да оценим колко добре, по какъв начин и в кои случаи работи нашият модел. Никой няма да бъде универсален, но ще трябва да видим какво работи от него и какво не работи от него. И това цялото нещо можем да го наречем машийн лърнинг. Машийн лърнинг е ситуацията в която имаме програма, която работи без да бъде програмирана експлицитно или изрично. В стандартните алгоритми имаме 1ва стъпка, 2ра стъпка, 3та стъпка, 4та и т.н., нямат нужда от данни, прилагаме само една рецепта. Прилагаме тази рецепта и получаваме резултат, който е винаги един и същи. Тук е точно наобратно - имаме данни, имаме някаква идея как се готви, т.е. имаме алгоритъм който е готов, готови примитиви, готови наивни блокове, но цялото нещо което правим зависи от данните. Машийн лърнинг алгоритъм без данни не представлява нищо. Когато получи данни и се обучи с тях той става техен модел.\n",
    "Друга част от работата е когато получим някакъв алгоритъм да го оценим колко е добър, тъй като самите модели вече са написани(няма нужда да откриваме топлата вода 😄️). Анализа на резултатите е нещо тривиално и голяма част от Data science съществува заради тази оценка на алгоритми. <br/>\n",
    "Много често имаме помощни алгоритми, най-често свързани с оценяването на моделите."
   ]
  },
  {
   "cell_type": "markdown",
   "id": "c35d7e5a-602f-4383-93bd-ec3ac7a4ea32",
   "metadata": {},
   "source": [
    "### Има няколко основни вида моделиране:\n",
    "\n",
    "- supervised learning (контролирано обучение) - имаме данни и резултати, които да очакваме. Обучение, в което казваме вземи тези входни данни, за тях аз съм получил този изход $X, y$. $y$ се нарича ground truth. Направи всичко възможно да ги наподобиш\n",
    "- unsupervised learning (неконтролирано обучение) - имаме само данни, нямаме очакван резултат. Ние ще получим някакъв резултат, но няма да можем по различни причини да го сравним с нещо очаквано. <br/>\n",
    "И двата модела имат някакви предположения (assumptions)\n",
    "- reinforcement learning - може да бъде какъвто и да е - можем да имаме само входни данни $X$ , може да имаме $X, y$ , това няма много голямо значение. Основното нещо е, че алгоритъмът работейки променя средата си.\n",
    "\n",
    "Supervised learning е най-разпространената част и тази към която се опитваме да докараме бизнес задачите ни.\n",
    "тя може да бъде основно 2 вида:\n",
    " 1. Регресия и\n",
    " 2. Класификация\n",
    "\n",
    "Разликата е в това, което имаме като резултат.\n",
    "Регресията предсказва непрекъснати величини, т.е. $y$ e непрекъсната величина.\n",
    "Класификацията предсказва категорийна променлива. И цялата работа с обучението, ако е добре направена работи. Така работят най-простите модели и най-големите невронни мрежи. Дори и най-дълбоките и най-сложни невронни мрежи в основата си правят линейни операции. Когато чуем линейно ние се радваме. Когато чуем линейно значи е относително просто."
   ]
  },
  {
   "cell_type": "markdown",
   "id": "759bb1ec-cb23-42ae-95cf-ce28752da792",
   "metadata": {},
   "source": [
    "### Линейна регресия\n",
    "\n",
    "Имаме регресия, т.е. ще предсказваме променлива, която не непрекъсната и ще бъде линейна. Ще трябва веднага да направим предположението, че данните имат някаква форма и тази форма е права линия.\n",
    "Много често се случва да вземем случаен процес, който не може да бъде моделиран и да се опитваме да го моделираме. Добър пример са някои финансови анализи или процес, който има твърде много външни данни. Какво означава вероятности? Може да са просто данни, които ние нямаме или на които не сме обърнали внимание. И тук ще предположим, че $\\hat{y}$ не е просто функция на $x$ , ами е линейна функция на $x$ : $\\hat{y} = a x + b$ .\n",
    "Трябва да си направим данните - за да си ги направим трябва да знаем, че в реалния свят винаги има някакви неточности. Тези неточности могат да бъдат по много причини: могат да бъдат грешки (Statistical error - чисто случайни фактори и bias. В машийн лърнинг се наричат variance и bias.)\n",
    "Качеството на модела много силно зависи от човекът, който работи с данните, трябва добре да ги познаваме. Защото моделът винаги дава някакъв резултат обаче garbage in, garbage out. Ако това, което сме подали като данни е garbage ще получим още по-голям garbage на изхода.\n"
   ]
  },
  {
   "cell_type": "markdown",
   "id": "df4f0c98-991a-42c3-9157-02e850057171",
   "metadata": {},
   "source": [
    "За да можем да покажем примери трябва да си генерираме данни."
   ]
  },
  {
   "cell_type": "code",
   "execution_count": 7,
   "id": "a4e64877-a603-422b-854a-d8c3c2d485a2",
   "metadata": {},
   "outputs": [],
   "source": [
    "x = np.linspace(-3, 5, 10)  # от -3 до 5, 10 на брой точки\n",
    "y = 2 * x + 3"
   ]
  },
  {
   "cell_type": "code",
   "execution_count": 8,
   "id": "37497e6e-9cfc-4ada-9251-d675d14cf330",
   "metadata": {},
   "outputs": [
    {
     "data": {
      "text/plain": [
       "array([-3.        , -2.11111111, -1.22222222, -0.33333333,  0.55555556,\n",
       "        1.44444444,  2.33333333,  3.22222222,  4.11111111,  5.        ])"
      ]
     },
     "execution_count": 8,
     "metadata": {},
     "output_type": "execute_result"
    }
   ],
   "source": [
    "x"
   ]
  },
  {
   "cell_type": "code",
   "execution_count": 9,
   "id": "191fd3d4-99eb-4e52-b0c1-73b1c5334db7",
   "metadata": {},
   "outputs": [
    {
     "data": {
      "text/plain": [
       "array([-3.        , -1.22222222,  0.55555556,  2.33333333,  4.11111111,\n",
       "        5.88888889,  7.66666667,  9.44444444, 11.22222222, 13.        ])"
      ]
     },
     "execution_count": 9,
     "metadata": {},
     "output_type": "execute_result"
    }
   ],
   "source": [
    "y"
   ]
  },
  {
   "cell_type": "markdown",
   "id": "dfcd326e-8bfd-494f-955e-7b04ff0fbd11",
   "metadata": {},
   "source": [
    "Ако кежем, че $y$ е функция на $x$ , то това означава че можем да ги плотнем. Това беше графичният вид на една функция."
   ]
  },
  {
   "cell_type": "code",
   "execution_count": 10,
   "id": "5f0ec4c5-02fe-4214-a813-f749139dc7c5",
   "metadata": {},
   "outputs": [
    {
     "data": {
      "image/png": "[encoded data removed]",
      "text/plain": [
       "<Figure size 432x288 with 1 Axes>"
      ]
     },
     "metadata": {
      "needs_background": "light"
     },
     "output_type": "display_data"
    }
   ],
   "source": [
    "# plt.plot(x, y) # Това е моделът за данните\n",
    "plt.scatter(x, y, color=\"red\")  # Това са данните\n",
    "\n",
    "plt.xlabel(\"x\")\n",
    "plt.ylabel(\"y\")\n",
    "\n",
    "plt.show()"
   ]
  },
  {
   "cell_type": "markdown",
   "id": "f2f9301d-1593-4088-9ee9-135240d068d3",
   "metadata": {},
   "source": [
    "Ето един дейтасет с 10 на брой точки."
   ]
  },
  {
   "cell_type": "code",
   "execution_count": 11,
   "id": "60553e5f-b387-457c-a55c-381d8185eeeb",
   "metadata": {},
   "outputs": [
    {
     "data": {
      "image/png": "[encoded data removed]",
      "text/plain": [
       "<Figure size 432x288 with 1 Axes>"
      ]
     },
     "metadata": {
      "needs_background": "light"
     },
     "output_type": "display_data"
    }
   ],
   "source": [
    "x = np.linspace(-3, 5, 500)\n",
    "y = 2 * x + 3\n",
    "\n",
    "plt.scatter(x, y, color=\"red\", s = 0.1) \n",
    "\n",
    "plt.xlabel(\"x\")\n",
    "plt.ylabel(\"y\")\n",
    "\n",
    "plt.show()"
   ]
  },
  {
   "cell_type": "markdown",
   "id": "f8c711f6-9799-4ecc-81e9-2b06d9fd2416",
   "metadata": {},
   "source": [
    "Към всяка една от тези точки имаме някаква неопределеност. И тази неопределеност е една случайна променлива. Ние не се интересуваме от нея, но в случая трябва да я добавим някак си. Към нея можем да сложим всяко нещо, което не ни е интересно за модела. Казваме, че това е случаен шум. Искаме полезното нещо да го вземем, а шумът да го игнорираме. Шум е друго име за случайна променлива."
   ]
  },
  {
   "cell_type": "markdown",
   "id": "d693ecac-2fc0-43ab-bca4-6cfb081842cc",
   "metadata": {},
   "source": [
    "Нека създадем шум, който да добавим към плота:"
   ]
  },
  {
   "cell_type": "code",
   "execution_count": 12,
   "id": "d4568993-2854-4f17-b0f4-d946809a8954",
   "metadata": {},
   "outputs": [],
   "source": [
    "y_noise = np.random.normal(loc = 0, scale = 1, size = len(x)) # средното на този шум ще бъде 0, стандартното отклонение ще бъде 1 и size колкото е дължината на x, за да може да направи за всяко едно"
   ]
  },
  {
   "cell_type": "code",
   "execution_count": 13,
   "id": "be7b0a76-da65-47d1-87b7-6f97b4dae81a",
   "metadata": {},
   "outputs": [
    {
     "data": {
      "text/plain": [
       "array([ 4.88394381e-01,  7.25792920e-02, -1.20597738e+00,  8.00491600e-01,\n",
       "       -1.52810972e-01,  1.33391674e+00,  4.59564820e-01,  3.62232000e-01,\n",
       "       -6.67818764e-01,  2.75553723e+00, -7.23421656e-01,  2.71375279e-02,\n",
       "       -8.98973307e-02,  7.45486622e-01, -6.30714973e-01, -5.33529817e-01,\n",
       "        1.38043211e-01,  1.80995643e+00,  2.88751452e-01, -2.96900703e-01,\n",
       "       -1.42723724e-01,  7.01713062e-01,  9.14017709e-01, -5.33572067e-01,\n",
       "       -5.30740284e-01, -4.10426846e-01,  6.70846008e-01,  4.99562743e-01,\n",
       "       -2.75728877e-01, -1.34927556e+00, -5.79981440e-01,  3.83035651e-01,\n",
       "        4.05905369e-01,  1.10960015e+00, -6.76944757e-02,  2.48993798e-01,\n",
       "       -1.67203471e+00,  6.64244139e-01,  7.23468892e-01, -7.64354270e-01,\n",
       "        3.39411330e-03,  7.37352051e-01, -8.13145172e-01,  1.71237664e+00,\n",
       "        3.43681576e-01, -1.03620922e+00,  5.30846547e-01, -9.13953023e-01,\n",
       "        1.15570538e+00,  5.86578450e-01, -1.14271019e+00, -6.49712712e-01,\n",
       "       -3.93097299e-01, -8.19670725e-01, -1.36215287e+00,  2.04463874e+00,\n",
       "        6.33841700e-01, -7.38430967e-01, -5.45595098e-01,  1.46534064e-02,\n",
       "       -1.64756819e+00,  1.72877655e+00, -3.43357319e-02,  5.70157493e-01,\n",
       "        3.82039934e-01, -4.79257732e-01,  7.61033627e-01, -6.56273169e-01,\n",
       "       -2.90343929e-01,  4.27182303e-01,  8.53914350e-02, -4.19648267e-01,\n",
       "        2.96820268e-01,  2.36594257e-01,  8.09794237e-01, -8.80517328e-01,\n",
       "        2.09696529e+00,  9.82787284e-01,  5.21286924e-01, -4.81277787e-01,\n",
       "       -6.49435427e-01,  7.84734350e-01,  1.54828175e+00,  2.26686409e-01,\n",
       "        1.92998855e+00,  7.54936327e-02, -5.24378730e-01, -9.83840778e-01,\n",
       "       -7.81711815e-01, -1.76013226e+00,  5.24847413e-01,  7.36621054e-01,\n",
       "       -7.10015694e-01, -6.77246793e-02,  5.30034354e-01, -4.87444687e-01,\n",
       "       -2.77003826e-03,  5.18753702e-01,  2.24089807e+00,  1.19099871e+00,\n",
       "        1.86672669e+00,  3.23782609e-01,  2.27912358e-01, -7.69610740e-01,\n",
       "        1.42875750e+00,  1.39264066e+00,  3.42619148e-02, -1.31388267e+00,\n",
       "       -1.69115992e+00, -4.84832805e-01,  5.12831146e-01, -3.75736544e-01,\n",
       "        1.99238990e-01,  1.21182810e+00,  3.67225662e-01, -2.35065905e+00,\n",
       "       -1.93845384e+00, -1.37347939e-03,  6.91263356e-01, -4.57912251e-01,\n",
       "        1.18377756e-01, -1.72818734e+00, -1.43065936e+00,  3.26933201e-01,\n",
       "       -1.53681255e+00, -6.45390166e-01,  1.48083544e-01, -7.73212375e-01,\n",
       "        1.05146197e-01,  2.89564542e-03,  8.06692477e-01, -1.13467275e-01,\n",
       "       -4.24081184e-02, -4.73585581e-01, -5.96374062e-01,  1.61762991e+00,\n",
       "        1.37455917e+00,  1.37869065e+00, -1.45816993e+00, -2.69278840e-01,\n",
       "       -1.03255835e+00, -2.72350133e-01,  1.07164488e+00, -2.11789067e+00,\n",
       "        3.45461298e-01,  6.35867626e-01,  3.87725489e-01, -1.19977043e+00,\n",
       "       -3.99910864e-01,  8.80894530e-01, -6.37812193e-01,  2.75723878e-01,\n",
       "       -1.32344102e+00,  1.36132480e-01, -1.62914617e-03, -2.63866006e-01,\n",
       "       -1.41420381e+00,  6.26488769e-01,  1.14922310e+00,  4.85525214e-01,\n",
       "       -9.29021774e-02,  3.10701398e-01, -1.53867151e+00,  2.08741699e+00,\n",
       "       -5.10925069e-01,  1.66655917e-01,  1.23626383e+00,  1.95876201e+00,\n",
       "       -2.46865229e-01, -4.46338601e-01, -2.13524709e-01,  1.31537944e+00,\n",
       "       -6.69826175e-01,  3.70158043e-01,  4.77105580e-01, -1.97571644e+00,\n",
       "        9.48966534e-01,  1.44626946e+00, -6.62742895e-01,  6.71299107e-01,\n",
       "        1.29194083e+00, -1.55360752e+00,  8.23179135e-01,  9.87884579e-01,\n",
       "       -1.21130424e+00,  1.50708450e+00,  3.16898699e-01,  2.53288613e-01,\n",
       "       -7.66200392e-01, -1.94365710e+00, -1.04203609e+00,  1.46189187e-01,\n",
       "        5.89585095e-01,  1.73227926e-01, -2.01782209e+00,  7.84155197e-02,\n",
       "        1.71553680e+00,  8.42971676e-01,  1.39518488e+00,  2.84394962e-01,\n",
       "       -1.86521713e-01,  4.71574401e-01, -1.87881306e+00,  9.17240131e-01,\n",
       "       -2.28229062e-01,  5.50611568e-01,  7.49154144e-01,  7.56064269e-01,\n",
       "        5.31277361e-01, -5.56956398e-02,  1.15289221e+00, -2.49958529e+00,\n",
       "       -4.31824228e-01,  1.26632012e+00,  5.41290739e-01,  7.78540064e-01,\n",
       "        1.32794999e+00, -4.46827834e-01,  1.43155318e+00, -1.37570188e+00,\n",
       "       -3.13304141e-01,  1.35888523e-01, -6.51512122e-01,  2.04550137e+00,\n",
       "        1.42742257e+00, -4.20585386e-01,  8.45898954e-01, -1.22064792e+00,\n",
       "       -7.89192083e-03,  5.00804325e-01,  1.43584929e+00, -2.15470819e+00,\n",
       "        2.71682919e-01,  8.68290027e-01, -1.37564526e+00, -2.00712622e+00,\n",
       "       -1.12912325e+00,  3.13203127e-01, -6.18933921e-01,  3.30114733e-01,\n",
       "       -1.14954736e+00,  8.06426699e-02,  1.41131704e+00,  1.04217936e+00,\n",
       "       -6.55381667e-01, -8.26878708e-01, -5.54664204e-01, -2.46475336e-02,\n",
       "       -1.13825110e+00, -8.88775943e-01,  8.23793774e-01,  1.14516629e-01,\n",
       "       -5.26505461e-01, -7.37583760e-01, -1.11484869e+00,  8.13675789e-01,\n",
       "        8.37710157e-01, -9.77861493e-02, -2.22766035e-01,  5.39292846e-01,\n",
       "        2.05639518e+00, -1.45517941e+00, -5.83373620e-01,  1.65013755e+00,\n",
       "        5.59866906e-01, -6.09193703e-01,  1.18431320e+00, -1.11048669e+00,\n",
       "        4.68708189e-01,  1.04732577e+00, -3.28994851e-01, -5.80831623e-01,\n",
       "        8.19271206e-01, -8.25942059e-01, -1.95651972e-01,  3.43193093e-01,\n",
       "       -9.28610390e-01, -5.91348795e-01, -2.76531084e-02, -2.67209269e-01,\n",
       "        7.62355447e-01,  6.37786086e-01, -1.46225376e+00, -1.05905016e+00,\n",
       "        2.26346724e-01,  1.14606424e+00,  2.72146465e-01, -2.15621655e-01,\n",
       "       -8.77687197e-01, -1.19994155e+00,  3.15962170e-01,  8.99630853e-01,\n",
       "       -8.31093042e-02, -3.95550627e-01,  4.59672968e-01,  1.16881105e+00,\n",
       "        8.96110467e-01,  4.31147318e-01, -4.56732779e-01, -1.70736105e-01,\n",
       "       -1.48557875e+00, -6.28354912e-01,  3.03879418e-01,  1.09053240e-01,\n",
       "       -1.68815691e+00,  1.15946395e+00,  7.00115135e-02, -7.43774432e-01,\n",
       "        1.31124893e+00, -8.80050335e-01,  2.96545132e+00, -4.90927857e-01,\n",
       "       -5.69046102e-01,  1.40273768e+00,  9.07736843e-01, -2.30155991e-01,\n",
       "       -7.08773084e-01,  1.03162425e+00,  1.18163642e+00, -6.91832702e-01,\n",
       "        1.19210309e+00, -1.09579703e+00,  1.12887559e+00, -8.02859106e-01,\n",
       "       -1.79740677e+00,  9.63382896e-01, -1.06616744e-01, -7.55064991e-01,\n",
       "        4.56643022e-01,  8.15694248e-01, -3.10998137e-01,  6.60606880e-01,\n",
       "       -6.49424247e-01, -5.96626763e-01,  4.66193677e-01, -4.51426321e-01,\n",
       "        1.24293135e+00,  2.11465720e-01,  8.20241463e-01,  5.47570399e-01,\n",
       "        4.23546779e-01, -1.11534657e+00,  4.49486215e-01,  3.90770565e-01,\n",
       "       -8.29025645e-01,  9.27142965e-01,  8.66751359e-01, -1.22177392e+00,\n",
       "       -2.32725547e+00,  2.79557316e-01, -1.04674671e+00, -6.84428284e-01,\n",
       "       -9.70067412e-01,  5.89627390e-01,  8.80999039e-01, -2.92868310e-01,\n",
       "       -9.29318879e-01,  2.55708944e-01,  1.11298668e+00,  1.64999564e-01,\n",
       "        1.18971022e+00, -5.71614220e-01,  6.70016716e-02, -3.57806604e-01,\n",
       "        1.27808503e+00,  8.47755596e-01, -7.90163353e-02,  1.34899328e-01,\n",
       "        4.56399547e-01,  1.17300537e+00, -1.32926133e-01,  2.61227273e-02,\n",
       "        1.21274391e+00,  3.18468695e-01, -9.33190604e-01,  3.13677500e-01,\n",
       "       -1.06336902e+00,  6.87405525e-01,  8.70755988e-01, -1.45741962e+00,\n",
       "        2.98042136e-01,  4.27199802e-01, -5.79071247e-01, -1.16023004e+00,\n",
       "       -1.06191297e+00, -6.86314284e-02,  1.71604355e+00, -8.49682210e-02,\n",
       "       -5.97156398e-01, -2.96823407e-01, -9.12777285e-01, -1.37088452e+00,\n",
       "        1.66454840e+00,  1.60203165e+00, -1.70869799e+00, -1.74564898e+00,\n",
       "       -6.60054201e-01,  3.56976882e-01, -2.36904465e-01, -1.06451515e-01,\n",
       "       -1.01811338e+00,  3.55432626e-01,  7.56848087e-01, -4.39652582e-01,\n",
       "       -6.93404603e-01, -7.13915004e-01,  6.88262899e-01, -2.50248180e+00,\n",
       "       -1.07238297e+00,  1.29246568e+00,  1.36472991e-01, -7.36583667e-01,\n",
       "        1.25563312e-01, -5.99240969e-01,  1.49559761e+00, -1.52977223e+00,\n",
       "       -7.85121566e-01,  6.87543346e-01,  9.17897391e-01,  5.48335403e-01,\n",
       "       -2.52031610e-01,  1.28776420e-01, -5.44849122e-01, -9.17484494e-01,\n",
       "        1.34196768e+00,  4.92885892e-01,  5.03814850e-02,  1.26968540e+00,\n",
       "       -8.53589614e-01,  2.08889886e-01,  5.45854397e-01, -2.07041049e+00,\n",
       "        1.44434180e+00,  4.81808209e-01, -7.71640219e-01,  2.36670266e-01,\n",
       "        5.69512271e-01,  2.08180945e-01, -1.78367230e+00, -1.41169568e-01,\n",
       "        1.62393574e-01,  5.17977310e-02, -1.28687113e+00,  1.96242337e+00,\n",
       "        1.17065956e+00, -1.33387487e+00,  2.01595115e-01,  2.17346071e+00,\n",
       "       -3.64175062e-01,  1.47882870e+00,  1.03853887e+00, -2.71337185e-01,\n",
       "       -2.21682747e+00, -5.44972384e-01,  3.47242006e-01, -6.99516421e-01,\n",
       "        4.17097829e-01,  1.15727360e+00, -3.11347300e-01,  5.17169483e-01,\n",
       "       -1.49317039e+00,  1.72311246e+00,  6.98576426e-01,  1.92124290e+00,\n",
       "       -1.59605998e+00,  2.66100974e-01, -2.05745494e+00,  9.89550840e-02,\n",
       "        2.04638169e-01,  3.21338889e-01, -5.72977904e-02, -1.03529903e-01,\n",
       "        2.31619723e+00,  7.37423290e-01,  1.90831973e+00,  1.19897353e+00,\n",
       "        5.21772158e-01, -3.65252081e-01,  1.37490102e+00,  7.71234460e-01,\n",
       "        6.80799939e-01,  8.52882778e-01, -5.39104975e-01, -2.33680587e+00,\n",
       "        9.48109935e-01, -1.84951805e-01,  8.70714319e-01,  3.41636242e-01,\n",
       "        1.67188077e+00,  2.34318943e-01,  1.19965989e+00, -9.04714435e-01,\n",
       "        8.31348785e-01, -4.14107124e-01, -1.85600798e+00,  3.03529161e-01,\n",
       "       -4.18528212e-01, -3.80196112e-01,  5.42486891e-01, -1.08026044e+00])"
      ]
     },
     "execution_count": 13,
     "metadata": {},
     "output_type": "execute_result"
    }
   ],
   "source": [
    "y_noise"
   ]
  },
  {
   "cell_type": "code",
   "execution_count": 14,
   "id": "e167787d-29fb-4982-9fc2-b074c9395586",
   "metadata": {},
   "outputs": [],
   "source": [
    "y_result = y + y_noise"
   ]
  },
  {
   "cell_type": "code",
   "execution_count": 15,
   "id": "d0b99112-4e36-45b6-86da-aad30c40d3e5",
   "metadata": {},
   "outputs": [
    {
     "data": {
      "text/plain": [
       "array([-2.51160562e+00, -2.89535658e+00, -4.14184912e+00, -2.10331602e+00,\n",
       "       -3.02455446e+00, -1.50576262e+00, -2.34805041e+00, -2.41331910e+00,\n",
       "       -3.41130574e+00,  4.41143858e-02, -3.40278037e+00, -2.62015706e+00,\n",
       "       -2.70512779e+00, -1.83767971e+00, -3.18181718e+00, -3.05256789e+00,\n",
       "       -2.34893074e+00, -6.44953387e-01, -2.13409424e+00, -2.68768227e+00,\n",
       "       -2.50144116e+00, -1.62494024e+00, -1.38057147e+00, -2.79609712e+00,\n",
       "       -2.76120121e+00, -2.60882364e+00, -1.49548666e+00, -1.63470579e+00,\n",
       "       -2.37793329e+00, -3.41941584e+00, -2.61805759e+00, -1.62297637e+00,\n",
       "       -1.56804253e+00, -8.32283616e-01, -1.97751412e+00, -1.62876171e+00,\n",
       "       -3.51772609e+00, -1.14938312e+00, -1.05809423e+00, -2.51385327e+00,\n",
       "       -1.71404076e+00, -9.48018690e-01, -2.46645179e+00,  9.11341523e-02,\n",
       "       -1.24549678e+00, -2.59332345e+00, -9.94203553e-01, -2.40693899e+00,\n",
       "       -3.05216466e-01, -8.42279266e-01, -2.53950378e+00, -2.01444217e+00,\n",
       "       -1.72576263e+00, -2.12027193e+00, -2.63068994e+00,  8.08165792e-01,\n",
       "       -5.70567118e-01, -1.91077566e+00, -1.68587566e+00, -1.09356303e+00,\n",
       "       -2.72372049e+00,  6.84688373e-01, -1.04635978e+00, -4.09802426e-01,\n",
       "       -5.65855858e-01, -1.39508940e+00, -1.22733908e-01, -1.50797658e+00,\n",
       "       -1.10998321e+00, -3.60392847e-01, -6.70119587e-01, -1.14309516e+00,\n",
       "       -3.94562497e-01, -4.22724380e-01,  1.82539728e-01, -1.47570771e+00,\n",
       "        1.53383904e+00,  4.51725160e-01,  2.22889277e-02, -9.48211655e-01,\n",
       "       -1.08430517e+00,  3.81928738e-01,  1.17754026e+00, -1.11990946e-01,\n",
       "        1.62337532e+00, -1.99055465e-01, -7.66863700e-01, -1.19426162e+00,\n",
       "       -9.60068528e-01, -1.90642485e+00,  4.10618956e-01,  6.54456725e-01,\n",
       "       -7.60115894e-01, -8.57607514e-02,  5.44062410e-01, -4.41352502e-01,\n",
       "        7.53862744e-02,  6.28974143e-01,  2.38318264e+00,  1.36534741e+00,\n",
       "        2.07313952e+00,  5.62259563e-01,  4.98453440e-01, -4.67005529e-01,\n",
       "        1.76342684e+00,  1.75937413e+00,  4.33059510e-01, -8.83020951e-01,\n",
       "       -1.22823407e+00,  1.01571753e-02,  1.03988525e+00,  1.83381692e-01,\n",
       "        7.90421355e-01,  1.83507459e+00,  1.02253628e+00, -1.66328430e+00,\n",
       "       -1.21901496e+00,  7.50129527e-01,  1.47483049e+00,  3.57719012e-01,\n",
       "        9.66073146e-01, -8.48427824e-01, -5.18835717e-01,  1.27082098e+00,\n",
       "       -5.60860642e-01,  3.62625866e-01,  1.18816370e+00,  2.98931913e-01,\n",
       "        1.20935461e+00,  1.13916819e+00,  1.97502915e+00,  1.08693353e+00,\n",
       "        1.19005681e+00,  7.90943477e-01,  7.00219124e-01,  2.94628722e+00,\n",
       "        2.73528061e+00,  2.77147622e+00, -3.33202303e-02,  1.18763499e+00,\n",
       "        4.56419608e-01,  1.24869195e+00,  2.62475110e+00, -5.32720330e-01,\n",
       "        1.96269577e+00,  2.28516622e+00,  2.06908821e+00,  5.13656427e-01,\n",
       "        1.34558012e+00,  2.65844964e+00,  1.17180705e+00,  2.11740724e+00,\n",
       "        5.50306476e-01,  2.04194410e+00,  1.93624661e+00,  1.70607387e+00,\n",
       "        5.87800199e-01,  2.66055690e+00,  3.21535536e+00,  2.58372161e+00,\n",
       "        2.03735834e+00,  2.47302605e+00,  6.55717272e-01,  4.31386989e+00,\n",
       "        1.74759197e+00,  2.45723708e+00,  3.55890912e+00,  4.31347143e+00,\n",
       "        2.13990832e+00,  1.97249907e+00,  2.23737709e+00,  3.79834537e+00,\n",
       "        1.84520389e+00,  2.91725223e+00,  3.05626390e+00,  6.35506008e-01,\n",
       "        3.59225311e+00,  4.12162016e+00,  2.04467193e+00,  3.41077806e+00,\n",
       "        4.06348392e+00,  1.24999969e+00,  3.65885048e+00,  3.85562005e+00,\n",
       "        1.68849536e+00,  4.43894823e+00,  3.28082655e+00,  3.24928060e+00,\n",
       "        2.26185572e+00,  1.11646314e+00,  2.05014828e+00,  3.27043768e+00,\n",
       "        3.74589772e+00,  3.36160468e+00,  1.20261880e+00,  3.33092053e+00,\n",
       "        5.00010594e+00,  4.15960494e+00,  4.74388228e+00,  3.66515649e+00,\n",
       "        3.22630394e+00,  3.91646418e+00,  1.59814085e+00,  4.42625817e+00,\n",
       "        3.31285310e+00,  4.12375786e+00,  4.35436456e+00,  4.39333882e+00,\n",
       "        4.20061604e+00,  3.64570717e+00,  4.88635915e+00,  1.26594577e+00,\n",
       "        3.36577096e+00,  5.09597943e+00,  4.40301419e+00,  4.67232764e+00,\n",
       "        5.25380170e+00,  3.51108800e+00,  5.42153314e+00,  2.64634221e+00,\n",
       "        3.74080408e+00,  4.22206087e+00,  3.46672435e+00,  6.19580198e+00,\n",
       "        5.60978730e+00,  3.79384347e+00,  5.09239194e+00,  3.05790919e+00,\n",
       "        4.30272932e+00,  4.84348970e+00,  5.81059878e+00,  2.25210544e+00,\n",
       "        4.71056067e+00,  5.33923191e+00,  3.12736075e+00,  2.52794392e+00,\n",
       "        3.43801102e+00,  4.91240152e+00,  4.01232860e+00,  4.99344139e+00,\n",
       "        3.54584343e+00,  4.80809758e+00,  6.17083608e+00,  5.83376253e+00,\n",
       "        4.16826563e+00,  4.02883272e+00,  4.33311135e+00,  4.89519215e+00,\n",
       "        3.81365270e+00,  4.09519199e+00,  5.83982584e+00,  5.16261282e+00,\n",
       "        4.55365486e+00,  4.37464069e+00,  4.02943989e+00,  5.99002849e+00,\n",
       "        6.04612699e+00,  5.14269481e+00,  5.04977906e+00,  5.84390206e+00,\n",
       "        7.39306852e+00,  3.91355806e+00,  4.81742798e+00,  7.08300328e+00,\n",
       "        6.02479677e+00,  4.88780029e+00,  6.71337132e+00,  4.45063556e+00,\n",
       "        6.06189456e+00,  6.67257627e+00,  5.32831978e+00,  5.10854713e+00,\n",
       "        6.54071409e+00,  4.92756496e+00,  5.58991917e+00,  6.16082836e+00,\n",
       "        4.92108901e+00,  5.29041473e+00,  5.88617455e+00,  5.67868252e+00,\n",
       "        6.74031136e+00,  6.64780613e+00,  4.57983041e+00,  5.01509814e+00,\n",
       "        6.33255915e+00,  7.28434079e+00,  6.44248715e+00,  5.98678316e+00,\n",
       "        5.35678174e+00,  5.06659151e+00,  6.61455936e+00,  7.23029218e+00,\n",
       "        6.27961615e+00,  5.99923895e+00,  6.88652668e+00,  7.62772888e+00,\n",
       "        7.38709243e+00,  6.95419341e+00,  6.09837744e+00,  6.41643824e+00,\n",
       "        5.13365973e+00,  6.02294769e+00,  6.98724615e+00,  6.82448410e+00,\n",
       "        5.05933808e+00,  7.93902307e+00,  6.88163476e+00,  6.09991294e+00,\n",
       "        8.18700043e+00,  6.02776530e+00,  9.90533108e+00,  6.48101603e+00,\n",
       "        6.43496191e+00,  8.43880982e+00,  7.97587312e+00,  6.87004441e+00,\n",
       "        6.42349145e+00,  8.19595291e+00,  8.37802921e+00,  6.53662421e+00,\n",
       "        8.45262414e+00,  6.19678814e+00,  8.45352489e+00,  6.55385432e+00,\n",
       "        5.59137078e+00,  8.38422458e+00,  7.34628907e+00,  6.72990495e+00,\n",
       "        7.97367709e+00,  8.36479244e+00,  7.27016419e+00,  8.27383333e+00,\n",
       "        6.99586633e+00,  7.08072795e+00,  8.17561251e+00,  7.29005665e+00,\n",
       "        9.01647845e+00,  8.01707694e+00,  8.65791681e+00,  8.41730988e+00,\n",
       "        8.32535039e+00,  6.81852117e+00,  8.41541808e+00,  8.38876656e+00,\n",
       "        7.20103448e+00,  8.98926721e+00,  8.96093974e+00,  6.90447859e+00,\n",
       "        5.83106117e+00,  8.46993808e+00,  7.17569818e+00,  7.57008073e+00,\n",
       "        7.31650573e+00,  8.90826466e+00,  9.23170044e+00,  8.08989722e+00,\n",
       "        7.48551078e+00,  8.70260273e+00,  9.59194460e+00,  8.67602161e+00,\n",
       "        9.73279640e+00,  8.00353608e+00,  8.67421610e+00,  8.28147195e+00,\n",
       "        9.94942771e+00,  9.55116241e+00,  8.65645461e+00,  8.90243440e+00,\n",
       "        9.25599875e+00,  1.00046687e+01,  8.73080132e+00,  8.92191431e+00,\n",
       "        1.01405996e+01,  9.27838853e+00,  8.05879336e+00,  9.33772560e+00,\n",
       "        7.99274321e+00,  9.77558188e+00,  9.99099647e+00,  7.69488499e+00,\n",
       "        9.48241087e+00,  9.64363267e+00,  8.66942575e+00,  8.12033109e+00,\n",
       "        8.25071228e+00,  9.27605795e+00,  1.10927971e+01,  9.32384941e+00,\n",
       "        8.84372537e+00,  9.17612248e+00,  8.59223273e+00,  8.16618963e+00,\n",
       "        1.12336867e+01,  1.12032341e+01,  7.92456854e+00,  7.91968168e+00,\n",
       "        9.03734059e+00,  1.00864358e+01,  9.52461858e+00,  9.68713566e+00,\n",
       "        8.80753792e+00,  1.02131481e+01,  1.06466276e+01,  9.48219111e+00,\n",
       "        9.26050321e+00,  9.27205694e+00,  1.07062990e+01,  7.54761840e+00,\n",
       "        9.00978136e+00,  1.14066941e+01,  1.02827656e+01,  9.44177305e+00,\n",
       "        1.03359842e+01,  9.64324400e+00,  1.17701467e+01,  8.77684099e+00,\n",
       "        9.55355579e+00,  1.10582848e+01,  1.13207030e+01,  1.09832051e+01,\n",
       "        1.02149023e+01,  1.06277744e+01,  9.98621300e+00,  9.64564176e+00,\n",
       "        1.19371581e+01,  1.11201404e+01,  1.07097001e+01,  1.19610682e+01,\n",
       "        9.86985728e+00,  1.09644009e+01,  1.13334295e+01,  8.74922879e+00,\n",
       "        1.22960452e+01,  1.13655757e+01,  1.01441914e+01,  1.11845661e+01,\n",
       "        1.15494722e+01,  1.12202050e+01,  9.26041587e+00,  1.09349827e+01,\n",
       "        1.12706100e+01,  1.11920783e+01,  9.88547356e+00,  1.31668322e+01,\n",
       "        1.24071325e+01,  9.93466220e+00,  1.15021963e+01,  1.35061260e+01,\n",
       "        1.10005544e+01,  1.28756223e+01,  1.24673966e+01,  1.11895847e+01,\n",
       "        9.27615850e+00,  1.09800777e+01,  1.19043562e+01,  1.08896619e+01,\n",
       "        1.20383403e+01,  1.28105802e+01,  1.13740234e+01,  1.22346044e+01,\n",
       "        1.02563286e+01,  1.35046756e+01,  1.25122037e+01,  1.37669343e+01,\n",
       "        1.02816955e+01,  1.21759206e+01,  9.88442883e+00,  1.20729030e+01,\n",
       "        1.22106502e+01,  1.23594150e+01,  1.20128425e+01,  1.19986745e+01,\n",
       "        1.44504658e+01,  1.29037560e+01,  1.41067165e+01,  1.34294345e+01,\n",
       "        1.27842972e+01,  1.19293371e+01,  1.37015543e+01,  1.31299519e+01,\n",
       "        1.30715815e+01,  1.32757285e+01,  1.19158048e+01,  1.01501681e+01,\n",
       "        1.34671480e+01,  1.23661504e+01,  1.34538807e+01,  1.29568667e+01,\n",
       "        1.43191754e+01,  1.29136777e+01,  1.39110827e+01,  1.18387725e+01,\n",
       "        1.36068999e+01,  1.23935081e+01,  1.09836714e+01,  1.31752726e+01,\n",
       "        1.24852794e+01,  1.25556756e+01,  1.35104228e+01,  1.19197396e+01])"
      ]
     },
     "execution_count": 15,
     "metadata": {},
     "output_type": "execute_result"
    }
   ],
   "source": [
    "y_result"
   ]
  },
  {
   "cell_type": "code",
   "execution_count": 16,
   "id": "3456e71c-57bc-4c76-8ca0-89f4453a5504",
   "metadata": {},
   "outputs": [
    {
     "data": {
      "image/png": "[encoded data removed]",
      "text/plain": [
       "<Figure size 432x288 with 1 Axes>"
      ]
     },
     "metadata": {
      "needs_background": "light"
     },
     "output_type": "display_data"
    }
   ],
   "source": [
    "plt.scatter(x, y_result, color=\"red\", s = 0.1) \n",
    "\n",
    "plt.xlabel(\"x\")\n",
    "plt.ylabel(\"y\")\n",
    "\n",
    "plt.show()"
   ]
  },
  {
   "cell_type": "markdown",
   "id": "27ce5595-b25e-4525-8523-95a05087c364",
   "metadata": {},
   "source": [
    "Вече виждаме как имаме облак от точки. За който облак казваме окей, интересува ни основната тенденция. Всяко друго нещо, което не я следва се счита за случайна грешка.\n",
    "\n",
    "Искаме да намалим малко скейла:"
   ]
  },
  {
   "cell_type": "code",
   "execution_count": 17,
   "id": "1f2657b7-1edb-4b05-a020-eb48333d00aa",
   "metadata": {},
   "outputs": [
    {
     "data": {
      "image/png": "[encoded data removed]",
      "text/plain": [
       "<Figure size 432x288 with 1 Axes>"
      ]
     },
     "metadata": {
      "needs_background": "light"
     },
     "output_type": "display_data"
    }
   ],
   "source": [
    "y_noise = np.random.normal(loc = 0, scale = 0.1, size = len(x))\n",
    "y_result = y + y_noise\n",
    "plt.scatter(x, y_result, color=\"red\", s = 0.1) \n",
    "\n",
    "plt.xlabel(\"x\")\n",
    "plt.ylabel(\"y\")\n",
    "\n",
    "plt.show()"
   ]
  },
  {
   "cell_type": "code",
   "execution_count": 18,
   "id": "ab404174-052b-4d24-bd0a-d19ae499960c",
   "metadata": {},
   "outputs": [
    {
     "data": {
      "image/png": "[encoded data removed]",
      "text/plain": [
       "<Figure size 432x288 with 1 Axes>"
      ]
     },
     "metadata": {
      "needs_background": "light"
     },
     "output_type": "display_data"
    }
   ],
   "source": [
    "y_noise = np.random.normal(loc = 0, scale = 50, size = len(x))\n",
    "y_result = y + y_noise\n",
    "\n",
    "plt.scatter(x, y_result, color=\"red\", s = 0.1) \n",
    "\n",
    "plt.xlabel(\"x\")\n",
    "plt.ylabel(\"y\")\n",
    "\n",
    "plt.show()"
   ]
  },
  {
   "cell_type": "markdown",
   "id": "d915c34c-f531-4483-8efb-a8f3edc4e9a4",
   "metadata": {},
   "source": [
    "Тук полезната част се скри, защото шумът е повече спрямо нея."
   ]
  },
  {
   "cell_type": "code",
   "execution_count": 19,
   "id": "24ce2b30-72b8-4b6d-8447-1c6d551d8ac4",
   "metadata": {},
   "outputs": [],
   "source": [
    "y_noise = np.random.normal(loc = 0, scale = 0.7, size = len(x))\n",
    "y += y_noise"
   ]
  },
  {
   "cell_type": "code",
   "execution_count": 20,
   "id": "4d2f0015-4bc4-488c-a8b0-61d7f5b171f3",
   "metadata": {},
   "outputs": [
    {
     "data": {
      "image/png": "[encoded data removed]",
      "text/plain": [
       "<Figure size 432x288 with 1 Axes>"
      ]
     },
     "metadata": {
      "needs_background": "light"
     },
     "output_type": "display_data"
    }
   ],
   "source": [
    "plt.scatter(x, y, color=\"red\", s = 0.5) \n",
    "\n",
    "plt.xlabel(\"x\")\n",
    "plt.ylabel(\"y\")\n",
    "\n",
    "plt.show()"
   ]
  },
  {
   "cell_type": "code",
   "execution_count": 21,
   "id": "76d77182-503d-4d19-a76a-727aee458afc",
   "metadata": {},
   "outputs": [],
   "source": [
    "a = 8\n",
    "b = 2\n",
    "\n",
    "model_x = np.linspace(np.min(x), np.max(x), 5)\n",
    "model_y = a * model_x + b  # Това е y тилда"
   ]
  },
  {
   "cell_type": "code",
   "execution_count": 22,
   "id": "f37b9c6d-ba4f-4afd-8b35-4f430db5edfd",
   "metadata": {},
   "outputs": [
    {
     "data": {
      "image/png": "[encoded data removed]",
      "text/plain": [
       "<Figure size 432x288 with 1 Axes>"
      ]
     },
     "metadata": {
      "needs_background": "light"
     },
     "output_type": "display_data"
    }
   ],
   "source": [
    "plt.scatter(x, y, color=\"red\", s = 0.5) \n",
    "plt.plot(model_x, model_y)\n",
    "\n",
    "plt.xlabel(\"x\")\n",
    "plt.ylabel(\"y\")\n",
    "\n",
    "plt.show()"
   ]
  },
  {
   "cell_type": "markdown",
   "id": "458090f2-b314-41bc-be9e-74b287252762",
   "metadata": {},
   "source": [
    "Нека изкараме това във функция:"
   ]
  },
  {
   "cell_type": "code",
   "execution_count": 23,
   "id": "fab41ac8-f130-4db7-843d-31a16e386647",
   "metadata": {},
   "outputs": [],
   "source": [
    "def plot_predictions(x, y, a, b):\n",
    "    predictions = a * x + b\n",
    "    \n",
    "    plt.scatter(x, y, color=\"red\", s = 0.5, label = \"data\") \n",
    "    plt.plot(x, predictions, label = \"model\")\n",
    "    \n",
    "    plt.xlabel(\"x\")\n",
    "    plt.ylabel(\"y\")\n",
    "\n",
    "    plt.legend()\n",
    "    \n",
    "    plt.show()"
   ]
  },
  {
   "cell_type": "code",
   "execution_count": 24,
   "id": "3e6ffca2-9ddf-4a5c-b11a-1e6fa5e98bc7",
   "metadata": {},
   "outputs": [
    {
     "data": {
      "image/png": "[encoded data removed]",
      "text/plain": [
       "<Figure size 432x288 with 1 Axes>"
      ]
     },
     "metadata": {
      "needs_background": "light"
     },
     "output_type": "display_data"
    }
   ],
   "source": [
    "plot_predictions(x, y, a, b)"
   ]
  },
  {
   "cell_type": "code",
   "execution_count": 25,
   "id": "e1577195-0dd6-4d84-a924-8f8e04efaa08",
   "metadata": {},
   "outputs": [
    {
     "data": {
      "image/png": "[encoded data removed]",
      "text/plain": [
       "<Figure size 432x288 with 1 Axes>"
      ]
     },
     "metadata": {
      "needs_background": "light"
     },
     "output_type": "display_data"
    }
   ],
   "source": [
    "plot_predictions(x, y, 5, 0)"
   ]
  },
  {
   "cell_type": "code",
   "execution_count": 26,
   "id": "ea0d0485-98df-44a4-a8a7-681c1e796af5",
   "metadata": {},
   "outputs": [
    {
     "data": {
      "image/png": "[encoded data removed]",
      "text/plain": [
       "<Figure size 432x288 with 1 Axes>"
      ]
     },
     "metadata": {
      "needs_background": "light"
     },
     "output_type": "display_data"
    }
   ],
   "source": [
    "plot_predictions(x, y, -2, 1)"
   ]
  },
  {
   "cell_type": "code",
   "execution_count": 27,
   "id": "5f04707b-437d-4698-9f46-f4e5dbdad008",
   "metadata": {},
   "outputs": [
    {
     "data": {
      "image/png": "[encoded data removed]",
      "text/plain": [
       "<Figure size 432x288 with 1 Axes>"
      ]
     },
     "metadata": {
      "needs_background": "light"
     },
     "output_type": "display_data"
    }
   ],
   "source": [
    "plot_predictions(x, y, 2, 1)"
   ]
  },
  {
   "cell_type": "markdown",
   "id": "c8b4a1fb-b793-4bdc-af9a-e9d3dec8481b",
   "metadata": {},
   "source": [
    "Тази е доста близо, но навсякъде подценява данните.\n",
    "\n",
    "И вече имаме интуиция. Искам да кажа от всички възможни модели, които искам да направя аз имам представа какво представлява моя модел. Мога да му подавам различни параметри ($a$ и $b$) и ще можем да разберем кой е най-добрия от тях.\n",
    "За тази работа трябва да имаме мярка колко е добър или колко моделът е подобен на данните.\n",
    "\n",
    "__Регресия__ - не става на въпрос за намаляване, а за схождане към средното.\n",
    "\n",
    "Като пробваме различни модели виждаме, че някои са по-добри.\n",
    "\n",
    "Всяка една крива линия локално е права линия и можем да си я представим от много на брой много тънки малки прави линии. И пак можем да търсим разстоянието от точката, която и да е тя до съответната точка от кривата. Какво означава обаче разстояние - разстояние от точка до права е дължината на перпендикуляра от точката към правата. Защо? защото това е най-малкото разстояние. Взимаме точката, прекарваме перпендикуляра към правата и дължината на този перпендикуляра е това, което търсим.\n",
    "Ортогонална регресия се нарича, когато използваме перпендикулярните разстояния.\n",
    "\n",
    "Нека направим една функция за грешка/ функция за разстояния:"
   ]
  },
  {
   "cell_type": "code",
   "execution_count": 28,
   "id": "f71ad5c6-5f25-4cb3-98ab-e1f680976b45",
   "metadata": {},
   "outputs": [],
   "source": [
    "def compute_distances(x, y, a, b):\n",
    "    predictions = a * x + b\n",
    "    distances = np.abs(y - predictions)\n",
    "    total_distance = np.mean(distances)\n",
    "    \n",
    "    # np.mean(np.abs(y - predictions)) # MAE - Mean Absolute Error\n",
    "    \n",
    "    return total_distance"
   ]
  },
  {
   "cell_type": "markdown",
   "id": "5821e73a-e792-4437-9529-4a9f51edb3bb",
   "metadata": {},
   "source": [
    "Това са много на брой разстояния:"
   ]
  },
  {
   "cell_type": "code",
   "execution_count": 29,
   "id": "4b5bed5e-6537-4284-b726-e0f4d0202fba",
   "metadata": {},
   "outputs": [
    {
     "data": {
      "text/plain": [
       "9.239709078901985"
      ]
     },
     "execution_count": 29,
     "metadata": {},
     "output_type": "execute_result"
    }
   ],
   "source": [
    "compute_distances(x, y, -2, 1)"
   ]
  },
  {
   "cell_type": "code",
   "execution_count": 30,
   "id": "7e3cacea-8180-4fee-8f91-544b1805ced0",
   "metadata": {},
   "outputs": [
    {
     "data": {
      "text/plain": [
       "5.926894244166824"
      ]
     },
     "execution_count": 30,
     "metadata": {},
     "output_type": "execute_result"
    }
   ],
   "source": [
    "compute_distances(x, y, 5, 0)"
   ]
  },
  {
   "cell_type": "code",
   "execution_count": 31,
   "id": "7152b734-85f7-42d7-b871-ed149b72bf67",
   "metadata": {},
   "outputs": [
    {
     "data": {
      "text/plain": [
       "2.0502726680262833"
      ]
     },
     "execution_count": 31,
     "metadata": {},
     "output_type": "execute_result"
    }
   ],
   "source": [
    "compute_distances(x, y, 2, 1)"
   ]
  },
  {
   "cell_type": "code",
   "execution_count": 32,
   "id": "b0812c9b-bddd-45a1-9c47-b7767cf79e92",
   "metadata": {},
   "outputs": [
    {
     "data": {
      "text/plain": [
       "0.5825133583447873"
      ]
     },
     "execution_count": 32,
     "metadata": {},
     "output_type": "execute_result"
    }
   ],
   "source": [
    "compute_distances(x, y, 2, 3)"
   ]
  },
  {
   "cell_type": "markdown",
   "id": "71e0d18f-acb4-45d4-a932-5d3f65335a82",
   "metadata": {},
   "source": [
    "Самото число, което ще получим зависи от броя точки, които имаме. Повече точки означава по-голяма сума.\n",
    "\n",
    "Ще говорим за производни и за оптимизация. При производните имаме проблеми понякога. Производната на една функция представлява граница и тази граница трябва да съществува и да бъде отляво и отдясно еднаква на точката.\n",
    "\n",
    "Много повече предпочитаме да използваме гладка функция - такава, която не прави ръбове. Освен абсолютна стойност нещо друго, което не прави ръбове е на квадрат."
   ]
  },
  {
   "cell_type": "code",
   "execution_count": 33,
   "id": "fadd3bc8-37c2-46d0-9715-ae7cbbc79614",
   "metadata": {},
   "outputs": [],
   "source": [
    "def compute_cost(x, y, a, b):\n",
    "    predictions = a * x + b\n",
    "    distances = (y - predictions) ** 2\n",
    "    total_distance = np.mean(distances) # MSE - Mean Square Error\n",
    "    \n",
    "    return total_distance"
   ]
  },
  {
   "cell_type": "markdown",
   "id": "53f252ad-b1ef-4d4f-a353-2cef87446d3b",
   "metadata": {},
   "source": [
    "Този модел за по-далечни точки ще дава по-голямо разстояние, например за 2: 4, за 3: 9, за 4: 16 и т.н. Тук по-далечните точки ще имат по-голямо влияние върху модела.\n",
    "\n",
    "Има плюсове и минуси. Няма едно валидно решение. Нямаме нещо, което се прави \"по този начин\". Всяко нещо се прави по много различни начини докато си избираме този, който най-малко ни дразни 😆 ."
   ]
  },
  {
   "cell_type": "code",
   "execution_count": 34,
   "id": "1a6b9e4d-0bf8-413e-ac1b-dbbf942d432b",
   "metadata": {},
   "outputs": [
    {
     "data": {
      "text/plain": [
       "124.6286502731561"
      ]
     },
     "execution_count": 34,
     "metadata": {},
     "output_type": "execute_result"
    }
   ],
   "source": [
    "compute_cost(x, y, -2, 1)"
   ]
  },
  {
   "cell_type": "code",
   "execution_count": 35,
   "id": "0034759e-6427-404e-a3cf-6a7c71f6d1ac",
   "metadata": {},
   "outputs": [
    {
     "data": {
      "text/plain": [
       "47.38889868052429"
      ]
     },
     "execution_count": 35,
     "metadata": {},
     "output_type": "execute_result"
    }
   ],
   "source": [
    "compute_cost(x, y, 5, 0)"
   ]
  },
  {
   "cell_type": "code",
   "execution_count": 36,
   "id": "d1866fed-d224-4c97-9ff1-84e6680bc66f",
   "metadata": {},
   "outputs": [
    {
     "data": {
      "text/plain": [
       "4.749110430712934"
      ]
     },
     "execution_count": 36,
     "metadata": {},
     "output_type": "execute_result"
    }
   ],
   "source": [
    "compute_cost(x, y, 2, 1)"
   ]
  },
  {
   "cell_type": "code",
   "execution_count": 37,
   "id": "5214109c-5199-46d5-bb63-4cc7c609c6f3",
   "metadata": {},
   "outputs": [
    {
     "data": {
      "text/plain": [
       "0.5480197586078022"
      ]
     },
     "execution_count": 37,
     "metadata": {},
     "output_type": "execute_result"
    }
   ],
   "source": [
    "compute_cost(x, y, 2, 3)"
   ]
  },
  {
   "cell_type": "markdown",
   "id": "3f3091dc-28b1-4a12-9ec2-dbd7cbd3ddaf",
   "metadata": {},
   "source": [
    "### Cost function (Функция на грешката)\n",
    "\n",
    "- total cost function (обща функция на цената, която трябва да платим, за да използваме този модел)\n",
    "\n",
    "Ще виждаме термини като __Cost function__ и __Lost function__ (функция на загуба на грешка). Като синоними Cost function е цялото нещо, Lost function е само за една точка. Т.е. Lost function ни дава първоначалния масив по-нагоре с многото стойности.\n",
    "\n",
    "Знаем, че най-добрият модел е този, който има минимална грешка.\n",
    "\n",
    "Ще търсим тази total_cost функция къде се минимизира. Интересува ни кога се минимизира и аргументите при които тази функция се минимизира.\n",
    "\n",
    "$x$ и $y$ са константи. Щом са константи значи производните им са 0. Казано малко по-просто не ни интересуват. Тогава ще търсим само аргументите $a$ и $b$ при които тази функция се минимизира. За да намерим минимумите ще ни трябват частните производни спрямо $a$ и $b$"
   ]
  },
  {
   "cell_type": "markdown",
   "id": "485524a3-d9b8-496d-9c28-c17b6b4a50f1",
   "metadata": {},
   "source": [
    "Итеративно ще използваме различни точки, за да намерим тази, която е най-близка до минимума. Този метод се наричаше\n",
    "## Gradient descent\n",
    "\n",
    "или апуакане по graient. Метод, който се опитва да намери локален минимум \"близо\" до някаква начална точка.\n",
    "\n",
    "Как правим __Gradient descent?__ <br/>\n",
    "Започваме от някаква точка/някакви кординати. Тези кординати в един голям модел ще бъдат няколко милиарда.\n",
    "\n",
    "(Всеки един моел, който можем да направим от тези данни представлява една точка от пространственост във функцията. И ние търсим коя е тази точка, която е минимална.)\n",
    "\n",
    "gradient-a на cost функцията е просто вектор от производни.\n",
    "Посоката на graient-a е там, на където функцията расте най-бързо."
   ]
  },
  {
   "cell_type": "code",
   "execution_count": 39,
   "id": "ad9938d5-89e0-41c8-ae1e-2f97bd4ff0e0",
   "metadata": {},
   "outputs": [],
   "source": [
    "a_gradient = -2 / len(x) * np.sum(x * (y - (a * x + b)))\n",
    "b_gradient = -2 / len(y) * np.sum(y - (a * x + b))"
   ]
  },
  {
   "cell_type": "code",
   "execution_count": 53,
   "id": "783fee36-4c00-4300-9b3e-467db0d57f2d",
   "metadata": {},
   "outputs": [],
   "source": [
    "def compute_gradient(x, y, a, b):\n",
    "    predictions = a * x + b\n",
    "    a_gradient = -2 / len(x) * np.sum(x * (y - predictions))\n",
    "    b_gradient = -2 / len(y) * np.sum(y - predictions)\n",
    "    return a_gradient, b_gradient"
   ]
  },
  {
   "cell_type": "code",
   "execution_count": 54,
   "id": "c3382706-77e1-4fdb-9b79-ded51973d37d",
   "metadata": {},
   "outputs": [
    {
     "data": {
      "text/plain": [
       "(9.448952714739903, 9.899454663947436)"
      ]
     },
     "execution_count": 54,
     "metadata": {},
     "output_type": "execute_result"
    }
   ],
   "source": [
    "compute_gradient(x, y, 2, 8)"
   ]
  },
  {
   "cell_type": "code",
   "execution_count": 57,
   "id": "5bdad8f6-7b22-48ce-b6ad-ad4aa253004a",
   "metadata": {},
   "outputs": [
    {
     "data": {
      "text/plain": [
       "(33.577209227765955, 1.899454663947434)"
      ]
     },
     "execution_count": 57,
     "metadata": {},
     "output_type": "execute_result"
    }
   ],
   "source": [
    "compute_gradient(x, y, 5, 1)"
   ]
  },
  {
   "cell_type": "code",
   "execution_count": 62,
   "id": "5b48ad7a-12c7-448f-a97a-7c438941975c",
   "metadata": {},
   "outputs": [],
   "source": [
    "def compute_gradient(x, y, a, b):\n",
    "    predictions = a * x + b\n",
    "    a_gradient = -2 / len(x) * np.sum(x * (y - predictions))\n",
    "    b_gradient = -2 / len(x) * np.sum(y - predictions)\n",
    "    return np.array([a_gradient, b_gradient])"
   ]
  },
  {
   "cell_type": "code",
   "execution_count": 63,
   "id": "2baf2b5f-4bd6-466e-92ce-d155a9f828c0",
   "metadata": {},
   "outputs": [
    {
     "data": {
      "text/plain": [
       "array([0.33577209, 0.01899455])"
      ]
     },
     "execution_count": 63,
     "metadata": {},
     "output_type": "execute_result"
    }
   ],
   "source": [
    "0.01 * compute_gradient(x, y, 5, 1)"
   ]
  },
  {
   "cell_type": "code",
   "execution_count": 70,
   "id": "85719f66-aa7b-43a9-9a4f-3ec942a245b3",
   "metadata": {},
   "outputs": [],
   "source": [
    "learning_rate = 0.01"
   ]
  },
  {
   "cell_type": "code",
   "execution_count": 71,
   "id": "af085ff3-4bdb-4117-b927-e81749f18820",
   "metadata": {},
   "outputs": [],
   "source": [
    "a = 5\n",
    "b = 1"
   ]
  },
  {
   "cell_type": "code",
   "execution_count": 76,
   "id": "6f6232ac-4f96-4609-9160-34b304693a5a",
   "metadata": {},
   "outputs": [
    {
     "data": {
      "text/plain": [
       "4.683295366455326"
      ]
     },
     "execution_count": 76,
     "metadata": {},
     "output_type": "execute_result"
    }
   ],
   "source": [
    "compute_distances(x, y, a, b)"
   ]
  },
  {
   "cell_type": "code",
   "execution_count": 74,
   "id": "4c2704bb-bef0-4634-8145-05d28be3962e",
   "metadata": {},
   "outputs": [],
   "source": [
    "a = a - learning_rate * compute_gradient(x, y, a, b)[0]\n",
    "b = b - learning_rate * compute_gradient(x, y, a, b)[1]"
   ]
  },
  {
   "cell_type": "code",
   "execution_count": 77,
   "id": "c8430dbe-bb2b-4d62-bc59-a17c596f88db",
   "metadata": {},
   "outputs": [
    {
     "data": {
      "text/plain": [
       "(4.371376079088153, 0.9815444090807199)"
      ]
     },
     "execution_count": 77,
     "metadata": {},
     "output_type": "execute_result"
    }
   ],
   "source": [
    "a, b"
   ]
  },
  {
   "cell_type": "code",
   "execution_count": 79,
   "id": "a2c75157-b457-4b3a-826e-7d875bb5b6cc",
   "metadata": {},
   "outputs": [
    {
     "data": {
      "text/plain": [
       "4.683295366455326"
      ]
     },
     "execution_count": 79,
     "metadata": {},
     "output_type": "execute_result"
    }
   ],
   "source": [
    "compute_distances(x, y, 4.371376079088153, b)"
   ]
  },
  {
   "cell_type": "code",
   "execution_count": 80,
   "id": "b98de913-d225-4af7-bd1a-ab6f2b24ca9f",
   "metadata": {},
   "outputs": [],
   "source": [
    "for step in range(1000):\n",
    "    a = a - learning_rate * compute_gradient(x, y, a, b)[0]\n",
    "    b = b - learning_rate * compute_gradient(x, y, a, b)[1]"
   ]
  },
  {
   "cell_type": "code",
   "execution_count": 81,
   "id": "afd339ce-4677-4ffa-8588-ee2856657071",
   "metadata": {},
   "outputs": [
    {
     "data": {
      "text/plain": [
       "(2.0420659831896155, 3.0082065648150143)"
      ]
     },
     "execution_count": 81,
     "metadata": {},
     "output_type": "execute_result"
    }
   ],
   "source": [
    "a, b"
   ]
  },
  {
   "cell_type": "markdown",
   "id": "b524ab93-ed93-43e1-b47b-5eef151a7748",
   "metadata": {},
   "source": [
    "Това не е лош модел:"
   ]
  },
  {
   "cell_type": "code",
   "execution_count": 82,
   "id": "70ce0df7-4520-4add-a58e-913f6fda703f",
   "metadata": {},
   "outputs": [
    {
     "data": {
      "image/png": "[encoded data removed]",
      "text/plain": [
       "<Figure size 432x288 with 1 Axes>"
      ]
     },
     "metadata": {
      "needs_background": "light"
     },
     "output_type": "display_data"
    }
   ],
   "source": [
    "plot_predictions(x, y, a, b)"
   ]
  },
  {
   "cell_type": "code",
   "execution_count": 85,
   "id": "89ea4387-ab30-47ac-b290-612a3ac34ef4",
   "metadata": {},
   "outputs": [
    {
     "data": {
      "text/plain": [
       "LinearRegression()"
      ]
     },
     "execution_count": 85,
     "metadata": {},
     "output_type": "execute_result"
    }
   ],
   "source": [
    "model = LinearRegression()\n",
    "model.fit(x.reshape(-1, 1), y)"
   ]
  },
  {
   "cell_type": "code",
   "execution_count": 86,
   "id": "fc1ff447-7ba6-46d9-bbd0-44a42bf9bf2a",
   "metadata": {},
   "outputs": [
    {
     "data": {
      "text/plain": [
       "array([2.04206596])"
      ]
     },
     "execution_count": 86,
     "metadata": {},
     "output_type": "execute_result"
    }
   ],
   "source": [
    "model.coef_"
   ]
  },
  {
   "cell_type": "code",
   "execution_count": 87,
   "id": "b5628264-0150-4ed0-ac5b-7e0bbcabb41e",
   "metadata": {},
   "outputs": [
    {
     "data": {
      "text/plain": [
       "3.0082067113169715"
      ]
     },
     "execution_count": 87,
     "metadata": {},
     "output_type": "execute_result"
    }
   ],
   "source": [
    "model.intercept_"
   ]
  },
  {
   "cell_type": "markdown",
   "id": "603619bb-45e3-4c43-97ba-5b3b0a1124a4",
   "metadata": {},
   "source": [
    "Този модел прилича на предните, които видяхме."
   ]
  },
  {
   "cell_type": "code",
   "execution_count": 88,
   "id": "f4b31016-4ac7-4937-8244-30f5991eb3eb",
   "metadata": {},
   "outputs": [
    {
     "data": {
      "text/plain": [
       "array([-3.11799116e+00, -3.08525263e+00, -3.05251409e+00, -3.01977556e+00,\n",
       "       -2.98703703e+00, -2.95429850e+00, -2.92155996e+00, -2.88882143e+00,\n",
       "       -2.85608290e+00, -2.82334437e+00, -2.79060584e+00, -2.75786730e+00,\n",
       "       -2.72512877e+00, -2.69239024e+00, -2.65965171e+00, -2.62691317e+00,\n",
       "       -2.59417464e+00, -2.56143611e+00, -2.52869758e+00, -2.49595904e+00,\n",
       "       -2.46322051e+00, -2.43048198e+00, -2.39774345e+00, -2.36500491e+00,\n",
       "       -2.33226638e+00, -2.29952785e+00, -2.26678932e+00, -2.23405078e+00,\n",
       "       -2.20131225e+00, -2.16857372e+00, -2.13583519e+00, -2.10309666e+00,\n",
       "       -2.07035812e+00, -2.03761959e+00, -2.00488106e+00, -1.97214253e+00,\n",
       "       -1.93940399e+00, -1.90666546e+00, -1.87392693e+00, -1.84118840e+00,\n",
       "       -1.80844986e+00, -1.77571133e+00, -1.74297280e+00, -1.71023427e+00,\n",
       "       -1.67749573e+00, -1.64475720e+00, -1.61201867e+00, -1.57928014e+00,\n",
       "       -1.54654160e+00, -1.51380307e+00, -1.48106454e+00, -1.44832601e+00,\n",
       "       -1.41558748e+00, -1.38284894e+00, -1.35011041e+00, -1.31737188e+00,\n",
       "       -1.28463335e+00, -1.25189481e+00, -1.21915628e+00, -1.18641775e+00,\n",
       "       -1.15367922e+00, -1.12094068e+00, -1.08820215e+00, -1.05546362e+00,\n",
       "       -1.02272509e+00, -9.89986555e-01, -9.57248022e-01, -9.24509490e-01,\n",
       "       -8.91770958e-01, -8.59032425e-01, -8.26293893e-01, -7.93555360e-01,\n",
       "       -7.60816828e-01, -7.28078296e-01, -6.95339763e-01, -6.62601231e-01,\n",
       "       -6.29862699e-01, -5.97124166e-01, -5.64385634e-01, -5.31647101e-01,\n",
       "       -4.98908569e-01, -4.66170037e-01, -4.33431504e-01, -4.00692972e-01,\n",
       "       -3.67954440e-01, -3.35215907e-01, -3.02477375e-01, -2.69738842e-01,\n",
       "       -2.37000310e-01, -2.04261778e-01, -1.71523245e-01, -1.38784713e-01,\n",
       "       -1.06046181e-01, -7.33076482e-02, -4.05691158e-02, -7.83058346e-03,\n",
       "        2.49079489e-02,  5.76464813e-02,  9.03850137e-02,  1.23123546e-01,\n",
       "        1.55862078e-01,  1.88600611e-01,  2.21339143e-01,  2.54077676e-01,\n",
       "        2.86816208e-01,  3.19554740e-01,  3.52293273e-01,  3.85031805e-01,\n",
       "        4.17770337e-01,  4.50508870e-01,  4.83247402e-01,  5.15985934e-01,\n",
       "        5.48724467e-01,  5.81462999e-01,  6.14201532e-01,  6.46940064e-01,\n",
       "        6.79678596e-01,  7.12417129e-01,  7.45155661e-01,  7.77894193e-01,\n",
       "        8.10632726e-01,  8.43371258e-01,  8.76109791e-01,  9.08848323e-01,\n",
       "        9.41586855e-01,  9.74325388e-01,  1.00706392e+00,  1.03980245e+00,\n",
       "        1.07254098e+00,  1.10527952e+00,  1.13801805e+00,  1.17075658e+00,\n",
       "        1.20349511e+00,  1.23623365e+00,  1.26897218e+00,  1.30171071e+00,\n",
       "        1.33444924e+00,  1.36718778e+00,  1.39992631e+00,  1.43266484e+00,\n",
       "        1.46540337e+00,  1.49814191e+00,  1.53088044e+00,  1.56361897e+00,\n",
       "        1.59635750e+00,  1.62909604e+00,  1.66183457e+00,  1.69457310e+00,\n",
       "        1.72731163e+00,  1.76005016e+00,  1.79278870e+00,  1.82552723e+00,\n",
       "        1.85826576e+00,  1.89100429e+00,  1.92374283e+00,  1.95648136e+00,\n",
       "        1.98921989e+00,  2.02195842e+00,  2.05469696e+00,  2.08743549e+00,\n",
       "        2.12017402e+00,  2.15291255e+00,  2.18565109e+00,  2.21838962e+00,\n",
       "        2.25112815e+00,  2.28386668e+00,  2.31660521e+00,  2.34934375e+00,\n",
       "        2.38208228e+00,  2.41482081e+00,  2.44755934e+00,  2.48029788e+00,\n",
       "        2.51303641e+00,  2.54577494e+00,  2.57851347e+00,  2.61125201e+00,\n",
       "        2.64399054e+00,  2.67672907e+00,  2.70946760e+00,  2.74220614e+00,\n",
       "        2.77494467e+00,  2.80768320e+00,  2.84042173e+00,  2.87316027e+00,\n",
       "        2.90589880e+00,  2.93863733e+00,  2.97137586e+00,  3.00411439e+00,\n",
       "        3.03685293e+00,  3.06959146e+00,  3.10232999e+00,  3.13506852e+00,\n",
       "        3.16780706e+00,  3.20054559e+00,  3.23328412e+00,  3.26602265e+00,\n",
       "        3.29876119e+00,  3.33149972e+00,  3.36423825e+00,  3.39697678e+00,\n",
       "        3.42971532e+00,  3.46245385e+00,  3.49519238e+00,  3.52793091e+00,\n",
       "        3.56066945e+00,  3.59340798e+00,  3.62614651e+00,  3.65888504e+00,\n",
       "        3.69162357e+00,  3.72436211e+00,  3.75710064e+00,  3.78983917e+00,\n",
       "        3.82257770e+00,  3.85531624e+00,  3.88805477e+00,  3.92079330e+00,\n",
       "        3.95353183e+00,  3.98627037e+00,  4.01900890e+00,  4.05174743e+00,\n",
       "        4.08448596e+00,  4.11722450e+00,  4.14996303e+00,  4.18270156e+00,\n",
       "        4.21544009e+00,  4.24817862e+00,  4.28091716e+00,  4.31365569e+00,\n",
       "        4.34639422e+00,  4.37913275e+00,  4.41187129e+00,  4.44460982e+00,\n",
       "        4.47734835e+00,  4.51008688e+00,  4.54282542e+00,  4.57556395e+00,\n",
       "        4.60830248e+00,  4.64104101e+00,  4.67377955e+00,  4.70651808e+00,\n",
       "        4.73925661e+00,  4.77199514e+00,  4.80473368e+00,  4.83747221e+00,\n",
       "        4.87021074e+00,  4.90294927e+00,  4.93568780e+00,  4.96842634e+00,\n",
       "        5.00116487e+00,  5.03390340e+00,  5.06664193e+00,  5.09938047e+00,\n",
       "        5.13211900e+00,  5.16485753e+00,  5.19759606e+00,  5.23033460e+00,\n",
       "        5.26307313e+00,  5.29581166e+00,  5.32855019e+00,  5.36128873e+00,\n",
       "        5.39402726e+00,  5.42676579e+00,  5.45950432e+00,  5.49224286e+00,\n",
       "        5.52498139e+00,  5.55771992e+00,  5.59045845e+00,  5.62319698e+00,\n",
       "        5.65593552e+00,  5.68867405e+00,  5.72141258e+00,  5.75415111e+00,\n",
       "        5.78688965e+00,  5.81962818e+00,  5.85236671e+00,  5.88510524e+00,\n",
       "        5.91784378e+00,  5.95058231e+00,  5.98332084e+00,  6.01605937e+00,\n",
       "        6.04879791e+00,  6.08153644e+00,  6.11427497e+00,  6.14701350e+00,\n",
       "        6.17975203e+00,  6.21249057e+00,  6.24522910e+00,  6.27796763e+00,\n",
       "        6.31070616e+00,  6.34344470e+00,  6.37618323e+00,  6.40892176e+00,\n",
       "        6.44166029e+00,  6.47439883e+00,  6.50713736e+00,  6.53987589e+00,\n",
       "        6.57261442e+00,  6.60535296e+00,  6.63809149e+00,  6.67083002e+00,\n",
       "        6.70356855e+00,  6.73630709e+00,  6.76904562e+00,  6.80178415e+00,\n",
       "        6.83452268e+00,  6.86726121e+00,  6.89999975e+00,  6.93273828e+00,\n",
       "        6.96547681e+00,  6.99821534e+00,  7.03095388e+00,  7.06369241e+00,\n",
       "        7.09643094e+00,  7.12916947e+00,  7.16190801e+00,  7.19464654e+00,\n",
       "        7.22738507e+00,  7.26012360e+00,  7.29286214e+00,  7.32560067e+00,\n",
       "        7.35833920e+00,  7.39107773e+00,  7.42381627e+00,  7.45655480e+00,\n",
       "        7.48929333e+00,  7.52203186e+00,  7.55477039e+00,  7.58750893e+00,\n",
       "        7.62024746e+00,  7.65298599e+00,  7.68572452e+00,  7.71846306e+00,\n",
       "        7.75120159e+00,  7.78394012e+00,  7.81667865e+00,  7.84941719e+00,\n",
       "        7.88215572e+00,  7.91489425e+00,  7.94763278e+00,  7.98037132e+00,\n",
       "        8.01310985e+00,  8.04584838e+00,  8.07858691e+00,  8.11132544e+00,\n",
       "        8.14406398e+00,  8.17680251e+00,  8.20954104e+00,  8.24227957e+00,\n",
       "        8.27501811e+00,  8.30775664e+00,  8.34049517e+00,  8.37323370e+00,\n",
       "        8.40597224e+00,  8.43871077e+00,  8.47144930e+00,  8.50418783e+00,\n",
       "        8.53692637e+00,  8.56966490e+00,  8.60240343e+00,  8.63514196e+00,\n",
       "        8.66788050e+00,  8.70061903e+00,  8.73335756e+00,  8.76609609e+00,\n",
       "        8.79883462e+00,  8.83157316e+00,  8.86431169e+00,  8.89705022e+00,\n",
       "        8.92978875e+00,  8.96252729e+00,  8.99526582e+00,  9.02800435e+00,\n",
       "        9.06074288e+00,  9.09348142e+00,  9.12621995e+00,  9.15895848e+00,\n",
       "        9.19169701e+00,  9.22443555e+00,  9.25717408e+00,  9.28991261e+00,\n",
       "        9.32265114e+00,  9.35538967e+00,  9.38812821e+00,  9.42086674e+00,\n",
       "        9.45360527e+00,  9.48634380e+00,  9.51908234e+00,  9.55182087e+00,\n",
       "        9.58455940e+00,  9.61729793e+00,  9.65003647e+00,  9.68277500e+00,\n",
       "        9.71551353e+00,  9.74825206e+00,  9.78099060e+00,  9.81372913e+00,\n",
       "        9.84646766e+00,  9.87920619e+00,  9.91194473e+00,  9.94468326e+00,\n",
       "        9.97742179e+00,  1.00101603e+01,  1.00428989e+01,  1.00756374e+01,\n",
       "        1.01083759e+01,  1.01411145e+01,  1.01738530e+01,  1.02065915e+01,\n",
       "        1.02393300e+01,  1.02720686e+01,  1.03048071e+01,  1.03375456e+01,\n",
       "        1.03702842e+01,  1.04030227e+01,  1.04357612e+01,  1.04684998e+01,\n",
       "        1.05012383e+01,  1.05339768e+01,  1.05667154e+01,  1.05994539e+01,\n",
       "        1.06321924e+01,  1.06649310e+01,  1.06976695e+01,  1.07304080e+01,\n",
       "        1.07631466e+01,  1.07958851e+01,  1.08286236e+01,  1.08613622e+01,\n",
       "        1.08941007e+01,  1.09268392e+01,  1.09595778e+01,  1.09923163e+01,\n",
       "        1.10250548e+01,  1.10577934e+01,  1.10905319e+01,  1.11232704e+01,\n",
       "        1.11560090e+01,  1.11887475e+01,  1.12214860e+01,  1.12542246e+01,\n",
       "        1.12869631e+01,  1.13197016e+01,  1.13524401e+01,  1.13851787e+01,\n",
       "        1.14179172e+01,  1.14506557e+01,  1.14833943e+01,  1.15161328e+01,\n",
       "        1.15488713e+01,  1.15816099e+01,  1.16143484e+01,  1.16470869e+01,\n",
       "        1.16798255e+01,  1.17125640e+01,  1.17453025e+01,  1.17780411e+01,\n",
       "        1.18107796e+01,  1.18435181e+01,  1.18762567e+01,  1.19089952e+01,\n",
       "        1.19417337e+01,  1.19744723e+01,  1.20072108e+01,  1.20399493e+01,\n",
       "        1.20726879e+01,  1.21054264e+01,  1.21381649e+01,  1.21709035e+01,\n",
       "        1.22036420e+01,  1.22363805e+01,  1.22691191e+01,  1.23018576e+01,\n",
       "        1.23345961e+01,  1.23673347e+01,  1.24000732e+01,  1.24328117e+01,\n",
       "        1.24655503e+01,  1.24982888e+01,  1.25310273e+01,  1.25637658e+01,\n",
       "        1.25965044e+01,  1.26292429e+01,  1.26619814e+01,  1.26947200e+01,\n",
       "        1.27274585e+01,  1.27601970e+01,  1.27929356e+01,  1.28256741e+01,\n",
       "        1.28584126e+01,  1.28911512e+01,  1.29238897e+01,  1.29566282e+01,\n",
       "        1.29893668e+01,  1.30221053e+01,  1.30548438e+01,  1.30875824e+01,\n",
       "        1.31203209e+01,  1.31530594e+01,  1.31857980e+01,  1.32185365e+01])"
      ]
     },
     "execution_count": 88,
     "metadata": {},
     "output_type": "execute_result"
    }
   ],
   "source": [
    "model.predict(x.reshape(-1, 1))"
   ]
  },
  {
   "cell_type": "markdown",
   "id": "7faafd35-af7a-4c5f-bc34-d5fb6c149ea5",
   "metadata": {},
   "source": [
    "Това е най-важното в Машийн лърнинг - моделиране на данни:\n",
    "- предположения\n",
    "- модел\n",
    "- оценка на този модел\n",
    "- резултат\n",
    "- подобряване"
   ]
  },
  {
   "cell_type": "markdown",
   "id": "b2079489-93a1-4d26-bfe9-0392275fa5f4",
   "metadata": {},
   "source": [
    "Сега ще направим класификация на 2 класа - клас 0 и клас 1. \n",
    "\n",
    "### Логистична функция (Logistic Regression)"
   ]
  },
  {
   "cell_type": "code",
   "execution_count": 89,
   "id": "8deb0d01-f19e-481d-abd6-8420e7d7839a",
   "metadata": {},
   "outputs": [],
   "source": [
    "def sigmoid(x):\n",
    "    return 1 / (1 + np.exp(-x))"
   ]
  },
  {
   "cell_type": "code",
   "execution_count": 91,
   "id": "38a6113f-50f8-4df8-9cdc-8d6149c08df7",
   "metadata": {},
   "outputs": [],
   "source": [
    "y = sigmoid(a * x + b)"
   ]
  },
  {
   "cell_type": "code",
   "execution_count": 104,
   "id": "50ca6296-6767-4b48-ae67-1e39cf0d3e03",
   "metadata": {},
   "outputs": [],
   "source": [
    "x = np.linspace(-5, 5, 20)\n",
    "y = (x >= 3).astype(int)"
   ]
  },
  {
   "cell_type": "code",
   "execution_count": 100,
   "id": "75fdba4b-c804-4493-b4be-cdd98dbbf974",
   "metadata": {},
   "outputs": [
    {
     "data": {
      "text/plain": [
       "array([0, 0, 0, 0, 0, 0, 0, 0, 0, 0, 0, 0, 0, 0, 0, 0, 1, 1, 1, 1])"
      ]
     },
     "execution_count": 100,
     "metadata": {},
     "output_type": "execute_result"
    }
   ],
   "source": [
    "y"
   ]
  },
  {
   "cell_type": "code",
   "execution_count": 101,
   "id": "f9f77c37-f305-4771-b11b-1efeea204ff4",
   "metadata": {},
   "outputs": [],
   "source": [
    "y_noise = np.random.normal(0, 0.1, len(x))"
   ]
  },
  {
   "cell_type": "code",
   "execution_count": 96,
   "id": "93cabb0c-cfec-4b77-9a54-0818d54447a5",
   "metadata": {},
   "outputs": [],
   "source": [
    "classification_model = LogisticRegression()"
   ]
  },
  {
   "cell_type": "code",
   "execution_count": 97,
   "id": "2d04d015-67c1-4d3d-9fcd-fbb253a068d4",
   "metadata": {},
   "outputs": [
    {
     "data": {
      "text/plain": [
       "LogisticRegression()"
      ]
     },
     "execution_count": 97,
     "metadata": {},
     "output_type": "execute_result"
    }
   ],
   "source": [
    "classification_model.fit(x.reshape(-1, 1), y)"
   ]
  },
  {
   "cell_type": "code",
   "execution_count": 98,
   "id": "494787ca-c3fc-4ff8-8683-2796900f739b",
   "metadata": {},
   "outputs": [
    {
     "data": {
      "text/plain": [
       "array([0, 0, 0, 0, 0, 0, 0, 0, 0, 0, 0, 0, 0, 0, 0, 0, 1, 1, 1, 1])"
      ]
     },
     "execution_count": 98,
     "metadata": {},
     "output_type": "execute_result"
    }
   ],
   "source": [
    "classification_model.predict(x.reshape(-1, 1))"
   ]
  },
  {
   "cell_type": "code",
   "execution_count": 105,
   "id": "c6203501-a599-42f4-882a-e1dceebc7a13",
   "metadata": {},
   "outputs": [
    {
     "data": {
      "text/plain": [
       "<matplotlib.collections.PathCollection at 0x1b97fe07fa0>"
      ]
     },
     "execution_count": 105,
     "metadata": {},
     "output_type": "execute_result"
    },
    {
     "data": {
      "image/png": "[encoded data removed]",
      "text/plain": [
       "<Figure size 432x288 with 1 Axes>"
      ]
     },
     "metadata": {
      "needs_background": "light"
     },
     "output_type": "display_data"
    }
   ],
   "source": [
    "plt.scatter(x, y + y_noise)"
   ]
  },
  {
   "cell_type": "code",
   "execution_count": 106,
   "id": "a25e614c-d938-4d94-b7bf-523df559fe28",
   "metadata": {},
   "outputs": [
    {
     "data": {
      "text/plain": [
       "array([[1.40495051]])"
      ]
     },
     "execution_count": 106,
     "metadata": {},
     "output_type": "execute_result"
    }
   ],
   "source": [
    "classification_model.coef_"
   ]
  },
  {
   "cell_type": "code",
   "execution_count": 107,
   "id": "d00e9adc-3e6d-4fc4-9e04-5ff5aabb66e0",
   "metadata": {},
   "outputs": [
    {
     "data": {
      "text/plain": [
       "array([-4.48884031])"
      ]
     },
     "execution_count": 107,
     "metadata": {},
     "output_type": "execute_result"
    }
   ],
   "source": [
    "classification_model.intercept_"
   ]
  },
  {
   "cell_type": "code",
   "execution_count": 109,
   "id": "10fbf3c4-b87b-462b-b399-392df3156e25",
   "metadata": {},
   "outputs": [
    {
     "data": {
      "text/plain": [
       "array([[9.99990007e-01, 9.99322839e-06],\n",
       "       [9.99979067e-01, 2.09333671e-05],\n",
       "       [9.99956150e-01, 4.38497545e-05],\n",
       "       [9.99908149e-01, 9.18510967e-05],\n",
       "       [9.99807612e-01, 1.92388321e-04],\n",
       "       [9.99597074e-01, 4.02925981e-04],\n",
       "       [9.99156332e-01, 8.43668373e-04],\n",
       "       [9.98234333e-01, 1.76566722e-03],\n",
       "       [9.96308455e-01, 3.69154525e-03],\n",
       "       [9.92298158e-01, 7.70184181e-03],\n",
       "       [9.84001249e-01, 1.59987513e-02],\n",
       "       [9.67063059e-01, 3.29369409e-02],\n",
       "       [9.33405716e-01, 6.65942835e-02],\n",
       "       [8.69979055e-01, 1.30020945e-01],\n",
       "       [7.61573562e-01, 2.38426438e-01],\n",
       "       [6.03932624e-01, 3.96067376e-01],\n",
       "       [4.21268234e-01, 5.78731766e-01],\n",
       "       [2.57879928e-01, 7.42120072e-01],\n",
       "       [1.42281971e-01, 8.57718029e-01],\n",
       "       [7.33786330e-02, 9.26621367e-01]])"
      ]
     },
     "execution_count": 109,
     "metadata": {},
     "output_type": "execute_result"
    }
   ],
   "source": [
    "classification_model.predict_proba(x.reshape(-1, 1))"
   ]
  },
  {
   "cell_type": "code",
   "execution_count": 110,
   "id": "5723914b-23b7-4fbb-be06-6d6fea6d5449",
   "metadata": {},
   "outputs": [],
   "source": [
    "predictions = classification_model.predict_proba(x.reshape(-1, 1))"
   ]
  },
  {
   "cell_type": "code",
   "execution_count": 112,
   "id": "5728ec37-10d5-47ae-b0da-85481c979b45",
   "metadata": {},
   "outputs": [
    {
     "data": {
      "text/plain": [
       "array([ 0, 19], dtype=int64)"
      ]
     },
     "execution_count": 112,
     "metadata": {},
     "output_type": "execute_result"
    }
   ],
   "source": [
    "np.argmax(predictions, axis = 0)"
   ]
  },
  {
   "cell_type": "code",
   "execution_count": 113,
   "id": "e0cc1bbb-3f32-4157-b800-7c8f84ba45e6",
   "metadata": {},
   "outputs": [
    {
     "data": {
      "text/plain": [
       "array([0, 0, 0, 0, 0, 0, 0, 0, 0, 0, 0, 0, 0, 0, 0, 0, 1, 1, 1, 1],\n",
       "      dtype=int64)"
      ]
     },
     "execution_count": 113,
     "metadata": {},
     "output_type": "execute_result"
    }
   ],
   "source": [
    "np.argmax(predictions, axis = 1)"
   ]
  }
 ],
 "metadata": {
  "kernelspec": {
   "display_name": "Python 3 (ipykernel)",
   "language": "python",
   "name": "python3"
  },
  "language_info": {
   "codemirror_mode": {
    "name": "ipython",
    "version": 3
   },
   "file_extension": ".py",
   "mimetype": "text/x-python",
   "name": "python",
   "nbconvert_exporter": "python",
   "pygments_lexer": "ipython3",
   "version": "3.9.12"
  }
 },
 "nbformat": 4,
 "nbformat_minor": 5
}
