{
 "cells": [
  {
   "cell_type": "code",
   "execution_count": 1,
   "id": "30c4ab80-68b3-46f5-9519-9d4077718abe",
   "metadata": {},
   "outputs": [],
   "source": [
    "import numpy as np\n",
    "import pandas as pd\n",
    "import matplotlib.pyplot as plt\n",
    "\n",
    "from sklearn.linear_model import LinearRegression, LogisticRegression\n",
    "\n",
    "import os"
   ]
  },
  {
   "cell_type": "markdown",
   "id": "4bba8264-f873-4fcb-94d4-5af6002e3ce8",
   "metadata": {},
   "source": [
    "# Regression Models"
   ]
  },
  {
   "cell_type": "markdown",
   "id": "e92ab9e9-bb81-4a9a-b6fc-c0d61e90d25e",
   "metadata": {},
   "source": [
    "#### Работа с голям обем данни\n",
    "\n",
    "Най-често подхода е разделяме големия файл на малки парчета. На всяко едно парче правин мякаква обработка - получаваме друго парче. И всяка една от тези части много често агрегираме по някакъв начин, много често по един запис или по няколко свързани такива. Този процес се нарича map-reduce.\n",
    "\n",
    "tensorflow: Dataset - batch, map\n",
    "\n",
    "1. Имаме един списък - например с 5 пътечки към имиджи вътре и това за разлика от изображенията е нещо, което се събира в паметта, това са стрингове).\n",
    "2. Прочитаме ги (read them).\n",
    "3. process them\n",
    "4. pass them through the model\n",
    "5. result = [\"cat\", \"tiger\", ...]\n",
    "\n",
    "Един модел, на който му се подава данни не се интересува колко данни ще получи, единствено ако е един, трябва да му подадем не един запис, едно изображение, ами списък от едно изображение. \n",
    "Това цялото нещо е начин за работа с данни, който е по-разумен и който ни позволява да сме много гъвкави.\n",
    "Ако си представим, че все един от тези редове е по една или по няколко функции, чийто резултати се предават една на друга можем да видим, че това е композиция от функции. Бихме я нарекли data pipeline.\n",
    "\n",
    "Ако използваме pytorch, той също има Dataset като има Dataset и DataLoader. Dataset ни оказва самите данни какви са и какво представляват, а DataLoader е по какъв начин да бъдат обработени-зареждани, разбърквани и т.н. В tensorflow това се прави наведнъж."
   ]
  },
  {
   "cell_type": "code",
   "execution_count": 2,
   "id": "424e0acb-5fc6-46a1-84c5-86e5d251912a",
   "metadata": {},
   "outputs": [
    {
     "data": {
      "text/plain": [
       "['african-wildcat',\n",
       " 'blackfoot-cat',\n",
       " 'chinese-mountain-cat',\n",
       " 'domestic-cat',\n",
       " 'european-wildcat',\n",
       " 'jungle-cat',\n",
       " 'sand-cat']"
      ]
     },
     "execution_count": 2,
     "metadata": {},
     "output_type": "execute_result"
    }
   ],
   "source": [
    "os.listdir(\"../04. Working with Images/cat_taxonomy\")"
   ]
  },
  {
   "cell_type": "code",
   "execution_count": 3,
   "id": "2ffe0ce8-edee-44cf-aa27-bc81768eef87",
   "metadata": {},
   "outputs": [
    {
     "data": {
      "text/plain": [
       "<generator object _walk at 0x00000187D8131A20>"
      ]
     },
     "execution_count": 3,
     "metadata": {},
     "output_type": "execute_result"
    }
   ],
   "source": [
    "os.walk(\"../04. Working with Images/cat_taxonomy\")"
   ]
  },
  {
   "cell_type": "code",
   "execution_count": 4,
   "id": "5c9216ee-da79-4f0d-b410-a43c1f4ea8ea",
   "metadata": {},
   "outputs": [
    {
     "data": {
      "text/plain": [
       "[('../04. Working with Images/cat_taxonomy',\n",
       "  ['african-wildcat',\n",
       "   'blackfoot-cat',\n",
       "   'chinese-mountain-cat',\n",
       "   'domestic-cat',\n",
       "   'european-wildcat',\n",
       "   'jungle-cat',\n",
       "   'sand-cat'],\n",
       "  []),\n",
       " ('../04. Working with Images/cat_taxonomy\\\\african-wildcat',\n",
       "  [],\n",
       "  ['af (1).jpg',\n",
       "   'af (10).jpg',\n",
       "   'af (11).jpg',\n",
       "   'af (12).jpg',\n",
       "   'af (13).jpg',\n",
       "   'af (14).jpg',\n",
       "   'af (15).jpg',\n",
       "   'af (16).jpg',\n",
       "   'af (17).jpg',\n",
       "   'af (18).jpg',\n",
       "   'af (19).jpg',\n",
       "   'af (2).jpg',\n",
       "   'af (20).jpg',\n",
       "   'af (21).jpg',\n",
       "   'af (22).jpg',\n",
       "   'af (23).jpg',\n",
       "   'af (24).jpg',\n",
       "   'af (25).jpg',\n",
       "   'af (26).jpg',\n",
       "   'af (27).jpg',\n",
       "   'af (28).jpg',\n",
       "   'af (29).jpg',\n",
       "   'af (3).jpg',\n",
       "   'af (30).jpg',\n",
       "   'af (31).jpg',\n",
       "   'af (32).jpg',\n",
       "   'af (33).jpg',\n",
       "   'af (34).jpg',\n",
       "   'af (35).jpg',\n",
       "   'af (36).jpg',\n",
       "   'af (37).jpg',\n",
       "   'af (38).jpg',\n",
       "   'af (39).jpg',\n",
       "   'af (4).jpg',\n",
       "   'af (40).jpg',\n",
       "   'af (41).jpg',\n",
       "   'af (42).jpg',\n",
       "   'af (43).jpg',\n",
       "   'af (44).jpg',\n",
       "   'af (45).jpg',\n",
       "   'af (46).jpg',\n",
       "   'af (47).jpg',\n",
       "   'af (48).jpg',\n",
       "   'af (49).jpg',\n",
       "   'af (5).jpg',\n",
       "   'af (50).jpg',\n",
       "   'af (51).jpg',\n",
       "   'af (52).jpg',\n",
       "   'af (53).jpg',\n",
       "   'af (54).jpg',\n",
       "   'af (55).jpg',\n",
       "   'af (56).jpg',\n",
       "   'af (57).jpg',\n",
       "   'af (58).jpg',\n",
       "   'af (59).jpg',\n",
       "   'af (6).jpg',\n",
       "   'af (60).jpg',\n",
       "   'af (61).jpg',\n",
       "   'af (62).jpg',\n",
       "   'af (63).jpg',\n",
       "   'af (64).jpg',\n",
       "   'af (65).jpg',\n",
       "   'af (66).jpg',\n",
       "   'af (67).jpg',\n",
       "   'af (68).jpg',\n",
       "   'af (69).jpg',\n",
       "   'af (7).jpg',\n",
       "   'af (70).jpg',\n",
       "   'af (71).jpg',\n",
       "   'af (72).jpg',\n",
       "   'af (73).jpg',\n",
       "   'af (74).jpg',\n",
       "   'af (75).jpg',\n",
       "   'af (76).jpg',\n",
       "   'af (77).jpg',\n",
       "   'af (78).jpg',\n",
       "   'af (79).jpg',\n",
       "   'af (8).jpg',\n",
       "   'af (80).jpg',\n",
       "   'af (81).jpg',\n",
       "   'af (82).jpg',\n",
       "   'af (83).jpg',\n",
       "   'af (84).jpg',\n",
       "   'af (85).jpg',\n",
       "   'af (86).jpg',\n",
       "   'af (87).jpg',\n",
       "   'af (88).jpg',\n",
       "   'af (89).jpg',\n",
       "   'af (9).jpg',\n",
       "   'af (90).jpg',\n",
       "   'af (91).jpg']),\n",
       " ('../04. Working with Images/cat_taxonomy\\\\blackfoot-cat',\n",
       "  [],\n",
       "  ['bc (1).jpg',\n",
       "   'bc (10).jpg',\n",
       "   'bc (11).jpg',\n",
       "   'bc (12).jpg',\n",
       "   'bc (13).jpg',\n",
       "   'bc (14).jpg',\n",
       "   'bc (15).jpg',\n",
       "   'bc (16).jpg',\n",
       "   'bc (17).jpg',\n",
       "   'bc (18).jpg',\n",
       "   'bc (19).jpg',\n",
       "   'bc (2).jpg',\n",
       "   'bc (20).jpg',\n",
       "   'bc (21).jpg',\n",
       "   'bc (22).jpg',\n",
       "   'bc (23).jpg',\n",
       "   'bc (24).jpg',\n",
       "   'bc (25).jpg',\n",
       "   'bc (26).jpg',\n",
       "   'bc (27).jpg',\n",
       "   'bc (28).jpg',\n",
       "   'bc (29).jpg',\n",
       "   'bc (3).jpg',\n",
       "   'bc (30).jpg',\n",
       "   'bc (31).jpg',\n",
       "   'bc (32).jpg',\n",
       "   'bc (33).jpg',\n",
       "   'bc (34).jpg',\n",
       "   'bc (35).jpg',\n",
       "   'bc (36).jpg',\n",
       "   'bc (37).jpg',\n",
       "   'bc (38).jpg',\n",
       "   'bc (39).jpg',\n",
       "   'bc (4).jpg',\n",
       "   'bc (40).jpg',\n",
       "   'bc (41).jpg',\n",
       "   'bc (42).jpg',\n",
       "   'bc (43).jpg',\n",
       "   'bc (44).jpg',\n",
       "   'bc (45).jpg',\n",
       "   'bc (46).jpg',\n",
       "   'bc (47).jpg',\n",
       "   'bc (48).jpg',\n",
       "   'bc (49).jpg',\n",
       "   'bc (5).jpg',\n",
       "   'bc (50).jpg',\n",
       "   'bc (51).jpg',\n",
       "   'bc (52).jpg',\n",
       "   'bc (53).jpg',\n",
       "   'bc (54).jpg',\n",
       "   'bc (55).jpg',\n",
       "   'bc (56).jpg',\n",
       "   'bc (57).jpg',\n",
       "   'bc (58).jpg',\n",
       "   'bc (59).jpg',\n",
       "   'bc (6).jpg',\n",
       "   'bc (60).jpg',\n",
       "   'bc (61).jpg',\n",
       "   'bc (62).jpg',\n",
       "   'bc (63).jpg',\n",
       "   'bc (64).jpg',\n",
       "   'bc (65).jpg',\n",
       "   'bc (66).jpg',\n",
       "   'bc (67).jpg',\n",
       "   'bc (68).jpg',\n",
       "   'bc (69).jpg',\n",
       "   'bc (7).jpg',\n",
       "   'bc (70).jpg',\n",
       "   'bc (71).jpg',\n",
       "   'bc (72).jpg',\n",
       "   'bc (73).jpg',\n",
       "   'bc (74).jpg',\n",
       "   'bc (75).jpg',\n",
       "   'bc (76).jpg',\n",
       "   'bc (77).jpg',\n",
       "   'bc (78).jpg',\n",
       "   'bc (79).jpg',\n",
       "   'bc (8).jpg',\n",
       "   'bc (9).jpg']),\n",
       " ('../04. Working with Images/cat_taxonomy\\\\chinese-mountain-cat',\n",
       "  [],\n",
       "  ['ch (1).jpg',\n",
       "   'ch (10).jpg',\n",
       "   'ch (11).jpg',\n",
       "   'ch (12).jpg',\n",
       "   'ch (13).jpg',\n",
       "   'ch (14).jpg',\n",
       "   'ch (15).jpg',\n",
       "   'ch (16).jpg',\n",
       "   'ch (17).jpg',\n",
       "   'ch (18).jpg',\n",
       "   'ch (19).jpg',\n",
       "   'ch (2).jpg',\n",
       "   'ch (20).jpg',\n",
       "   'ch (21).jpg',\n",
       "   'ch (22).jpg',\n",
       "   'ch (23).jpg',\n",
       "   'ch (24).jpg',\n",
       "   'ch (25).jpg',\n",
       "   'ch (26).jpg',\n",
       "   'ch (27).jpg',\n",
       "   'ch (28).jpg',\n",
       "   'ch (29).jpg',\n",
       "   'ch (3).jpg',\n",
       "   'ch (30).jpg',\n",
       "   'ch (31).jpg',\n",
       "   'ch (32).jpg',\n",
       "   'ch (33).jpg',\n",
       "   'ch (34).jpg',\n",
       "   'ch (35).jpg',\n",
       "   'ch (36).jpg',\n",
       "   'ch (37).jpg',\n",
       "   'ch (38).jpg',\n",
       "   'ch (39).jpg',\n",
       "   'ch (4).jpg',\n",
       "   'ch (40).jpg',\n",
       "   'ch (41).jpg',\n",
       "   'ch (42).jpg',\n",
       "   'ch (5).jpg',\n",
       "   'ch (6).jpg',\n",
       "   'ch (7).jpg',\n",
       "   'ch (8).jpg',\n",
       "   'ch (9).jpg']),\n",
       " ('../04. Working with Images/cat_taxonomy\\\\domestic-cat',\n",
       "  [],\n",
       "  ['dc (1).jpg',\n",
       "   'dc (10).jpg',\n",
       "   'dc (11).jpg',\n",
       "   'dc (12).jpg',\n",
       "   'dc (13).jpg',\n",
       "   'dc (14).jpg',\n",
       "   'dc (15).jpg',\n",
       "   'dc (16).jpg',\n",
       "   'dc (17).jpg',\n",
       "   'dc (18).jpg',\n",
       "   'dc (19).jpg',\n",
       "   'dc (2).jpg',\n",
       "   'dc (20).jpg',\n",
       "   'dc (21).jpg',\n",
       "   'dc (22).jpg',\n",
       "   'dc (23).jpg',\n",
       "   'dc (24).jpg',\n",
       "   'dc (25).jpg',\n",
       "   'dc (26).jpg',\n",
       "   'dc (27).jpg',\n",
       "   'dc (28).jpg',\n",
       "   'dc (29).jpg',\n",
       "   'dc (3).jpg',\n",
       "   'dc (30).jpg',\n",
       "   'dc (31).jpg',\n",
       "   'dc (32).jpg',\n",
       "   'dc (33).jpg',\n",
       "   'dc (34).jpg',\n",
       "   'dc (35).jpg',\n",
       "   'dc (36).jpg',\n",
       "   'dc (37).jpg',\n",
       "   'dc (38).jpg',\n",
       "   'dc (39).jpg',\n",
       "   'dc (4).jpg',\n",
       "   'dc (40).jpg',\n",
       "   'dc (41).jpg',\n",
       "   'dc (42).jpg',\n",
       "   'dc (43).jpg',\n",
       "   'dc (44).jpg',\n",
       "   'dc (45).jpg',\n",
       "   'dc (46).jpg',\n",
       "   'dc (47).jpg',\n",
       "   'dc (48).jpg',\n",
       "   'dc (49).jpg',\n",
       "   'dc (5).jpg',\n",
       "   'dc (50).jpg',\n",
       "   'dc (51).jpg',\n",
       "   'dc (52).jpg',\n",
       "   'dc (53).jpg',\n",
       "   'dc (54).jpg',\n",
       "   'dc (55).jpg',\n",
       "   'dc (56).jpg',\n",
       "   'dc (57).jpg',\n",
       "   'dc (58).jpg',\n",
       "   'dc (59).jpg',\n",
       "   'dc (6).jpg',\n",
       "   'dc (60).jpg',\n",
       "   'dc (61).jpg',\n",
       "   'dc (62).jpg',\n",
       "   'dc (63).jpg',\n",
       "   'dc (64).jpg',\n",
       "   'dc (7).jpg',\n",
       "   'dc (8).jpg',\n",
       "   'dc (9).jpg']),\n",
       " ('../04. Working with Images/cat_taxonomy\\\\european-wildcat',\n",
       "  [],\n",
       "  ['eu (1).jpg',\n",
       "   'eu (10).jpg',\n",
       "   'eu (11).jpg',\n",
       "   'eu (12).jpg',\n",
       "   'eu (13).jpg',\n",
       "   'eu (14).jpg',\n",
       "   'eu (15).jpg',\n",
       "   'eu (16).jpg',\n",
       "   'eu (17).jpg',\n",
       "   'eu (18).jpg',\n",
       "   'eu (19).jpg',\n",
       "   'eu (2).jpg',\n",
       "   'eu (20).jpg',\n",
       "   'eu (21).jpg',\n",
       "   'eu (22).jpg',\n",
       "   'eu (23).jpg',\n",
       "   'eu (24).jpg',\n",
       "   'eu (25).jpg',\n",
       "   'eu (26).jpg',\n",
       "   'eu (27).jpg',\n",
       "   'eu (28).jpg',\n",
       "   'eu (29).jpg',\n",
       "   'eu (3).jpg',\n",
       "   'eu (30).jpg',\n",
       "   'eu (31).jpg',\n",
       "   'eu (32).jpg',\n",
       "   'eu (33).jpg',\n",
       "   'eu (34).jpg',\n",
       "   'eu (35).jpg',\n",
       "   'eu (36).jpg',\n",
       "   'eu (37).jpg',\n",
       "   'eu (38).jpg',\n",
       "   'eu (39).jpg',\n",
       "   'eu (4).jpg',\n",
       "   'eu (40).jpg',\n",
       "   'eu (41).jpg',\n",
       "   'eu (42).jpg',\n",
       "   'eu (43).jpg',\n",
       "   'eu (44).jpg',\n",
       "   'eu (45).jpg',\n",
       "   'eu (46).jpg',\n",
       "   'eu (47).jpg',\n",
       "   'eu (48).jpg',\n",
       "   'eu (49).jpg',\n",
       "   'eu (5).jpg',\n",
       "   'eu (50).jpg',\n",
       "   'eu (51).jpg',\n",
       "   'eu (52).jpg',\n",
       "   'eu (53).jpg',\n",
       "   'eu (54).jpg',\n",
       "   'eu (55).jpg',\n",
       "   'eu (56).jpg',\n",
       "   'eu (57).jpg',\n",
       "   'eu (58).jpg',\n",
       "   'eu (59).jpg',\n",
       "   'eu (6).jpg',\n",
       "   'eu (60).jpg',\n",
       "   'eu (61).jpg',\n",
       "   'eu (62).jpg',\n",
       "   'eu (63).jpg',\n",
       "   'eu (64).jpg',\n",
       "   'eu (65).jpg',\n",
       "   'eu (66).jpg',\n",
       "   'eu (67).jpg',\n",
       "   'eu (68).jpg',\n",
       "   'eu (69).jpg',\n",
       "   'eu (7).jpg',\n",
       "   'eu (70).jpg',\n",
       "   'eu (71).jpg',\n",
       "   'eu (72).jpg',\n",
       "   'eu (73).jpg',\n",
       "   'eu (74).jpg',\n",
       "   'eu (75).jpg',\n",
       "   'eu (76).jpg',\n",
       "   'eu (77).jpg',\n",
       "   'eu (78).jpg',\n",
       "   'eu (79).jpg',\n",
       "   'eu (8).jpg',\n",
       "   'eu (80).jpg',\n",
       "   'eu (81).jpg',\n",
       "   'eu (82).jpg',\n",
       "   'eu (83).jpg',\n",
       "   'eu (84).jpg',\n",
       "   'eu (85).jpg',\n",
       "   'eu (9).jpg']),\n",
       " ('../04. Working with Images/cat_taxonomy\\\\jungle-cat',\n",
       "  [],\n",
       "  ['jg (1).jpg',\n",
       "   'jg (10).jpg',\n",
       "   'jg (11).jpg',\n",
       "   'jg (12).jpg',\n",
       "   'jg (13).jpg',\n",
       "   'jg (14).jpg',\n",
       "   'jg (15).jpg',\n",
       "   'jg (16).jpg',\n",
       "   'jg (17).jpg',\n",
       "   'jg (18).jpg',\n",
       "   'jg (19).jpg',\n",
       "   'jg (2).jpg',\n",
       "   'jg (20).jpg',\n",
       "   'jg (21).jpg',\n",
       "   'jg (22).jpg',\n",
       "   'jg (23).jpg',\n",
       "   'jg (24).jpg',\n",
       "   'jg (25).jpg',\n",
       "   'jg (26).jpg',\n",
       "   'jg (27).jpg',\n",
       "   'jg (28).jpg',\n",
       "   'jg (29).jpg',\n",
       "   'jg (3).jpg',\n",
       "   'jg (30).jpg',\n",
       "   'jg (31).jpg',\n",
       "   'jg (32).jpg',\n",
       "   'jg (33).jpg',\n",
       "   'jg (34).jpg',\n",
       "   'jg (35).jpg',\n",
       "   'jg (36).jpg',\n",
       "   'jg (37).jpg',\n",
       "   'jg (38).jpg',\n",
       "   'jg (39).jpg',\n",
       "   'jg (4).jpg',\n",
       "   'jg (40).jpg',\n",
       "   'jg (41).jpg',\n",
       "   'jg (42).jpg',\n",
       "   'jg (43).jpg',\n",
       "   'jg (44).jpg',\n",
       "   'jg (45).jpg',\n",
       "   'jg (46).jpg',\n",
       "   'jg (47).jpg',\n",
       "   'jg (48).jpg',\n",
       "   'jg (49).jpg',\n",
       "   'jg (5).jpg',\n",
       "   'jg (50).jpg',\n",
       "   'jg (51).jpg',\n",
       "   'jg (52).jpg',\n",
       "   'jg (53).jpg',\n",
       "   'jg (54).jpg',\n",
       "   'jg (55).jpg',\n",
       "   'jg (56).jpg',\n",
       "   'jg (57).jpg',\n",
       "   'jg (58).jpg',\n",
       "   'jg (59).jpg',\n",
       "   'jg (6).jpg',\n",
       "   'jg (60).jpg',\n",
       "   'jg (61).jpg',\n",
       "   'jg (62).jpg',\n",
       "   'jg (63).jpg',\n",
       "   'jg (64).jpg',\n",
       "   'jg (65).jpg',\n",
       "   'jg (66).jpg',\n",
       "   'jg (67).jpg',\n",
       "   'jg (68).jpg',\n",
       "   'jg (69).jpg',\n",
       "   'jg (7).jpg',\n",
       "   'jg (70).jpg',\n",
       "   'jg (71).jpg',\n",
       "   'jg (72).jpg',\n",
       "   'jg (73).jpg',\n",
       "   'jg (74).jpg',\n",
       "   'jg (75).jpg',\n",
       "   'jg (76).jpg',\n",
       "   'jg (77).jpg',\n",
       "   'jg (78).jpg',\n",
       "   'jg (79).jpg',\n",
       "   'jg (8).jpg',\n",
       "   'jg (80).jpg',\n",
       "   'jg (81).jpg',\n",
       "   'jg (82).jpg',\n",
       "   'jg (83).jpg',\n",
       "   'jg (84).jpg',\n",
       "   'jg (85).jpg',\n",
       "   'jg (86).jpg',\n",
       "   'jg (9).jpg']),\n",
       " ('../04. Working with Images/cat_taxonomy\\\\sand-cat',\n",
       "  [],\n",
       "  ['sd (1).jpg',\n",
       "   'sd (10).jpg',\n",
       "   'sd (11).jpg',\n",
       "   'sd (12).jpg',\n",
       "   'sd (13).jpg',\n",
       "   'sd (14).jpg',\n",
       "   'sd (15).jpg',\n",
       "   'sd (16).jpg',\n",
       "   'sd (17).jpg',\n",
       "   'sd (18).jpg',\n",
       "   'sd (19).jpg',\n",
       "   'sd (2).jpg',\n",
       "   'sd (20).jpg',\n",
       "   'sd (21).jpg',\n",
       "   'sd (22).jpg',\n",
       "   'sd (23).jpg',\n",
       "   'sd (24).jpg',\n",
       "   'sd (25).jpg',\n",
       "   'sd (26).jpg',\n",
       "   'sd (27).jpg',\n",
       "   'sd (28).jpg',\n",
       "   'sd (29).jpg',\n",
       "   'sd (3).jpg',\n",
       "   'sd (30).jpg',\n",
       "   'sd (31).jpg',\n",
       "   'sd (32).jpg',\n",
       "   'sd (33).jpg',\n",
       "   'sd (34).jpg',\n",
       "   'sd (35).jpg',\n",
       "   'sd (36).jpg',\n",
       "   'sd (37).jpg',\n",
       "   'sd (38).jpg',\n",
       "   'sd (39).jpg',\n",
       "   'sd (4).jpg',\n",
       "   'sd (40).jpg',\n",
       "   'sd (41).jpg',\n",
       "   'sd (42).jpg',\n",
       "   'sd (43).jpg',\n",
       "   'sd (44).jpg',\n",
       "   'sd (45).jpg',\n",
       "   'sd (46).jpg',\n",
       "   'sd (47).jpg',\n",
       "   'sd (48).jpg',\n",
       "   'sd (49).jpg',\n",
       "   'sd (5).jpg',\n",
       "   'sd (50).jpg',\n",
       "   'sd (51).jpg',\n",
       "   'sd (52).jpg',\n",
       "   'sd (53).jpg',\n",
       "   'sd (54).jpg',\n",
       "   'sd (55).jpg',\n",
       "   'sd (56).jpg',\n",
       "   'sd (57).jpg',\n",
       "   'sd (58).jpg',\n",
       "   'sd (59).jpg',\n",
       "   'sd (6).jpg',\n",
       "   'sd (60).jpg',\n",
       "   'sd (61).jpg',\n",
       "   'sd (62).jpg',\n",
       "   'sd (63).jpg',\n",
       "   'sd (64).jpg',\n",
       "   'sd (65).jpg',\n",
       "   'sd (66).jpg',\n",
       "   'sd (67).jpg',\n",
       "   'sd (68).jpg',\n",
       "   'sd (69).jpg',\n",
       "   'sd (7).jpg',\n",
       "   'sd (70).jpg',\n",
       "   'sd (71).jpg',\n",
       "   'sd (72).jpg',\n",
       "   'sd (8).jpg',\n",
       "   'sd (9).jpg'])]"
      ]
     },
     "execution_count": 4,
     "metadata": {},
     "output_type": "execute_result"
    }
   ],
   "source": [
    "list(os.walk(\"../04. Working with Images/cat_taxonomy\"))"
   ]
  },
  {
   "cell_type": "code",
   "execution_count": 5,
   "id": "f21e84ef-c94d-4f71-9ea4-7cd408337d34",
   "metadata": {},
   "outputs": [],
   "source": [
    "dir_name, dir_names, file_names = list(os.walk(\"../04. Working with Images/cat_taxonomy\"))[1]"
   ]
  },
  {
   "cell_type": "code",
   "execution_count": 6,
   "id": "7b50f02c-bad7-4749-a70d-1e23c2902b08",
   "metadata": {},
   "outputs": [
    {
     "data": {
      "text/plain": [
       "['af (1).jpg', 'af (10).jpg', 'af (11).jpg', 'af (12).jpg', 'af (13).jpg']"
      ]
     },
     "execution_count": 6,
     "metadata": {},
     "output_type": "execute_result"
    }
   ],
   "source": [
    "file_names[:5]"
   ]
  },
  {
   "cell_type": "markdown",
   "id": "28d4af45-9f8b-43b1-965d-5ab756dd6fa5",
   "metadata": {},
   "source": [
    "Много често когато работим с данни те са големи. Когато ще работим с невронни мрежи ще имаме голям проблем, защото ще трябва в паметта на GPU-то, на графични процесор), да съберем целия модел + данните, които му трябват в момента. Паметта на GPU-то е скъпа и много ценна, трябва да я пазим. Имаме интерес модела да заема възможно най-голяма част от нея и да оставим минимално място за други неща - възможно по-малко. Но това означава, че не можем да заредим целия dataset. Вероятно и на много голяма машина не можем да го заредим целия, дори да нямаше това ограничение."
   ]
  },
  {
   "cell_type": "markdown",
   "id": "278271b3-4bbc-42af-8c91-b3979f25a8ed",
   "metadata": {},
   "source": [
    "Сега ще видим как Data Science, работа с data pipelines, автоматизация, възпроизведимост как се съчетават с моделирането. защото окей, имаме данни - почистени, подредени - какво ще ги правим? Основното нещо, което да ги направим е да направим ментален модел на тези данни. Това върши работа. Това означава експертен анализ. Ние сме хората, които ги анализираме. Това се прави, ама е много остаряло. Експертни модели още има.\n",
    "Обаче, ако имаме много данни можем да подходим по друг начин. Можем да намерим функция, която ги описва добре и тази функция да я напишем математически, после да я прилагаме. Тази функция винаги допуска грешка. Няма нито един модел, който да е перфектен. То затовюа това е модел - не е реалността, а някакво приближение на реалността.\n",
    "\n",
    "Ще се опитаме да вземем от данните полезна информация, да игнорираме шума и да получим функция която апроксимира добре данните, т.е. като й подадем подходящия вход, ще получим изход, който е много правдоподобен.\n",
    "\n",
    "#### Задача\n",
    "Имаме много на брой данни като искаме да получим нещо полезно за тях. Само че тези данни не са дошли от нищото, някакъв процес ги е генерирал. И този процес, който ги е генерирал ние нямаме никаква видимост за него.\n",
    "Знаем, че изискването за функция е за един вход да съществува само един изход. Това в случая дори не е задължително. Имаме някакъв процес, който като получи някакви входни данни дава някакъв резултат. Много често входните данни са някаква цяла матрица(X), а резултатът много често го виждаме като един вектор, като една колона. Какво става, ако дава няколко резултата - отделни независими колони. <br/>\n",
    "Основната задача е като получим много на брой данни, много на брой променливи да дадем като резултат една колона или вектор стълб.\n",
    "\n",
    "В __X__(матрица), ако имаме размери __n__(реда) x __m__(колони), нашите данни __n__ на брой живеят в едно __m__- мерно пространство. Имаме n на брой характеристики, които се смятат за всеки един запис. И нашата работа е да направим функция, която се държи по подобен начин, която ако и подадем същия вход ще получим __prediction__ $\\hat{y}$ (y тилда) . Тилдата подсказва, че $\\hat{y}$ искаме да е подобно на $y$:  $\\hat{y} \\approx y$ . <br/>\n",
    "Искаме тази функция да дава резултати близки до реалната. <br/>\n",
    "След това можем да си играем на интерполация и екстраполация. \n",
    "\n",
    "Всеки модел върши някаква работа. Никой модел не е перфектен и всеки модел има предположение. Първото предположение е, че данните изобщо могат да бъдат моделирани. Ние ги разглеждаме като случайни събития, но тези случайни събития имат разпределения и тези променливи, които сме получили в данните (като __x__) имат някакви закономерности. Както правим в математиката, ако някъде имаме закономерност искаме да я експлоатираме по някакъв начин. Така че трябва да направим някакви предположения и след това моделът представлява опростена версия на реалността. Като проверим колко е опростена може да се окаже, че е твърде опростена и може да се окаже, че моделът може да бъде подобряван или че не може да бъде подобряван. Но тук вече идва итеративната част.\n",
    "Моделът представлява хипотеза за данните. една хипотеза не работи. Какво правим? Правим нова. Или подобряваме старата по някакъв начин.\n",
    "Проверката на хипотези означава да оценим колко добре, по какъв начин и в кои случаи работи нашият модел. Никой няма да бъде универсален, но ще трябва да видим какво работи от него и какво не работи от него. И това цялото нещо можем да го наречем машийн лърнинг. Машийн лърнинг е ситуацията в която имаме програма, която работи без да бъде програмирана експлицитно или изрично. В стандартните алгоритми имаме 1ва стъпка, 2ра стъпка, 3та стъпка, 4та и т.н., нямат нужда от данни, прилагаме само една рецепта. Прилагаме тази рецепта и получаваме резултат, който е винаги един и същи. Тук е точно наобратно - имаме данни, имаме някаква идея как се готви, т.е. имаме алгоритъм който е готов, готови примитиви, готови наивни блокове, но цялото нещо което правим зависи от данните. Машийн лърнинг алгоритъм без данни не представлява нищо. Когато получи данни и се обучи с тях той става техен модел.\n",
    "Друга част от работата е когато получим някакъв алгоритъм да го оценим колко е добър, тъй като самите модели вече са написани(няма нужда да откриваме топлата вода 😄️). Анализа на резултатите е нещо тривиално и голяма част от Data science съществува заради тази оценка на алгоритми. <br/>\n",
    "Много често имаме помощни алгоритми, най-често свързани с оценяването на моделите."
   ]
  },
  {
   "cell_type": "markdown",
   "id": "c35d7e5a-602f-4383-93bd-ec3ac7a4ea32",
   "metadata": {},
   "source": [
    "### Има няколко основни вида моделиране:\n",
    "\n",
    "- supervised learning (контролирано обучение) - имаме данни и резултати, които да очакваме. Обучение, в което казваме вземи тези входни данни, за тях аз съм получил този изход $X, y$. $y$ се нарича ground truth. Направи всичко възможно да ги наподобиш\n",
    "- unsupervised learning (неконтролирано обучение) - имаме само данни, нямаме очакван резултат. Ние ще получим някакъв резултат, но няма да можем по различни причини да го сравним с нещо очаквано. <br/>\n",
    "И двата модела имат някакви предположения (assumptions)\n",
    "- reinforcement learning - може да бъде какъвто и да е - можем да имаме само входни данни $X$ , може да имаме $X, y$ , това няма много голямо значение. Основното нещо е, че алгоритъмът работейки променя средата си.\n",
    "\n",
    "Supervised learning е най-разпространената част и тази към която се опитваме да докараме бизнес задачите ни.\n",
    "тя може да бъде основно 2 вида:\n",
    " 1. Регресия и\n",
    " 2. Класификация\n",
    "\n",
    "Разликата е в това, което имаме като резултат.\n",
    "Регресията предсказва непрекъснати величини, т.е. $y$ e непрекъсната величина.\n",
    "Класификацията предсказва категорийна променлива. И цялата работа с обучението, ако е добре направена работи. Така работят най-простите модели и най-големите невронни мрежи. Дори и най-дълбоките и най-сложни невронни мрежи в основата си правят линейни операции. Когато чуем линейно ние се радваме. Когато чуем линейно значи е относително просто."
   ]
  },
  {
   "cell_type": "markdown",
   "id": "759bb1ec-cb23-42ae-95cf-ce28752da792",
   "metadata": {},
   "source": [
    "### Линейна регресия\n",
    "\n",
    "Имаме регресия, т.е. ще предсказваме променлива, която не непрекъсната и ще бъде линейна. Ще трябва веднага да направим предположението, че данните имат някаква форма и тази форма е права линия.\n",
    "Много често се случва да вземем случаен процес, който не може да бъде моделиран и да се опитваме да го моделираме. Добър пример са някои финансови анализи или процес, който има твърде много външни данни. Какво означава вероятности? Може да са просто данни, които ние нямаме или на които не сме обърнали внимание. И тук ще предположим, че $\\hat{y}$ не е просто функция на $x$ , ами е линейна функция на $x$ : $\\hat{y} = a x + b$ .\n",
    "Трябва да си направим данните - за да си ги направим трябва да знаем, че в реалния свят винаги има някакви неточности. Тези неточности могат да бъдат по много причини: могат да бъдат грешки (Statistical error - чисто случайни фактори и bias. В машийн лърнинг се наричат variance и bias.)\n",
    "Качеството на модела много силно зависи от човекът, който работи с данните, трябва добре да ги познаваме. Защото моделът винаги дава някакъв резултат обаче garbage in, garbage out. Ако това, което сме подали като данни е garbage ще получим още по-голям garbage на изхода.\n"
   ]
  },
  {
   "cell_type": "markdown",
   "id": "df4f0c98-991a-42c3-9157-02e850057171",
   "metadata": {},
   "source": [
    "За да можем да покажем примери трябва да си генерираме данни."
   ]
  },
  {
   "cell_type": "code",
   "execution_count": 7,
   "id": "a4e64877-a603-422b-854a-d8c3c2d485a2",
   "metadata": {},
   "outputs": [],
   "source": [
    "x = np.linspace(-3, 5, 10)  # от -3 до 5, 10 на брой точки\n",
    "y = 2 * x + 3"
   ]
  },
  {
   "cell_type": "code",
   "execution_count": 8,
   "id": "37497e6e-9cfc-4ada-9251-d675d14cf330",
   "metadata": {},
   "outputs": [
    {
     "data": {
      "text/plain": [
       "array([-3.        , -2.11111111, -1.22222222, -0.33333333,  0.55555556,\n",
       "        1.44444444,  2.33333333,  3.22222222,  4.11111111,  5.        ])"
      ]
     },
     "execution_count": 8,
     "metadata": {},
     "output_type": "execute_result"
    }
   ],
   "source": [
    "x"
   ]
  },
  {
   "cell_type": "code",
   "execution_count": 9,
   "id": "191fd3d4-99eb-4e52-b0c1-73b1c5334db7",
   "metadata": {},
   "outputs": [
    {
     "data": {
      "text/plain": [
       "array([-3.        , -1.22222222,  0.55555556,  2.33333333,  4.11111111,\n",
       "        5.88888889,  7.66666667,  9.44444444, 11.22222222, 13.        ])"
      ]
     },
     "execution_count": 9,
     "metadata": {},
     "output_type": "execute_result"
    }
   ],
   "source": [
    "y"
   ]
  },
  {
   "cell_type": "markdown",
   "id": "dfcd326e-8bfd-494f-955e-7b04ff0fbd11",
   "metadata": {},
   "source": [
    "Ако кежем, че $y$ е функция на $x$ , то това означава че можем да ги плотнем. Това беше графичният вид на една функция."
   ]
  },
  {
   "cell_type": "code",
   "execution_count": 10,
   "id": "5f0ec4c5-02fe-4214-a813-f749139dc7c5",
   "metadata": {},
   "outputs": [
    {
     "data": {
      "image/png": "[encoded data removed]",
      "text/plain": [
       "<Figure size 640x480 with 1 Axes>"
      ]
     },
     "metadata": {},
     "output_type": "display_data"
    }
   ],
   "source": [
    "# plt.plot(x, y) # Това е моделът за данните\n",
    "plt.scatter(x, y, color=\"red\")  # Това са данните\n",
    "\n",
    "plt.xlabel(\"x\")\n",
    "plt.ylabel(\"y\")\n",
    "\n",
    "plt.show()"
   ]
  },
  {
   "cell_type": "markdown",
   "id": "f2f9301d-1593-4088-9ee9-135240d068d3",
   "metadata": {},
   "source": [
    "Ето един дейтасет с 10 на брой точки."
   ]
  },
  {
   "cell_type": "code",
   "execution_count": 11,
   "id": "60553e5f-b387-457c-a55c-381d8185eeeb",
   "metadata": {},
   "outputs": [
    {
     "data": {
      "image/png": "[encoded data removed]",
      "text/plain": [
       "<Figure size 640x480 with 1 Axes>"
      ]
     },
     "metadata": {},
     "output_type": "display_data"
    }
   ],
   "source": [
    "x = np.linspace(-3, 5, 500)\n",
    "y = 2 * x + 3\n",
    "\n",
    "plt.scatter(x, y, color=\"red\", s = 0.1) \n",
    "\n",
    "plt.xlabel(\"x\")\n",
    "plt.ylabel(\"y\")\n",
    "\n",
    "plt.show()"
   ]
  },
  {
   "cell_type": "markdown",
   "id": "f8c711f6-9799-4ecc-81e9-2b06d9fd2416",
   "metadata": {},
   "source": [
    "Към всяка една от тези точки имаме някаква неопределеност. И тази неопределеност е една случайна променлива. Ние не се интересуваме от нея, но в случая трябва да я добавим някак си. Към нея можем да сложим всяко нещо, което не ни е интересно за модела. Казваме, че това е случаен шум. Искаме полезното нещо да го вземем, а шумът да го игнорираме. Шум е друго име за случайна променлива."
   ]
  },
  {
   "cell_type": "markdown",
   "id": "d693ecac-2fc0-43ab-bca4-6cfb081842cc",
   "metadata": {},
   "source": [
    "Нека създадем шум, който да добавим към плота:"
   ]
  },
  {
   "cell_type": "code",
   "execution_count": 12,
   "id": "d4568993-2854-4f17-b0f4-d946809a8954",
   "metadata": {},
   "outputs": [],
   "source": [
    "y_noise = np.random.normal(loc = 0, scale = 1, size = len(x)) # средното на този шум ще бъде 0, стандартното отклонение ще бъде 1 и size колкото е дължината на x, за да може да направи за всяко едно"
   ]
  },
  {
   "cell_type": "code",
   "execution_count": 13,
   "id": "be7b0a76-da65-47d1-87b7-6f97b4dae81a",
   "metadata": {},
   "outputs": [
    {
     "data": {
      "text/plain": [
       "array([-1.72833173e+00, -2.93430581e-02, -3.19474182e-01,  3.43664953e-01,\n",
       "        9.33573398e-02,  7.46618070e-01,  2.12668869e+00,  2.20729424e+00,\n",
       "       -3.04221150e-01,  2.92096744e-01,  7.29007326e-01,  1.45615113e+00,\n",
       "        9.36916934e-01, -5.28669807e-01, -6.20107231e-01, -1.52994105e-01,\n",
       "       -2.00604903e+00, -1.56123519e-01,  1.46975319e-01, -3.79392268e-01,\n",
       "       -5.33643273e-01,  1.89496115e+00, -9.62150230e-01,  1.63012356e+00,\n",
       "       -4.74073836e-01, -8.91294543e-01,  1.19507806e+00, -8.01706262e-01,\n",
       "       -3.37785138e-01, -2.79119115e-01, -4.16385736e-01, -1.94428270e+00,\n",
       "        2.38255463e-01,  6.08206937e-01, -4.50644286e-01,  2.28773220e+00,\n",
       "        1.38717173e+00,  2.16661781e+00,  1.97244851e+00, -7.07087941e-03,\n",
       "       -1.33194880e+00, -7.82193976e-01,  1.30559377e+00, -1.14025959e+00,\n",
       "       -2.04474692e+00,  3.00470449e-01, -4.12667140e-01,  2.13979316e+00,\n",
       "       -4.67640811e-01,  1.39463071e-02,  4.52511055e-01, -7.24712066e-01,\n",
       "       -9.95426393e-02,  4.30161800e-01, -1.53261200e+00, -8.21608936e-01,\n",
       "       -9.67861198e-01, -1.50327098e+00,  2.86864761e-01,  1.06638074e+00,\n",
       "        7.39807391e-01, -8.49421588e-01, -1.96419554e-01, -7.28575676e-02,\n",
       "       -4.95457880e-01, -1.07116006e+00,  5.72588433e-01,  3.28787064e+00,\n",
       "       -6.12235969e-01, -2.01824570e-01,  5.15807545e-01,  2.59285320e-01,\n",
       "        7.37804355e-01, -1.57620922e-02,  1.26514301e+00, -2.44433405e-01,\n",
       "       -3.21900886e-01, -4.73337799e-01,  6.30092057e-01,  4.18307050e-01,\n",
       "       -8.55608590e-01, -7.29229577e-01,  1.32964419e+00,  1.17559033e-01,\n",
       "        4.06277820e-01, -5.51944237e-02, -1.28710523e+00,  1.30344668e+00,\n",
       "        2.91160688e-01,  8.79158280e-01,  2.92724952e-01,  6.95268119e-01,\n",
       "       -4.46906496e-01, -4.63542373e-02, -9.70995394e-02, -1.21291947e+00,\n",
       "        4.60378896e-01,  8.07190884e-02,  1.71577752e+00,  1.08418967e+00,\n",
       "        9.77765514e-01, -8.00874609e-01, -1.35616231e+00,  2.91171477e-01,\n",
       "        2.09042748e+00,  1.06548527e+00,  1.17835227e-01,  2.29222026e-01,\n",
       "       -3.76672730e-01, -1.40429893e+00,  4.76275166e-01, -8.19421236e-01,\n",
       "       -1.12611682e+00,  3.54972450e-01,  7.77134884e-01, -1.27601334e+00,\n",
       "       -1.00485535e-01, -1.67714840e-01, -7.63686353e-01,  1.29707448e+00,\n",
       "       -1.77392267e+00,  9.83156117e-01, -7.63776196e-01, -5.95513565e-01,\n",
       "        2.42544992e-01,  4.23161354e-01,  9.82484106e-01,  5.37758695e-01,\n",
       "        6.98400357e-01,  4.09867587e-02, -1.17709793e+00,  2.18491165e+00,\n",
       "        1.33508416e+00,  4.90062833e-01, -5.91846418e-01, -5.59412331e-01,\n",
       "       -8.04329989e-01, -1.84418494e-01,  3.52006037e-02, -8.90109187e-01,\n",
       "       -1.19931451e+00,  2.71859090e-01, -1.13089335e+00, -5.95087214e-01,\n",
       "       -1.58949980e+00, -2.03152812e-01, -9.81780766e-01,  1.26682313e+00,\n",
       "       -1.10711132e+00, -1.11772555e+00, -5.87711373e-01, -4.19268563e-01,\n",
       "        8.55479250e-01,  1.41044098e+00,  2.22312792e+00,  3.12833137e+00,\n",
       "       -9.66770567e-01,  6.00509654e-02, -7.48165426e-01, -4.70999257e-01,\n",
       "        6.02482254e-01, -5.14045239e-01,  5.69284035e-01, -1.73552413e+00,\n",
       "       -1.16671207e+00, -9.57412001e-01, -2.97637925e-01,  2.39969031e-01,\n",
       "       -6.69931340e-01,  1.01801741e+00, -7.66917995e-01, -3.18019127e-01,\n",
       "       -8.00999953e-01, -4.96814980e-02,  1.62829210e+00, -1.05488332e+00,\n",
       "        8.36872035e-02, -2.77208334e-01,  8.02514725e-02, -8.87609085e-01,\n",
       "       -2.39080925e+00, -4.00968557e-01, -1.80736405e+00, -2.47044859e-01,\n",
       "       -7.80882309e-01, -3.15761664e-01,  2.14315713e+00,  5.64926599e-01,\n",
       "       -1.36127377e-02,  1.52040561e+00,  4.99302316e-01,  5.09249286e-01,\n",
       "        1.40213495e+00, -1.42305901e-01, -1.89488487e+00,  5.19576234e-01,\n",
       "       -4.97756170e-01,  1.14207316e+00, -6.37085648e-01,  3.50356886e-01,\n",
       "        4.51615419e-01, -1.36368979e+00,  2.19959196e+00, -6.74784159e-01,\n",
       "        6.16267303e-01, -1.78022695e-01,  8.71484996e-01,  4.48425239e-01,\n",
       "        1.44718342e+00,  6.66560561e-01,  1.94725704e+00, -5.70834701e-01,\n",
       "       -1.01882772e+00,  1.36614211e+00,  8.31543928e-01,  5.95517551e-01,\n",
       "       -6.78108722e-01,  5.20470545e-01,  4.19096247e-01,  1.28048504e-01,\n",
       "        4.64580030e-01, -6.55931705e-01,  1.13524513e+00, -4.54541526e-01,\n",
       "       -9.65610036e-01, -1.45001575e+00,  1.22321405e+00,  1.54358265e+00,\n",
       "       -8.32161783e-01,  5.73176017e-01, -6.77174452e-01, -2.52189218e+00,\n",
       "        2.23726395e+00,  7.27509020e-01, -1.57527469e-01,  8.62717138e-01,\n",
       "        1.15325507e-01,  1.75003535e+00,  2.28963389e+00, -5.53056902e-01,\n",
       "        4.27798905e-01,  2.55553500e-02, -1.12734166e+00, -7.78123244e-01,\n",
       "        2.25907853e+00, -7.52092913e-01,  7.08395286e-01,  1.78802674e+00,\n",
       "        6.07183350e-02, -5.11709883e-02,  4.57971963e-01, -7.57658574e-01,\n",
       "       -6.66574311e-02, -1.33274395e+00, -3.02774121e-01, -1.50349400e+00,\n",
       "       -1.37122948e+00, -1.08912780e+00, -6.80375111e-01,  1.15465965e-01,\n",
       "       -2.93462707e-02, -4.99440710e-01,  1.66447761e+00, -6.23952277e-01,\n",
       "       -6.33000809e-01,  1.81723451e+00, -1.49561571e+00, -8.95573145e-01,\n",
       "        1.18130436e+00,  6.82519776e-01,  2.15651687e-01, -8.51555191e-01,\n",
       "        1.30491938e+00,  3.09603076e-01, -5.60630779e-01,  1.44891249e+00,\n",
       "        6.07908654e-01, -2.63275353e-01, -4.94799413e-01, -4.63450585e-01,\n",
       "       -5.86741123e-01, -3.28330914e-01, -1.46939009e+00, -2.99859013e-01,\n",
       "        1.11786801e-01,  1.12930543e+00, -1.48050371e+00,  8.76911727e-01,\n",
       "        2.42943484e-01, -9.91549960e-01,  3.82844066e-01, -1.64088882e+00,\n",
       "        1.26977959e+00, -7.73452193e-01, -5.08319492e-01,  6.97394993e-01,\n",
       "        1.48370794e+00, -2.20052785e-01, -7.90202505e-01, -9.41430275e-01,\n",
       "        2.21721072e+00,  1.22516431e+00, -6.94488494e-01, -4.16960291e-02,\n",
       "       -1.30044827e+00, -1.09341542e+00,  9.87386595e-01,  7.82750010e-01,\n",
       "        1.15657890e-02, -4.96324117e-02,  7.64686494e-01,  7.84852855e-01,\n",
       "        1.00707955e+00, -9.80702351e-01,  8.81287615e-01,  6.52100001e-01,\n",
       "       -1.52823361e+00,  1.19926687e+00, -2.34271528e+00,  3.51955351e-01,\n",
       "        1.07568651e-01,  5.46334365e-02, -1.63630289e-01, -5.09141971e-01,\n",
       "        1.05325432e+00,  1.96576969e+00, -3.23509758e-01,  8.82933760e-01,\n",
       "        1.94645763e-01, -3.32302631e-01,  1.87985898e-02,  2.03804350e-01,\n",
       "        9.73984126e-01,  4.47619687e-01, -1.22400592e+00,  9.43547895e-01,\n",
       "        1.41975774e+00,  1.40967501e+00,  4.54772503e-01,  1.10961690e+00,\n",
       "       -9.70997284e-01,  2.30912945e-01,  1.16968505e-01, -1.56001401e-01,\n",
       "       -2.20409354e-01,  4.31216016e-01,  1.30122241e+00,  5.80802064e-01,\n",
       "       -1.06141185e+00,  2.04610360e-01, -4.80289871e-01,  2.49220837e+00,\n",
       "        3.96024161e-01, -8.32736276e-01, -1.93944308e-01,  2.77215255e-01,\n",
       "       -5.97435664e-01,  1.10878351e+00, -1.27335738e+00, -4.57978392e-01,\n",
       "       -4.12015836e-01, -9.70526526e-01, -8.09791358e-01, -1.55189642e+00,\n",
       "       -1.05508684e+00, -9.02268573e-01, -7.49602481e-01,  1.53904743e+00,\n",
       "       -2.20967275e+00, -1.01391664e+00, -1.12882226e+00, -4.85388126e-01,\n",
       "       -6.83313825e-01,  8.10196004e-01, -6.40760871e-01, -4.81576514e-01,\n",
       "       -6.43127209e-01,  3.43748443e-01,  1.13645096e+00, -2.01906169e-02,\n",
       "        1.18551651e-01, -2.28238408e-01,  1.21870319e+00,  8.40715652e-01,\n",
       "       -1.90249049e-01,  1.47236972e+00,  1.85392120e+00, -5.42731924e-01,\n",
       "        1.42326767e+00,  7.19333773e-01, -1.28735630e+00, -1.01352483e+00,\n",
       "        8.68622789e-01, -1.81943859e+00,  8.96249185e-02, -3.25572165e-01,\n",
       "       -1.54168758e+00, -1.22277297e-01,  5.59747137e-01,  6.22192091e-01,\n",
       "        5.91290609e-01,  1.58601944e+00, -1.23183198e+00,  4.95225829e-01,\n",
       "       -6.47264831e-01, -2.19235901e+00, -1.30443258e-01,  7.12382112e-01,\n",
       "        1.74909120e+00,  5.82898191e-01,  1.03616376e+00,  1.30612361e-01,\n",
       "        5.97143577e-01, -1.23381568e+00, -4.15753190e-01,  2.16300374e-01,\n",
       "       -6.57170477e-02, -9.28602732e-01,  5.26537199e-01, -8.67520689e-01,\n",
       "       -5.55483667e-01,  4.98041395e-01,  1.17444169e+00, -9.01762766e-01,\n",
       "       -5.82986364e-01,  6.31564472e-01,  9.53983553e-01, -2.44754198e-03,\n",
       "        3.13844636e-01,  5.05594573e-01,  3.67538457e-01,  1.36168860e+00,\n",
       "       -4.05681405e-01,  1.42321998e+00, -3.04741958e-01,  6.99269233e-01,\n",
       "        5.37100910e-01, -4.68438150e-01, -1.21493328e+00, -2.50289331e+00,\n",
       "        1.93639216e+00,  8.95469686e-01,  1.51802289e-01, -7.27728455e-01,\n",
       "        9.70603673e-02, -1.42272408e+00, -5.50784325e-01, -1.65502454e-01,\n",
       "       -1.69905290e-01,  8.48806049e-01, -4.90281572e-01, -4.40094919e-01,\n",
       "       -1.52259823e-01,  1.59283351e-01, -5.35220339e-01,  2.51251625e-01,\n",
       "        7.65154119e-01,  4.91412409e-01, -3.55510469e-01,  2.56949052e-01,\n",
       "       -1.88410904e+00,  1.62228066e+00, -3.63935923e-01,  3.99006615e-01,\n",
       "       -1.56798359e+00,  2.16672863e+00, -1.94151722e-01,  3.90438051e-01,\n",
       "       -1.22558006e+00,  4.33204479e-01,  9.57561119e-01, -8.67815361e-01,\n",
       "       -1.42119509e+00, -3.61204103e-01,  9.86716571e-01, -1.36663615e+00,\n",
       "       -1.57526339e+00,  3.71407140e-01, -3.35230957e+00,  1.46173477e-01,\n",
       "        2.78486164e-01,  1.48617052e+00, -3.97861154e-01,  8.84437475e-01,\n",
       "       -6.72206535e-01, -6.41326842e-02, -1.52179192e+00,  3.34774017e-02,\n",
       "       -1.84566308e+00, -9.26003637e-01, -2.90654863e-01,  1.07759546e-01,\n",
       "       -1.11943312e+00,  1.88635287e-02,  3.99061303e-01,  1.82772452e-02,\n",
       "       -7.69933885e-01, -5.60071895e-01,  6.69406347e-01,  6.35379124e-01])"
      ]
     },
     "execution_count": 13,
     "metadata": {},
     "output_type": "execute_result"
    }
   ],
   "source": [
    "y_noise"
   ]
  },
  {
   "cell_type": "code",
   "execution_count": 14,
   "id": "e167787d-29fb-4982-9fc2-b074c9395586",
   "metadata": {},
   "outputs": [],
   "source": [
    "y_result = y + y_noise"
   ]
  },
  {
   "cell_type": "code",
   "execution_count": 15,
   "id": "d0b99112-4e36-45b6-86da-aad30c40d3e5",
   "metadata": {},
   "outputs": [
    {
     "data": {
      "text/plain": [
       "array([-4.72833173e+00, -2.99727893e+00, -3.25534593e+00, -2.56014266e+00,\n",
       "       -2.77838615e+00, -2.09306129e+00, -6.80926542e-01, -5.68256866e-01,\n",
       "       -3.04770812e+00, -2.41932610e+00, -1.95035139e+00, -1.19114346e+00,\n",
       "       -1.67831353e+00, -3.11183614e+00, -3.17120944e+00, -2.67203218e+00,\n",
       "       -4.49302298e+00, -2.61103334e+00, -2.27587037e+00, -2.77017383e+00,\n",
       "       -2.89236071e+00, -4.31692158e-01, -3.25673941e+00, -6.32401492e-01,\n",
       "       -2.70453476e+00, -3.08969134e+00, -9.71254609e-01, -2.93597480e+00,\n",
       "       -2.43998955e+00, -2.34925940e+00, -2.45446189e+00, -3.95029472e+00,\n",
       "       -1.73569243e+00, -1.33367683e+00, -2.36046393e+00,  4.09976687e-01,\n",
       "       -4.58519651e-01,  3.52990551e-01,  1.90885381e-01, -1.75656988e+00,\n",
       "       -3.04938367e+00, -2.46756472e+00, -3.47712845e-01, -2.76150207e+00,\n",
       "       -3.63392527e+00, -1.25664378e+00, -1.93771724e+00,  6.46807188e-01,\n",
       "       -1.92856265e+00, -1.41491141e+00, -9.44282532e-01, -2.08944153e+00,\n",
       "       -1.43220797e+00, -8.70439402e-01, -2.80114908e+00, -2.05808188e+00,\n",
       "       -2.17227002e+00, -2.67561567e+00, -8.53415800e-01, -4.18356909e-02,\n",
       "       -3.36344914e-01, -1.89350976e+00, -1.20844360e+00, -1.05281749e+00,\n",
       "       -1.44335367e+00, -1.98699173e+00, -3.11179102e-01,  2.43616724e+00,\n",
       "       -1.43187525e+00, -9.89399720e-01, -2.39703477e-01, -4.64161573e-01,\n",
       "        4.64215892e-02, -6.75080730e-01,  6.37888498e-01, -8.39623786e-01,\n",
       "       -8.85027138e-01, -1.00439992e+00,  1.31094061e-01, -4.86268173e-02,\n",
       "       -1.29047833e+00, -1.13203519e+00,  9.58902710e-01, -2.21118322e-01,\n",
       "        9.96645934e-02, -3.29743522e-01, -1.52959020e+00,  1.09302584e+00,\n",
       "        1.12803975e-01,  7.32865695e-01,  1.78496495e-01,  6.13103791e-01,\n",
       "       -4.97006696e-01, -6.43903095e-02, -8.30714832e-02, -1.16682728e+00,\n",
       "        5.38535209e-01,  1.90939529e-01,  1.85806209e+00,  1.25853837e+00,\n",
       "        1.18417834e+00, -5.62397655e-01, -1.08562123e+00,  5.93776688e-01,\n",
       "        2.42509682e+00,  1.43221874e+00,  5.16632822e-01,  6.60083749e-01,\n",
       "        8.62531216e-02, -9.09308951e-01,  1.00332927e+00, -2.60302999e-01,\n",
       "       -5.34934454e-01,  9.78218943e-01,  1.43244551e+00, -5.88638588e-01,\n",
       "        6.18953342e-01,  5.83788166e-01,  1.98807813e-02,  2.11270575e+00,\n",
       "       -9.26227281e-01,  1.86291564e+00,  1.48047451e-01,  3.48374211e-01,\n",
       "        1.21849690e+00,  1.43117739e+00,  2.02256427e+00,  1.60990298e+00,\n",
       "        1.80260877e+00,  1.17725930e+00, -8.76126164e-03,  3.38531246e+00,\n",
       "        2.56754909e+00,  1.75459189e+00,  7.04746768e-01,  7.69244984e-01,\n",
       "        5.56391454e-01,  1.20836708e+00,  1.46005030e+00,  5.66804641e-01,\n",
       "        2.89663450e-01,  1.79290117e+00,  4.22212866e-01,  9.90083127e-01,\n",
       "        2.77346705e-02,  1.44614579e+00,  6.99581959e-01,  2.98024999e+00,\n",
       "        6.38379665e-01,  6.59829559e-01,  1.22190787e+00,  1.42241480e+00,\n",
       "        2.72922674e+00,  3.31625261e+00,  4.16100368e+00,  5.09827125e+00,\n",
       "        1.03523344e+00,  2.09411910e+00,  1.31796684e+00,  1.62719714e+00,\n",
       "        2.73274277e+00,  1.64827941e+00,  2.76367281e+00,  4.90928779e-01,\n",
       "        1.09180496e+00,  1.33316916e+00,  2.02500737e+00,  2.59467845e+00,\n",
       "        1.71684221e+00,  3.43685508e+00,  1.68398381e+00,  2.16494681e+00,\n",
       "        1.71403011e+00,  2.49741269e+00,  4.20745042e+00,  1.55633912e+00,\n",
       "        2.72697378e+00,  2.39814237e+00,  2.78766630e+00,  1.85186987e+00,\n",
       "        3.80733836e-01,  2.40263866e+00,  1.02830729e+00,  2.62069061e+00,\n",
       "        2.11891729e+00,  2.61610206e+00,  5.10708498e+00,  3.56091858e+00,\n",
       "        3.01444337e+00,  4.58052585e+00,  3.59148669e+00,  3.63349778e+00,\n",
       "        4.55844758e+00,  3.04607085e+00,  1.32555601e+00,  3.77208124e+00,\n",
       "        2.78681297e+00,  4.45870643e+00,  2.71161175e+00,  3.73111841e+00,\n",
       "        3.86444107e+00,  2.08119999e+00,  5.67654586e+00,  2.83423388e+00,\n",
       "        4.15734947e+00,  3.39512360e+00,  4.47669542e+00,  4.08569979e+00,\n",
       "        5.11652210e+00,  4.36796337e+00,  5.68072397e+00,  3.19469636e+00,\n",
       "        2.77876747e+00,  5.19580142e+00,  4.69326737e+00,  4.48930513e+00,\n",
       "        3.24774298e+00,  4.47838638e+00,  4.40907621e+00,  4.15009259e+00,\n",
       "        4.51868825e+00,  3.43024064e+00,  5.25348160e+00,  3.69575907e+00,\n",
       "        3.21675469e+00,  2.76441311e+00,  5.46970704e+00,  5.82213976e+00,\n",
       "        3.47845946e+00,  4.91586139e+00,  3.69757505e+00,  1.88492145e+00,\n",
       "        6.67614171e+00,  5.19845090e+00,  4.34547854e+00,  5.39778728e+00,\n",
       "        4.68245978e+00,  6.34923375e+00,  6.92089642e+00,  4.11026975e+00,\n",
       "        5.12318969e+00,  4.75301026e+00,  3.63217737e+00,  4.01345992e+00,\n",
       "        7.08272583e+00,  4.10361851e+00,  5.59617084e+00,  6.70786642e+00,\n",
       "        5.01262214e+00,  4.93279695e+00,  5.47400403e+00,  4.29043762e+00,\n",
       "        5.01350289e+00,  3.77948050e+00,  4.84151446e+00,  3.67285871e+00,\n",
       "        3.83718736e+00,  4.15135316e+00,  4.59216998e+00,  5.42007518e+00,\n",
       "        5.30732708e+00,  4.86929676e+00,  7.06527921e+00,  4.80891345e+00,\n",
       "        4.83192905e+00,  7.31422850e+00,  4.03344240e+00,  4.66554910e+00,\n",
       "        6.77449073e+00,  6.30777028e+00,  5.87296632e+00,  4.83782357e+00,\n",
       "        7.02636227e+00,  6.06311009e+00,  5.22494036e+00,  7.26654777e+00,\n",
       "        6.45760805e+00,  5.61848817e+00,  5.41902824e+00,  5.48244120e+00,\n",
       "        5.39121479e+00,  5.68168913e+00,  4.57269407e+00,  5.77428928e+00,\n",
       "        6.21799923e+00,  7.26758198e+00,  4.68983697e+00,  7.07931654e+00,\n",
       "        6.47741242e+00,  5.27498311e+00,  6.68144126e+00,  4.68977250e+00,\n",
       "        7.63250504e+00,  5.62133739e+00,  5.91853422e+00,  7.15631283e+00,\n",
       "        7.97468990e+00,  6.30299331e+00,  5.76490772e+00,  5.64574407e+00,\n",
       "        8.83644920e+00,  7.87646691e+00,  5.98887824e+00,  6.67373483e+00,\n",
       "        5.44704672e+00,  5.68614370e+00,  7.79900984e+00,  7.62643739e+00,\n",
       "        6.88731729e+00,  6.85818322e+00,  7.70456625e+00,  7.75679674e+00,\n",
       "        8.01108756e+00,  6.05536979e+00,  7.94942389e+00,  7.75230040e+00,\n",
       "        5.60403092e+00,  8.36359552e+00,  4.85367750e+00,  7.58041226e+00,\n",
       "        7.36808969e+00,  7.34721861e+00,  7.16101901e+00,  6.84757146e+00,\n",
       "        8.44203188e+00,  9.38661137e+00,  7.12939605e+00,  8.36790370e+00,\n",
       "        7.71167983e+00,  7.21679557e+00,  7.59996091e+00,  7.81703080e+00,\n",
       "        8.61927471e+00,  8.12497440e+00,  6.48541291e+00,  8.68503086e+00,\n",
       "        9.19330483e+00,  9.21528624e+00,  8.29244785e+00,  8.97935638e+00,\n",
       "        6.93080632e+00,  8.16478068e+00,  8.08290037e+00,  7.84199459e+00,\n",
       "        7.80965077e+00,  8.49334026e+00,  9.39541078e+00,  8.70705457e+00,\n",
       "        7.09690478e+00,  8.39499112e+00,  7.74215502e+00,  1.07467174e+01,\n",
       "        8.68259731e+00,  7.48590100e+00,  8.15675709e+00,  8.65998079e+00,\n",
       "        7.81739400e+00,  9.55567730e+00,  7.20560053e+00,  8.05304365e+00,\n",
       "        8.13107034e+00,  7.60462377e+00,  7.79742307e+00,  7.08738213e+00,\n",
       "        7.61625584e+00,  7.80113824e+00,  7.98586846e+00,  1.03065825e+01,\n",
       "        6.58992645e+00,  7.81774669e+00,  7.73490520e+00,  8.41040346e+00,\n",
       "        8.24454189e+00,  9.77011584e+00,  8.35122310e+00,  8.54247158e+00,\n",
       "        8.41298502e+00,  9.43192480e+00,  1.02566914e+01,  9.13211399e+00,\n",
       "        9.30292039e+00,  8.98819446e+00,  1.04672002e+01,  1.01212768e+01,\n",
       "        9.12237620e+00,  1.08170591e+01,  1.12306747e+01,  8.86608571e+00,\n",
       "        1.08641494e+01,  1.01922797e+01,  8.21765372e+00,  8.52354932e+00,\n",
       "        1.04377611e+01,  7.78176382e+00,  9.72289145e+00,  9.33975850e+00,\n",
       "        8.15570721e+00,  9.60718162e+00,  1.03212702e+01,  1.04157793e+01,\n",
       "        1.04169419e+01,  1.14437349e+01,  8.65794758e+00,  1.04170695e+01,\n",
       "        9.30664298e+00,  7.79361294e+00,  9.88759281e+00,  1.07624823e+01,\n",
       "        1.18312555e+01,  1.06971266e+01,  1.11824563e+01,  1.03089691e+01,\n",
       "        1.08075644e+01,  9.00866929e+00,  9.85879591e+00,  1.05229136e+01,\n",
       "        1.02729603e+01,  9.44213875e+00,  1.09293428e+01,  9.56734905e+00,\n",
       "        9.91145020e+00,  1.09970394e+01,  1.17055038e+01,  9.66136349e+00,\n",
       "        1.00122040e+01,  1.12588190e+01,  1.16133022e+01,  1.06889352e+01,\n",
       "        1.10372915e+01,  1.12611056e+01,  1.11551136e+01,  1.21813279e+01,\n",
       "        1.04460220e+01,  1.23069875e+01,  1.06110897e+01,  1.16471650e+01,\n",
       "        1.15170608e+01,  1.05435859e+01,  9.82915490e+00,  8.57325899e+00,\n",
       "        1.30446086e+01,  1.20357502e+01,  1.13241470e+01,  1.04766804e+01,\n",
       "        1.13335333e+01,  9.84581299e+00,  1.07498169e+01,  1.11671629e+01,\n",
       "        1.11948242e+01,  1.22455996e+01,  1.09385761e+01,  1.10208269e+01,\n",
       "        1.13407261e+01,  1.16843335e+01,  1.10218939e+01,  1.18404300e+01,\n",
       "        1.23863966e+01,  1.21447190e+01,  1.13298603e+01,  1.19743839e+01,\n",
       "        9.86538996e+00,  1.34038438e+01,  1.14496913e+01,  1.22446980e+01,\n",
       "        1.03097719e+01,  1.40765483e+01,  1.17477320e+01,  1.23643859e+01,\n",
       "        1.07804320e+01,  1.24712806e+01,  1.30277014e+01,  1.12343890e+01,\n",
       "        1.07130734e+01,  1.18051286e+01,  1.31851134e+01,  1.08638248e+01,\n",
       "        1.06872617e+01,  1.26659963e+01,  8.97434374e+00,  1.25048909e+01,\n",
       "        1.26692677e+01,  1.39090162e+01,  1.20570487e+01,  1.33714114e+01,\n",
       "        1.18468315e+01,  1.24869695e+01,  1.10613744e+01,  1.26487079e+01,\n",
       "        1.08016315e+01,  1.17533551e+01,  1.24207680e+01,  1.28512465e+01,\n",
       "        1.16561180e+01,  1.28264788e+01,  1.32387407e+01,  1.28900207e+01,\n",
       "        1.21338737e+01,  1.23757998e+01,  1.36373422e+01,  1.36353791e+01])"
      ]
     },
     "execution_count": 15,
     "metadata": {},
     "output_type": "execute_result"
    }
   ],
   "source": [
    "y_result"
   ]
  },
  {
   "cell_type": "code",
   "execution_count": 16,
   "id": "3456e71c-57bc-4c76-8ca0-89f4453a5504",
   "metadata": {},
   "outputs": [
    {
     "data": {
      "image/png": "[encoded data removed]",
      "text/plain": [
       "<Figure size 640x480 with 1 Axes>"
      ]
     },
     "metadata": {},
     "output_type": "display_data"
    }
   ],
   "source": [
    "plt.scatter(x, y_result, color=\"red\", s = 0.1) \n",
    "\n",
    "plt.xlabel(\"x\")\n",
    "plt.ylabel(\"y\")\n",
    "\n",
    "plt.show()"
   ]
  },
  {
   "cell_type": "markdown",
   "id": "27ce5595-b25e-4525-8523-95a05087c364",
   "metadata": {},
   "source": [
    "Вече виждаме как имаме облак от точки. За който облак казваме окей, интересува ни основната тенденция. Всяко друго нещо, което не я следва се счита за случайна грешка.\n",
    "\n",
    "Искаме да намалим малко скейла:"
   ]
  },
  {
   "cell_type": "code",
   "execution_count": 17,
   "id": "1f2657b7-1edb-4b05-a020-eb48333d00aa",
   "metadata": {},
   "outputs": [
    {
     "data": {
      "image/png": "[encoded data removed]",
      "text/plain": [
       "<Figure size 640x480 with 1 Axes>"
      ]
     },
     "metadata": {},
     "output_type": "display_data"
    }
   ],
   "source": [
    "y_noise = np.random.normal(loc = 0, scale = 0.1, size = len(x))\n",
    "y_result = y + y_noise\n",
    "plt.scatter(x, y_result, color=\"red\", s = 0.1) \n",
    "\n",
    "plt.xlabel(\"x\")\n",
    "plt.ylabel(\"y\")\n",
    "\n",
    "plt.show()"
   ]
  },
  {
   "cell_type": "code",
   "execution_count": 18,
   "id": "ab404174-052b-4d24-bd0a-d19ae499960c",
   "metadata": {},
   "outputs": [
    {
     "data": {
      "image/png": "[encoded data removed]",
      "text/plain": [
       "<Figure size 640x480 with 1 Axes>"
      ]
     },
     "metadata": {},
     "output_type": "display_data"
    }
   ],
   "source": [
    "y_noise = np.random.normal(loc = 0, scale = 50, size = len(x))\n",
    "y_result = y + y_noise\n",
    "\n",
    "plt.scatter(x, y_result, color=\"red\", s = 0.1) \n",
    "\n",
    "plt.xlabel(\"x\")\n",
    "plt.ylabel(\"y\")\n",
    "\n",
    "plt.show()"
   ]
  },
  {
   "cell_type": "markdown",
   "id": "d915c34c-f531-4483-8efb-a8f3edc4e9a4",
   "metadata": {},
   "source": [
    "Тук полезната част се скри, защото шумът е повече спрямо нея."
   ]
  },
  {
   "cell_type": "code",
   "execution_count": 19,
   "id": "24ce2b30-72b8-4b6d-8447-1c6d551d8ac4",
   "metadata": {},
   "outputs": [],
   "source": [
    "y_noise = np.random.normal(loc = 0, scale = 0.7, size = len(x))\n",
    "y += y_noise"
   ]
  },
  {
   "cell_type": "code",
   "execution_count": 20,
   "id": "4d2f0015-4bc4-488c-a8b0-61d7f5b171f3",
   "metadata": {},
   "outputs": [
    {
     "data": {
      "image/png": "[encoded data removed]",
      "text/plain": [
       "<Figure size 640x480 with 1 Axes>"
      ]
     },
     "metadata": {},
     "output_type": "display_data"
    }
   ],
   "source": [
    "plt.scatter(x, y, color=\"red\", s = 0.5) \n",
    "\n",
    "plt.xlabel(\"x\")\n",
    "plt.ylabel(\"y\")\n",
    "\n",
    "plt.show()"
   ]
  },
  {
   "cell_type": "code",
   "execution_count": 21,
   "id": "76d77182-503d-4d19-a76a-727aee458afc",
   "metadata": {},
   "outputs": [],
   "source": [
    "a = 8\n",
    "b = 2\n",
    "\n",
    "model_x = np.linspace(np.min(x), np.max(x), 5)\n",
    "model_y = a * model_x + b  # Това е y тилда"
   ]
  },
  {
   "cell_type": "code",
   "execution_count": 22,
   "id": "f37b9c6d-ba4f-4afd-8b35-4f430db5edfd",
   "metadata": {},
   "outputs": [
    {
     "data": {
      "image/png": "[encoded data removed]",
      "text/plain": [
       "<Figure size 640x480 with 1 Axes>"
      ]
     },
     "metadata": {},
     "output_type": "display_data"
    }
   ],
   "source": [
    "plt.scatter(x, y, color=\"red\", s = 0.5) \n",
    "plt.plot(model_x, model_y)\n",
    "\n",
    "plt.xlabel(\"x\")\n",
    "plt.ylabel(\"y\")\n",
    "\n",
    "plt.show()"
   ]
  },
  {
   "cell_type": "markdown",
   "id": "458090f2-b314-41bc-be9e-74b287252762",
   "metadata": {},
   "source": [
    "Нека изкараме това във функция:"
   ]
  },
  {
   "cell_type": "code",
   "execution_count": 23,
   "id": "fab41ac8-f130-4db7-843d-31a16e386647",
   "metadata": {},
   "outputs": [],
   "source": [
    "def plot_predictions(x, y, a, b):\n",
    "    predictions = a * x + b\n",
    "    \n",
    "    plt.scatter(x, y, color=\"red\", s = 0.5, label = \"data\") \n",
    "    plt.plot(x, predictions, label = \"model\")\n",
    "    \n",
    "    plt.xlabel(\"x\")\n",
    "    plt.ylabel(\"y\")\n",
    "\n",
    "    plt.legend()\n",
    "    \n",
    "    plt.show()"
   ]
  },
  {
   "cell_type": "code",
   "execution_count": 24,
   "id": "3e6ffca2-9ddf-4a5c-b11a-1e6fa5e98bc7",
   "metadata": {},
   "outputs": [
    {
     "data": {
      "image/png": "[encoded data removed]",
      "text/plain": [
       "<Figure size 640x480 with 1 Axes>"
      ]
     },
     "metadata": {},
     "output_type": "display_data"
    }
   ],
   "source": [
    "plot_predictions(x, y, a, b)"
   ]
  },
  {
   "cell_type": "code",
   "execution_count": 25,
   "id": "e1577195-0dd6-4d84-a924-8f8e04efaa08",
   "metadata": {},
   "outputs": [
    {
     "data": {
      "image/png": "[encoded data removed]",
      "text/plain": [
       "<Figure size 640x480 with 1 Axes>"
      ]
     },
     "metadata": {},
     "output_type": "display_data"
    }
   ],
   "source": [
    "plot_predictions(x, y, 5, 0)"
   ]
  },
  {
   "cell_type": "code",
   "execution_count": 26,
   "id": "ea0d0485-98df-44a4-a8a7-681c1e796af5",
   "metadata": {},
   "outputs": [
    {
     "data": {
      "image/png": "[encoded data removed]",
      "text/plain": [
       "<Figure size 640x480 with 1 Axes>"
      ]
     },
     "metadata": {},
     "output_type": "display_data"
    }
   ],
   "source": [
    "plot_predictions(x, y, -2, 1)"
   ]
  },
  {
   "cell_type": "code",
   "execution_count": 27,
   "id": "5f04707b-437d-4698-9f46-f4e5dbdad008",
   "metadata": {},
   "outputs": [
    {
     "data": {
      "image/png": "[encoded data removed]",
      "text/plain": [
       "<Figure size 640x480 with 1 Axes>"
      ]
     },
     "metadata": {},
     "output_type": "display_data"
    }
   ],
   "source": [
    "plot_predictions(x, y, 2, 1)"
   ]
  },
  {
   "cell_type": "markdown",
   "id": "c8b4a1fb-b793-4bdc-af9a-e9d3dec8481b",
   "metadata": {},
   "source": [
    "Тази е доста близо, но навсякъде подценява данните.\n",
    "\n",
    "И вече имаме интуиция. Искам да кажа от всички възможни модели, които искам да направя аз имам представа какво представлява моя модел. Мога да му подавам различни параметри ($a$ и $b$) и ще можем да разберем кой е най-добрия от тях.\n",
    "За тази работа трябва да имаме мярка колко е добър или колко моделът е подобен на данните.\n",
    "\n",
    "__Регресия__ - не става на въпрос за намаляване, а за схождане към средното.\n",
    "\n",
    "Като пробваме различни модели виждаме, че някои са по-добри.\n",
    "\n",
    "Всяка една крива линия локално е права линия и можем да си я представим от много на брой много тънки малки прави линии. И пак можем да търсим разстоянието от точката, която и да е тя до съответната точка от кривата. Какво означава обаче разстояние - разстояние от точка до права е дължината на перпендикуляра от точката към правата. Защо? защото това е най-малкото разстояние. Взимаме точката, прекарваме перпендикуляра към правата и дължината на този перпендикуляра е това, което търсим.\n",
    "Ортогонална регресия се нарича, когато използваме перпендикулярните разстояния.\n",
    "\n",
    "Нека направим една функция за грешка/ функция за разстояния:"
   ]
  },
  {
   "cell_type": "code",
   "execution_count": 28,
   "id": "f71ad5c6-5f25-4cb3-98ab-e1f680976b45",
   "metadata": {},
   "outputs": [],
   "source": [
    "def compute_distances(x, y, a, b):\n",
    "    predictions = a * x + b\n",
    "    distances = np.abs(y - predictions)\n",
    "    total_distance = np.mean(distances)\n",
    "    \n",
    "    # np.mean(np.abs(y - predictions)) # MAE - Mean Absolute Error\n",
    "    \n",
    "    return total_distance"
   ]
  },
  {
   "cell_type": "markdown",
   "id": "5821e73a-e792-4437-9529-4a9f51edb3bb",
   "metadata": {},
   "source": [
    "Това са много на брой разстояния:"
   ]
  },
  {
   "cell_type": "code",
   "execution_count": 29,
   "id": "4b5bed5e-6537-4284-b726-e0f4d0202fba",
   "metadata": {},
   "outputs": [
    {
     "data": {
      "text/plain": [
       "9.147157052857501"
      ]
     },
     "execution_count": 29,
     "metadata": {},
     "output_type": "execute_result"
    }
   ],
   "source": [
    "compute_distances(x, y, -2, 1)"
   ]
  },
  {
   "cell_type": "code",
   "execution_count": 30,
   "id": "7e3cacea-8180-4fee-8f91-544b1805ced0",
   "metadata": {},
   "outputs": [
    {
     "data": {
      "text/plain": [
       "6.052587869081528"
      ]
     },
     "execution_count": 30,
     "metadata": {},
     "output_type": "execute_result"
    }
   ],
   "source": [
    "compute_distances(x, y, 5, 0)"
   ]
  },
  {
   "cell_type": "code",
   "execution_count": 31,
   "id": "7152b734-85f7-42d7-b871-ed149b72bf67",
   "metadata": {},
   "outputs": [
    {
     "data": {
      "text/plain": [
       "2.0295020023906094"
      ]
     },
     "execution_count": 31,
     "metadata": {},
     "output_type": "execute_result"
    }
   ],
   "source": [
    "compute_distances(x, y, 2, 1)"
   ]
  },
  {
   "cell_type": "code",
   "execution_count": 32,
   "id": "b0812c9b-bddd-45a1-9c47-b7767cf79e92",
   "metadata": {},
   "outputs": [
    {
     "data": {
      "text/plain": [
       "0.5725754166927471"
      ]
     },
     "execution_count": 32,
     "metadata": {},
     "output_type": "execute_result"
    }
   ],
   "source": [
    "compute_distances(x, y, 2, 3)"
   ]
  },
  {
   "cell_type": "markdown",
   "id": "71e0d18f-acb4-45d4-a932-5d3f65335a82",
   "metadata": {},
   "source": [
    "Самото число, което ще получим зависи от броя точки, които имаме. Повече точки означава по-голяма сума.\n",
    "\n",
    "Ще говорим за производни и за оптимизация. При производните имаме проблеми понякога. Производната на една функция представлява граница и тази граница трябва да съществува и да бъде отляво и отдясно еднаква на точката.\n",
    "\n",
    "Много повече предпочитаме да използваме гладка функция - такава, която не прави ръбове. Освен абсолютна стойност нещо друго, което не прави ръбове е на квадрат."
   ]
  },
  {
   "cell_type": "code",
   "execution_count": 33,
   "id": "fadd3bc8-37c2-46d0-9715-ae7cbbc79614",
   "metadata": {},
   "outputs": [],
   "source": [
    "def compute_cost(x, y, a, b):\n",
    "    predictions = a * x + b\n",
    "    distances = (y - predictions) ** 2\n",
    "    total_distance = np.mean(distances) # MSE - Mean Square Error\n",
    "    \n",
    "    return total_distance"
   ]
  },
  {
   "cell_type": "markdown",
   "id": "53f252ad-b1ef-4d4f-a353-2cef87446d3b",
   "metadata": {},
   "source": [
    "Този модел за по-далечни точки ще дава по-голямо разстояние, например за 2: 4, за 3: 9, за 4: 16 и т.н. Тук по-далечните точки ще имат по-голямо влияние върху модела.\n",
    "\n",
    "Има плюсове и минуси. Няма едно валидно решение. Нямаме нещо, което се прави \"по този начин\". Всяко нещо се прави по много различни начини докато си избираме този, който най-малко ни дразни 😆 ."
   ]
  },
  {
   "cell_type": "code",
   "execution_count": 34,
   "id": "1a6b9e4d-0bf8-413e-ac1b-dbbf942d432b",
   "metadata": {},
   "outputs": [
    {
     "data": {
      "text/plain": [
       "122.07014090777486"
      ]
     },
     "execution_count": 34,
     "metadata": {},
     "output_type": "execute_result"
    }
   ],
   "source": [
    "compute_cost(x, y, -2, 1)"
   ]
  },
  {
   "cell_type": "code",
   "execution_count": 35,
   "id": "0034759e-6427-404e-a3cf-6a7c71f6d1ac",
   "metadata": {},
   "outputs": [
    {
     "data": {
      "text/plain": [
       "49.035269470146616"
      ]
     },
     "execution_count": 35,
     "metadata": {},
     "output_type": "execute_result"
    }
   ],
   "source": [
    "compute_cost(x, y, 5, 0)"
   ]
  },
  {
   "cell_type": "code",
   "execution_count": 36,
   "id": "d1866fed-d224-4c97-9ff1-84e6680bc66f",
   "metadata": {},
   "outputs": [
    {
     "data": {
      "text/plain": [
       "4.618637702961918"
      ]
     },
     "execution_count": 36,
     "metadata": {},
     "output_type": "execute_result"
    }
   ],
   "source": [
    "compute_cost(x, y, 2, 1)"
   ]
  },
  {
   "cell_type": "code",
   "execution_count": 37,
   "id": "5214109c-5199-46d5-bb63-4cc7c609c6f3",
   "metadata": {},
   "outputs": [
    {
     "data": {
      "text/plain": [
       "0.5059149525554225"
      ]
     },
     "execution_count": 37,
     "metadata": {},
     "output_type": "execute_result"
    }
   ],
   "source": [
    "compute_cost(x, y, 2, 3)"
   ]
  },
  {
   "cell_type": "markdown",
   "id": "3f3091dc-28b1-4a12-9ec2-dbd7cbd3ddaf",
   "metadata": {},
   "source": [
    "### Cost function (Функция на грешката)\n",
    "\n",
    "- total cost function (обща функция на цената, която трябва да платим, за да използваме този модел)\n",
    "\n",
    "Ще виждаме термини като __Cost function__ и __Lost function__ (функция на загуба на грешка). Като синоними Cost function е цялото нещо, Lost function е само за една точка. Т.е. Lost function ни дава първоначалния масив по-нагоре с многото стойности.\n",
    "\n",
    "Знаем, че най-добрият модел е този, който има минимална грешка.\n",
    "\n",
    "Ще търсим тази total_cost функция къде се минимизира. Интересува ни кога се минимизира и аргументите при които тази функция се минимизира.\n",
    "\n",
    "$x$ и $y$ са константи. Щом са константи значи производните им са 0. Казано малко по-просто не ни интересуват. Тогава ще търсим само аргументите $a$ и $b$ при които тази функция се минимизира. За да намерим минимумите ще ни трябват частните производни спрямо $a$ и $b$"
   ]
  },
  {
   "cell_type": "markdown",
   "id": "485524a3-d9b8-496d-9c28-c17b6b4a50f1",
   "metadata": {},
   "source": [
    "Итеративно ще използваме различни точки, за да намерим тази, която е най-близка до минимума. Този метод се наричаше\n",
    "## Gradient descent\n",
    "\n",
    "или апуакане по gradient. Метод, който се опитва да намери локален минимум \"близо\" до някаква начална точка.\n",
    "\n",
    "Как правим __Gradient descent?__ <br/>\n",
    "Започваме от някаква точка/някакви кординати. Тези кординати в един голям модел ще бъдат няколко милиарда.\n",
    "\n",
    "(Всеки един моел, който можем да направим от тези данни представлява една точка от пространственост във функцията. И ние търсим коя е тази точка, която е минимална.)\n",
    "\n",
    "gradient-a на cost функцията е просто вектор от производни.\n",
    "Посоката на graient-a е там, на където функцията расте най-бързо."
   ]
  },
  {
   "cell_type": "code",
   "execution_count": 38,
   "id": "ad9938d5-89e0-41c8-ae1e-2f97bd4ff0e0",
   "metadata": {},
   "outputs": [],
   "source": [
    "a_gradient = -2 / len(x) * np.sum(x * (y - (a * x + b)))\n",
    "b_gradient = -2 / len(y) * np.sum(y - (a * x + b))"
   ]
  },
  {
   "cell_type": "code",
   "execution_count": 39,
   "id": "783fee36-4c00-4300-9b3e-467db0d57f2d",
   "metadata": {},
   "outputs": [],
   "source": [
    "def compute_gradient(x, y, a, b):\n",
    "    predictions = a * x + b\n",
    "    a_gradient = -2 / len(x) * np.sum(x * (y - predictions))\n",
    "    b_gradient = -2 / len(y) * np.sum(y - predictions)\n",
    "    return a_gradient, b_gradient"
   ]
  },
  {
   "cell_type": "code",
   "execution_count": 40,
   "id": "c3382706-77e1-4fdb-9b79-ded51973d37d",
   "metadata": {},
   "outputs": [
    {
     "data": {
      "text/plain": [
       "(10.055961874147457, 9.943638624796753)"
      ]
     },
     "execution_count": 40,
     "metadata": {},
     "output_type": "execute_result"
    }
   ],
   "source": [
    "compute_gradient(x, y, 2, 8)"
   ]
  },
  {
   "cell_type": "code",
   "execution_count": 41,
   "id": "5bdad8f6-7b22-48ce-b6ad-ad4aa253004a",
   "metadata": {},
   "outputs": [
    {
     "data": {
      "text/plain": [
       "(34.18421838717351, 1.9436386247967494)"
      ]
     },
     "execution_count": 41,
     "metadata": {},
     "output_type": "execute_result"
    }
   ],
   "source": [
    "compute_gradient(x, y, 5, 1)"
   ]
  },
  {
   "cell_type": "code",
   "execution_count": 42,
   "id": "5b48ad7a-12c7-448f-a97a-7c438941975c",
   "metadata": {},
   "outputs": [],
   "source": [
    "def compute_gradient(x, y, a, b):\n",
    "    predictions = a * x + b\n",
    "    a_gradient = -2 / len(x) * np.sum(x * (y - predictions))\n",
    "    b_gradient = -2 / len(x) * np.sum(y - predictions)\n",
    "    return np.array([a_gradient, b_gradient])"
   ]
  },
  {
   "cell_type": "code",
   "execution_count": 43,
   "id": "2baf2b5f-4bd6-466e-92ce-d155a9f828c0",
   "metadata": {},
   "outputs": [
    {
     "data": {
      "text/plain": [
       "array([0.34184218, 0.01943639])"
      ]
     },
     "execution_count": 43,
     "metadata": {},
     "output_type": "execute_result"
    }
   ],
   "source": [
    "0.01 * compute_gradient(x, y, 5, 1)"
   ]
  },
  {
   "cell_type": "code",
   "execution_count": 44,
   "id": "85719f66-aa7b-43a9-9a4f-3ec942a245b3",
   "metadata": {},
   "outputs": [],
   "source": [
    "learning_rate = 0.01"
   ]
  },
  {
   "cell_type": "code",
   "execution_count": 45,
   "id": "af085ff3-4bdb-4117-b927-e81749f18820",
   "metadata": {},
   "outputs": [],
   "source": [
    "a = 5\n",
    "b = 1"
   ]
  },
  {
   "cell_type": "code",
   "execution_count": 46,
   "id": "6f6232ac-4f96-4609-9160-34b304693a5a",
   "metadata": {},
   "outputs": [
    {
     "data": {
      "text/plain": [
       "6.102807154979266"
      ]
     },
     "execution_count": 46,
     "metadata": {},
     "output_type": "execute_result"
    }
   ],
   "source": [
    "compute_distances(x, y, a, b)"
   ]
  },
  {
   "cell_type": "code",
   "execution_count": 47,
   "id": "4c2704bb-bef0-4634-8145-05d28be3962e",
   "metadata": {},
   "outputs": [],
   "source": [
    "a = a - learning_rate * compute_gradient(x, y, a, b)[0]\n",
    "b = b - learning_rate * compute_gradient(x, y, a, b)[1]"
   ]
  },
  {
   "cell_type": "code",
   "execution_count": 48,
   "id": "c8430dbe-bb2b-4d62-bc59-a17c596f88db",
   "metadata": {},
   "outputs": [
    {
     "data": {
      "text/plain": [
       "(4.658157816128265, 0.9874004574294672)"
      ]
     },
     "execution_count": 48,
     "metadata": {},
     "output_type": "execute_result"
    }
   ],
   "source": [
    "a, b"
   ]
  },
  {
   "cell_type": "code",
   "execution_count": 49,
   "id": "a2c75157-b457-4b3a-826e-7d875bb5b6cc",
   "metadata": {},
   "outputs": [
    {
     "data": {
      "text/plain": [
       "4.813967041705395"
      ]
     },
     "execution_count": 49,
     "metadata": {},
     "output_type": "execute_result"
    }
   ],
   "source": [
    "compute_distances(x, y, 4.371376079088153, b)"
   ]
  },
  {
   "cell_type": "code",
   "execution_count": 50,
   "id": "b98de913-d225-4af7-bd1a-ab6f2b24ca9f",
   "metadata": {},
   "outputs": [],
   "source": [
    "for step in range(1000):\n",
    "    a = a - learning_rate * compute_gradient(x, y, a, b)[0]\n",
    "    b = b - learning_rate * compute_gradient(x, y, a, b)[1]"
   ]
  },
  {
   "cell_type": "code",
   "execution_count": 51,
   "id": "afd339ce-4677-4ffa-8588-ee2856657071",
   "metadata": {},
   "outputs": [
    {
     "data": {
      "text/plain": [
       "(1.9895117598622123, 3.0386688038002467)"
      ]
     },
     "execution_count": 51,
     "metadata": {},
     "output_type": "execute_result"
    }
   ],
   "source": [
    "a, b"
   ]
  },
  {
   "cell_type": "markdown",
   "id": "b524ab93-ed93-43e1-b47b-5eef151a7748",
   "metadata": {},
   "source": [
    "Това не е лош модел:"
   ]
  },
  {
   "cell_type": "code",
   "execution_count": 52,
   "id": "70ce0df7-4520-4add-a58e-913f6fda703f",
   "metadata": {},
   "outputs": [
    {
     "data": {
      "image/png": "[encoded data removed]",
      "text/plain": [
       "<Figure size 640x480 with 1 Axes>"
      ]
     },
     "metadata": {},
     "output_type": "display_data"
    }
   ],
   "source": [
    "plot_predictions(x, y, a, b)"
   ]
  },
  {
   "cell_type": "code",
   "execution_count": 53,
   "id": "89ea4387-ab30-47ac-b290-612a3ac34ef4",
   "metadata": {},
   "outputs": [
    {
     "data": {
      "text/html": [
       "<style>#sk-container-id-1 {color: black;background-color: white;}#sk-container-id-1 pre{padding: 0;}#sk-container-id-1 div.sk-toggleable {background-color: white;}#sk-container-id-1 label.sk-toggleable__label {cursor: pointer;display: block;width: 100%;margin-bottom: 0;padding: 0.3em;box-sizing: border-box;text-align: center;}#sk-container-id-1 label.sk-toggleable__label-arrow:before {content: \"▸\";float: left;margin-right: 0.25em;color: #696969;}#sk-container-id-1 label.sk-toggleable__label-arrow:hover:before {color: black;}#sk-container-id-1 div.sk-estimator:hover label.sk-toggleable__label-arrow:before {color: black;}#sk-container-id-1 div.sk-toggleable__content {max-height: 0;max-width: 0;overflow: hidden;text-align: left;background-color: #f0f8ff;}#sk-container-id-1 div.sk-toggleable__content pre {margin: 0.2em;color: black;border-radius: 0.25em;background-color: #f0f8ff;}#sk-container-id-1 input.sk-toggleable__control:checked~div.sk-toggleable__content {max-height: 200px;max-width: 100%;overflow: auto;}#sk-container-id-1 input.sk-toggleable__control:checked~label.sk-toggleable__label-arrow:before {content: \"▾\";}#sk-container-id-1 div.sk-estimator input.sk-toggleable__control:checked~label.sk-toggleable__label {background-color: #d4ebff;}#sk-container-id-1 div.sk-label input.sk-toggleable__control:checked~label.sk-toggleable__label {background-color: #d4ebff;}#sk-container-id-1 input.sk-hidden--visually {border: 0;clip: rect(1px 1px 1px 1px);clip: rect(1px, 1px, 1px, 1px);height: 1px;margin: -1px;overflow: hidden;padding: 0;position: absolute;width: 1px;}#sk-container-id-1 div.sk-estimator {font-family: monospace;background-color: #f0f8ff;border: 1px dotted black;border-radius: 0.25em;box-sizing: border-box;margin-bottom: 0.5em;}#sk-container-id-1 div.sk-estimator:hover {background-color: #d4ebff;}#sk-container-id-1 div.sk-parallel-item::after {content: \"\";width: 100%;border-bottom: 1px solid gray;flex-grow: 1;}#sk-container-id-1 div.sk-label:hover label.sk-toggleable__label {background-color: #d4ebff;}#sk-container-id-1 div.sk-serial::before {content: \"\";position: absolute;border-left: 1px solid gray;box-sizing: border-box;top: 0;bottom: 0;left: 50%;z-index: 0;}#sk-container-id-1 div.sk-serial {display: flex;flex-direction: column;align-items: center;background-color: white;padding-right: 0.2em;padding-left: 0.2em;position: relative;}#sk-container-id-1 div.sk-item {position: relative;z-index: 1;}#sk-container-id-1 div.sk-parallel {display: flex;align-items: stretch;justify-content: center;background-color: white;position: relative;}#sk-container-id-1 div.sk-item::before, #sk-container-id-1 div.sk-parallel-item::before {content: \"\";position: absolute;border-left: 1px solid gray;box-sizing: border-box;top: 0;bottom: 0;left: 50%;z-index: -1;}#sk-container-id-1 div.sk-parallel-item {display: flex;flex-direction: column;z-index: 1;position: relative;background-color: white;}#sk-container-id-1 div.sk-parallel-item:first-child::after {align-self: flex-end;width: 50%;}#sk-container-id-1 div.sk-parallel-item:last-child::after {align-self: flex-start;width: 50%;}#sk-container-id-1 div.sk-parallel-item:only-child::after {width: 0;}#sk-container-id-1 div.sk-dashed-wrapped {border: 1px dashed gray;margin: 0 0.4em 0.5em 0.4em;box-sizing: border-box;padding-bottom: 0.4em;background-color: white;}#sk-container-id-1 div.sk-label label {font-family: monospace;font-weight: bold;display: inline-block;line-height: 1.2em;}#sk-container-id-1 div.sk-label-container {text-align: center;}#sk-container-id-1 div.sk-container {/* jupyter's `normalize.less` sets `[hidden] { display: none; }` but bootstrap.min.css set `[hidden] { display: none !important; }` so we also need the `!important` here to be able to override the default hidden behavior on the sphinx rendered scikit-learn.org. See: https://github.com/scikit-learn/scikit-learn/issues/21755 */display: inline-block !important;position: relative;}#sk-container-id-1 div.sk-text-repr-fallback {display: none;}</style><div id=\"sk-container-id-1\" class=\"sk-top-container\"><div class=\"sk-text-repr-fallback\"><pre>LinearRegression()</pre><b>In a Jupyter environment, please rerun this cell to show the HTML representation or trust the notebook. <br />On GitHub, the HTML representation is unable to render, please try loading this page with nbviewer.org.</b></div><div class=\"sk-container\" hidden><div class=\"sk-item\"><div class=\"sk-estimator sk-toggleable\"><input class=\"sk-toggleable__control sk-hidden--visually\" id=\"sk-estimator-id-1\" type=\"checkbox\" checked><label for=\"sk-estimator-id-1\" class=\"sk-toggleable__label sk-toggleable__label-arrow\">LinearRegression</label><div class=\"sk-toggleable__content\"><pre>LinearRegression()</pre></div></div></div></div></div>"
      ],
      "text/plain": [
       "LinearRegression()"
      ]
     },
     "execution_count": 53,
     "metadata": {},
     "output_type": "execute_result"
    }
   ],
   "source": [
    "model = LinearRegression()\n",
    "model.fit(x.reshape(-1, 1), y)"
   ]
  },
  {
   "cell_type": "code",
   "execution_count": 54,
   "id": "fc1ff447-7ba6-46d9-bbd0-44a42bf9bf2a",
   "metadata": {},
   "outputs": [
    {
     "data": {
      "text/plain": [
       "array([1.98951173])"
      ]
     },
     "execution_count": 54,
     "metadata": {},
     "output_type": "execute_result"
    }
   ],
   "source": [
    "model.coef_"
   ]
  },
  {
   "cell_type": "code",
   "execution_count": 55,
   "id": "b5628264-0150-4ed0-ac5b-7e0bbcabb41e",
   "metadata": {},
   "outputs": [
    {
     "data": {
      "text/plain": [
       "3.038668955084034"
      ]
     },
     "execution_count": 55,
     "metadata": {},
     "output_type": "execute_result"
    }
   ],
   "source": [
    "model.intercept_"
   ]
  },
  {
   "cell_type": "markdown",
   "id": "603619bb-45e3-4c43-97ba-5b3b0a1124a4",
   "metadata": {},
   "source": [
    "Този модел прилича на предните, които видяхме."
   ]
  },
  {
   "cell_type": "code",
   "execution_count": 56,
   "id": "f4b31016-4ac7-4937-8244-30f5991eb3eb",
   "metadata": {},
   "outputs": [
    {
     "data": {
      "text/plain": [
       "array([-2.92986624e+00, -2.89797026e+00, -2.86607428e+00, -2.83417830e+00,\n",
       "       -2.80228232e+00, -2.77038634e+00, -2.73849036e+00, -2.70659438e+00,\n",
       "       -2.67469841e+00, -2.64280243e+00, -2.61090645e+00, -2.57901047e+00,\n",
       "       -2.54711449e+00, -2.51521851e+00, -2.48332253e+00, -2.45142655e+00,\n",
       "       -2.41953057e+00, -2.38763459e+00, -2.35573861e+00, -2.32384263e+00,\n",
       "       -2.29194665e+00, -2.26005067e+00, -2.22815469e+00, -2.19625871e+00,\n",
       "       -2.16436273e+00, -2.13246675e+00, -2.10057077e+00, -2.06867479e+00,\n",
       "       -2.03677881e+00, -2.00488283e+00, -1.97298685e+00, -1.94109087e+00,\n",
       "       -1.90919489e+00, -1.87729891e+00, -1.84540293e+00, -1.81350695e+00,\n",
       "       -1.78161097e+00, -1.74971499e+00, -1.71781901e+00, -1.68592303e+00,\n",
       "       -1.65402706e+00, -1.62213108e+00, -1.59023510e+00, -1.55833912e+00,\n",
       "       -1.52644314e+00, -1.49454716e+00, -1.46265118e+00, -1.43075520e+00,\n",
       "       -1.39885922e+00, -1.36696324e+00, -1.33506726e+00, -1.30317128e+00,\n",
       "       -1.27127530e+00, -1.23937932e+00, -1.20748334e+00, -1.17558736e+00,\n",
       "       -1.14369138e+00, -1.11179540e+00, -1.07989942e+00, -1.04800344e+00,\n",
       "       -1.01610746e+00, -9.84211482e-01, -9.52315502e-01, -9.20419523e-01,\n",
       "       -8.88523543e-01, -8.56627563e-01, -8.24731584e-01, -7.92835604e-01,\n",
       "       -7.60939624e-01, -7.29043645e-01, -6.97147665e-01, -6.65251685e-01,\n",
       "       -6.33355706e-01, -6.01459726e-01, -5.69563746e-01, -5.37667766e-01,\n",
       "       -5.05771787e-01, -4.73875807e-01, -4.41979827e-01, -4.10083848e-01,\n",
       "       -3.78187868e-01, -3.46291888e-01, -3.14395909e-01, -2.82499929e-01,\n",
       "       -2.50603949e-01, -2.18707970e-01, -1.86811990e-01, -1.54916010e-01,\n",
       "       -1.23020031e-01, -9.11240510e-02, -5.92280713e-02, -2.73320916e-02,\n",
       "        4.56388806e-03,  3.64598677e-02,  6.83558474e-02,  1.00251827e-01,\n",
       "        1.32147807e-01,  1.64043786e-01,  1.95939766e-01,  2.27835746e-01,\n",
       "        2.59731725e-01,  2.91627705e-01,  3.23523685e-01,  3.55419665e-01,\n",
       "        3.87315644e-01,  4.19211624e-01,  4.51107604e-01,  4.83003583e-01,\n",
       "        5.14899563e-01,  5.46795543e-01,  5.78691522e-01,  6.10587502e-01,\n",
       "        6.42483482e-01,  6.74379461e-01,  7.06275441e-01,  7.38171421e-01,\n",
       "        7.70067400e-01,  8.01963380e-01,  8.33859360e-01,  8.65755339e-01,\n",
       "        8.97651319e-01,  9.29547299e-01,  9.61443278e-01,  9.93339258e-01,\n",
       "        1.02523524e+00,  1.05713122e+00,  1.08902720e+00,  1.12092318e+00,\n",
       "        1.15281916e+00,  1.18471514e+00,  1.21661112e+00,  1.24850710e+00,\n",
       "        1.28040308e+00,  1.31229905e+00,  1.34419503e+00,  1.37609101e+00,\n",
       "        1.40798699e+00,  1.43988297e+00,  1.47177895e+00,  1.50367493e+00,\n",
       "        1.53557091e+00,  1.56746689e+00,  1.59936287e+00,  1.63125885e+00,\n",
       "        1.66315483e+00,  1.69505081e+00,  1.72694679e+00,  1.75884277e+00,\n",
       "        1.79073875e+00,  1.82263473e+00,  1.85453071e+00,  1.88642669e+00,\n",
       "        1.91832267e+00,  1.95021865e+00,  1.98211463e+00,  2.01401061e+00,\n",
       "        2.04590659e+00,  2.07780257e+00,  2.10969855e+00,  2.14159453e+00,\n",
       "        2.17349051e+00,  2.20538649e+00,  2.23728247e+00,  2.26917845e+00,\n",
       "        2.30107442e+00,  2.33297040e+00,  2.36486638e+00,  2.39676236e+00,\n",
       "        2.42865834e+00,  2.46055432e+00,  2.49245030e+00,  2.52434628e+00,\n",
       "        2.55624226e+00,  2.58813824e+00,  2.62003422e+00,  2.65193020e+00,\n",
       "        2.68382618e+00,  2.71572216e+00,  2.74761814e+00,  2.77951412e+00,\n",
       "        2.81141010e+00,  2.84330608e+00,  2.87520206e+00,  2.90709804e+00,\n",
       "        2.93899402e+00,  2.97089000e+00,  3.00278598e+00,  3.03468196e+00,\n",
       "        3.06657794e+00,  3.09847392e+00,  3.13036990e+00,  3.16226588e+00,\n",
       "        3.19416186e+00,  3.22605784e+00,  3.25795382e+00,  3.28984980e+00,\n",
       "        3.32174577e+00,  3.35364175e+00,  3.38553773e+00,  3.41743371e+00,\n",
       "        3.44932969e+00,  3.48122567e+00,  3.51312165e+00,  3.54501763e+00,\n",
       "        3.57691361e+00,  3.60880959e+00,  3.64070557e+00,  3.67260155e+00,\n",
       "        3.70449753e+00,  3.73639351e+00,  3.76828949e+00,  3.80018547e+00,\n",
       "        3.83208145e+00,  3.86397743e+00,  3.89587341e+00,  3.92776939e+00,\n",
       "        3.95966537e+00,  3.99156135e+00,  4.02345733e+00,  4.05535331e+00,\n",
       "        4.08724929e+00,  4.11914527e+00,  4.15104125e+00,  4.18293723e+00,\n",
       "        4.21483321e+00,  4.24672919e+00,  4.27862517e+00,  4.31052114e+00,\n",
       "        4.34241712e+00,  4.37431310e+00,  4.40620908e+00,  4.43810506e+00,\n",
       "        4.47000104e+00,  4.50189702e+00,  4.53379300e+00,  4.56568898e+00,\n",
       "        4.59758496e+00,  4.62948094e+00,  4.66137692e+00,  4.69327290e+00,\n",
       "        4.72516888e+00,  4.75706486e+00,  4.78896084e+00,  4.82085682e+00,\n",
       "        4.85275280e+00,  4.88464878e+00,  4.91654476e+00,  4.94844074e+00,\n",
       "        4.98033672e+00,  5.01223270e+00,  5.04412868e+00,  5.07602466e+00,\n",
       "        5.10792064e+00,  5.13981662e+00,  5.17171260e+00,  5.20360858e+00,\n",
       "        5.23550456e+00,  5.26740054e+00,  5.29929651e+00,  5.33119249e+00,\n",
       "        5.36308847e+00,  5.39498445e+00,  5.42688043e+00,  5.45877641e+00,\n",
       "        5.49067239e+00,  5.52256837e+00,  5.55446435e+00,  5.58636033e+00,\n",
       "        5.61825631e+00,  5.65015229e+00,  5.68204827e+00,  5.71394425e+00,\n",
       "        5.74584023e+00,  5.77773621e+00,  5.80963219e+00,  5.84152817e+00,\n",
       "        5.87342415e+00,  5.90532013e+00,  5.93721611e+00,  5.96911209e+00,\n",
       "        6.00100807e+00,  6.03290405e+00,  6.06480003e+00,  6.09669601e+00,\n",
       "        6.12859199e+00,  6.16048797e+00,  6.19238395e+00,  6.22427993e+00,\n",
       "        6.25617591e+00,  6.28807188e+00,  6.31996786e+00,  6.35186384e+00,\n",
       "        6.38375982e+00,  6.41565580e+00,  6.44755178e+00,  6.47944776e+00,\n",
       "        6.51134374e+00,  6.54323972e+00,  6.57513570e+00,  6.60703168e+00,\n",
       "        6.63892766e+00,  6.67082364e+00,  6.70271962e+00,  6.73461560e+00,\n",
       "        6.76651158e+00,  6.79840756e+00,  6.83030354e+00,  6.86219952e+00,\n",
       "        6.89409550e+00,  6.92599148e+00,  6.95788746e+00,  6.98978344e+00,\n",
       "        7.02167942e+00,  7.05357540e+00,  7.08547138e+00,  7.11736736e+00,\n",
       "        7.14926334e+00,  7.18115932e+00,  7.21305530e+00,  7.24495128e+00,\n",
       "        7.27684726e+00,  7.30874323e+00,  7.34063921e+00,  7.37253519e+00,\n",
       "        7.40443117e+00,  7.43632715e+00,  7.46822313e+00,  7.50011911e+00,\n",
       "        7.53201509e+00,  7.56391107e+00,  7.59580705e+00,  7.62770303e+00,\n",
       "        7.65959901e+00,  7.69149499e+00,  7.72339097e+00,  7.75528695e+00,\n",
       "        7.78718293e+00,  7.81907891e+00,  7.85097489e+00,  7.88287087e+00,\n",
       "        7.91476685e+00,  7.94666283e+00,  7.97855881e+00,  8.01045479e+00,\n",
       "        8.04235077e+00,  8.07424675e+00,  8.10614273e+00,  8.13803871e+00,\n",
       "        8.16993469e+00,  8.20183067e+00,  8.23372665e+00,  8.26562263e+00,\n",
       "        8.29751860e+00,  8.32941458e+00,  8.36131056e+00,  8.39320654e+00,\n",
       "        8.42510252e+00,  8.45699850e+00,  8.48889448e+00,  8.52079046e+00,\n",
       "        8.55268644e+00,  8.58458242e+00,  8.61647840e+00,  8.64837438e+00,\n",
       "        8.68027036e+00,  8.71216634e+00,  8.74406232e+00,  8.77595830e+00,\n",
       "        8.80785428e+00,  8.83975026e+00,  8.87164624e+00,  8.90354222e+00,\n",
       "        8.93543820e+00,  8.96733418e+00,  8.99923016e+00,  9.03112614e+00,\n",
       "        9.06302212e+00,  9.09491810e+00,  9.12681408e+00,  9.15871006e+00,\n",
       "        9.19060604e+00,  9.22250202e+00,  9.25439800e+00,  9.28629397e+00,\n",
       "        9.31818995e+00,  9.35008593e+00,  9.38198191e+00,  9.41387789e+00,\n",
       "        9.44577387e+00,  9.47766985e+00,  9.50956583e+00,  9.54146181e+00,\n",
       "        9.57335779e+00,  9.60525377e+00,  9.63714975e+00,  9.66904573e+00,\n",
       "        9.70094171e+00,  9.73283769e+00,  9.76473367e+00,  9.79662965e+00,\n",
       "        9.82852563e+00,  9.86042161e+00,  9.89231759e+00,  9.92421357e+00,\n",
       "        9.95610955e+00,  9.98800553e+00,  1.00199015e+01,  1.00517975e+01,\n",
       "        1.00836935e+01,  1.01155894e+01,  1.01474854e+01,  1.01793814e+01,\n",
       "        1.02112774e+01,  1.02431734e+01,  1.02750693e+01,  1.03069653e+01,\n",
       "        1.03388613e+01,  1.03707573e+01,  1.04026533e+01,  1.04345492e+01,\n",
       "        1.04664452e+01,  1.04983412e+01,  1.05302372e+01,  1.05621332e+01,\n",
       "        1.05940291e+01,  1.06259251e+01,  1.06578211e+01,  1.06897171e+01,\n",
       "        1.07216131e+01,  1.07535090e+01,  1.07854050e+01,  1.08173010e+01,\n",
       "        1.08491970e+01,  1.08810930e+01,  1.09129889e+01,  1.09448849e+01,\n",
       "        1.09767809e+01,  1.10086769e+01,  1.10405729e+01,  1.10724688e+01,\n",
       "        1.11043648e+01,  1.11362608e+01,  1.11681568e+01,  1.12000528e+01,\n",
       "        1.12319487e+01,  1.12638447e+01,  1.12957407e+01,  1.13276367e+01,\n",
       "        1.13595327e+01,  1.13914286e+01,  1.14233246e+01,  1.14552206e+01,\n",
       "        1.14871166e+01,  1.15190126e+01,  1.15509085e+01,  1.15828045e+01,\n",
       "        1.16147005e+01,  1.16465965e+01,  1.16784925e+01,  1.17103884e+01,\n",
       "        1.17422844e+01,  1.17741804e+01,  1.18060764e+01,  1.18379723e+01,\n",
       "        1.18698683e+01,  1.19017643e+01,  1.19336603e+01,  1.19655563e+01,\n",
       "        1.19974522e+01,  1.20293482e+01,  1.20612442e+01,  1.20931402e+01,\n",
       "        1.21250362e+01,  1.21569321e+01,  1.21888281e+01,  1.22207241e+01,\n",
       "        1.22526201e+01,  1.22845161e+01,  1.23164120e+01,  1.23483080e+01,\n",
       "        1.23802040e+01,  1.24121000e+01,  1.24439960e+01,  1.24758919e+01,\n",
       "        1.25077879e+01,  1.25396839e+01,  1.25715799e+01,  1.26034759e+01,\n",
       "        1.26353718e+01,  1.26672678e+01,  1.26991638e+01,  1.27310598e+01,\n",
       "        1.27629558e+01,  1.27948517e+01,  1.28267477e+01,  1.28586437e+01,\n",
       "        1.28905397e+01,  1.29224357e+01,  1.29543316e+01,  1.29862276e+01])"
      ]
     },
     "execution_count": 56,
     "metadata": {},
     "output_type": "execute_result"
    }
   ],
   "source": [
    "model.predict(x.reshape(-1, 1))"
   ]
  },
  {
   "cell_type": "markdown",
   "id": "7faafd35-af7a-4c5f-bc34-d5fb6c149ea5",
   "metadata": {},
   "source": [
    "Това е най-важното в Машийн лърнинг - моделиране на данни:\n",
    "- предположения\n",
    "- модел\n",
    "- оценка на този модел\n",
    "- резултат\n",
    "- подобряване"
   ]
  },
  {
   "cell_type": "markdown",
   "id": "b2079489-93a1-4d26-bfe9-0392275fa5f4",
   "metadata": {},
   "source": [
    "Сега ще направим класификация на 2 класа - клас 0 и клас 1. \n",
    "\n",
    "### Логистична функция (Logistic Regression)"
   ]
  },
  {
   "cell_type": "code",
   "execution_count": 57,
   "id": "8deb0d01-f19e-481d-abd6-8420e7d7839a",
   "metadata": {},
   "outputs": [],
   "source": [
    "def sigmoid(x):\n",
    "    return 1 / (1 + np.exp(-x))"
   ]
  },
  {
   "cell_type": "code",
   "execution_count": 58,
   "id": "38a6113f-50f8-4df8-9cdc-8d6149c08df7",
   "metadata": {},
   "outputs": [],
   "source": [
    "y = sigmoid(a * x + b)"
   ]
  },
  {
   "cell_type": "code",
   "execution_count": 59,
   "id": "50ca6296-6767-4b48-ae67-1e39cf0d3e03",
   "metadata": {},
   "outputs": [],
   "source": [
    "x = np.linspace(-5, 5, 20)\n",
    "y = (x >= 3).astype(int)"
   ]
  },
  {
   "cell_type": "code",
   "execution_count": 60,
   "id": "75fdba4b-c804-4493-b4be-cdd98dbbf974",
   "metadata": {},
   "outputs": [
    {
     "data": {
      "text/plain": [
       "array([0, 0, 0, 0, 0, 0, 0, 0, 0, 0, 0, 0, 0, 0, 0, 0, 1, 1, 1, 1])"
      ]
     },
     "execution_count": 60,
     "metadata": {},
     "output_type": "execute_result"
    }
   ],
   "source": [
    "y"
   ]
  },
  {
   "cell_type": "code",
   "execution_count": 61,
   "id": "f9f77c37-f305-4771-b11b-1efeea204ff4",
   "metadata": {},
   "outputs": [],
   "source": [
    "y_noise = np.random.normal(0, 0.1, len(x))"
   ]
  },
  {
   "cell_type": "code",
   "execution_count": 62,
   "id": "93cabb0c-cfec-4b77-9a54-0818d54447a5",
   "metadata": {},
   "outputs": [],
   "source": [
    "classification_model = LogisticRegression()"
   ]
  },
  {
   "cell_type": "code",
   "execution_count": 63,
   "id": "2d04d015-67c1-4d3d-9fcd-fbb253a068d4",
   "metadata": {},
   "outputs": [
    {
     "data": {
      "text/html": [
       "<style>#sk-container-id-2 {color: black;background-color: white;}#sk-container-id-2 pre{padding: 0;}#sk-container-id-2 div.sk-toggleable {background-color: white;}#sk-container-id-2 label.sk-toggleable__label {cursor: pointer;display: block;width: 100%;margin-bottom: 0;padding: 0.3em;box-sizing: border-box;text-align: center;}#sk-container-id-2 label.sk-toggleable__label-arrow:before {content: \"▸\";float: left;margin-right: 0.25em;color: #696969;}#sk-container-id-2 label.sk-toggleable__label-arrow:hover:before {color: black;}#sk-container-id-2 div.sk-estimator:hover label.sk-toggleable__label-arrow:before {color: black;}#sk-container-id-2 div.sk-toggleable__content {max-height: 0;max-width: 0;overflow: hidden;text-align: left;background-color: #f0f8ff;}#sk-container-id-2 div.sk-toggleable__content pre {margin: 0.2em;color: black;border-radius: 0.25em;background-color: #f0f8ff;}#sk-container-id-2 input.sk-toggleable__control:checked~div.sk-toggleable__content {max-height: 200px;max-width: 100%;overflow: auto;}#sk-container-id-2 input.sk-toggleable__control:checked~label.sk-toggleable__label-arrow:before {content: \"▾\";}#sk-container-id-2 div.sk-estimator input.sk-toggleable__control:checked~label.sk-toggleable__label {background-color: #d4ebff;}#sk-container-id-2 div.sk-label input.sk-toggleable__control:checked~label.sk-toggleable__label {background-color: #d4ebff;}#sk-container-id-2 input.sk-hidden--visually {border: 0;clip: rect(1px 1px 1px 1px);clip: rect(1px, 1px, 1px, 1px);height: 1px;margin: -1px;overflow: hidden;padding: 0;position: absolute;width: 1px;}#sk-container-id-2 div.sk-estimator {font-family: monospace;background-color: #f0f8ff;border: 1px dotted black;border-radius: 0.25em;box-sizing: border-box;margin-bottom: 0.5em;}#sk-container-id-2 div.sk-estimator:hover {background-color: #d4ebff;}#sk-container-id-2 div.sk-parallel-item::after {content: \"\";width: 100%;border-bottom: 1px solid gray;flex-grow: 1;}#sk-container-id-2 div.sk-label:hover label.sk-toggleable__label {background-color: #d4ebff;}#sk-container-id-2 div.sk-serial::before {content: \"\";position: absolute;border-left: 1px solid gray;box-sizing: border-box;top: 0;bottom: 0;left: 50%;z-index: 0;}#sk-container-id-2 div.sk-serial {display: flex;flex-direction: column;align-items: center;background-color: white;padding-right: 0.2em;padding-left: 0.2em;position: relative;}#sk-container-id-2 div.sk-item {position: relative;z-index: 1;}#sk-container-id-2 div.sk-parallel {display: flex;align-items: stretch;justify-content: center;background-color: white;position: relative;}#sk-container-id-2 div.sk-item::before, #sk-container-id-2 div.sk-parallel-item::before {content: \"\";position: absolute;border-left: 1px solid gray;box-sizing: border-box;top: 0;bottom: 0;left: 50%;z-index: -1;}#sk-container-id-2 div.sk-parallel-item {display: flex;flex-direction: column;z-index: 1;position: relative;background-color: white;}#sk-container-id-2 div.sk-parallel-item:first-child::after {align-self: flex-end;width: 50%;}#sk-container-id-2 div.sk-parallel-item:last-child::after {align-self: flex-start;width: 50%;}#sk-container-id-2 div.sk-parallel-item:only-child::after {width: 0;}#sk-container-id-2 div.sk-dashed-wrapped {border: 1px dashed gray;margin: 0 0.4em 0.5em 0.4em;box-sizing: border-box;padding-bottom: 0.4em;background-color: white;}#sk-container-id-2 div.sk-label label {font-family: monospace;font-weight: bold;display: inline-block;line-height: 1.2em;}#sk-container-id-2 div.sk-label-container {text-align: center;}#sk-container-id-2 div.sk-container {/* jupyter's `normalize.less` sets `[hidden] { display: none; }` but bootstrap.min.css set `[hidden] { display: none !important; }` so we also need the `!important` here to be able to override the default hidden behavior on the sphinx rendered scikit-learn.org. See: https://github.com/scikit-learn/scikit-learn/issues/21755 */display: inline-block !important;position: relative;}#sk-container-id-2 div.sk-text-repr-fallback {display: none;}</style><div id=\"sk-container-id-2\" class=\"sk-top-container\"><div class=\"sk-text-repr-fallback\"><pre>LogisticRegression()</pre><b>In a Jupyter environment, please rerun this cell to show the HTML representation or trust the notebook. <br />On GitHub, the HTML representation is unable to render, please try loading this page with nbviewer.org.</b></div><div class=\"sk-container\" hidden><div class=\"sk-item\"><div class=\"sk-estimator sk-toggleable\"><input class=\"sk-toggleable__control sk-hidden--visually\" id=\"sk-estimator-id-2\" type=\"checkbox\" checked><label for=\"sk-estimator-id-2\" class=\"sk-toggleable__label sk-toggleable__label-arrow\">LogisticRegression</label><div class=\"sk-toggleable__content\"><pre>LogisticRegression()</pre></div></div></div></div></div>"
      ],
      "text/plain": [
       "LogisticRegression()"
      ]
     },
     "execution_count": 63,
     "metadata": {},
     "output_type": "execute_result"
    }
   ],
   "source": [
    "classification_model.fit(x.reshape(-1, 1), y)"
   ]
  },
  {
   "cell_type": "code",
   "execution_count": 64,
   "id": "494787ca-c3fc-4ff8-8683-2796900f739b",
   "metadata": {},
   "outputs": [
    {
     "data": {
      "text/plain": [
       "array([0, 0, 0, 0, 0, 0, 0, 0, 0, 0, 0, 0, 0, 0, 0, 0, 1, 1, 1, 1])"
      ]
     },
     "execution_count": 64,
     "metadata": {},
     "output_type": "execute_result"
    }
   ],
   "source": [
    "classification_model.predict(x.reshape(-1, 1))"
   ]
  },
  {
   "cell_type": "code",
   "execution_count": 65,
   "id": "c6203501-a599-42f4-882a-e1dceebc7a13",
   "metadata": {},
   "outputs": [
    {
     "data": {
      "text/plain": [
       "<matplotlib.collections.PathCollection at 0x187d5e2ad50>"
      ]
     },
     "execution_count": 65,
     "metadata": {},
     "output_type": "execute_result"
    },
    {
     "data": {
      "image/png": "[encoded data removed]",
      "text/plain": [
       "<Figure size 640x480 with 1 Axes>"
      ]
     },
     "metadata": {},
     "output_type": "display_data"
    }
   ],
   "source": [
    "plt.scatter(x, y + y_noise)"
   ]
  },
  {
   "cell_type": "code",
   "execution_count": 66,
   "id": "a25e614c-d938-4d94-b7bf-523df559fe28",
   "metadata": {},
   "outputs": [
    {
     "data": {
      "text/plain": [
       "array([[1.40495051]])"
      ]
     },
     "execution_count": 66,
     "metadata": {},
     "output_type": "execute_result"
    }
   ],
   "source": [
    "classification_model.coef_"
   ]
  },
  {
   "cell_type": "code",
   "execution_count": 67,
   "id": "d00e9adc-3e6d-4fc4-9e04-5ff5aabb66e0",
   "metadata": {},
   "outputs": [
    {
     "data": {
      "text/plain": [
       "array([-4.48884031])"
      ]
     },
     "execution_count": 67,
     "metadata": {},
     "output_type": "execute_result"
    }
   ],
   "source": [
    "classification_model.intercept_"
   ]
  },
  {
   "cell_type": "code",
   "execution_count": 68,
   "id": "10fbf3c4-b87b-462b-b399-392df3156e25",
   "metadata": {},
   "outputs": [
    {
     "data": {
      "text/plain": [
       "array([[9.99990007e-01, 9.99322839e-06],\n",
       "       [9.99979067e-01, 2.09333671e-05],\n",
       "       [9.99956150e-01, 4.38497545e-05],\n",
       "       [9.99908149e-01, 9.18510967e-05],\n",
       "       [9.99807612e-01, 1.92388321e-04],\n",
       "       [9.99597074e-01, 4.02925981e-04],\n",
       "       [9.99156332e-01, 8.43668373e-04],\n",
       "       [9.98234333e-01, 1.76566722e-03],\n",
       "       [9.96308455e-01, 3.69154525e-03],\n",
       "       [9.92298158e-01, 7.70184181e-03],\n",
       "       [9.84001249e-01, 1.59987513e-02],\n",
       "       [9.67063059e-01, 3.29369409e-02],\n",
       "       [9.33405716e-01, 6.65942835e-02],\n",
       "       [8.69979055e-01, 1.30020945e-01],\n",
       "       [7.61573562e-01, 2.38426438e-01],\n",
       "       [6.03932624e-01, 3.96067376e-01],\n",
       "       [4.21268234e-01, 5.78731766e-01],\n",
       "       [2.57879928e-01, 7.42120072e-01],\n",
       "       [1.42281971e-01, 8.57718029e-01],\n",
       "       [7.33786330e-02, 9.26621367e-01]])"
      ]
     },
     "execution_count": 68,
     "metadata": {},
     "output_type": "execute_result"
    }
   ],
   "source": [
    "classification_model.predict_proba(x.reshape(-1, 1))"
   ]
  },
  {
   "cell_type": "code",
   "execution_count": 69,
   "id": "5723914b-23b7-4fbb-be06-6d6fea6d5449",
   "metadata": {},
   "outputs": [],
   "source": [
    "predictions = classification_model.predict_proba(x.reshape(-1, 1))"
   ]
  },
  {
   "cell_type": "code",
   "execution_count": 70,
   "id": "5728ec37-10d5-47ae-b0da-85481c979b45",
   "metadata": {},
   "outputs": [
    {
     "data": {
      "text/plain": [
       "array([ 0, 19], dtype=int64)"
      ]
     },
     "execution_count": 70,
     "metadata": {},
     "output_type": "execute_result"
    }
   ],
   "source": [
    "np.argmax(predictions, axis = 0)"
   ]
  },
  {
   "cell_type": "code",
   "execution_count": 71,
   "id": "e0cc1bbb-3f32-4157-b800-7c8f84ba45e6",
   "metadata": {},
   "outputs": [
    {
     "data": {
      "text/plain": [
       "array([0, 0, 0, 0, 0, 0, 0, 0, 0, 0, 0, 0, 0, 0, 0, 0, 1, 1, 1, 1],\n",
       "      dtype=int64)"
      ]
     },
     "execution_count": 71,
     "metadata": {},
     "output_type": "execute_result"
    }
   ],
   "source": [
    "np.argmax(predictions, axis = 1)"
   ]
  }
 ],
 "metadata": {
  "kernelspec": {
   "display_name": "Python 3 (ipykernel)",
   "language": "python",
   "name": "python3"
  },
  "language_info": {
   "codemirror_mode": {
    "name": "ipython",
    "version": 3
   },
   "file_extension": ".py",
   "mimetype": "text/x-python",
   "name": "python",
   "nbconvert_exporter": "python",
   "pygments_lexer": "ipython3",
   "version": "3.9.12"
  }
 },
 "nbformat": 4,
 "nbformat_minor": 5
}
