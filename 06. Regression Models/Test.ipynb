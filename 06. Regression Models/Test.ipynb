{
 "cells": [
  {
   "cell_type": "code",
   "execution_count": 1,
   "id": "7c38c82e-4f55-43fa-a887-8cc533ccdfc3",
   "metadata": {},
   "outputs": [],
   "source": [
    "import numpy as np\n",
    "import pandas as pd\n",
    "import matplotlib.pyplot as plt"
   ]
  },
  {
   "cell_type": "markdown",
   "id": "1f6283fe-84af-4809-8db4-9f2224e4a086",
   "metadata": {},
   "source": [
    "#### Linear Regression Functions\n",
    "__When building the linear regression model, we came across several new functions. One of these functions is shown below. What is the name of this function?__\n",
    "$$J = \\frac{1}{n} \\sum_{i} (y_{i} - \\hat{y}_{i})^2$$\n",
    "\n",
    "Answear: __cost function__\n",
    "\n",
    "Explanation: In the context of linear regression, the cost function measures how well the model's predictions $\\hat{y}$ match the actual values $y$\n",
    " . Specifically, this function calculates the average of the squared differences (errors) between the predicted values and the actual values. This particular form of the cost function is also commonly referred to as the __mean squared error (MSE)__ or the __least squares function__."
   ]
  }
 ],
 "metadata": {
  "kernelspec": {
   "display_name": "Python 3 (ipykernel)",
   "language": "python",
   "name": "python3"
  },
  "language_info": {
   "codemirror_mode": {
    "name": "ipython",
    "version": 3
   },
   "file_extension": ".py",
   "mimetype": "text/x-python",
   "name": "python",
   "nbconvert_exporter": "python",
   "pygments_lexer": "ipython3",
   "version": "3.9.12"
  }
 },
 "nbformat": 4,
 "nbformat_minor": 5
}
