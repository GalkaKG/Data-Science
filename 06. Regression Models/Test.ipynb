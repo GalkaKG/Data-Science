{
 "cells": [
  {
   "cell_type": "code",
   "execution_count": 1,
   "id": "7c38c82e-4f55-43fa-a887-8cc533ccdfc3",
   "metadata": {},
   "outputs": [],
   "source": [
    "import numpy as np\n",
    "import pandas as pd\n",
    "import matplotlib.pyplot as plt"
   ]
  },
  {
   "cell_type": "markdown",
   "id": "1f6283fe-84af-4809-8db4-9f2224e4a086",
   "metadata": {},
   "source": [
    "#### Linear Regression Functions\n",
    "__When building the linear regression model, we came across several new functions. One of these functions is shown below. What is the name of this function?__\n",
    "$$J = \\frac{1}{n} \\sum_{i} (y_{i} - \\hat{y}_{i})^2$$\n",
    "\n",
    "Answear: __cost function__Income, Part 1\n",
    "We have collected data from an ice cream shop. We modelled the income as a function of the outside temperature (shown below). Which of the following is / are true, based on this research only?\n",
    "\n",
    "Explanation: In the context of linear regression, the cost function measures how well the model's predictions $\\hat{y}$ match the actual values $y$\n",
    " . Specifically, this function calculates the average of the squared differences (errors) between the predicted values and the actual values. This particular form of the cost function is also commonly referred to as the __mean squared error (MSE)__ or the __least squares function__."
   ]
  },
  {
   "cell_type": "markdown",
   "id": "88985eb0-aeaf-464e-9a79-ee0542e00df2",
   "metadata": {},
   "source": [
    "#### Income, Part 1\n",
    "__We have collected data from an ice cream shop. We modelled the income as a function of the outside temperature (shown below). Which of the following is / are true, based on this research only?__\n",
    "$$\\text{income}[$] = 20.67449411T[°C] - 30.12047857$$\n",
    "\n",
    "Correct Answears:\n",
    "- Increasing temperature increases ice cream sales\n",
    "- Increased temperature is correlated with increased ice cream sales\n",
    "- Decreased temperature is correlated with decreased ice cream sales"
   ]
  },
  {
   "cell_type": "markdown",
   "id": "75a46eaa-cf97-421f-9fc1-7bc4b94c2581",
   "metadata": {},
   "source": [
    "#### Income, Part 2\n",
    "__In some cases we need to augment (extend) the model to return valid results. What income (in dollars) will our current model predict when the temperature is 1.2 degrees? Round your answer to 2 decimal places.__\n",
    "\n",
    "Answear: −5.31"
   ]
  },
  {
   "cell_type": "markdown",
   "id": "33ffe550-f358-4a88-9473-769eac9cdb94",
   "metadata": {},
   "source": [
    "#### Income, Part 3\n",
    "__The specification tells that \"income\" is defined as being non-negative. The model does not account for operational costs or anything like that. We need to return a valid value based on our specification. What income (in dollars) should an augmented model predict for T = 1.2 deg C? Round your answer to 2 decimal places.__\n",
    "\n",
    "Answear: 0.00"
   ]
  },
  {
   "cell_type": "markdown",
   "id": "085ba653-88c7-463b-b21e-928a4a2de969",
   "metadata": {},
   "source": [
    "#### Local Minima\n",
    "__When performing gradient descent on a linear regression, the choice of starting point is really important. If we choose a starting point which is far away from the global minimum of the error function, we can get stuck in a local minimum.__\n",
    "\n",
    "Answear: False"
   ]
  },
  {
   "cell_type": "markdown",
   "id": "bf74ff8c-2dfd-4421-b523-8f17111be9c8",
   "metadata": {},
   "source": [
    "#### Multiple Regression, Part 1\n",
    "__As we already saw, we can do linear regression on many variables. The Boston housing dataset is really famous and is often used for this purpose. You can download it online or - better - load it using scikit-learn (look up how). Note: This dataset is cleaned and prepared for modelling. If you want to download the original one and prepare it yourself, you're in for quite a challenge :). Now, Perform linear regression on all features. What is the coefficient related to the number of rooms? Round your answer to two decimal places.__"
   ]
  },
  {
   "cell_type": "code",
   "execution_count": 3,
   "id": "193edc24-d0a6-449d-8117-e47d99cc728d",
   "metadata": {},
   "outputs": [
    {
     "name": "stderr",
     "output_type": "stream",
     "text": [
      "C:\\Users\\galin\\anaconda3\\lib\\site-packages\\sklearn\\utils\\deprecation.py:87: FutureWarning: Function load_boston is deprecated; `load_boston` is deprecated in 1.0 and will be removed in 1.2.\n",
      "\n",
      "    The Boston housing prices dataset has an ethical problem. You can refer to\n",
      "    the documentation of this function for further details.\n",
      "\n",
      "    The scikit-learn maintainers therefore strongly discourage the use of this\n",
      "    dataset unless the purpose of the code is to study and educate about\n",
      "    ethical issues in data science and machine learning.\n",
      "\n",
      "    In this special case, you can fetch the dataset from the original\n",
      "    source::\n",
      "\n",
      "        import pandas as pd\n",
      "        import numpy as np\n",
      "\n",
      "\n",
      "        data_url = \"http://lib.stat.cmu.edu/datasets/boston\"\n",
      "        raw_df = pd.read_csv(data_url, sep=\"\\s+\", skiprows=22, header=None)\n",
      "        data = np.hstack([raw_df.values[::2, :], raw_df.values[1::2, :2]])\n",
      "        target = raw_df.values[1::2, 2]\n",
      "\n",
      "    Alternative datasets include the California housing dataset (i.e.\n",
      "    :func:`~sklearn.datasets.fetch_california_housing`) and the Ames housing\n",
      "    dataset. You can load the datasets as follows::\n",
      "\n",
      "        from sklearn.datasets import fetch_california_housing\n",
      "        housing = fetch_california_housing()\n",
      "\n",
      "    for the California housing dataset and::\n",
      "\n",
      "        from sklearn.datasets import fetch_openml\n",
      "        housing = fetch_openml(name=\"house_prices\", as_frame=True)\n",
      "\n",
      "    for the Ames housing dataset.\n",
      "    \n",
      "  warnings.warn(msg, category=FutureWarning)\n"
     ]
    },
    {
     "data": {
      "text/plain": [
       "3.81"
      ]
     },
     "execution_count": 3,
     "metadata": {},
     "output_type": "execute_result"
    }
   ],
   "source": [
    "from sklearn.datasets import load_boston\n",
    "from sklearn.linear_model import LinearRegression\n",
    "\n",
    "# Load the Boston housing dataset\n",
    "boston = load_boston()\n",
    "X = pd.DataFrame(boston.data, columns=boston.feature_names)\n",
    "y = boston.target\n",
    "\n",
    "# Fit a linear regression model\n",
    "model = LinearRegression()\n",
    "model.fit(X, y)\n",
    "\n",
    "# Retrieve the coefficient related to the number of rooms (RM)\n",
    "rm_index = list(X.columns).index('RM')\n",
    "rm_coefficient = model.coef_[rm_index]\n",
    "\n",
    "# Round the coefficient to two decimal places\n",
    "rm_coefficient_rounded = round(rm_coefficient, 2)\n",
    "\n",
    "rm_coefficient_rounded"
   ]
  },
  {
   "cell_type": "code",
   "execution_count": 6,
   "id": "fe847859-1d53-47de-a520-3d848eb0eebc",
   "metadata": {},
   "outputs": [
    {
     "name": "stderr",
     "output_type": "stream",
     "text": [
      "C:\\Users\\galin\\anaconda3\\lib\\site-packages\\sklearn\\utils\\validation.py:964: FutureWarning: Arrays of bytes/strings is being converted to decimal numbers if dtype='numeric'. This behavior is deprecated in 0.24 and will be removed in 1.1 (renaming of 0.26). Please convert your data to numeric values explicitly instead.\n",
      "  X = check_array(\n"
     ]
    },
    {
     "data": {
      "text/plain": [
       "3.81"
      ]
     },
     "execution_count": 6,
     "metadata": {},
     "output_type": "execute_result"
    }
   ],
   "source": [
    "from sklearn.datasets import fetch_openml\n",
    "from sklearn.linear_model import LinearRegression\n",
    "\n",
    "# Load the Boston housing dataset\n",
    "boston = fetch_openml(name='boston', version=1, as_frame=True)\n",
    "X = boston.data\n",
    "y = boston.target\n",
    "\n",
    "# Fit a linear regression model\n",
    "model = LinearRegression()\n",
    "model.fit(X, y)\n",
    "\n",
    "# Retrieve the coefficient related to the number of rooms (RM)\n",
    "rm_index = list(X.columns).index('RM')\n",
    "rm_coefficient = model.coef_[rm_index]\n",
    "\n",
    "# Round the coefficient to two decimal places\n",
    "rm_coefficient_rounded = round(rm_coefficient, 2)\n",
    "\n",
    "rm_coefficient_rounded\n"
   ]
  },
  {
   "cell_type": "markdown",
   "id": "111454a6-4e1c-430d-bf80-a1d89574cb7e",
   "metadata": {},
   "source": [
    "Answear: 3.81"
   ]
  },
  {
   "cell_type": "markdown",
   "id": "a09253b3-4907-4a55-8a80-43795ce77e00",
   "metadata": {},
   "source": [
    "#### Multiple Regression, Part 2\n",
    "__What is the price of a hypothetical house with all variables set to zero? Round your answer to two decimal places.__"
   ]
  },
  {
   "cell_type": "code",
   "execution_count": 9,
   "id": "113454d8-f597-4870-8c03-58c57a71e240",
   "metadata": {},
   "outputs": [
    {
     "data": {
      "text/plain": [
       "36.46"
      ]
     },
     "execution_count": 9,
     "metadata": {},
     "output_type": "execute_result"
    }
   ],
   "source": [
    "# Retrieve the intercept\n",
    "intercept = model.intercept_\n",
    "\n",
    "# Round the intercept to two decimal places\n",
    "intercept_rounded = round(intercept, 2)\n",
    "\n",
    "intercept_rounded"
   ]
  },
  {
   "cell_type": "markdown",
   "id": "57a67f7c-f0c1-451d-9403-a28504585d6f",
   "metadata": {},
   "source": [
    "Answear: 36.46"
   ]
  },
  {
   "cell_type": "markdown",
   "id": "4b62c2ee-5a8a-4165-8342-fb5ba8efc186",
   "metadata": {},
   "source": [
    "#### Multiple Regression, Part 3\n",
    "__It's good to have a model of the data but it means nothing if we have no way of testing it. A way to test regression algorithms involves the so-called \"coefficient of determination\" (R^2). Research how to compute it and apply it to the regression model you just created. What is the coefficient of determination for this model? Round your answer to two decimal places. (Note: Compute the coefficient of determination using all the data. Technically, this is not correct but at least gives a good idea of how this model performs. If you're more interested, look up \"training and testing set\".)__"
   ]
  },
  {
   "cell_type": "code",
   "execution_count": 10,
   "id": "a2e4068f-b45e-48de-ba70-1d646e7293bc",
   "metadata": {},
   "outputs": [
    {
     "name": "stderr",
     "output_type": "stream",
     "text": [
      "C:\\Users\\galin\\anaconda3\\lib\\site-packages\\sklearn\\base.py:566: FutureWarning: Arrays of bytes/strings is being converted to decimal numbers if dtype='numeric'. This behavior is deprecated in 0.24 and will be removed in 1.1 (renaming of 0.26). Please convert your data to numeric values explicitly instead.\n",
      "  X = check_array(X, **check_params)\n"
     ]
    },
    {
     "data": {
      "text/plain": [
       "0.74"
      ]
     },
     "execution_count": 10,
     "metadata": {},
     "output_type": "execute_result"
    }
   ],
   "source": [
    "# Compute the coefficient of determination (R^2)\n",
    "r_squared = model.score(X, y)\n",
    "\n",
    "# Round the R^2 value to two decimal places\n",
    "r_squared_rounded = round(r_squared, 2)\n",
    "\n",
    "r_squared_rounded"
   ]
  },
  {
   "cell_type": "markdown",
   "id": "7d6800d6-1074-4627-b0f1-e2ede642ab77",
   "metadata": {},
   "source": [
    "Answear: 0.74"
   ]
  }
 ],
 "metadata": {
  "kernelspec": {
   "display_name": "Python 3 (ipykernel)",
   "language": "python",
   "name": "python3"
  },
  "language_info": {
   "codemirror_mode": {
    "name": "ipython",
    "version": 3
   },
   "file_extension": ".py",
   "mimetype": "text/x-python",
   "name": "python",
   "nbconvert_exporter": "python",
   "pygments_lexer": "ipython3",
   "version": "3.9.12"
  }
 },
 "nbformat": 4,
 "nbformat_minor": 5
}
