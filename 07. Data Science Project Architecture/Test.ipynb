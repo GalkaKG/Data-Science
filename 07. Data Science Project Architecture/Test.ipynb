{
 "cells": [
  {
   "cell_type": "code",
   "execution_count": 1,
   "id": "3ec650f4-8437-4a98-bbc2-a63b7b6d3033",
   "metadata": {},
   "outputs": [],
   "source": [
    "import numpy as np\n",
    "import pandas as pd\n",
    "import matplotlib.pyplot as plt"
   ]
  },
  {
   "cell_type": "markdown",
   "id": "92a50b66-9a68-4ced-899c-1d569eb6f0b6",
   "metadata": {},
   "source": [
    "## Naming\n",
    "Which convention is typically used in Python for local variable names?\n",
    "\n",
    "Answear: snake_case"
   ]
  },
  {
   "cell_type": "markdown",
   "id": "b660984f-77f6-4f9e-bbc4-68828291818c",
   "metadata": {},
   "source": [
    "## OOP Basics\n",
    "\n",
    "If you create a Python class, you will probably need a constructor. What is the method signature of a constructor with no arguments in Python? Hint: Try it yourself and copy the answer directly.\n",
    "\n",
    "Answear: def \\_\\_init__(self):\n"
   ]
  },
  {
   "cell_type": "markdown",
   "id": "99b48120-f2e1-4820-994e-5b3f2cd5e87f",
   "metadata": {},
   "source": [
    "## Function Calls\n",
    "\n",
    "When we perform a function call, the Python interpreter saves \"the current state\" (called an \"environment\" in technical terms) in a specific data structure. What is this structure called?\n",
    "\n",
    "Answear: Call stack"
   ]
  },
  {
   "cell_type": "markdown",
   "id": "ba3a89cd-e267-45b0-97d5-d9649d7f108c",
   "metadata": {},
   "source": [
    "## Cohesion and Coupling\n",
    "Imagine you write some code. A colleague leaves a written code review. As part of the review, they state that \"your code demonstrates strong cohesion and loose coupling\". Is that good or bad?\n",
    " \n",
    "Answear: Good\n"
   ]
  },
  {
   "cell_type": "markdown",
   "id": "7bb426fc-92f4-4eec-a818-d0a0b28c8c3b",
   "metadata": {},
   "source": [
    "## Unit Testing\n",
    "Which of the following describes unit testing best?\n",
    "\n",
    "Answear: Testing a single function, method, or class\n"
   ]
  },
  {
   "cell_type": "markdown",
   "id": "3d2d903c-8004-4dd3-9b1c-419ab8407924",
   "metadata": {},
   "source": [
    "## Vectorization\n",
    "Suppose you have a matrix A and a vector x, defined below. To find the product Ax, you can use the multiply() function. You, however, want to use its vectorized form. First, you convert A and x to numpy arrays. Which of the following will give you the same result as the multiply() function?\n",
    "\n",
    "<img src=\"img.png\" />\n",
    "\n",
    "Answear: $np.dot(A, x)$"
   ]
  },
  {
   "cell_type": "markdown",
   "id": "495ef49e-9cf7-4213-9d9a-e8de6dbc67d7",
   "metadata": {},
   "source": [
    "## Reproducibility\n",
    "Which of the following options is a fully reproducible study? Note that there is a distinction between replication and reproducibility.\n",
    "\n",
    "Answear: The data and code are available; when the code is run on the data, it gives similar results to the original study"
   ]
  },
  {
   "cell_type": "markdown",
   "id": "3bac8664-f035-419b-8d32-fa0815aea5f0",
   "metadata": {},
   "source": [
    "## Evidence-Based Research\n",
    "Evidence-based research gives more freedom to the researcher to choose variables, algorithms, and parameters.\n",
    "\n",
    "Answear: False"
   ]
  }
 ],
 "metadata": {
  "kernelspec": {
   "display_name": "Python 3 (ipykernel)",
   "language": "python",
   "name": "python3"
  },
  "language_info": {
   "codemirror_mode": {
    "name": "ipython",
    "version": 3
   },
   "file_extension": ".py",
   "mimetype": "text/x-python",
   "name": "python",
   "nbconvert_exporter": "python",
   "pygments_lexer": "ipython3",
   "version": "3.9.12"
  }
 },
 "nbformat": 4,
 "nbformat_minor": 5
}
