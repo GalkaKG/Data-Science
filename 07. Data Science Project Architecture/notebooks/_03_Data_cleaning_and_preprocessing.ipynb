{
 "cells": [
  {
   "cell_type": "code",
   "execution_count": 37,
   "id": "1c845ac8-0fa9-49c1-91dd-a4619d404149",
   "metadata": {},
   "outputs": [],
   "source": [
    "import numpy as np\n",
    "import pandas as pd\n",
    "import matplotlib.pyplot as plt\n",
    "import seaborn as sns\n",
    "\n",
    "from sklearn.preprocessing import StandardScaler"
   ]
  },
  {
   "cell_type": "code",
   "execution_count": 3,
   "id": "a19d7b4e-f750-4a8a-94b9-35348ee01ccb",
   "metadata": {},
   "outputs": [
    {
     "name": "stdout",
     "output_type": "stream",
     "text": [
      "Collecting nbimporter\n",
      "  Downloading nbimporter-0.3.4-py3-none-any.whl.metadata (252 bytes)\n",
      "Downloading nbimporter-0.3.4-py3-none-any.whl (4.9 kB)\n",
      "Installing collected packages: nbimporter\n",
      "Successfully installed nbimporter-0.3.4\n"
     ]
    }
   ],
   "source": [
    "!pip install nbimporter"
   ]
  },
  {
   "cell_type": "code",
   "execution_count": 20,
   "id": "f907f2e3-58ba-4ebb-9d2c-788dd73bfe35",
   "metadata": {},
   "outputs": [],
   "source": [
    "import nbimporter\n",
    "\n",
    "# Import the notebook as a module\n",
    "import _02_Data_Exploration as data_exploration"
   ]
  },
  {
   "cell_type": "code",
   "execution_count": 5,
   "id": "6e3a4ae6-c147-43f0-a593-769b50c90ea0",
   "metadata": {},
   "outputs": [],
   "source": [
    "# %run \"02. Data Exploration.ipynb\""
   ]
  },
  {
   "cell_type": "code",
   "execution_count": 33,
   "id": "c14506d8-5390-438a-8d90-eaa8df577437",
   "metadata": {},
   "outputs": [
    {
     "data": {
      "text/plain": [
       "PatientID                   int64\n",
       "Age                         int64\n",
       "Gender                      int64\n",
       "Ethnicity                   int64\n",
       "EducationLevel              int64\n",
       "BMI                       float64\n",
       "Smoking                     int64\n",
       "PhysicalActivity          float64\n",
       "DietQuality               float64\n",
       "SleepQuality              float64\n",
       "PollutionExposure         float64\n",
       "PollenExposure            float64\n",
       "DustExposure              float64\n",
       "PetAllergy                  int64\n",
       "FamilyHistoryAsthma         int64\n",
       "HistoryOfAllergies          int64\n",
       "Eczema                      int64\n",
       "HayFever                    int64\n",
       "GastroesophagealReflux      int64\n",
       "LungFunctionFEV1          float64\n",
       "LungFunctionFVC           float64\n",
       "Wheezing                    int64\n",
       "ShortnessOfBreath           int64\n",
       "ChestTightness              int64\n",
       "Coughing                    int64\n",
       "NighttimeSymptoms           int64\n",
       "ExerciseInduced             int64\n",
       "Diagnosis                   int64\n",
       "DoctorInCharge             object\n",
       "dtype: object"
      ]
     },
     "execution_count": 33,
     "metadata": {},
     "output_type": "execute_result"
    }
   ],
   "source": [
    "df.dtypes"
   ]
  },
  {
   "cell_type": "code",
   "execution_count": 31,
   "id": "db257870-bc7b-4842-ae0f-a18eb8ce63cb",
   "metadata": {},
   "outputs": [
    {
     "data": {
      "text/plain": [
       "PatientID                 0\n",
       "Age                       0\n",
       "Gender                    0\n",
       "Ethnicity                 0\n",
       "EducationLevel            0\n",
       "BMI                       0\n",
       "Smoking                   0\n",
       "PhysicalActivity          0\n",
       "DietQuality               0\n",
       "SleepQuality              0\n",
       "PollutionExposure         0\n",
       "PollenExposure            0\n",
       "DustExposure              0\n",
       "PetAllergy                0\n",
       "FamilyHistoryAsthma       0\n",
       "HistoryOfAllergies        0\n",
       "Eczema                    0\n",
       "HayFever                  0\n",
       "GastroesophagealReflux    0\n",
       "LungFunctionFEV1          0\n",
       "LungFunctionFVC           0\n",
       "Wheezing                  0\n",
       "ShortnessOfBreath         0\n",
       "ChestTightness            0\n",
       "Coughing                  0\n",
       "NighttimeSymptoms         0\n",
       "ExerciseInduced           0\n",
       "Diagnosis                 0\n",
       "DoctorInCharge            0\n",
       "dtype: int64"
      ]
     },
     "execution_count": 31,
     "metadata": {},
     "output_type": "execute_result"
    }
   ],
   "source": [
    "df.isnull().sum()"
   ]
  },
  {
   "cell_type": "markdown",
   "id": "22e2b948-7ce9-4389-a850-cf16892eff9a",
   "metadata": {},
   "source": [
    "### Example of filling missing values"
   ]
  },
  {
   "cell_type": "code",
   "execution_count": 13,
   "id": "1bcaa5d8-810c-4471-a4c1-b16fe8acbe19",
   "metadata": {},
   "outputs": [
    {
     "name": "stderr",
     "output_type": "stream",
     "text": [
      "C:\\Users\\galin\\AppData\\Local\\Temp\\ipykernel_31676\\3208242791.py:1: FutureWarning: Dropping of nuisance columns in DataFrame reductions (with 'numeric_only=None') is deprecated; in a future version this will raise TypeError.  Select only valid columns before calling the reduction.\n",
      "  df.fillna(df.mean(), inplace=True)  # For numerical columns\n"
     ]
    }
   ],
   "source": [
    "df.fillna(df.mean(), inplace=True)  # For numerical columns\n",
    "df.fillna(df.mode().iloc[0], inplace=True)  # For categorical columns"
   ]
  },
  {
   "cell_type": "code",
   "execution_count": 14,
   "id": "da45f226-e4e0-4b6e-8215-9b5fddef3f66",
   "metadata": {},
   "outputs": [
    {
     "name": "stdout",
     "output_type": "stream",
     "text": [
      "Series([], dtype: int64)\n"
     ]
    },
    {
     "data": {
      "image/png": "[encoded data removed]",
      "text/plain": [
       "<Figure size 432x288 with 1 Axes>"
      ]
     },
     "metadata": {
      "needs_background": "light"
     },
     "output_type": "display_data"
    }
   ],
   "source": [
    "# Check for missing values\n",
    "missing_values = df.isnull().sum()\n",
    "print(missing_values[missing_values > 0])\n",
    "\n",
    "sns.heatmap(df.isnull(), cbar=False, cmap='viridis')\n",
    "plt.title('Missing Values Heatmap')\n",
    "plt.show()\n"
   ]
  },
  {
   "cell_type": "code",
   "execution_count": 16,
   "id": "f057fc2c-0abe-47e3-a4e2-04968bda4463",
   "metadata": {},
   "outputs": [],
   "source": [
    "# Impute missing values with mode (categorical features)\n",
    "df.fillna(df.mode().iloc[0], inplace=True)\n",
    "\n",
    "# Alternatively, use a placeholder value\n",
    "# df.fillna('Unknown', inplace=True)"
   ]
  },
  {
   "cell_type": "code",
   "execution_count": 34,
   "id": "6361898d-a91c-40e9-9be6-d1cee0734bb7",
   "metadata": {},
   "outputs": [],
   "source": [
    "numerical_features = [\n",
    "    'BMI', 'PhysicalActivity', 'DietQuality', 'SleepQuality', 'PollutionExposure',\n",
    "    'PollenExposure', 'DustExposure', 'LungFunctionFEV1', 'LungFunctionFVC'\n",
    "]"
   ]
  },
  {
   "cell_type": "markdown",
   "id": "841701f4-7fe5-41d6-bfe1-028d9c336bc9",
   "metadata": {},
   "source": [
    "### Scaling numerical features"
   ]
  },
  {
   "cell_type": "code",
   "execution_count": 38,
   "id": "e9ca75ec-9a55-49b4-b0fd-98718237a47e",
   "metadata": {},
   "outputs": [],
   "source": [
    "scaler = StandardScaler()\n",
    "df[numerical_features] = scaler.fit_transform(df[numerical_features])"
   ]
  },
  {
   "cell_type": "code",
   "execution_count": 40,
   "id": "255e6391-cea5-4388-bad7-ba02b0ecbf54",
   "metadata": {},
   "outputs": [
    {
     "data": {
      "text/html": [
       "<div>\n",
       "<style scoped>\n",
       "    .dataframe tbody tr th:only-of-type {\n",
       "        vertical-align: middle;\n",
       "    }\n",
       "\n",
       "    .dataframe tbody tr th {\n",
       "        vertical-align: top;\n",
       "    }\n",
       "\n",
       "    .dataframe thead th {\n",
       "        text-align: right;\n",
       "    }\n",
       "</style>\n",
       "<table border=\"1\" class=\"dataframe\">\n",
       "  <thead>\n",
       "    <tr style=\"text-align: right;\">\n",
       "      <th></th>\n",
       "      <th>PatientID</th>\n",
       "      <th>Age</th>\n",
       "      <th>Gender</th>\n",
       "      <th>Ethnicity</th>\n",
       "      <th>EducationLevel</th>\n",
       "      <th>BMI</th>\n",
       "      <th>Smoking</th>\n",
       "      <th>PhysicalActivity</th>\n",
       "      <th>DietQuality</th>\n",
       "      <th>SleepQuality</th>\n",
       "      <th>...</th>\n",
       "      <th>LungFunctionFEV1</th>\n",
       "      <th>LungFunctionFVC</th>\n",
       "      <th>Wheezing</th>\n",
       "      <th>ShortnessOfBreath</th>\n",
       "      <th>ChestTightness</th>\n",
       "      <th>Coughing</th>\n",
       "      <th>NighttimeSymptoms</th>\n",
       "      <th>ExerciseInduced</th>\n",
       "      <th>Diagnosis</th>\n",
       "      <th>DoctorInCharge</th>\n",
       "    </tr>\n",
       "  </thead>\n",
       "  <tbody>\n",
       "    <tr>\n",
       "      <th>0</th>\n",
       "      <td>5034</td>\n",
       "      <td>63</td>\n",
       "      <td>0</td>\n",
       "      <td>1</td>\n",
       "      <td>0</td>\n",
       "      <td>-1.582769</td>\n",
       "      <td>0</td>\n",
       "      <td>-1.432099</td>\n",
       "      <td>0.160113</td>\n",
       "      <td>0.971063</td>\n",
       "      <td>...</td>\n",
       "      <td>-1.368934</td>\n",
       "      <td>0.920608</td>\n",
       "      <td>0</td>\n",
       "      <td>0</td>\n",
       "      <td>1</td>\n",
       "      <td>0</td>\n",
       "      <td>0</td>\n",
       "      <td>1</td>\n",
       "      <td>0</td>\n",
       "      <td>Dr_Confid</td>\n",
       "    </tr>\n",
       "    <tr>\n",
       "      <th>1</th>\n",
       "      <td>5035</td>\n",
       "      <td>26</td>\n",
       "      <td>1</td>\n",
       "      <td>2</td>\n",
       "      <td>2</td>\n",
       "      <td>-0.623300</td>\n",
       "      <td>0</td>\n",
       "      <td>0.291269</td>\n",
       "      <td>0.453069</td>\n",
       "      <td>-1.076746</td>\n",
       "      <td>...</td>\n",
       "      <td>-0.407132</td>\n",
       "      <td>-1.564256</td>\n",
       "      <td>1</td>\n",
       "      <td>0</td>\n",
       "      <td>0</td>\n",
       "      <td>1</td>\n",
       "      <td>1</td>\n",
       "      <td>1</td>\n",
       "      <td>0</td>\n",
       "      <td>Dr_Confid</td>\n",
       "    </tr>\n",
       "    <tr>\n",
       "      <th>2</th>\n",
       "      <td>5036</td>\n",
       "      <td>57</td>\n",
       "      <td>0</td>\n",
       "      <td>2</td>\n",
       "      <td>1</td>\n",
       "      <td>-1.229074</td>\n",
       "      <td>0</td>\n",
       "      <td>0.581330</td>\n",
       "      <td>1.434458</td>\n",
       "      <td>-0.102976</td>\n",
       "      <td>...</td>\n",
       "      <td>-0.987146</td>\n",
       "      <td>0.983019</td>\n",
       "      <td>1</td>\n",
       "      <td>1</td>\n",
       "      <td>1</td>\n",
       "      <td>0</td>\n",
       "      <td>1</td>\n",
       "      <td>1</td>\n",
       "      <td>0</td>\n",
       "      <td>Dr_Confid</td>\n",
       "    </tr>\n",
       "    <tr>\n",
       "      <th>3</th>\n",
       "      <td>5037</td>\n",
       "      <td>40</td>\n",
       "      <td>1</td>\n",
       "      <td>2</td>\n",
       "      <td>1</td>\n",
       "      <td>1.565307</td>\n",
       "      <td>0</td>\n",
       "      <td>-1.256398</td>\n",
       "      <td>0.276233</td>\n",
       "      <td>-1.596880</td>\n",
       "      <td>...</td>\n",
       "      <td>0.561114</td>\n",
       "      <td>-1.105641</td>\n",
       "      <td>1</td>\n",
       "      <td>0</td>\n",
       "      <td>1</td>\n",
       "      <td>1</td>\n",
       "      <td>1</td>\n",
       "      <td>0</td>\n",
       "      <td>0</td>\n",
       "      <td>Dr_Confid</td>\n",
       "    </tr>\n",
       "    <tr>\n",
       "      <th>4</th>\n",
       "      <td>5038</td>\n",
       "      <td>61</td>\n",
       "      <td>0</td>\n",
       "      <td>0</td>\n",
       "      <td>3</td>\n",
       "      <td>-1.105686</td>\n",
       "      <td>0</td>\n",
       "      <td>-0.154081</td>\n",
       "      <td>-0.651625</td>\n",
       "      <td>1.504976</td>\n",
       "      <td>...</td>\n",
       "      <td>1.070095</td>\n",
       "      <td>-0.516586</td>\n",
       "      <td>1</td>\n",
       "      <td>1</td>\n",
       "      <td>1</td>\n",
       "      <td>0</td>\n",
       "      <td>0</td>\n",
       "      <td>1</td>\n",
       "      <td>0</td>\n",
       "      <td>Dr_Confid</td>\n",
       "    </tr>\n",
       "  </tbody>\n",
       "</table>\n",
       "<p>5 rows × 29 columns</p>\n",
       "</div>"
      ],
      "text/plain": [
       "   PatientID  Age  Gender  Ethnicity  EducationLevel       BMI  Smoking  \\\n",
       "0       5034   63       0          1               0 -1.582769        0   \n",
       "1       5035   26       1          2               2 -0.623300        0   \n",
       "2       5036   57       0          2               1 -1.229074        0   \n",
       "3       5037   40       1          2               1  1.565307        0   \n",
       "4       5038   61       0          0               3 -1.105686        0   \n",
       "\n",
       "   PhysicalActivity  DietQuality  SleepQuality  ...  LungFunctionFEV1  \\\n",
       "0         -1.432099     0.160113      0.971063  ...         -1.368934   \n",
       "1          0.291269     0.453069     -1.076746  ...         -0.407132   \n",
       "2          0.581330     1.434458     -0.102976  ...         -0.987146   \n",
       "3         -1.256398     0.276233     -1.596880  ...          0.561114   \n",
       "4         -0.154081    -0.651625      1.504976  ...          1.070095   \n",
       "\n",
       "   LungFunctionFVC  Wheezing  ShortnessOfBreath  ChestTightness  Coughing  \\\n",
       "0         0.920608         0                  0               1         0   \n",
       "1        -1.564256         1                  0               0         1   \n",
       "2         0.983019         1                  1               1         0   \n",
       "3        -1.105641         1                  0               1         1   \n",
       "4        -0.516586         1                  1               1         0   \n",
       "\n",
       "   NighttimeSymptoms  ExerciseInduced  Diagnosis  DoctorInCharge  \n",
       "0                  0                1          0       Dr_Confid  \n",
       "1                  1                1          0       Dr_Confid  \n",
       "2                  1                1          0       Dr_Confid  \n",
       "3                  1                0          0       Dr_Confid  \n",
       "4                  0                1          0       Dr_Confid  \n",
       "\n",
       "[5 rows x 29 columns]"
      ]
     },
     "execution_count": 40,
     "metadata": {},
     "output_type": "execute_result"
    }
   ],
   "source": [
    "df.head()"
   ]
  },
  {
   "cell_type": "markdown",
   "id": "d37e14cf-1128-4cbf-9c20-730d42e2d0e1",
   "metadata": {},
   "source": [
    "### Feature engineering: Interaction between BMI and Physical Activity"
   ]
  },
  {
   "cell_type": "code",
   "execution_count": 44,
   "id": "e798b4a0-6402-42fc-9bbc-716bab4f53fd",
   "metadata": {},
   "outputs": [],
   "source": [
    "df['BMI_PhysicalActivity'] = df['BMI'] * df['PhysicalActivity']"
   ]
  },
  {
   "cell_type": "code",
   "execution_count": 43,
   "id": "8ba29731-04ad-4bd9-83a0-50bd41165ca7",
   "metadata": {},
   "outputs": [
    {
     "data": {
      "text/plain": [
       "0       2.266683\n",
       "1      -0.181548\n",
       "2      -0.714497\n",
       "3      -1.966649\n",
       "4       0.170366\n",
       "          ...   \n",
       "2387   -0.176417\n",
       "2388   -0.234435\n",
       "2389   -0.148975\n",
       "2390   -0.840122\n",
       "2391   -0.144468\n",
       "Name: BMI_PhysicalActivity, Length: 2392, dtype: float64"
      ]
     },
     "execution_count": 43,
     "metadata": {},
     "output_type": "execute_result"
    }
   ],
   "source": [
    "df['BMI_PhysicalActivity']"
   ]
  }
 ],
 "metadata": {
  "kernelspec": {
   "display_name": "Python 3 (ipykernel)",
   "language": "python",
   "name": "python3"
  },
  "language_info": {
   "codemirror_mode": {
    "name": "ipython",
    "version": 3
   },
   "file_extension": ".py",
   "mimetype": "text/x-python",
   "name": "python",
   "nbconvert_exporter": "python",
   "pygments_lexer": "ipython3",
   "version": "3.9.12"
  }
 },
 "nbformat": 4,
 "nbformat_minor": 5
}
