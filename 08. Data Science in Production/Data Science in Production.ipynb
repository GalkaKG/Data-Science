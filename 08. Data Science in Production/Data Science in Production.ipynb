{
 "cells": [
  {
   "cell_type": "markdown",
   "id": "8f647814-88fa-4d23-96c8-e79b804c1bb3",
   "metadata": {},
   "source": [
    "# Data Science in Production"
   ]
  },
  {
   "cell_type": "markdown",
   "id": "600b1bd8-b738-44ce-b2bb-b953ed49378e",
   "metadata": {},
   "source": [
    "## Agile\n",
    "-означава гъвкав. Последователно добавящи промени. Тези процеси се изпълняват за кратко време, например 2 седмици или 1.\n",
    "\n",
    "Agile е идея. Може би най-популярната е __Scrum__."
   ]
  },
  {
   "cell_type": "markdown",
   "id": "17afe677-32bc-472b-9385-ed8de54eb965",
   "metadata": {},
   "source": [
    "## Data Pipeline"
   ]
  }
 ],
 "metadata": {
  "kernelspec": {
   "display_name": "Python 3 (ipykernel)",
   "language": "python",
   "name": "python3"
  },
  "language_info": {
   "codemirror_mode": {
    "name": "ipython",
    "version": 3
   },
   "file_extension": ".py",
   "mimetype": "text/x-python",
   "name": "python",
   "nbconvert_exporter": "python",
   "pygments_lexer": "ipython3",
   "version": "3.9.12"
  }
 },
 "nbformat": 4,
 "nbformat_minor": 5
}
